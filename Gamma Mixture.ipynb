{
 "cells": [
  {
   "cell_type": "markdown",
   "id": "marine-capability",
   "metadata": {},
   "source": [
    "# Gamma Mixture Model"
   ]
  },
  {
   "cell_type": "markdown",
   "id": "compact-drama",
   "metadata": {},
   "source": [
    "This notebook implements one of the experiments outlined in https://biaslab.github.io/publication/mp-based-inference-in-gmm/."
   ]
  },
  {
   "cell_type": "markdown",
   "id": "endangered-company",
   "metadata": {},
   "source": [
    "## Load packages"
   ]
  },
  {
   "cell_type": "code",
   "execution_count": 2,
   "id": "optimum-beijing",
   "metadata": {},
   "outputs": [],
   "source": [
    "using RxInfer\n",
    "using Distributions, Random\n",
    "# using StatsPlots"
   ]
  },
  {
   "cell_type": "code",
   "execution_count": 3,
   "id": "russian-cologne",
   "metadata": {},
   "outputs": [],
   "source": [
    "# create custom structure for model parameters for simplicity\n",
    "struct GammaMixtureModelParameters\n",
    "    nmixtures   # number of mixtures\n",
    "    priors_as   # tuple of priors for variable a\n",
    "    priors_bs   # tuple of priors for variable b\n",
    "    prior_s     # prior of variable s\n",
    "end"
   ]
  },
  {
   "cell_type": "markdown",
   "id": "induced-norfolk",
   "metadata": {},
   "source": [
    "## Model specification"
   ]
  },
  {
   "cell_type": "code",
   "execution_count": 15,
   "id": "aware-economics",
   "metadata": {},
   "outputs": [],
   "source": [
    "@model function gamma_mixture_model(nobservations, parameters::GammaMixtureModelParameters)\n",
    "\n",
    "    # fetch information from struct\n",
    "    nmixtures = parameters.nmixtures\n",
    "    priors_as = parameters.priors_as\n",
    "    priors_bs = parameters.priors_bs\n",
    "    prior_s   = parameters.prior_s\n",
    "\n",
    "    # set prior on global selection variable\n",
    "    s ~ Dirichlet(probvec(prior_s))\n",
    "\n",
    "    # allocate vectors of random variables\n",
    "    as = randomvar(nmixtures)\n",
    "    bs = randomvar(nmixtures)\n",
    "\n",
    "    # set priors on variables of mixtures\n",
    "    for i in 1:nmixtures\n",
    "        as[i] ~ GammaShapeRate(shape(priors_as[i]), rate(priors_as[i]))\n",
    "        bs[i] ~ GammaShapeRate(shape(priors_bs[i]), rate(priors_bs[i]))\n",
    "    end\n",
    "\n",
    "    # introduce random variables for local selection variables and data\n",
    "    z = randomvar(nobservations)\n",
    "    y = datavar(Float64, nobservations)\n",
    "\n",
    "    # convert vector to tuples for proper functioning of GammaMixture node\n",
    "    tas = tuple(as...)\n",
    "    tbs = tuple(bs...)\n",
    "\n",
    "    # specify local selection variable and data generating process\n",
    "    for i in 1:nobservations\n",
    "        z[i] ~ Categorical(s) \n",
    "        y[i] ~ GammaMixture(z[i], tas, tbs) \n",
    "    end\n",
    "\n",
    "    # return random variables\n",
    "    return s, as, bs, z, y\n",
    "    \n",
    "end"
   ]
  },
  {
   "cell_type": "code",
   "execution_count": 10,
   "id": "informational-collection",
   "metadata": {},
   "outputs": [
    {
     "data": {
      "text/plain": [
       "Constraints:\n",
       "  marginals form:\n",
       "    q(as) :: PointMassFormConstraint() [ prod_constraint = ProdGeneric(fallback = ProdAnalytical()) ]\n",
       "  messages form:\n",
       "  factorisation:\n",
       "Options:\n",
       "  warn = true\n"
      ]
     },
     "execution_count": 10,
     "metadata": {},
     "output_type": "execute_result"
    }
   ],
   "source": [
    "constraints = @constraints begin \n",
    "    q(as) :: PointMass(starting_point = (args...) -> [ 1.0 ])\n",
    "end"
   ]
  },
  {
   "cell_type": "code",
   "execution_count": 20,
   "id": "orange-dayton",
   "metadata": {},
   "outputs": [
    {
     "data": {
      "text/plain": [
       "Constraints:\n",
       "  marginals form:\n",
       "    q(as) :: ImportanceSamplingApproximation{Float64, Random._GLOBAL_RNG}(Random._GLOBAL_RNG(), 250, [0.0, 4.5818707794606e-310, 0.0, 0.0, 4.5e-321, 8.4879838714e-314, 2.9707943603e-313, 1.0609984014e-314, 0.0, 1.8201908621175873e-306  …  8.836188842941583e-133, 1.1208825954323471e155, -5.954496620060699e-264, -1.4105932231782258e-37, 0.0, 1.61820966208187e-309, 2.8736170266187514e-306, -2.417851690809548e24, 5.650845683810153e-134, 5.999289e-317], [0.0, 0.0, 0.0, 0.0, 0.0, 0.0, 0.0, 0.0, 0.0, 0.0  …  0.0, 0.0, 0.0, 0.0, 0.0, 0.0, 0.0, 0.0, 0.0, 0.0], true, [2.451879059e-314, 3.16e-322, 3.16e-322, 6.94300008078755e-310, 2.381954856293801e190, 2.36390590522e-312, 0.0, 2.4518790907e-314, 2.61e-321, 2.4518790907e-314  …  6.9430000304043e-310, 4.074314809124e-312, 0.0, 6.94300747216653e-310, 6.942958857364e-310, 0.0, 6.94300747216337e-310, 6.94295802868694e-310, 0.0, 6.9430000304071e-310]) [ prod_constraint = ProdGeneric(fallback = ProdAnalytical()) ]\n",
       "  messages form:\n",
       "  factorisation:\n",
       "    q(as, bs, z, s) = q(as)q(bs)q(z)q(s)\n",
       "    q(as) = q(as[(begin)..(end)])\n",
       "    q(bs) = q(bs[(begin)..(end)])\n",
       "Options:\n",
       "  warn = true\n"
      ]
     },
     "execution_count": 20,
     "metadata": {},
     "output_type": "execute_result"
    }
   ],
   "source": [
    "# Alternatively we can use importance sampling as sugessted at https://ieeexplore.ieee.org/document/9596329\n",
    "using Random\n",
    "\n",
    "n_samples = 250\n",
    "constraints = @constraints begin \n",
    "    q(as) :: ImportanceSamplingApproximation(n_samples)\n",
    "    q(as, bs, z, s) = q(as)q(bs)q(z)q(s)\n",
    "    q(as) = q(as[begin])..q(as[end])\n",
    "    q(bs) = q(bs[begin])..q(bs[end])\n",
    "end"
   ]
  },
  {
   "cell_type": "code",
   "execution_count": 21,
   "id": "elder-treasure",
   "metadata": {},
   "outputs": [],
   "source": [
    "# specify seed and number of data points\n",
    "rng = MersenneTwister(43)\n",
    "n_samples = 2500\n",
    "\n",
    "# specify parameters of mixture model that generates the data\n",
    "# Note that mixture components have exactly the same means\n",
    "mixtures  = [ Gamma(9.0, inv(27.0)), Gamma(90.0, inv(270.0)) ]\n",
    "nmixtures = length(mixtures)\n",
    "mixing    = rand(rng, nmixtures)\n",
    "mixing    = mixing ./ sum(mixing)\n",
    "mixture   = MixtureModel(mixtures, mixing)\n",
    "\n",
    "# generate data set\n",
    "dataset = rand(rng, mixture, n_samples);"
   ]
  },
  {
   "cell_type": "code",
   "execution_count": 22,
   "id": "short-spider",
   "metadata": {},
   "outputs": [
    {
     "name": "stderr",
     "output_type": "stream",
     "text": [
      "\u001b[32mProgress: 100%|█████████████████████████████████████████| Time: 0:00:42\u001b[39m\n"
     ]
    }
   ],
   "source": [
    "# specify priors of probabilistic model\n",
    "# NOTE: As the means of the mixtures \"collide\", we specify informative prior for selector variable\n",
    "nmixtures = 2\n",
    "gpriors = GammaMixtureModelParameters(\n",
    "    nmixtures,                                                    # number of mixtures\n",
    "    [ GammaShapeRate(1.0, 1.0), GammaShapeRate(1.0, 1.0) ],                         # priors on variables a\n",
    "    [ GammaShapeRate(10.0, 2.0), GammaShapeRate(1.0, 3.0) ],      # priors on variables b\n",
    "    Dirichlet(1e3*mixing)                                         # prior on variable s\n",
    ")\n",
    "\n",
    "gmodel         = gamma_mixture_model(length(dataset), gpriors)\n",
    "gdata          = (y = dataset, )\n",
    "ginitmarginals = (s = gpriors.prior_s, z = vague(Categorical, gpriors.nmixtures), bs = GammaShapeRate(1.0, 1.0))\n",
    "greturnvars    = (s = KeepLast(), z = KeepLast(), as = KeepEach(), bs = KeepEach())\n",
    "\n",
    "goptions = (\n",
    "    limit_stack_depth     = 100,\n",
    "    \n",
    ")\n",
    "\n",
    "gresult = inference(\n",
    "    model       = gmodel, \n",
    "    data        = gdata,\n",
    "    constraints = constraints,\n",
    "    # options     = goptions,\n",
    "    initmarginals = ginitmarginals,\n",
    "    returnvars    = greturnvars,\n",
    "    free_energy   = true,\n",
    "    iterations    = 250, \n",
    "    showprogress  = true\n",
    ");"
   ]
  },
  {
   "cell_type": "code",
   "execution_count": 23,
   "id": "checked-forth",
   "metadata": {},
   "outputs": [],
   "source": [
    "# extract inferred parameters\n",
    "_as, _bs = mean.(gresult.posteriors[:as][end]), mean.(gresult.posteriors[:bs][end])\n",
    "_dists   = map(g -> Gamma(g[1], inv(g[2])), zip(_as, _bs))\n",
    "_mixing = mean(gresult.posteriors[:s])\n",
    "\n",
    "# create model from inferred parameters\n",
    "_mixture   = MixtureModel(_dists, _mixing);"
   ]
  },
  {
   "cell_type": "code",
   "execution_count": 24,
   "id": "alike-significance",
   "metadata": {},
   "outputs": [
    {
     "name": "stdout",
     "output_type": "stream",
     "text": [
      "Generated means: 0.3333333333333333 and 0.33333333333333337\n",
      "Inferred means: 0.3453599914450895 and 0.333366310028031\n",
      "========\n",
      "Generated mixing: [0.18923488676601088, 0.8107651132339891]\n",
      "Inferred mixing: [0.07854158366785582, 0.9214584163321441]\n"
     ]
    }
   ],
   "source": [
    "# report on outcome of inference\n",
    "println(\"Generated means: $(mean(mixtures[1])) and $(mean(mixtures[2]))\")\n",
    "println(\"Inferred means: $(mean(_dists[1])) and $(mean(_dists[2]))\")\n",
    "println(\"========\")\n",
    "println(\"Generated mixing: $(mixing)\")\n",
    "println(\"Inferred mixing: $(_mixing)\")"
   ]
  },
  {
   "cell_type": "code",
   "execution_count": null,
   "id": "radical-humor",
   "metadata": {},
   "outputs": [
    {
     "name": "stderr",
     "output_type": "stream",
     "text": [
      "\u001b[36m\u001b[1m[ \u001b[22m\u001b[39m\u001b[36m\u001b[1mInfo: \u001b[22m\u001b[39mPrecompiling StatsPlots [f3b207a7-027a-5e70-b257-86293d7955fd]\n"
     ]
    }
   ],
   "source": [
    "using StatsPlots"
   ]
  },
  {
   "cell_type": "code",
   "execution_count": null,
   "id": "large-funds",
   "metadata": {},
   "outputs": [],
   "source": [
    "# plot results\n",
    "p1 = histogram(dataset, ylim = (0, 13), xlim = (0, 1), normalize=:pdf, label=\"observations\")\n",
    "p1 = plot!(mixture, label=false, title=\"Generated mixtures\")\n",
    "\n",
    "p2 = histogram(dataset, ylim = (0, 13), xlim = (0, 1), normalize=:pdf, label=\"data\", opacity=0.3)\n",
    "p2 = plot!(_mixture, label=false, title=\"Inferred mixtures\", linewidth=3.0)\n",
    "\n",
    "# evaluate the convergence of the algorithm by monitoring the BFE\n",
    "p3 = plot(gresult.free_energy, label=false, xlabel=\"iterations\", title=\"Bethe FE\")\n",
    "\n",
    "plot(p1, p2, layout = @layout([ a; b ]))"
   ]
  },
  {
   "cell_type": "code",
   "execution_count": 60,
   "id": "massive-chaos",
   "metadata": {},
   "outputs": [
    {
     "data": {
      "image/svg+xml": [
       "<?xml version=\"1.0\" encoding=\"utf-8\"?>\n",
       "<svg xmlns=\"http://www.w3.org/2000/svg\" xmlns:xlink=\"http://www.w3.org/1999/xlink\" width=\"600\" height=\"400\" viewBox=\"0 0 2400 1600\">\n",
       "<defs>\n",
       "  <clipPath id=\"clip830\">\n",
       "    <rect x=\"0\" y=\"0\" width=\"2400\" height=\"1600\"/>\n",
       "  </clipPath>\n",
       "</defs>\n",
       "<path clip-path=\"url(#clip830)\" d=\"\n",
       "M0 1600 L2400 1600 L2400 0 L0 0  Z\n",
       "  \" fill=\"#ffffff\" fill-rule=\"evenodd\" fill-opacity=\"1\"/>\n",
       "<defs>\n",
       "  <clipPath id=\"clip831\">\n",
       "    <rect x=\"480\" y=\"0\" width=\"1681\" height=\"1600\"/>\n",
       "  </clipPath>\n",
       "</defs>\n",
       "<path clip-path=\"url(#clip830)\" d=\"\n",
       "M239.19 1423.18 L2352.76 1423.18 L2352.76 123.472 L239.19 123.472  Z\n",
       "  \" fill=\"#ffffff\" fill-rule=\"evenodd\" fill-opacity=\"1\"/>\n",
       "<defs>\n",
       "  <clipPath id=\"clip832\">\n",
       "    <rect x=\"239\" y=\"123\" width=\"2115\" height=\"1301\"/>\n",
       "  </clipPath>\n",
       "</defs>\n",
       "<polyline clip-path=\"url(#clip832)\" style=\"stroke:#000000; stroke-linecap:round; stroke-linejoin:round; stroke-width:2; stroke-opacity:0.1; fill:none\" points=\"\n",
       "  291.001,1423.18 291.001,123.472 \n",
       "  \"/>\n",
       "<polyline clip-path=\"url(#clip832)\" style=\"stroke:#000000; stroke-linecap:round; stroke-linejoin:round; stroke-width:2; stroke-opacity:0.1; fill:none\" points=\"\n",
       "  691.388,1423.18 691.388,123.472 \n",
       "  \"/>\n",
       "<polyline clip-path=\"url(#clip832)\" style=\"stroke:#000000; stroke-linecap:round; stroke-linejoin:round; stroke-width:2; stroke-opacity:0.1; fill:none\" points=\"\n",
       "  1091.78,1423.18 1091.78,123.472 \n",
       "  \"/>\n",
       "<polyline clip-path=\"url(#clip832)\" style=\"stroke:#000000; stroke-linecap:round; stroke-linejoin:round; stroke-width:2; stroke-opacity:0.1; fill:none\" points=\"\n",
       "  1492.16,1423.18 1492.16,123.472 \n",
       "  \"/>\n",
       "<polyline clip-path=\"url(#clip832)\" style=\"stroke:#000000; stroke-linecap:round; stroke-linejoin:round; stroke-width:2; stroke-opacity:0.1; fill:none\" points=\"\n",
       "  1892.55,1423.18 1892.55,123.472 \n",
       "  \"/>\n",
       "<polyline clip-path=\"url(#clip832)\" style=\"stroke:#000000; stroke-linecap:round; stroke-linejoin:round; stroke-width:2; stroke-opacity:0.1; fill:none\" points=\"\n",
       "  2292.94,1423.18 2292.94,123.472 \n",
       "  \"/>\n",
       "<polyline clip-path=\"url(#clip830)\" style=\"stroke:#000000; stroke-linecap:round; stroke-linejoin:round; stroke-width:4; stroke-opacity:1; fill:none\" points=\"\n",
       "  239.19,1423.18 2352.76,1423.18 \n",
       "  \"/>\n",
       "<polyline clip-path=\"url(#clip830)\" style=\"stroke:#000000; stroke-linecap:round; stroke-linejoin:round; stroke-width:4; stroke-opacity:1; fill:none\" points=\"\n",
       "  291.001,1423.18 291.001,1404.28 \n",
       "  \"/>\n",
       "<polyline clip-path=\"url(#clip830)\" style=\"stroke:#000000; stroke-linecap:round; stroke-linejoin:round; stroke-width:4; stroke-opacity:1; fill:none\" points=\"\n",
       "  691.388,1423.18 691.388,1404.28 \n",
       "  \"/>\n",
       "<polyline clip-path=\"url(#clip830)\" style=\"stroke:#000000; stroke-linecap:round; stroke-linejoin:round; stroke-width:4; stroke-opacity:1; fill:none\" points=\"\n",
       "  1091.78,1423.18 1091.78,1404.28 \n",
       "  \"/>\n",
       "<polyline clip-path=\"url(#clip830)\" style=\"stroke:#000000; stroke-linecap:round; stroke-linejoin:round; stroke-width:4; stroke-opacity:1; fill:none\" points=\"\n",
       "  1492.16,1423.18 1492.16,1404.28 \n",
       "  \"/>\n",
       "<polyline clip-path=\"url(#clip830)\" style=\"stroke:#000000; stroke-linecap:round; stroke-linejoin:round; stroke-width:4; stroke-opacity:1; fill:none\" points=\"\n",
       "  1892.55,1423.18 1892.55,1404.28 \n",
       "  \"/>\n",
       "<polyline clip-path=\"url(#clip830)\" style=\"stroke:#000000; stroke-linecap:round; stroke-linejoin:round; stroke-width:4; stroke-opacity:1; fill:none\" points=\"\n",
       "  2292.94,1423.18 2292.94,1404.28 \n",
       "  \"/>\n",
       "<path clip-path=\"url(#clip830)\" d=\"M291.001 1454.1 Q287.389 1454.1 285.561 1457.66 Q283.755 1461.2 283.755 1468.33 Q283.755 1475.44 285.561 1479.01 Q287.389 1482.55 291.001 1482.55 Q294.635 1482.55 296.44 1479.01 Q298.269 1475.44 298.269 1468.33 Q298.269 1461.2 296.44 1457.66 Q294.635 1454.1 291.001 1454.1 M291.001 1450.39 Q296.811 1450.39 299.866 1455 Q302.945 1459.58 302.945 1468.33 Q302.945 1477.06 299.866 1481.67 Q296.811 1486.25 291.001 1486.25 Q285.19 1486.25 282.112 1481.67 Q279.056 1477.06 279.056 1468.33 Q279.056 1459.58 282.112 1455 Q285.19 1450.39 291.001 1450.39 Z\" fill=\"#000000\" fill-rule=\"evenodd\" fill-opacity=\"1\" /><path clip-path=\"url(#clip830)\" d=\"M666.087 1451.02 L684.444 1451.02 L684.444 1454.96 L670.37 1454.96 L670.37 1463.43 Q671.388 1463.08 672.407 1462.92 Q673.425 1462.73 674.444 1462.73 Q680.231 1462.73 683.61 1465.9 Q686.99 1469.08 686.99 1474.49 Q686.99 1480.07 683.518 1483.17 Q680.045 1486.25 673.726 1486.25 Q671.55 1486.25 669.282 1485.88 Q667.036 1485.51 664.629 1484.77 L664.629 1480.07 Q666.712 1481.2 668.934 1481.76 Q671.157 1482.32 673.633 1482.32 Q677.638 1482.32 679.976 1480.21 Q682.314 1478.1 682.314 1474.49 Q682.314 1470.88 679.976 1468.77 Q677.638 1466.67 673.633 1466.67 Q671.758 1466.67 669.884 1467.08 Q668.032 1467.5 666.087 1468.38 L666.087 1451.02 Z\" fill=\"#000000\" fill-rule=\"evenodd\" fill-opacity=\"1\" /><path clip-path=\"url(#clip830)\" d=\"M706.203 1454.1 Q702.592 1454.1 700.763 1457.66 Q698.957 1461.2 698.957 1468.33 Q698.957 1475.44 700.763 1479.01 Q702.592 1482.55 706.203 1482.55 Q709.837 1482.55 711.643 1479.01 Q713.471 1475.44 713.471 1468.33 Q713.471 1461.2 711.643 1457.66 Q709.837 1454.1 706.203 1454.1 M706.203 1450.39 Q712.013 1450.39 715.068 1455 Q718.147 1459.58 718.147 1468.33 Q718.147 1477.06 715.068 1481.67 Q712.013 1486.25 706.203 1486.25 Q700.393 1486.25 697.314 1481.67 Q694.258 1477.06 694.258 1468.33 Q694.258 1459.58 697.314 1455 Q700.393 1450.39 706.203 1450.39 Z\" fill=\"#000000\" fill-rule=\"evenodd\" fill-opacity=\"1\" /><path clip-path=\"url(#clip830)\" d=\"M1051.38 1481.64 L1059.02 1481.64 L1059.02 1455.28 L1050.71 1456.95 L1050.71 1452.69 L1058.97 1451.02 L1063.65 1451.02 L1063.65 1481.64 L1071.29 1481.64 L1071.29 1485.58 L1051.38 1485.58 L1051.38 1481.64 Z\" fill=\"#000000\" fill-rule=\"evenodd\" fill-opacity=\"1\" /><path clip-path=\"url(#clip830)\" d=\"M1090.73 1454.1 Q1087.12 1454.1 1085.29 1457.66 Q1083.49 1461.2 1083.49 1468.33 Q1083.49 1475.44 1085.29 1479.01 Q1087.12 1482.55 1090.73 1482.55 Q1094.37 1482.55 1096.17 1479.01 Q1098 1475.44 1098 1468.33 Q1098 1461.2 1096.17 1457.66 Q1094.37 1454.1 1090.73 1454.1 M1090.73 1450.39 Q1096.54 1450.39 1099.6 1455 Q1102.68 1459.58 1102.68 1468.33 Q1102.68 1477.06 1099.6 1481.67 Q1096.54 1486.25 1090.73 1486.25 Q1084.92 1486.25 1081.85 1481.67 Q1078.79 1477.06 1078.79 1468.33 Q1078.79 1459.58 1081.85 1455 Q1084.92 1450.39 1090.73 1450.39 Z\" fill=\"#000000\" fill-rule=\"evenodd\" fill-opacity=\"1\" /><path clip-path=\"url(#clip830)\" d=\"M1120.9 1454.1 Q1117.28 1454.1 1115.46 1457.66 Q1113.65 1461.2 1113.65 1468.33 Q1113.65 1475.44 1115.46 1479.01 Q1117.28 1482.55 1120.9 1482.55 Q1124.53 1482.55 1126.34 1479.01 Q1128.16 1475.44 1128.16 1468.33 Q1128.16 1461.2 1126.34 1457.66 Q1124.53 1454.1 1120.9 1454.1 M1120.9 1450.39 Q1126.71 1450.39 1129.76 1455 Q1132.84 1459.58 1132.84 1468.33 Q1132.84 1477.06 1129.76 1481.67 Q1126.71 1486.25 1120.9 1486.25 Q1115.09 1486.25 1112.01 1481.67 Q1108.95 1477.06 1108.95 1468.33 Q1108.95 1459.58 1112.01 1455 Q1115.09 1450.39 1120.9 1450.39 Z\" fill=\"#000000\" fill-rule=\"evenodd\" fill-opacity=\"1\" /><path clip-path=\"url(#clip830)\" d=\"M1451.77 1481.64 L1459.41 1481.64 L1459.41 1455.28 L1451.1 1456.95 L1451.1 1452.69 L1459.36 1451.02 L1464.04 1451.02 L1464.04 1481.64 L1471.68 1481.64 L1471.68 1485.58 L1451.77 1485.58 L1451.77 1481.64 Z\" fill=\"#000000\" fill-rule=\"evenodd\" fill-opacity=\"1\" /><path clip-path=\"url(#clip830)\" d=\"M1481.17 1451.02 L1499.52 1451.02 L1499.52 1454.96 L1485.45 1454.96 L1485.45 1463.43 Q1486.47 1463.08 1487.49 1462.92 Q1488.51 1462.73 1489.52 1462.73 Q1495.31 1462.73 1498.69 1465.9 Q1502.07 1469.08 1502.07 1474.49 Q1502.07 1480.07 1498.6 1483.17 Q1495.13 1486.25 1488.81 1486.25 Q1486.63 1486.25 1484.36 1485.88 Q1482.12 1485.51 1479.71 1484.77 L1479.71 1480.07 Q1481.79 1481.2 1484.01 1481.76 Q1486.24 1482.32 1488.71 1482.32 Q1492.72 1482.32 1495.06 1480.21 Q1497.39 1478.1 1497.39 1474.49 Q1497.39 1470.88 1495.06 1468.77 Q1492.72 1466.67 1488.71 1466.67 Q1486.84 1466.67 1484.96 1467.08 Q1483.11 1467.5 1481.17 1468.38 L1481.17 1451.02 Z\" fill=\"#000000\" fill-rule=\"evenodd\" fill-opacity=\"1\" /><path clip-path=\"url(#clip830)\" d=\"M1521.28 1454.1 Q1517.67 1454.1 1515.84 1457.66 Q1514.04 1461.2 1514.04 1468.33 Q1514.04 1475.44 1515.84 1479.01 Q1517.67 1482.55 1521.28 1482.55 Q1524.92 1482.55 1526.72 1479.01 Q1528.55 1475.44 1528.55 1468.33 Q1528.55 1461.2 1526.72 1457.66 Q1524.92 1454.1 1521.28 1454.1 M1521.28 1450.39 Q1527.09 1450.39 1530.15 1455 Q1533.23 1459.58 1533.23 1468.33 Q1533.23 1477.06 1530.15 1481.67 Q1527.09 1486.25 1521.28 1486.25 Q1515.47 1486.25 1512.39 1481.67 Q1509.34 1477.06 1509.34 1468.33 Q1509.34 1459.58 1512.39 1455 Q1515.47 1450.39 1521.28 1450.39 Z\" fill=\"#000000\" fill-rule=\"evenodd\" fill-opacity=\"1\" /><path clip-path=\"url(#clip830)\" d=\"M1856.24 1481.64 L1872.56 1481.64 L1872.56 1485.58 L1850.62 1485.58 L1850.62 1481.64 Q1853.28 1478.89 1857.86 1474.26 Q1862.47 1469.61 1863.65 1468.27 Q1865.9 1465.74 1866.78 1464.01 Q1867.68 1462.25 1867.68 1460.56 Q1867.68 1457.8 1865.73 1456.07 Q1863.81 1454.33 1860.71 1454.33 Q1858.51 1454.33 1856.06 1455.09 Q1853.63 1455.86 1850.85 1457.41 L1850.85 1452.69 Q1853.67 1451.55 1856.13 1450.97 Q1858.58 1450.39 1860.62 1450.39 Q1865.99 1450.39 1869.18 1453.08 Q1872.38 1455.77 1872.38 1460.26 Q1872.38 1462.39 1871.57 1464.31 Q1870.78 1466.2 1868.67 1468.8 Q1868.09 1469.47 1864.99 1472.69 Q1861.89 1475.88 1856.24 1481.64 Z\" fill=\"#000000\" fill-rule=\"evenodd\" fill-opacity=\"1\" /><path clip-path=\"url(#clip830)\" d=\"M1892.38 1454.1 Q1888.77 1454.1 1886.94 1457.66 Q1885.13 1461.2 1885.13 1468.33 Q1885.13 1475.44 1886.94 1479.01 Q1888.77 1482.55 1892.38 1482.55 Q1896.01 1482.55 1897.82 1479.01 Q1899.65 1475.44 1899.65 1468.33 Q1899.65 1461.2 1897.82 1457.66 Q1896.01 1454.1 1892.38 1454.1 M1892.38 1450.39 Q1898.19 1450.39 1901.24 1455 Q1904.32 1459.58 1904.32 1468.33 Q1904.32 1477.06 1901.24 1481.67 Q1898.19 1486.25 1892.38 1486.25 Q1886.57 1486.25 1883.49 1481.67 Q1880.43 1477.06 1880.43 1468.33 Q1880.43 1459.58 1883.49 1455 Q1886.57 1450.39 1892.38 1450.39 Z\" fill=\"#000000\" fill-rule=\"evenodd\" fill-opacity=\"1\" /><path clip-path=\"url(#clip830)\" d=\"M1922.54 1454.1 Q1918.93 1454.1 1917.1 1457.66 Q1915.29 1461.2 1915.29 1468.33 Q1915.29 1475.44 1917.1 1479.01 Q1918.93 1482.55 1922.54 1482.55 Q1926.17 1482.55 1927.98 1479.01 Q1929.81 1475.44 1929.81 1468.33 Q1929.81 1461.2 1927.98 1457.66 Q1926.17 1454.1 1922.54 1454.1 M1922.54 1450.39 Q1928.35 1450.39 1931.4 1455 Q1934.48 1459.58 1934.48 1468.33 Q1934.48 1477.06 1931.4 1481.67 Q1928.35 1486.25 1922.54 1486.25 Q1916.73 1486.25 1913.65 1481.67 Q1910.59 1477.06 1910.59 1468.33 Q1910.59 1459.58 1913.65 1455 Q1916.73 1450.39 1922.54 1450.39 Z\" fill=\"#000000\" fill-rule=\"evenodd\" fill-opacity=\"1\" /><path clip-path=\"url(#clip830)\" d=\"M2256.63 1481.64 L2272.95 1481.64 L2272.95 1485.58 L2251.01 1485.58 L2251.01 1481.64 Q2253.67 1478.89 2258.25 1474.26 Q2262.86 1469.61 2264.04 1468.27 Q2266.28 1465.74 2267.16 1464.01 Q2268.07 1462.25 2268.07 1460.56 Q2268.07 1457.8 2266.12 1456.07 Q2264.2 1454.33 2261.1 1454.33 Q2258.9 1454.33 2256.45 1455.09 Q2254.01 1455.86 2251.24 1457.41 L2251.24 1452.69 Q2254.06 1451.55 2256.51 1450.97 Q2258.97 1450.39 2261.01 1450.39 Q2266.38 1450.39 2269.57 1453.08 Q2272.76 1455.77 2272.76 1460.26 Q2272.76 1462.39 2271.95 1464.31 Q2271.17 1466.2 2269.06 1468.8 Q2268.48 1469.47 2265.38 1472.69 Q2262.28 1475.88 2256.63 1481.64 Z\" fill=\"#000000\" fill-rule=\"evenodd\" fill-opacity=\"1\" /><path clip-path=\"url(#clip830)\" d=\"M2282.81 1451.02 L2301.17 1451.02 L2301.17 1454.96 L2287.09 1454.96 L2287.09 1463.43 Q2288.11 1463.08 2289.13 1462.92 Q2290.15 1462.73 2291.17 1462.73 Q2296.95 1462.73 2300.33 1465.9 Q2303.71 1469.08 2303.71 1474.49 Q2303.71 1480.07 2300.24 1483.17 Q2296.77 1486.25 2290.45 1486.25 Q2288.27 1486.25 2286.01 1485.88 Q2283.76 1485.51 2281.35 1484.77 L2281.35 1480.07 Q2283.44 1481.2 2285.66 1481.76 Q2287.88 1482.32 2290.36 1482.32 Q2294.36 1482.32 2296.7 1480.21 Q2299.04 1478.1 2299.04 1474.49 Q2299.04 1470.88 2296.7 1468.77 Q2294.36 1466.67 2290.36 1466.67 Q2288.48 1466.67 2286.61 1467.08 Q2284.76 1467.5 2282.81 1468.38 L2282.81 1451.02 Z\" fill=\"#000000\" fill-rule=\"evenodd\" fill-opacity=\"1\" /><path clip-path=\"url(#clip830)\" d=\"M2322.93 1454.1 Q2319.32 1454.1 2317.49 1457.66 Q2315.68 1461.2 2315.68 1468.33 Q2315.68 1475.44 2317.49 1479.01 Q2319.32 1482.55 2322.93 1482.55 Q2326.56 1482.55 2328.37 1479.01 Q2330.19 1475.44 2330.19 1468.33 Q2330.19 1461.2 2328.37 1457.66 Q2326.56 1454.1 2322.93 1454.1 M2322.93 1450.39 Q2328.74 1450.39 2331.79 1455 Q2334.87 1459.58 2334.87 1468.33 Q2334.87 1477.06 2331.79 1481.67 Q2328.74 1486.25 2322.93 1486.25 Q2317.12 1486.25 2314.04 1481.67 Q2310.98 1477.06 2310.98 1468.33 Q2310.98 1459.58 2314.04 1455 Q2317.12 1450.39 2322.93 1450.39 Z\" fill=\"#000000\" fill-rule=\"evenodd\" fill-opacity=\"1\" /><path clip-path=\"url(#clip830)\" d=\"M1145.97 1532.4 L1151.82 1532.4 L1151.82 1568.04 L1145.97 1568.04 L1145.97 1532.4 M1145.97 1518.52 L1151.82 1518.52 L1151.82 1525.93 L1145.97 1525.93 L1145.97 1518.52 Z\" fill=\"#000000\" fill-rule=\"evenodd\" fill-opacity=\"1\" /><path clip-path=\"url(#clip830)\" d=\"M1169.87 1522.27 L1169.87 1532.4 L1181.93 1532.4 L1181.93 1536.95 L1169.87 1536.95 L1169.87 1556.3 Q1169.87 1560.66 1171.05 1561.9 Q1172.26 1563.14 1175.92 1563.14 L1181.93 1563.14 L1181.93 1568.04 L1175.92 1568.04 Q1169.14 1568.04 1166.56 1565.53 Q1163.98 1562.98 1163.98 1556.3 L1163.98 1536.95 L1159.68 1536.95 L1159.68 1532.4 L1163.98 1532.4 L1163.98 1522.27 L1169.87 1522.27 Z\" fill=\"#000000\" fill-rule=\"evenodd\" fill-opacity=\"1\" /><path clip-path=\"url(#clip830)\" d=\"M1220.13 1548.76 L1220.13 1551.62 L1193.2 1551.62 Q1193.58 1557.67 1196.83 1560.85 Q1200.11 1564 1205.93 1564 Q1209.3 1564 1212.46 1563.17 Q1215.64 1562.35 1218.76 1560.69 L1218.76 1566.23 Q1215.61 1567.57 1212.3 1568.27 Q1208.99 1568.97 1205.58 1568.97 Q1197.05 1568.97 1192.05 1564 Q1187.09 1559.04 1187.09 1550.57 Q1187.09 1541.82 1191.8 1536.69 Q1196.54 1531.54 1204.56 1531.54 Q1211.75 1531.54 1215.92 1536.18 Q1220.13 1540.8 1220.13 1548.76 M1214.27 1547.04 Q1214.21 1542.23 1211.56 1539.37 Q1208.95 1536.5 1204.63 1536.5 Q1199.72 1536.5 1196.76 1539.27 Q1193.84 1542.04 1193.39 1547.07 L1214.27 1547.04 Z\" fill=\"#000000\" fill-rule=\"evenodd\" fill-opacity=\"1\" /><path clip-path=\"url(#clip830)\" d=\"M1250.39 1537.87 Q1249.41 1537.3 1248.23 1537.04 Q1247.08 1536.76 1245.68 1536.76 Q1240.72 1536.76 1238.05 1540 Q1235.4 1543.22 1235.4 1549.27 L1235.4 1568.04 L1229.52 1568.04 L1229.52 1532.4 L1235.4 1532.4 L1235.4 1537.93 Q1237.25 1534.69 1240.21 1533.13 Q1243.17 1531.54 1247.4 1531.54 Q1248.01 1531.54 1248.74 1531.63 Q1249.47 1531.7 1250.36 1531.85 L1250.39 1537.87 Z\" fill=\"#000000\" fill-rule=\"evenodd\" fill-opacity=\"1\" /><path clip-path=\"url(#clip830)\" d=\"M1272.74 1550.12 Q1265.64 1550.12 1262.9 1551.75 Q1260.17 1553.37 1260.17 1557.29 Q1260.17 1560.4 1262.2 1562.25 Q1264.27 1564.07 1267.8 1564.07 Q1272.67 1564.07 1275.6 1560.63 Q1278.56 1557.16 1278.56 1551.43 L1278.56 1550.12 L1272.74 1550.12 M1284.42 1547.71 L1284.42 1568.04 L1278.56 1568.04 L1278.56 1562.63 Q1276.56 1565.88 1273.57 1567.44 Q1270.57 1568.97 1266.25 1568.97 Q1260.77 1568.97 1257.52 1565.91 Q1254.31 1562.82 1254.31 1557.67 Q1254.31 1551.65 1258.32 1548.6 Q1262.36 1545.54 1270.35 1545.54 L1278.56 1545.54 L1278.56 1544.97 Q1278.56 1540.93 1275.89 1538.73 Q1273.25 1536.5 1268.44 1536.5 Q1265.39 1536.5 1262.49 1537.23 Q1259.59 1537.97 1256.92 1539.43 L1256.92 1534.02 Q1260.13 1532.78 1263.16 1532.17 Q1266.18 1531.54 1269.05 1531.54 Q1276.78 1531.54 1280.6 1535.55 Q1284.42 1539.56 1284.42 1547.71 Z\" fill=\"#000000\" fill-rule=\"evenodd\" fill-opacity=\"1\" /><path clip-path=\"url(#clip830)\" d=\"M1302.28 1522.27 L1302.28 1532.4 L1314.34 1532.4 L1314.34 1536.95 L1302.28 1536.95 L1302.28 1556.3 Q1302.28 1560.66 1303.45 1561.9 Q1304.66 1563.14 1308.32 1563.14 L1314.34 1563.14 L1314.34 1568.04 L1308.32 1568.04 Q1301.54 1568.04 1298.97 1565.53 Q1296.39 1562.98 1296.39 1556.3 L1296.39 1536.95 L1292.09 1536.95 L1292.09 1532.4 L1296.39 1532.4 L1296.39 1522.27 L1302.28 1522.27 Z\" fill=\"#000000\" fill-rule=\"evenodd\" fill-opacity=\"1\" /><path clip-path=\"url(#clip830)\" d=\"M1322.04 1532.4 L1327.9 1532.4 L1327.9 1568.04 L1322.04 1568.04 L1322.04 1532.4 M1322.04 1518.52 L1327.9 1518.52 L1327.9 1525.93 L1322.04 1525.93 L1322.04 1518.52 Z\" fill=\"#000000\" fill-rule=\"evenodd\" fill-opacity=\"1\" /><path clip-path=\"url(#clip830)\" d=\"M1353.96 1536.5 Q1349.25 1536.5 1346.52 1540.19 Q1343.78 1543.85 1343.78 1550.25 Q1343.78 1556.65 1346.49 1560.34 Q1349.22 1564 1353.96 1564 Q1358.64 1564 1361.38 1560.31 Q1364.12 1556.62 1364.12 1550.25 Q1364.12 1543.92 1361.38 1540.23 Q1358.64 1536.5 1353.96 1536.5 M1353.96 1531.54 Q1361.6 1531.54 1365.96 1536.5 Q1370.32 1541.47 1370.32 1550.25 Q1370.32 1559 1365.96 1564 Q1361.6 1568.97 1353.96 1568.97 Q1346.29 1568.97 1341.93 1564 Q1337.6 1559 1337.6 1550.25 Q1337.6 1541.47 1341.93 1536.5 Q1346.29 1531.54 1353.96 1531.54 Z\" fill=\"#000000\" fill-rule=\"evenodd\" fill-opacity=\"1\" /><path clip-path=\"url(#clip830)\" d=\"M1409.66 1546.53 L1409.66 1568.04 L1403.81 1568.04 L1403.81 1546.72 Q1403.81 1541.66 1401.83 1539.14 Q1399.86 1536.63 1395.91 1536.63 Q1391.17 1536.63 1388.44 1539.65 Q1385.7 1542.68 1385.7 1547.9 L1385.7 1568.04 L1379.81 1568.04 L1379.81 1532.4 L1385.7 1532.4 L1385.7 1537.93 Q1387.8 1534.72 1390.63 1533.13 Q1393.5 1531.54 1397.22 1531.54 Q1403.36 1531.54 1406.51 1535.36 Q1409.66 1539.14 1409.66 1546.53 Z\" fill=\"#000000\" fill-rule=\"evenodd\" fill-opacity=\"1\" /><path clip-path=\"url(#clip830)\" d=\"M1444.07 1533.45 L1444.07 1538.98 Q1441.59 1537.71 1438.92 1537.07 Q1436.24 1536.44 1433.38 1536.44 Q1429.02 1536.44 1426.82 1537.77 Q1424.66 1539.11 1424.66 1541.79 Q1424.66 1543.82 1426.22 1545 Q1427.78 1546.15 1432.49 1547.2 L1434.49 1547.64 Q1440.73 1548.98 1443.34 1551.43 Q1445.98 1553.85 1445.98 1558.21 Q1445.98 1563.17 1442.03 1566.07 Q1438.12 1568.97 1431.24 1568.97 Q1428.38 1568.97 1425.26 1568.39 Q1422.17 1567.85 1418.74 1566.74 L1418.74 1560.69 Q1421.98 1562.38 1425.13 1563.24 Q1428.28 1564.07 1431.37 1564.07 Q1435.51 1564.07 1437.74 1562.66 Q1439.97 1561.23 1439.97 1558.65 Q1439.97 1556.27 1438.34 1554.99 Q1436.75 1553.72 1431.31 1552.54 L1429.27 1552.07 Q1423.83 1550.92 1421.41 1548.56 Q1418.99 1546.18 1418.99 1542.04 Q1418.99 1537.01 1422.56 1534.27 Q1426.12 1531.54 1432.68 1531.54 Q1435.92 1531.54 1438.79 1532.01 Q1441.65 1532.49 1444.07 1533.45 Z\" fill=\"#000000\" fill-rule=\"evenodd\" fill-opacity=\"1\" /><polyline clip-path=\"url(#clip832)\" style=\"stroke:#000000; stroke-linecap:round; stroke-linejoin:round; stroke-width:2; stroke-opacity:0.1; fill:none\" points=\"\n",
       "  239.19,1295.82 2352.76,1295.82 \n",
       "  \"/>\n",
       "<polyline clip-path=\"url(#clip832)\" style=\"stroke:#000000; stroke-linecap:round; stroke-linejoin:round; stroke-width:2; stroke-opacity:0.1; fill:none\" points=\"\n",
       "  239.19,954.63 2352.76,954.63 \n",
       "  \"/>\n",
       "<polyline clip-path=\"url(#clip832)\" style=\"stroke:#000000; stroke-linecap:round; stroke-linejoin:round; stroke-width:2; stroke-opacity:0.1; fill:none\" points=\"\n",
       "  239.19,613.44 2352.76,613.44 \n",
       "  \"/>\n",
       "<polyline clip-path=\"url(#clip832)\" style=\"stroke:#000000; stroke-linecap:round; stroke-linejoin:round; stroke-width:2; stroke-opacity:0.1; fill:none\" points=\"\n",
       "  239.19,272.25 2352.76,272.25 \n",
       "  \"/>\n",
       "<polyline clip-path=\"url(#clip830)\" style=\"stroke:#000000; stroke-linecap:round; stroke-linejoin:round; stroke-width:4; stroke-opacity:1; fill:none\" points=\"\n",
       "  239.19,1423.18 239.19,123.472 \n",
       "  \"/>\n",
       "<polyline clip-path=\"url(#clip830)\" style=\"stroke:#000000; stroke-linecap:round; stroke-linejoin:round; stroke-width:4; stroke-opacity:1; fill:none\" points=\"\n",
       "  239.19,1295.82 258.088,1295.82 \n",
       "  \"/>\n",
       "<polyline clip-path=\"url(#clip830)\" style=\"stroke:#000000; stroke-linecap:round; stroke-linejoin:round; stroke-width:4; stroke-opacity:1; fill:none\" points=\"\n",
       "  239.19,954.63 258.088,954.63 \n",
       "  \"/>\n",
       "<polyline clip-path=\"url(#clip830)\" style=\"stroke:#000000; stroke-linecap:round; stroke-linejoin:round; stroke-width:4; stroke-opacity:1; fill:none\" points=\"\n",
       "  239.19,613.44 258.088,613.44 \n",
       "  \"/>\n",
       "<polyline clip-path=\"url(#clip830)\" style=\"stroke:#000000; stroke-linecap:round; stroke-linejoin:round; stroke-width:4; stroke-opacity:1; fill:none\" points=\"\n",
       "  239.19,272.25 258.088,272.25 \n",
       "  \"/>\n",
       "<path clip-path=\"url(#clip830)\" d=\"M50.9921 1296.27 L80.6679 1296.27 L80.6679 1300.21 L50.9921 1300.21 L50.9921 1296.27 Z\" fill=\"#000000\" fill-rule=\"evenodd\" fill-opacity=\"1\" /><path clip-path=\"url(#clip830)\" d=\"M104.927 1294.47 Q108.283 1295.18 110.158 1297.45 Q112.057 1299.72 112.057 1303.05 Q112.057 1308.17 108.538 1310.97 Q105.02 1313.77 98.5382 1313.77 Q96.3623 1313.77 94.0475 1313.33 Q91.7558 1312.91 89.3021 1312.06 L89.3021 1307.54 Q91.2465 1308.68 93.5613 1309.26 Q95.8761 1309.84 98.3993 1309.84 Q102.797 1309.84 105.089 1308.1 Q107.404 1306.36 107.404 1303.05 Q107.404 1300 105.251 1298.28 Q103.121 1296.55 99.3021 1296.55 L95.2743 1296.55 L95.2743 1292.71 L99.4872 1292.71 Q102.936 1292.71 104.765 1291.34 Q106.594 1289.95 106.594 1287.36 Q106.594 1284.7 104.696 1283.29 Q102.821 1281.85 99.3021 1281.85 Q97.3808 1281.85 95.1817 1282.27 Q92.9826 1282.68 90.3438 1283.56 L90.3438 1279.4 Q93.0058 1278.66 95.3206 1278.29 Q97.6585 1277.91 99.7187 1277.91 Q105.043 1277.91 108.145 1280.35 Q111.246 1282.75 111.246 1286.87 Q111.246 1289.74 109.603 1291.73 Q107.959 1293.7 104.927 1294.47 Z\" fill=\"#000000\" fill-rule=\"evenodd\" fill-opacity=\"1\" /><path clip-path=\"url(#clip830)\" d=\"M130.922 1281.62 Q127.311 1281.62 125.482 1285.18 Q123.677 1288.72 123.677 1295.85 Q123.677 1302.96 125.482 1306.53 Q127.311 1310.07 130.922 1310.07 Q134.556 1310.07 136.362 1306.53 Q138.191 1302.96 138.191 1295.85 Q138.191 1288.72 136.362 1285.18 Q134.556 1281.62 130.922 1281.62 M130.922 1277.91 Q136.732 1277.91 139.788 1282.52 Q142.867 1287.1 142.867 1295.85 Q142.867 1304.58 139.788 1309.19 Q136.732 1313.77 130.922 1313.77 Q125.112 1313.77 122.033 1309.19 Q118.978 1304.58 118.978 1295.85 Q118.978 1287.1 122.033 1282.52 Q125.112 1277.91 130.922 1277.91 Z\" fill=\"#000000\" fill-rule=\"evenodd\" fill-opacity=\"1\" /><path clip-path=\"url(#clip830)\" d=\"M161.084 1281.62 Q157.473 1281.62 155.644 1285.18 Q153.839 1288.72 153.839 1295.85 Q153.839 1302.96 155.644 1306.53 Q157.473 1310.07 161.084 1310.07 Q164.718 1310.07 166.524 1306.53 Q168.353 1302.96 168.353 1295.85 Q168.353 1288.72 166.524 1285.18 Q164.718 1281.62 161.084 1281.62 M161.084 1277.91 Q166.894 1277.91 169.95 1282.52 Q173.029 1287.1 173.029 1295.85 Q173.029 1304.58 169.95 1309.19 Q166.894 1313.77 161.084 1313.77 Q155.274 1313.77 152.195 1309.19 Q149.14 1304.58 149.14 1295.85 Q149.14 1287.1 152.195 1282.52 Q155.274 1277.91 161.084 1277.91 Z\" fill=\"#000000\" fill-rule=\"evenodd\" fill-opacity=\"1\" /><path clip-path=\"url(#clip830)\" d=\"M191.246 1281.62 Q187.635 1281.62 185.806 1285.18 Q184.001 1288.72 184.001 1295.85 Q184.001 1302.96 185.806 1306.53 Q187.635 1310.07 191.246 1310.07 Q194.88 1310.07 196.686 1306.53 Q198.514 1302.96 198.514 1295.85 Q198.514 1288.72 196.686 1285.18 Q194.88 1281.62 191.246 1281.62 M191.246 1277.91 Q197.056 1277.91 200.112 1282.52 Q203.19 1287.1 203.19 1295.85 Q203.19 1304.58 200.112 1309.19 Q197.056 1313.77 191.246 1313.77 Q185.436 1313.77 182.357 1309.19 Q179.302 1304.58 179.302 1295.85 Q179.302 1287.1 182.357 1282.52 Q185.436 1277.91 191.246 1277.91 Z\" fill=\"#000000\" fill-rule=\"evenodd\" fill-opacity=\"1\" /><path clip-path=\"url(#clip830)\" d=\"M50.9921 955.081 L80.6679 955.081 L80.6679 959.017 L50.9921 959.017 L50.9921 955.081 Z\" fill=\"#000000\" fill-rule=\"evenodd\" fill-opacity=\"1\" /><path clip-path=\"url(#clip830)\" d=\"M94.7882 967.975 L111.108 967.975 L111.108 971.91 L89.1632 971.91 L89.1632 967.975 Q91.8252 965.22 96.4085 960.591 Q101.015 955.938 102.196 954.595 Q104.441 952.072 105.321 950.336 Q106.223 948.577 106.223 946.887 Q106.223 944.132 104.279 942.396 Q102.358 940.66 99.2558 940.66 Q97.0567 940.66 94.603 941.424 Q92.1725 942.188 89.3947 943.739 L89.3947 939.017 Q92.2188 937.882 94.6724 937.304 Q97.1261 936.725 99.1632 936.725 Q104.534 936.725 107.728 939.41 Q110.922 942.095 110.922 946.586 Q110.922 948.716 110.112 950.637 Q109.325 952.535 107.219 955.128 Q106.64 955.799 103.538 959.017 Q100.436 962.211 94.7882 967.975 Z\" fill=\"#000000\" fill-rule=\"evenodd\" fill-opacity=\"1\" /><path clip-path=\"url(#clip830)\" d=\"M130.922 940.429 Q127.311 940.429 125.482 943.993 Q123.677 947.535 123.677 954.665 Q123.677 961.771 125.482 965.336 Q127.311 968.878 130.922 968.878 Q134.556 968.878 136.362 965.336 Q138.191 961.771 138.191 954.665 Q138.191 947.535 136.362 943.993 Q134.556 940.429 130.922 940.429 M130.922 936.725 Q136.732 936.725 139.788 941.331 Q142.867 945.915 142.867 954.665 Q142.867 963.391 139.788 967.998 Q136.732 972.581 130.922 972.581 Q125.112 972.581 122.033 967.998 Q118.978 963.391 118.978 954.665 Q118.978 945.915 122.033 941.331 Q125.112 936.725 130.922 936.725 Z\" fill=\"#000000\" fill-rule=\"evenodd\" fill-opacity=\"1\" /><path clip-path=\"url(#clip830)\" d=\"M161.084 940.429 Q157.473 940.429 155.644 943.993 Q153.839 947.535 153.839 954.665 Q153.839 961.771 155.644 965.336 Q157.473 968.878 161.084 968.878 Q164.718 968.878 166.524 965.336 Q168.353 961.771 168.353 954.665 Q168.353 947.535 166.524 943.993 Q164.718 940.429 161.084 940.429 M161.084 936.725 Q166.894 936.725 169.95 941.331 Q173.029 945.915 173.029 954.665 Q173.029 963.391 169.95 967.998 Q166.894 972.581 161.084 972.581 Q155.274 972.581 152.195 967.998 Q149.14 963.391 149.14 954.665 Q149.14 945.915 152.195 941.331 Q155.274 936.725 161.084 936.725 Z\" fill=\"#000000\" fill-rule=\"evenodd\" fill-opacity=\"1\" /><path clip-path=\"url(#clip830)\" d=\"M191.246 940.429 Q187.635 940.429 185.806 943.993 Q184.001 947.535 184.001 954.665 Q184.001 961.771 185.806 965.336 Q187.635 968.878 191.246 968.878 Q194.88 968.878 196.686 965.336 Q198.514 961.771 198.514 954.665 Q198.514 947.535 196.686 943.993 Q194.88 940.429 191.246 940.429 M191.246 936.725 Q197.056 936.725 200.112 941.331 Q203.19 945.915 203.19 954.665 Q203.19 963.391 200.112 967.998 Q197.056 972.581 191.246 972.581 Q185.436 972.581 182.357 967.998 Q179.302 963.391 179.302 954.665 Q179.302 945.915 182.357 941.331 Q185.436 936.725 191.246 936.725 Z\" fill=\"#000000\" fill-rule=\"evenodd\" fill-opacity=\"1\" /><path clip-path=\"url(#clip830)\" d=\"M50.9921 613.892 L80.6679 613.892 L80.6679 617.827 L50.9921 617.827 L50.9921 613.892 Z\" fill=\"#000000\" fill-rule=\"evenodd\" fill-opacity=\"1\" /><path clip-path=\"url(#clip830)\" d=\"M91.5706 626.785 L99.2095 626.785 L99.2095 600.419 L90.8993 602.086 L90.8993 597.827 L99.1632 596.16 L103.839 596.16 L103.839 626.785 L111.478 626.785 L111.478 630.72 L91.5706 630.72 L91.5706 626.785 Z\" fill=\"#000000\" fill-rule=\"evenodd\" fill-opacity=\"1\" /><path clip-path=\"url(#clip830)\" d=\"M130.922 599.239 Q127.311 599.239 125.482 602.804 Q123.677 606.345 123.677 613.475 Q123.677 620.581 125.482 624.146 Q127.311 627.688 130.922 627.688 Q134.556 627.688 136.362 624.146 Q138.191 620.581 138.191 613.475 Q138.191 606.345 136.362 602.804 Q134.556 599.239 130.922 599.239 M130.922 595.535 Q136.732 595.535 139.788 600.142 Q142.867 604.725 142.867 613.475 Q142.867 622.202 139.788 626.808 Q136.732 631.391 130.922 631.391 Q125.112 631.391 122.033 626.808 Q118.978 622.202 118.978 613.475 Q118.978 604.725 122.033 600.142 Q125.112 595.535 130.922 595.535 Z\" fill=\"#000000\" fill-rule=\"evenodd\" fill-opacity=\"1\" /><path clip-path=\"url(#clip830)\" d=\"M161.084 599.239 Q157.473 599.239 155.644 602.804 Q153.839 606.345 153.839 613.475 Q153.839 620.581 155.644 624.146 Q157.473 627.688 161.084 627.688 Q164.718 627.688 166.524 624.146 Q168.353 620.581 168.353 613.475 Q168.353 606.345 166.524 602.804 Q164.718 599.239 161.084 599.239 M161.084 595.535 Q166.894 595.535 169.95 600.142 Q173.029 604.725 173.029 613.475 Q173.029 622.202 169.95 626.808 Q166.894 631.391 161.084 631.391 Q155.274 631.391 152.195 626.808 Q149.14 622.202 149.14 613.475 Q149.14 604.725 152.195 600.142 Q155.274 595.535 161.084 595.535 Z\" fill=\"#000000\" fill-rule=\"evenodd\" fill-opacity=\"1\" /><path clip-path=\"url(#clip830)\" d=\"M191.246 599.239 Q187.635 599.239 185.806 602.804 Q184.001 606.345 184.001 613.475 Q184.001 620.581 185.806 624.146 Q187.635 627.688 191.246 627.688 Q194.88 627.688 196.686 624.146 Q198.514 620.581 198.514 613.475 Q198.514 606.345 196.686 602.804 Q194.88 599.239 191.246 599.239 M191.246 595.535 Q197.056 595.535 200.112 600.142 Q203.19 604.725 203.19 613.475 Q203.19 622.202 200.112 626.808 Q197.056 631.391 191.246 631.391 Q185.436 631.391 182.357 626.808 Q179.302 622.202 179.302 613.475 Q179.302 604.725 182.357 600.142 Q185.436 595.535 191.246 595.535 Z\" fill=\"#000000\" fill-rule=\"evenodd\" fill-opacity=\"1\" /><path clip-path=\"url(#clip830)\" d=\"M191.246 258.049 Q187.635 258.049 185.806 261.614 Q184.001 265.156 184.001 272.285 Q184.001 279.392 185.806 282.956 Q187.635 286.498 191.246 286.498 Q194.88 286.498 196.686 282.956 Q198.514 279.392 198.514 272.285 Q198.514 265.156 196.686 261.614 Q194.88 258.049 191.246 258.049 M191.246 254.345 Q197.056 254.345 200.112 258.952 Q203.19 263.535 203.19 272.285 Q203.19 281.012 200.112 285.618 Q197.056 290.202 191.246 290.202 Q185.436 290.202 182.357 285.618 Q179.302 281.012 179.302 272.285 Q179.302 263.535 182.357 258.952 Q185.436 254.345 191.246 254.345 Z\" fill=\"#000000\" fill-rule=\"evenodd\" fill-opacity=\"1\" /><path clip-path=\"url(#clip830)\" d=\"M1125.57 43.6931 L1125.57 65.8515 L1138.7 65.8515 Q1145.3 65.8515 1148.46 63.1374 Q1151.66 60.3828 1151.66 54.752 Q1151.66 49.0808 1148.46 46.4072 Q1145.3 43.6931 1138.7 43.6931 L1125.57 43.6931 M1125.57 18.8205 L1125.57 37.0496 L1137.68 37.0496 Q1143.68 37.0496 1146.6 34.8216 Q1149.55 32.5531 1149.55 27.935 Q1149.55 23.3575 1146.6 21.089 Q1143.68 18.8205 1137.68 18.8205 L1125.57 18.8205 M1117.39 12.096 L1138.29 12.096 Q1147.65 12.096 1152.71 15.9849 Q1157.78 19.8737 1157.78 27.0438 Q1157.78 32.5936 1155.18 35.8748 Q1152.59 39.156 1147.57 39.9662 Q1153.6 41.2625 1156.93 45.3944 Q1160.29 49.4858 1160.29 55.6432 Q1160.29 63.745 1154.78 68.1605 Q1149.27 72.576 1139.1 72.576 L1117.39 72.576 L1117.39 12.096 Z\" fill=\"#000000\" fill-rule=\"evenodd\" fill-opacity=\"1\" /><path clip-path=\"url(#clip830)\" d=\"M1212.79 48.0275 L1212.79 51.6733 L1178.52 51.6733 Q1179 59.3701 1183.14 63.421 Q1187.31 67.4314 1194.72 67.4314 Q1199.01 67.4314 1203.03 66.3781 Q1207.08 65.3249 1211.05 63.2184 L1211.05 70.267 Q1207.04 71.9684 1202.82 72.8596 Q1198.61 73.7508 1194.28 73.7508 Q1183.42 73.7508 1177.06 67.4314 Q1170.74 61.1119 1170.74 50.3365 Q1170.74 39.1965 1176.73 32.6746 Q1182.77 26.1121 1192.98 26.1121 Q1202.13 26.1121 1207.44 32.0264 Q1212.79 37.9003 1212.79 48.0275 M1205.33 45.84 Q1205.25 39.7232 1201.89 36.0774 Q1198.57 32.4315 1193.06 32.4315 Q1186.82 32.4315 1183.05 35.9558 Q1179.33 39.4801 1178.76 45.8805 L1205.33 45.84 Z\" fill=\"#000000\" fill-rule=\"evenodd\" fill-opacity=\"1\" /><path clip-path=\"url(#clip830)\" d=\"M1232.39 14.324 L1232.39 27.2059 L1247.75 27.2059 L1247.75 32.9987 L1232.39 32.9987 L1232.39 57.6282 Q1232.39 63.1779 1233.89 64.7578 Q1235.43 66.3376 1240.09 66.3376 L1247.75 66.3376 L1247.75 72.576 L1240.09 72.576 Q1231.46 72.576 1228.18 69.3758 Q1224.9 66.1351 1224.9 57.6282 L1224.9 32.9987 L1219.43 32.9987 L1219.43 27.2059 L1224.9 27.2059 L1224.9 14.324 L1232.39 14.324 Z\" fill=\"#000000\" fill-rule=\"evenodd\" fill-opacity=\"1\" /><path clip-path=\"url(#clip830)\" d=\"M1295.26 45.1919 L1295.26 72.576 L1287.81 72.576 L1287.81 45.4349 Q1287.81 38.994 1285.3 35.7938 Q1282.79 32.5936 1277.76 32.5936 Q1271.73 32.5936 1268.24 36.4419 Q1264.76 40.2903 1264.76 46.9338 L1264.76 72.576 L1257.27 72.576 L1257.27 9.54393 L1264.76 9.54393 L1264.76 34.2544 Q1267.43 30.163 1271.04 28.1376 Q1274.69 26.1121 1279.43 26.1121 Q1287.24 26.1121 1291.25 30.9732 Q1295.26 35.7938 1295.26 45.1919 Z\" fill=\"#000000\" fill-rule=\"evenodd\" fill-opacity=\"1\" /><path clip-path=\"url(#clip830)\" d=\"M1348.94 48.0275 L1348.94 51.6733 L1314.67 51.6733 Q1315.15 59.3701 1319.29 63.421 Q1323.46 67.4314 1330.87 67.4314 Q1335.17 67.4314 1339.18 66.3781 Q1343.23 65.3249 1347.2 63.2184 L1347.2 70.267 Q1343.19 71.9684 1338.97 72.8596 Q1334.76 73.7508 1330.43 73.7508 Q1319.57 73.7508 1313.21 67.4314 Q1306.89 61.1119 1306.89 50.3365 Q1306.89 39.1965 1312.89 32.6746 Q1318.92 26.1121 1329.13 26.1121 Q1338.28 26.1121 1343.59 32.0264 Q1348.94 37.9003 1348.94 48.0275 M1341.49 45.84 Q1341.4 39.7232 1338.04 36.0774 Q1334.72 32.4315 1329.21 32.4315 Q1322.97 32.4315 1319.21 35.9558 Q1315.48 39.4801 1314.91 45.8805 L1341.49 45.84 Z\" fill=\"#000000\" fill-rule=\"evenodd\" fill-opacity=\"1\" /><path clip-path=\"url(#clip830)\" d=\"M1387.87 12.096 L1422.62 12.096 L1422.62 18.9825 L1396.05 18.9825 L1396.05 36.8065 L1420.03 36.8065 L1420.03 43.6931 L1396.05 43.6931 L1396.05 72.576 L1387.87 72.576 L1387.87 12.096 Z\" fill=\"#000000\" fill-rule=\"evenodd\" fill-opacity=\"1\" /><path clip-path=\"url(#clip830)\" d=\"M1435.59 12.096 L1473.83 12.096 L1473.83 18.9825 L1443.77 18.9825 L1443.77 36.8875 L1472.57 36.8875 L1472.57 43.7741 L1443.77 43.7741 L1443.77 65.6895 L1474.56 65.6895 L1474.56 72.576 L1435.59 72.576 L1435.59 12.096 Z\" fill=\"#000000\" fill-rule=\"evenodd\" fill-opacity=\"1\" /><polyline clip-path=\"url(#clip832)\" style=\"stroke:#009af9; stroke-linecap:round; stroke-linejoin:round; stroke-width:4; stroke-opacity:1; fill:none\" points=\"\n",
       "  299.008,160.256 307.016,402.631 315.024,557.188 323.032,671.835 331.039,754.241 339.047,823.08 347.055,880.171 355.063,914.829 363.07,948.816 371.078,982.93 \n",
       "  379.086,1007.85 387.094,1029.1 395.101,1054.17 403.109,1071.49 411.117,1090.35 419.125,1113.36 427.132,1129.65 435.14,1145.85 443.148,1160.83 451.156,1172.58 \n",
       "  459.163,1185.66 467.171,1198.04 475.179,1207.03 483.187,1216.06 491.194,1223.56 499.202,1230.08 507.21,1239.36 515.218,1245.33 523.225,1249.68 531.233,1254.44 \n",
       "  539.241,1258.33 547.249,1261.72 555.256,1266.36 563.264,1270.24 571.272,1273.17 579.28,1276.56 587.287,1279.82 595.295,1283.79 603.303,1285.74 611.311,1287.01 \n",
       "  619.318,1291.73 627.326,1294.79 635.334,1297.02 643.342,1298.78 651.349,1302.36 659.357,1305.15 667.365,1305.67 675.373,1308.57 683.38,1311.28 691.388,1311.22 \n",
       "  699.396,1312.6 707.404,1313.23 715.411,1313.28 723.419,1316.92 731.427,1318 739.435,1316.9 747.442,1319.89 755.45,1322.59 763.458,1323.7 771.466,1326.75 \n",
       "  779.473,1328.49 787.481,1329.03 795.489,1332.15 803.497,1333.77 811.504,1334.78 819.512,1335.99 827.52,1338.58 835.528,1341.01 843.535,1340.13 851.543,1342.5 \n",
       "  859.551,1343.75 867.559,1344.79 875.566,1346.11 883.574,1347.24 891.582,1348.96 899.59,1349.59 907.597,1351.56 915.605,1351.74 923.613,1353.21 931.621,1354.81 \n",
       "  939.628,1353.66 947.636,1354.48 955.644,1354.83 963.652,1356.61 971.659,1356.45 979.667,1357.4 987.675,1357.47 995.683,1357.48 1003.69,1358.04 1011.7,1358.32 \n",
       "  1019.71,1361.42 1027.71,1361.03 1035.72,1361.59 1043.73,1360.96 1051.74,1361.72 1059.74,1362.88 1067.75,1363.12 1075.76,1366.59 1083.77,1366.4 1091.78,1367.69 \n",
       "  1099.78,1368.92 1107.79,1370.11 1115.8,1368.97 1123.81,1368.88 1131.81,1369.15 1139.82,1367.89 1147.83,1368.25 1155.84,1368.52 1163.85,1368.33 1171.85,1366.79 \n",
       "  1179.86,1366.98 1187.87,1368.23 1195.88,1368.55 1203.88,1368.51 1211.89,1368.9 1219.9,1370.81 1227.91,1371.31 1235.92,1371.31 1243.92,1371.89 1251.93,1372.92 \n",
       "  1259.94,1373.19 1267.95,1373.26 1275.95,1374.82 1283.96,1374.76 1291.97,1374.31 1299.98,1374.99 1307.98,1377.11 1315.99,1375.63 1324,1374.67 1332.01,1375.82 \n",
       "  1340.02,1377.13 1348.02,1376.2 1356.03,1378.11 1364.04,1378.73 1372.05,1377.32 1380.05,1376.15 1388.06,1376.23 1396.07,1376 1404.08,1375.63 1412.09,1376.51 \n",
       "  1420.09,1377.44 1428.1,1377.68 1436.11,1377.52 1444.12,1378 1452.12,1376.72 1460.13,1377.15 1468.14,1376.54 1476.15,1378 1484.16,1377.94 1492.16,1378.15 \n",
       "  1500.17,1377.4 1508.18,1377.54 1516.19,1377 1524.19,1377.2 1532.2,1378.61 1540.21,1378.34 1548.22,1377.92 1556.23,1379.1 1564.23,1379.43 1572.24,1380.58 \n",
       "  1580.25,1379.82 1588.26,1380.93 1596.26,1381.54 1604.27,1379.85 1612.28,1380.65 1620.29,1380.4 1628.29,1378.73 1636.3,1380.1 1644.31,1379.24 1652.32,1379.88 \n",
       "  1660.33,1380.43 1668.33,1380.59 1676.34,1381.27 1684.35,1380.88 1692.36,1381.25 1700.36,1382.31 1708.37,1380.86 1716.38,1380.76 1724.39,1382.01 1732.4,1382.97 \n",
       "  1740.4,1382.89 1748.41,1382.84 1756.42,1382.2 1764.43,1381.74 1772.43,1382.07 1780.44,1382.33 1788.45,1383.96 1796.46,1384.65 1804.47,1384.11 1812.47,1384.54 \n",
       "  1820.48,1384.92 1828.49,1384.93 1836.5,1384.68 1844.5,1384.05 1852.51,1385.54 1860.52,1382.59 1868.53,1383.87 1876.54,1384.41 1884.54,1383.54 1892.55,1384.27 \n",
       "  1900.56,1383.41 1908.57,1383.64 1916.57,1383.06 1924.58,1382.63 1932.59,1383.52 1940.6,1383.19 1948.6,1383.97 1956.61,1383.42 1964.62,1382.56 1972.63,1382.73 \n",
       "  1980.64,1382.4 1988.64,1381.96 1996.65,1382.45 2004.66,1384.46 2012.67,1383.79 2020.67,1384.96 2028.68,1385.01 2036.69,1384.34 2044.7,1386.02 2052.71,1385.09 \n",
       "  2060.71,1384.65 2068.72,1385.43 2076.73,1384.13 2084.74,1384.59 2092.74,1384.98 2100.75,1385.71 2108.76,1384.67 2116.77,1384.91 2124.78,1385.02 2132.78,1384.85 \n",
       "  2140.79,1384.02 2148.8,1385.4 2156.81,1385.39 2164.81,1385.5 2172.82,1385.73 2180.83,1385.96 2188.84,1385.83 2196.85,1385.94 2204.85,1386.39 2212.86,1384.85 \n",
       "  2220.87,1385.66 2228.88,1385.07 2236.88,1385.68 2244.89,1386.11 2252.9,1386.02 2260.91,1386.4 2268.91,1384.94 2276.92,1385.84 2284.93,1386.03 2292.94,1385.99 \n",
       "  \n",
       "  \"/>\n",
       "</svg>\n"
      ]
     },
     "execution_count": 60,
     "metadata": {},
     "output_type": "execute_result"
    }
   ],
   "source": [
    "plot(p3)"
   ]
  },
  {
   "cell_type": "code",
   "execution_count": null,
   "id": "south-marijuana",
   "metadata": {},
   "outputs": [],
   "source": []
  }
 ],
 "metadata": {
  "kernelspec": {
   "display_name": "Julia 1.8.0",
   "language": "julia",
   "name": "julia-1.8"
  },
  "language_info": {
   "file_extension": ".jl",
   "mimetype": "application/julia",
   "name": "julia",
   "version": "1.8.0"
  }
 },
 "nbformat": 4,
 "nbformat_minor": 5
}
