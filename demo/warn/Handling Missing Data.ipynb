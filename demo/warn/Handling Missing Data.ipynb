{
 "cells": [
  {
   "cell_type": "markdown",
   "metadata": {},
   "source": [
    "# Handling Missing Data"
   ]
  },
  {
   "cell_type": "markdown",
   "metadata": {},
   "source": [
    "Let us assume that the following model generates the data\n",
    "$$\n",
    "\\begin{align*}\n",
    "    {x}_t &= {x}_{t-1} + c \\\\\n",
    "    {y}_t &\\sim \\mathcal{N}\\left({x}_{t}, p \\right) \n",
    "\\end{align*}\n",
    "$$\n",
    "with prior $${x}_0 \\sim \\mathcal{N}({m_{{x}_0}}, {v_{{x}_0}})$$."
   ]
  },
  {
   "cell_type": "markdown",
   "metadata": {},
   "source": [
    "Suppose that our measurement device fails to acquire data from time to time.  In this case, instead of scalar observation $\\hat{y}_t \\in \\mathrm{R}$ we sometimes will catch `missing` observations."
   ]
  },
  {
   "cell_type": "code",
   "execution_count": 10,
   "metadata": {},
   "outputs": [],
   "source": [
    "using Rocket\n",
    "using ReactiveMP\n",
    "using GraphPPL\n",
    "using BenchmarkTools\n",
    "using Distributions"
   ]
  },
  {
   "cell_type": "code",
   "execution_count": 26,
   "metadata": {},
   "outputs": [],
   "source": [
    "@model function smoothing(n, x0, P::ConstVariable)\n",
    "    \n",
    "    x_prior ~ NormalMeanVariance(mean(x0), cov(x0)) \n",
    "\n",
    "    x = randomvar(n)\n",
    "    y = datavar(Float64, n) where { allow_missing = true }\n",
    "    c = constvar(1.0)\n",
    "\n",
    "    x_prev = x_prior\n",
    "\n",
    "    for i in 1:n\n",
    "        x[i] ~ x_prev + c\n",
    "        y[i] ~ NormalMeanVariance(x[i], P)\n",
    "        \n",
    "        x_prev = x[i]\n",
    "    end\n",
    "\n",
    "    return x, y\n",
    "end"
   ]
  },
  {
   "cell_type": "code",
   "execution_count": 27,
   "metadata": {},
   "outputs": [],
   "source": [
    "@rule NormalMeanVariance(:μ, Marginalisation) (m_out::Any, m_v::Missing) = missing\n",
    "@rule NormalMeanVariance(:μ, Marginalisation) (m_out::Missing, m_v::Any) = missing\n",
    "\n",
    "@rule typeof(+)(:in1, Marginalisation) (m_out::Missing, m_in2::Any) = missing\n",
    "@rule typeof(+)(:in1, Marginalisation) (m_out::Any, m_in2::Missing) = missing"
   ]
  },
  {
   "cell_type": "code",
   "execution_count": 29,
   "metadata": {},
   "outputs": [],
   "source": [
    "P = 1.0\n",
    "\n",
    "n = 500\n",
    "data = convert(Vector{Union{Float64, Missing}}, collect(1:n) + rand(Normal(0.0, sqrt(P)), n));\n",
    "\n",
    "for index in map(d -> rem(abs(d), n), rand(Int, Int(n / 2)))\n",
    "    data[index] = missing\n",
    "end"
   ]
  },
  {
   "cell_type": "code",
   "execution_count": 32,
   "metadata": {},
   "outputs": [
    {
     "ename": "LoadError",
     "evalue": "MethodError: no method matching iterate(::Missing)\n\u001b[0mClosest candidates are:\n\u001b[0m  iterate(\u001b[91m::Union{LinRange, StepRangeLen}\u001b[39m) at range.jl:664\n\u001b[0m  iterate(\u001b[91m::Union{LinRange, StepRangeLen}\u001b[39m, \u001b[91m::Int64\u001b[39m) at range.jl:664\n\u001b[0m  iterate(\u001b[91m::T\u001b[39m) where T<:Union{Base.KeySet{var\"#s79\", var\"#s78\"} where {var\"#s79\", var\"#s78\"<:Dict}, Base.ValueIterator{var\"#s77\"} where var\"#s77\"<:Dict} at dict.jl:693\n\u001b[0m  ...",
     "output_type": "error",
     "traceback": [
      "MethodError: no method matching iterate(::Missing)\n\u001b[0mClosest candidates are:\n\u001b[0m  iterate(\u001b[91m::Union{LinRange, StepRangeLen}\u001b[39m) at range.jl:664\n\u001b[0m  iterate(\u001b[91m::Union{LinRange, StepRangeLen}\u001b[39m, \u001b[91m::Int64\u001b[39m) at range.jl:664\n\u001b[0m  iterate(\u001b[91m::T\u001b[39m) where T<:Union{Base.KeySet{var\"#s79\", var\"#s78\"} where {var\"#s79\", var\"#s78\"<:Dict}, Base.ValueIterator{var\"#s77\"} where var\"#s77\"<:Dict} at dict.jl:693\n\u001b[0m  ...",
      "",
      "Stacktrace:",
      "  [1] mean(f::typeof(identity), itr::Missing)",
      "    @ Statistics /Users/julia/buildbot/worker/package_macos64/build/usr/share/julia/stdlib/v1.6/Statistics/src/Statistics.jl:62",
      "  [2] mean(itr::Missing)",
      "    @ Statistics /Users/julia/buildbot/worker/package_macos64/build/usr/share/julia/stdlib/v1.6/Statistics/src/Statistics.jl:44",
      "  [3] rule(fform::Type{NormalMeanVariance}, on::Type{Val{:μ}}, vconstraint::Marginalisation, messages_names::Nothing, messages::Nothing, marginals_names::Type{Val{(:out, :v)}}, marginals::Tuple{Marginal{Missing}, Marginal{PointMass{Float64}}}, meta::Nothing, __node::FactorNode{Type{NormalMeanVariance}, Tuple{NodeInterface, NodeInterface, NodeInterface}, Tuple{Tuple{Int64}, Tuple{Int64}, Tuple{Int64}}, ReactiveMP.FactorNodeLocalMarginals{Tuple{ReactiveMP.FactorNodeLocalMarginal, ReactiveMP.FactorNodeLocalMarginal, ReactiveMP.FactorNodeLocalMarginal}}, Nothing, ReactiveMP.FactorNodePipeline{DefaultFunctionalDependencies, EmptyPipelineStage}})",
      "    @ ReactiveMP ~/.julia/dev/ReactiveMP/src/rule.jl:262",
      "  [4] (::ReactiveMP.MessageMapping{NormalMeanVariance, DataType, Marginalisation, Nothing, DataType, Nothing, FactorNode{Type{NormalMeanVariance}, Tuple{NodeInterface, NodeInterface, NodeInterface}, Tuple{Tuple{Int64}, Tuple{Int64}, Tuple{Int64}}, ReactiveMP.FactorNodeLocalMarginals{Tuple{ReactiveMP.FactorNodeLocalMarginal, ReactiveMP.FactorNodeLocalMarginal, ReactiveMP.FactorNodeLocalMarginal}}, Nothing, ReactiveMP.FactorNodePipeline{DefaultFunctionalDependencies, EmptyPipelineStage}}})(dependencies::Tuple{Nothing, Tuple{Marginal{Missing}, Marginal{PointMass{Float64}}}})",
      "    @ ReactiveMP ~/.julia/dev/ReactiveMP/src/message.jl:254",
      "  [5] compute_message(vmessage::VariationalMessage{Nothing, Tuple{ProxyObservable{Marginal, Rocket.RecentSubjectInstance{Union{Message{Missing}, Message{PointMass{Float64}}}, Subject{Union{Message{Missing}, Message{PointMass{Float64}}}, AsapScheduler, AsapScheduler}}, Rocket.MapProxy{Union{Message{Missing}, Message{PointMass{Float64}}}, typeof(as_marginal)}}, SingleObservable{Marginal{PointMass{Float64}}, AsapScheduler}}, ReactiveMP.MessageMapping{NormalMeanVariance, DataType, Marginalisation, Nothing, DataType, Nothing, FactorNode{Type{NormalMeanVariance}, Tuple{NodeInterface, NodeInterface, NodeInterface}, Tuple{Tuple{Int64}, Tuple{Int64}, Tuple{Int64}}, ReactiveMP.FactorNodeLocalMarginals{Tuple{ReactiveMP.FactorNodeLocalMarginal, ReactiveMP.FactorNodeLocalMarginal, ReactiveMP.FactorNodeLocalMarginal}}, Nothing, ReactiveMP.FactorNodePipeline{DefaultFunctionalDependencies, EmptyPipelineStage}}}})",
      "    @ ReactiveMP ~/.julia/dev/ReactiveMP/src/message.jl:155",
      "  [6] materialize!",
      "    @ ~/.julia/dev/ReactiveMP/src/message.jl:162 [inlined]",
      "  [7] as_message(vmessage::VariationalMessage{Nothing, Tuple{ProxyObservable{Marginal, Rocket.RecentSubjectInstance{Union{Message{Missing}, Message{PointMass{Float64}}}, Subject{Union{Message{Missing}, Message{PointMass{Float64}}}, AsapScheduler, AsapScheduler}}, Rocket.MapProxy{Union{Message{Missing}, Message{PointMass{Float64}}}, typeof(as_marginal)}}, SingleObservable{Marginal{PointMass{Float64}}, AsapScheduler}}, ReactiveMP.MessageMapping{NormalMeanVariance, DataType, Marginalisation, Nothing, DataType, Nothing, FactorNode{Type{NormalMeanVariance}, Tuple{NodeInterface, NodeInterface, NodeInterface}, Tuple{Tuple{Int64}, Tuple{Int64}, Tuple{Int64}}, ReactiveMP.FactorNodeLocalMarginals{Tuple{ReactiveMP.FactorNodeLocalMarginal, ReactiveMP.FactorNodeLocalMarginal, ReactiveMP.FactorNodeLocalMarginal}}, Nothing, ReactiveMP.FactorNodePipeline{DefaultFunctionalDependencies, EmptyPipelineStage}}}})",
      "    @ ReactiveMP ~/.julia/dev/ReactiveMP/src/message.jl:170",
      "  [8] MappingRF",
      "    @ ./reduce.jl:93 [inlined]",
      "  [9] _foldl_impl(op::Base.MappingRF{typeof(as_message), Base.BottomRF{ReactiveMP.var\"#30#32\"{ProdAnalytical}}}, init::Base._InitialValue, itr::Vector{AbstractMessage})",
      "    @ Base ./reduce.jl:62",
      " [10] foldl_impl",
      "    @ ./reduce.jl:48 [inlined]",
      " [11] mapfoldl_impl",
      "    @ ./reduce.jl:44 [inlined]",
      " [12] #mapfoldl#214",
      "    @ ./reduce.jl:160 [inlined]",
      " [13] mapfoldl",
      "    @ ./reduce.jl:160 [inlined]",
      " [14] #foldl#215",
      "    @ ./reduce.jl:178 [inlined]",
      " [15] foldl",
      "    @ ./reduce.jl:178 [inlined]",
      " [16] (::ReactiveMP.var\"#29#31\"{ProdAnalytical, UnspecifiedFormConstraint})(messages::Vector{AbstractMessage})",
      "    @ ReactiveMP ~/.julia/dev/ReactiveMP/src/message.jl:96",
      " [17] next_received!(wrapper::Rocket.CollectLatestObservableWrapper{AbstractMessage, Rocket.RecentSubjectInstance{Message, Subject{Message, AsapScheduler, AsapScheduler}}, Vector{AbstractMessage}, BitVector, Vector{Teardown}, ReactiveMP.var\"#29#31\"{ProdAnalytical, UnspecifiedFormConstraint}}, data::VariationalMessage{Nothing, Tuple{ProxyObservable{Marginal, Rocket.RecentSubjectInstance{Union{Message{Missing}, Message{PointMass{Float64}}}, Subject{Union{Message{Missing}, Message{PointMass{Float64}}}, AsapScheduler, AsapScheduler}}, Rocket.MapProxy{Union{Message{Missing}, Message{PointMass{Float64}}}, typeof(as_marginal)}}, SingleObservable{Marginal{PointMass{Float64}}, AsapScheduler}}, ReactiveMP.MessageMapping{NormalMeanVariance, DataType, Marginalisation, Nothing, DataType, Nothing, FactorNode{Type{NormalMeanVariance}, Tuple{NodeInterface, NodeInterface, NodeInterface}, Tuple{Tuple{Int64}, Tuple{Int64}, Tuple{Int64}}, ReactiveMP.FactorNodeLocalMarginals{Tuple{ReactiveMP.FactorNodeLocalMarginal, ReactiveMP.FactorNodeLocalMarginal, ReactiveMP.FactorNodeLocalMarginal}}, Nothing, ReactiveMP.FactorNodePipeline{DefaultFunctionalDependencies, EmptyPipelineStage}}}}, index::CartesianIndex{1})",
      "    @ Rocket ~/.julia/packages/Rocket/KEhBR/src/observable/collected.jl:95",
      " [18] on_next!",
      "    @ ~/.julia/packages/Rocket/KEhBR/src/observable/collected.jl:85 [inlined]",
      " [19] scheduled_next!(actor::Rocket.CollectLatestObservableInnerActor{AbstractMessage, CartesianIndex{1}, Rocket.CollectLatestObservableWrapper{AbstractMessage, Rocket.RecentSubjectInstance{Message, Subject{Message, AsapScheduler, AsapScheduler}}, Vector{AbstractMessage}, BitVector, Vector{Teardown}, ReactiveMP.var\"#29#31\"{ProdAnalytical, UnspecifiedFormConstraint}}}, value::VariationalMessage{Nothing, Tuple{ProxyObservable{Marginal, Rocket.RecentSubjectInstance{Union{Message{Missing}, Message{PointMass{Float64}}}, Subject{Union{Message{Missing}, Message{PointMass{Float64}}}, AsapScheduler, AsapScheduler}}, Rocket.MapProxy{Union{Message{Missing}, Message{PointMass{Float64}}}, typeof(as_marginal)}}, SingleObservable{Marginal{PointMass{Float64}}, AsapScheduler}}, ReactiveMP.MessageMapping{NormalMeanVariance, DataType, Marginalisation, Nothing, DataType, Nothing, FactorNode{Type{NormalMeanVariance}, Tuple{NodeInterface, NodeInterface, NodeInterface}, Tuple{Tuple{Int64}, Tuple{Int64}, Tuple{Int64}}, ReactiveMP.FactorNodeLocalMarginals{Tuple{ReactiveMP.FactorNodeLocalMarginal, ReactiveMP.FactorNodeLocalMarginal, ReactiveMP.FactorNodeLocalMarginal}}, Nothing, ReactiveMP.FactorNodePipeline{DefaultFunctionalDependencies, EmptyPipelineStage}}}}, #unused#::AsapScheduler)",
      "    @ Rocket ~/.julia/packages/Rocket/KEhBR/src/schedulers/asap.jl:23",
      " [20] on_next!(subject::Subject{AbstractMessage, AsapScheduler, AsapScheduler}, data::VariationalMessage{Nothing, Tuple{ProxyObservable{Marginal, Rocket.RecentSubjectInstance{Union{Message{Missing}, Message{PointMass{Float64}}}, Subject{Union{Message{Missing}, Message{PointMass{Float64}}}, AsapScheduler, AsapScheduler}}, Rocket.MapProxy{Union{Message{Missing}, Message{PointMass{Float64}}}, typeof(as_marginal)}}, SingleObservable{Marginal{PointMass{Float64}}, AsapScheduler}}, ReactiveMP.MessageMapping{NormalMeanVariance, DataType, Marginalisation, Nothing, DataType, Nothing, FactorNode{Type{NormalMeanVariance}, Tuple{NodeInterface, NodeInterface, NodeInterface}, Tuple{Tuple{Int64}, Tuple{Int64}, Tuple{Int64}}, ReactiveMP.FactorNodeLocalMarginals{Tuple{ReactiveMP.FactorNodeLocalMarginal, ReactiveMP.FactorNodeLocalMarginal, ReactiveMP.FactorNodeLocalMarginal}}, Nothing, ReactiveMP.FactorNodePipeline{DefaultFunctionalDependencies, EmptyPipelineStage}}}})",
      "    @ Rocket ~/.julia/packages/Rocket/KEhBR/src/subjects/subject.jl:62",
      " [21] actor_on_next!",
      "    @ ~/.julia/packages/Rocket/KEhBR/src/actor.jl:250 [inlined]",
      " [22] next!",
      "    @ ~/.julia/packages/Rocket/KEhBR/src/actor.jl:202 [inlined]",
      " [23] on_next!",
      "    @ ~/.julia/packages/Rocket/KEhBR/src/subjects/recent.jl:62 [inlined]",
      " [24] actor_on_next!",
      "    @ ~/.julia/packages/Rocket/KEhBR/src/actor.jl:250 [inlined]",
      " [25] next!",
      "    @ ~/.julia/packages/Rocket/KEhBR/src/actor.jl:202 [inlined]",
      " [26] on_next!",
      "    @ ~/.julia/packages/Rocket/KEhBR/src/operators/map.jl:60 [inlined]",
      " [27] next!",
      "    @ ~/.julia/packages/Rocket/KEhBR/src/actor.jl:206 [inlined]",
      " [28] next_received!",
      "    @ ~/.julia/packages/Rocket/KEhBR/src/observable/combined.jl:99 [inlined]",
      " [29] on_next!",
      "    @ ~/.julia/packages/Rocket/KEhBR/src/observable/combined.jl:66 [inlined]",
      " [30] next!",
      "    @ ~/.julia/packages/Rocket/KEhBR/src/actor.jl:206 [inlined]",
      " [31] next_received!",
      "    @ ~/.julia/packages/Rocket/KEhBR/src/observable/combined_updates.jl:63 [inlined]",
      " [32] on_next!",
      "    @ ~/.julia/packages/Rocket/KEhBR/src/observable/combined_updates.jl:32 [inlined]",
      " [33] next!",
      "    @ ~/.julia/packages/Rocket/KEhBR/src/actor.jl:206 [inlined]",
      " [34] on_next!",
      "    @ ~/.julia/packages/Rocket/KEhBR/src/operators/map.jl:60 [inlined]",
      " [35] scheduled_next!(actor::Rocket.MapActor{Union{Message{Missing}, Message{PointMass{Float64}}}, Rocket.CombineLatestUpdatesInnerActor{Marginal, Rocket.CombineLatestUpdatesActorWrapper{Tuple{ProxyObservable{Marginal, Rocket.RecentSubjectInstance{Union{Message{Missing}, Message{PointMass{Float64}}}, Subject{Union{Message{Missing}, Message{PointMass{Float64}}}, AsapScheduler, AsapScheduler}}, Rocket.MapProxy{Union{Message{Missing}, Message{PointMass{Float64}}}, typeof(as_marginal)}}, SingleObservable{Marginal{PointMass{Float64}}, AsapScheduler}}, Rocket.CombineLatestInnerActor{Tuple{ProxyObservable{Marginal, Rocket.RecentSubjectInstance{Union{Message{Missing}, Message{PointMass{Float64}}}, Subject{Union{Message{Missing}, Message{PointMass{Float64}}}, AsapScheduler, AsapScheduler}}, Rocket.MapProxy{Union{Message{Missing}, Message{PointMass{Float64}}}, typeof(as_marginal)}}, SingleObservable{Marginal{PointMass{Float64}}, AsapScheduler}}, Rocket.CombineLatestActorWrapper{Rocket.MStorage2{Nothing, Tuple{ProxyObservable{Marginal, Rocket.RecentSubjectInstance{Union{Message{Missing}, Message{PointMass{Float64}}}, Subject{Union{Message{Missing}, Message{PointMass{Float64}}}, AsapScheduler, AsapScheduler}}, Rocket.MapProxy{Union{Message{Missing}, Message{PointMass{Float64}}}, typeof(as_marginal)}}, SingleObservable{Marginal{PointMass{Float64}}, AsapScheduler}}}, Rocket.MapActor{Tuple{Nothing, Tuple{ProxyObservable{Marginal, Rocket.RecentSubjectInstance{Union{Message{Missing}, Message{PointMass{Float64}}}, Subject{Union{Message{Missing}, Message{PointMass{Float64}}}, AsapScheduler, AsapScheduler}}, Rocket.MapProxy{Union{Message{Missing}, Message{PointMass{Float64}}}, typeof(as_marginal)}}, SingleObservable{Marginal{PointMass{Float64}}, AsapScheduler}}}, Rocket.RecentSubjectInstance{AbstractMessage, Subject{AbstractMessage, AsapScheduler, AsapScheduler}}, ReactiveMP.var\"#347#348\"{ReactiveMP.MessageMapping{NormalMeanVariance, DataType, Marginalisation, Nothing, DataType, Nothing, FactorNode{Type{NormalMeanVariance}, Tuple{NodeInterface, NodeInterface, NodeInterface}, Tuple{Tuple{Int64}, Tuple{Int64}, Tuple{Int64}}, ReactiveMP.FactorNodeLocalMarginals{Tuple{ReactiveMP.FactorNodeLocalMarginal, ReactiveMP.FactorNodeLocalMarginal, ReactiveMP.FactorNodeLocalMarginal}}, Nothing, ReactiveMP.FactorNodePipeline{DefaultFunctionalDependencies, EmptyPipelineStage}}}}}, PushNew, Rocket.UInt8UpdatesStatus}}, PushNew, Rocket.UInt8UpdatesStatus}}, typeof(as_marginal)}, value::Message{Missing}, #unused#::AsapScheduler)",
      "    @ Rocket ~/.julia/packages/Rocket/KEhBR/src/schedulers/asap.jl:23",
      " [36] on_next!(subject::Subject{Union{Message{Missing}, Message{PointMass{Float64}}}, AsapScheduler, AsapScheduler}, data::Message{Missing})",
      "    @ Rocket ~/.julia/packages/Rocket/KEhBR/src/subjects/subject.jl:62",
      " [37] actor_on_next!",
      "    @ ~/.julia/packages/Rocket/KEhBR/src/actor.jl:250 [inlined]",
      " [38] next!",
      "    @ ~/.julia/packages/Rocket/KEhBR/src/actor.jl:202 [inlined]",
      " [39] on_next!",
      "    @ ~/.julia/packages/Rocket/KEhBR/src/subjects/recent.jl:62 [inlined]",
      " [40] actor_on_next!",
      "    @ ~/.julia/packages/Rocket/KEhBR/src/actor.jl:250 [inlined]",
      " [41] next!",
      "    @ ~/.julia/packages/Rocket/KEhBR/src/actor.jl:202 [inlined]",
      " [42] update!",
      "    @ ~/.julia/dev/ReactiveMP/src/variables/data.jl:64 [inlined]",
      " [43] #159",
      "    @ ~/.julia/dev/ReactiveMP/src/variables/data.jl:76 [inlined]",
      " [44] foreach(f::ReactiveMP.var\"#159#160\", itr::Base.Iterators.Zip{Tuple{Vector{DataVariable{PointMass{Float64}, Rocket.RecentSubjectInstance{Union{Message{Missing}, Message{PointMass{Float64}}}, Subject{Union{Message{Missing}, Message{PointMass{Float64}}}, AsapScheduler, AsapScheduler}}}}, Vector{Union{Missing, Float64}}}})",
      "    @ Base ./abstractarray.jl:2141",
      " [45] update!(datavars::Vector{DataVariable{PointMass{Float64}, Rocket.RecentSubjectInstance{Union{Message{Missing}, Message{PointMass{Float64}}}, Subject{Union{Message{Missing}, Message{PointMass{Float64}}}, AsapScheduler, AsapScheduler}}}}, data::Vector{Union{Missing, Float64}})",
      "    @ ReactiveMP ~/.julia/dev/ReactiveMP/src/variables/data.jl:75",
      " [46] inference(; model::ReactiveMP.ModelGenerator{smoothing, Tuple{Int64, NormalMeanVariance{Float64}, Float64}, Base.Iterators.Pairs{Union{}, Union{}, Tuple{}, NamedTuple{(), Tuple{}}}, Nothing, Nothing, Nothing}, data::NamedTuple{(:y,), Tuple{Vector{Union{Missing, Float64}}}}, initmarginals::Nothing, initmessages::Nothing, constraints::Nothing, meta::Nothing, options::NamedTuple{(), Tuple{}}, returnvars::Nothing, iterations::Int64, free_energy::Bool, showprogress::Bool)",
      "    @ ReactiveMP ~/.julia/dev/ReactiveMP/src/inference.jl:195",
      " [47] top-level scope",
      "    @ In[32]:3",
      " [48] eval",
      "    @ ./boot.jl:360 [inlined]",
      " [49] include_string(mapexpr::typeof(REPL.softscope), mod::Module, code::String, filename::String)",
      "    @ Base ./loading.jl:1094"
     ]
    }
   ],
   "source": [
    "x0_prior = NormalMeanVariance(0.0, 1000.0)\n",
    "\n",
    "result = inference(model=Model(smoothing, n, x0_prior, P), data=(y=data,), returnvars=(x=KeepLast(),))\n",
    "\n"
   ]
  },
  {
   "cell_type": "code",
   "execution_count": null,
   "metadata": {},
   "outputs": [],
   "source": []
  }
 ],
 "metadata": {
  "kernelspec": {
   "display_name": "Julia 1.6.0",
   "language": "julia",
   "name": "julia-1.6"
  },
  "language_info": {
   "file_extension": ".jl",
   "mimetype": "application/julia",
   "name": "julia",
   "version": "1.6.0"
  }
 },
 "nbformat": 4,
 "nbformat_minor": 4
}
