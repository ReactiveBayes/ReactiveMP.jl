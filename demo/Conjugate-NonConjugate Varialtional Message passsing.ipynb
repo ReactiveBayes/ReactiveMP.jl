{
 "cells": [
  {
   "cell_type": "markdown",
   "metadata": {},
   "source": [
    "# Conjugate-NonConjugate Varialtional Message Passsing: a tutorial\n",
    "\n",
    "\n",
    "*Table of contents*\n",
    "1. [Introduction](#Introduction)\n",
    "2. [Model specification](#Model-specification)\n",
    "3. [Limitations](#Limitations)\n",
    "4. [Inference](#Inference)\n",
    "5. [Extension](#Extension)"
   ]
  },
  {
   "cell_type": "markdown",
   "metadata": {},
   "source": [
    "## Introduction"
   ]
  },
  {
   "cell_type": "markdown",
   "metadata": {},
   "source": [
    "In this tutorial, we show how to excute VMP in models with delta factors of the form $\\delta(f(x_{1}, \\dots, x_{n}) - y)$ (`f` arbitrary differentiable function) inside `ReactiveMP`.\n",
    "The `ReactiveMP` implemented the Conjugate-NonConjugate Variational Inference (CVI) inside factor graphs carefully following the paper [Probabilistic programming with stochastic variational message passing](https://reader.elsevier.com/reader/sd/pii/S0888613X22000950?token=EFB22E01793BD0BF73EECC9702C315644969403BD44B13FA850E9F66C8A49E88C0D5C68A9AD03301C609DA443DB33F80&originRegion=eu-west-1&originCreation=20221027115856) (see it for implementation details)."
   ]
  },
  {
   "cell_type": "markdown",
   "metadata": {},
   "source": [
    "More specifically the tutorial shows:\n",
    "1. [How specify](#Model-specification) a `Delta factor` of the form $\\delta(f(x_{1}, \\dots, x_{n}) - y)$ inside the `@model` macro with CVI inference procedure\n",
    "2. [What limitation](#Limitations) the current implementation has\n",
    "3. [Show several inference examples](#Inference)\n",
    "4. [How to extend](#Extension) it from the user perspective"
   ]
  },
  {
   "cell_type": "markdown",
   "metadata": {},
   "source": [
    "## Model specification"
   ]
  },
  {
   "cell_type": "markdown",
   "metadata": {},
   "source": [
    "Suppose we have a function `f`:\n",
    "\n",
    "```\n",
    "    f(x, y, ..., z) = ...\n",
    "```\n",
    "\n",
    "And we have a model where we want define a `Delta factor` with this `f`:\n",
    "\n",
    "```\n",
    "@model function model_name(...)\n",
    "    ... some where here inputs (x, y, ..., z) defiened\n",
    "    out ~ f(x, y, ..., z) where {meta = CVIApproximation(rng, n_iterations, n_samples, Descent(learning_rate))}\n",
    "    ...    \n",
    "end\n",
    "```\n",
    "\n",
    "If you want to see a detailed example at this point, go to [Inference](#Inference) section. "
   ]
  },
  {
   "cell_type": "markdown",
   "metadata": {},
   "source": [
    "The magic happens inside the `where` block: where we specify through `meta` parameter that `ReactiveMP` should run `CVI` for the messages sent through the `out ~ f(x, y, ..., z)` node.\n",
    "\n",
    "So to specify it for `out ~ f(x, y, ..., z)` node you need set `meta` to `CVIApproximation(...)` inside `where` block: `meta=CVIApproximation(rng, n_samples, n_iterations, Descent(learning_rate))` in the above example."
   ]
  },
  {
   "cell_type": "markdown",
   "metadata": {},
   "source": [
    "The `CVIApproximation` structure serves for two reasons:\n",
    "1. Marker that the `CVI` rules need to be called\n",
    "2. Container of the `CVI` hyperparameters."
   ]
  },
  {
   "cell_type": "markdown",
   "metadata": {},
   "source": [
    "`CVI` procedure has 4 hyperparameters:\n",
    "1. random number generator, which will be called inside the `CVI` procedure (`rng`)\n",
    "2. number of samples to use for the out message approximation (`n_samples`)\n",
    "3. number of iterations of the CVI procedure (`n_iterations`)\n",
    "4. optimizer, which will be used to perform the CVI step (`Descent(learning_rate)`)"
   ]
  },
  {
   "cell_type": "markdown",
   "metadata": {},
   "source": [
    "## Limitations"
   ]
  },
  {
   "cell_type": "markdown",
   "metadata": {},
   "source": [
    "There are several main limitations for the `CVI` procedure that you need to satisfy:\n",
    "1. The `CVI` procedure supposes that there is mean-field assumption on the interfaces connected to the node (`out, x, y, ..., z`)\n",
    "2. The connected interface is factorized out in other nodes to which it connected\n",
    "3. The messages on input interfaces (`x, y, ..., z`) are exponential family distributions\n",
    "\n",
    "In `ReactiveMP`, you can obtain the first and second assumption through `@constraints` macro:\n",
    "\n",
    "```\n",
    "@model function model_name(...)\n",
    " ... some where here, inputs (x, y, ..., z) defined\n",
    " ... ~ Node1(x, q1, q2, ..., qn) # some node that is using x interface\n",
    " out ~ f(x, y, ..., z) where {meta = CVIApproximation(rng, n_iterations, n_samples, Descent(learning_rate))}\n",
    " ...\n",
    " ... ~ Node2(p1,..., out, pn) # some node that is using out the interface\n",
    " ... \n",
    "end\n",
    "\n",
    "constraints = @constraints begin\n",
    " q(out, p1, ..., pn) = q(y)q(p1,...,pn)\n",
    " q(out, x, y, ..., z) = q(out)q(x)...q(z)\n",
    " q(x, q1, ..., qn) = q(x)q(q1,...,qn)\n",
    "end;\n",
    "```\n",
    "\n",
    "Note that only some exponential family distributions are implemented. If you want to add one not implemented inside `ReactiveMP` you need to implement (see [example](###Adding-a-custom-implementation-for-an-instance-from-exponential-family-distribution)):\n",
    "1. `naturalparams(dist)` is a function that returns a natural parameter instance for this distribution.\n",
    "2. `lognormalizer(natparams)` is the log normalizer for the natural parameters of this distribution\n"
   ]
  },
  {
   "cell_type": "markdown",
   "metadata": {},
   "source": [
    "## Inference"
   ]
  },
  {
   "cell_type": "markdown",
   "metadata": {},
   "source": [
    "## Extension"
   ]
  },
  {
   "cell_type": "markdown",
   "metadata": {},
   "source": [
    "### Adding a custom implementation for an instance from exponential family distribution"
   ]
  },
  {
   "cell_type": "markdown",
   "metadata": {},
   "source": [
    "You might need a distribution from the exponential distribution family, which is not implemented in `ReactiveMP` yet.\n",
    "\n",
    "This section shows how you can implement it yourself."
   ]
  },
  {
   "cell_type": "markdown",
   "metadata": {},
   "source": [
    "We will take `Beta distribution` as an example."
   ]
  },
  {
   "cell_type": "code",
   "execution_count": 13,
   "metadata": {},
   "outputs": [],
   "source": [
    "using ReactiveMP, Rocket, GraphPPL, Random, LinearAlgebra, Plots, Flux, ForwardDiff, Plots, SpecialFunctions, Distributions, Base"
   ]
  },
  {
   "cell_type": "code",
   "execution_count": 15,
   "metadata": {},
   "outputs": [],
   "source": [
    "struct BetaNaturalParameters{T <: Real} <: NaturalParameters\n",
    "    α::T\n",
    "    β::T\n",
    "end\n",
    "\n",
    "isproper(natparams::BetaNaturalParameters) = (params.α > 0) & (params.β > 0)\n",
    "\n",
    "function lognormalizer(natparams::BetaNaturalParameters)\n",
    "    return loggamma(natparams.α) + loggamma(natparams.α) - log(natparams.α + natparams.β)\n",
    "end\n",
    "\n",
    "function convert(::Type{Distribution}, natparams::BetaNaturalParameters)e\n",
    "    return Beta(natparams.α, natparams.β)\n",
    "end\n",
    "\n",
    "function Base.:-(left::BetaNaturalParameters, right::BetaNaturalParameters)\n",
    "    return BetaNaturalParameters(\n",
    "        left.α - right.α,\n",
    "        left.β - right.β\n",
    "    )\n",
    "end\n"
   ]
  },
  {
   "cell_type": "markdown",
   "metadata": {},
   "source": [
    "Now, we can specify a model with `Beta distribution` inside `Delta` factor."
   ]
  },
  {
   "cell_type": "code",
   "execution_count": null,
   "metadata": {},
   "outputs": [],
   "source": []
  },
  {
   "cell_type": "markdown",
   "metadata": {},
   "source": [
    "### Using custom optimizer"
   ]
  },
  {
   "cell_type": "code",
   "execution_count": null,
   "metadata": {},
   "outputs": [],
   "source": [
    "Distributions"
   ]
  }
 ],
 "metadata": {
  "kernelspec": {
   "display_name": "Julia 1.8.2",
   "language": "julia",
   "name": "julia-1.8"
  },
  "language_info": {
   "file_extension": ".jl",
   "mimetype": "application/julia",
   "name": "julia",
   "version": "1.8.2"
  },
  "orig_nbformat": 4
 },
 "nbformat": 4,
 "nbformat_minor": 2
}
