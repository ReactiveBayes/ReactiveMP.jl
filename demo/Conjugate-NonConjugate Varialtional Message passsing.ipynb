{
 "cells": [
  {
   "cell_type": "markdown",
   "metadata": {},
   "source": [
    "# Conjugate-NonConjugate Varialtional Message Passsing: a tutorial\n",
    "\n",
    "\n",
    "*Table of contents*\n",
    "1. [Introduction](#Introduction)\n",
    "2. [Model specification](#Model-specification)\n",
    "3. [Limitations](#Limitations)\n",
    "4. [Inference](#Inference)\n",
    "5. [Extension](#Extension)"
   ]
  },
  {
   "cell_type": "markdown",
   "metadata": {},
   "source": [
    "## Introduction"
   ]
  },
  {
   "cell_type": "markdown",
   "metadata": {},
   "source": [
    "In this tutorial, we show how to excute VMP in models with delta factors of the form $\\delta(f(x_{1}, \\dots, x_{n}) - y)$ (`f` arbitrary differentiable function) inside `ReactiveMP`.\n",
    "The `ReactiveMP` implemented the Conjugate-NonConjugate Variational Inference (CVI) inside factor graphs carefully following the paper [Probabilistic programming with stochastic variational message passing](https://reader.elsevier.com/reader/sd/pii/S0888613X22000950?token=EFB22E01793BD0BF73EECC9702C315644969403BD44B13FA850E9F66C8A49E88C0D5C68A9AD03301C609DA443DB33F80&originRegion=eu-west-1&originCreation=20221027115856) (see it for implementation details)."
   ]
  },
  {
   "cell_type": "markdown",
   "metadata": {},
   "source": [
    "More specifically the tutorial shows:\n",
    "1. [How specify](#Model-specification) a `Delta factor` of the form $\\delta(f(x_{1}, \\dots, x_{n}) - y)$ inside the `@model` macro with CVI inference procedure\n",
    "2. [What limitation](#Limitations) the current implementation has\n",
    "3. [Show several inference examples](#Inference)\n",
    "4. [How to extend](#Extension) it from the user perspective"
   ]
  },
  {
   "cell_type": "markdown",
   "metadata": {},
   "source": [
    "## Model specification"
   ]
  },
  {
   "cell_type": "markdown",
   "metadata": {},
   "source": [
    "Suppose we have a function `f`:\n",
    "\n",
    "```\n",
    "    f(x, y, ..., z) = ...\n",
    "```\n",
    "\n",
    "And we have a model where we want define a `Delta factor` with this `f`:\n",
    "\n",
    "```\n",
    "@model function model_name(...)\n",
    "    ... some where here inputs (x, y, ..., z) defiened\n",
    "    out ~ f(x, y, ..., z) where {meta = CVIApproximation(rng, n_iterations, n_samples, Descent(learning_rate))}\n",
    "    ...    \n",
    "end\n",
    "```\n",
    "\n",
    "If you want to see a detailed example at this point, go to [Inference](#Inference) section. "
   ]
  },
  {
   "cell_type": "markdown",
   "metadata": {},
   "source": [
    "The magic happens inside the `where` block: where we specify through `meta` parameter that `ReactiveMP` should run `CVI` for the messages sent through the `out ~ f(x, y, ..., z)` node.\n",
    "\n",
    "So to specify it for `out ~ f(x, y, ..., z)` node you need set `meta` to `CVIApproximation(...)` inside `where` block: `meta=CVIApproximation(rng, n_samples, n_iterations, Descent(learning_rate))` in the above example."
   ]
  },
  {
   "cell_type": "markdown",
   "metadata": {},
   "source": [
    "The `CVIApproximation` structure serves for two reasons:\n",
    "1. Marker that the `CVI` rules need to be called\n",
    "2. Container of the `CVI` hyperparameters."
   ]
  },
  {
   "cell_type": "markdown",
   "metadata": {},
   "source": [
    "`CVI` procedure has 4 hyperparameters:\n",
    "1. random number generator, which will be called inside the `CVI` procedure (`rng`)\n",
    "2. number of samples to use for the out message approximation (`n_samples`)\n",
    "3. number of iterations of the CVI procedure (`n_iterations`)\n",
    "4. optimizer, which will be used to perform the CVI step (`Descent(learning_rate)`)"
   ]
  },
  {
   "cell_type": "markdown",
   "metadata": {},
   "source": [
    "## Limitations"
   ]
  },
  {
   "cell_type": "markdown",
   "metadata": {},
   "source": [
    "There are several main limitations for the `CVI` procedure that you need to satisfy:\n",
    "1. The `CVI` procedure supposes that there is mean-field assumption on the function inputs (`x, y, ..., z`) connected to the node \n",
    "2. The connected interface is factorized out in other nodes to which they are connected\n",
    "3. The messages on input interfaces (`x, y, ..., z`) are from the exponential family distributions\n",
    "\n",
    "In `ReactiveMP`, you can obtain the first and second assumption through `@constraints` macro:\n",
    "\n",
    "```\n",
    "@model function model_name(...)\n",
    " ... some where here, inputs (x, y, ..., z) defined\n",
    " ... ~ Node1(x, q1, q2, ..., qn) # some node that is using x interface\n",
    " out ~ f(x, y, ..., z) where {meta = CVIApproximation(rng, n_iterations, n_samples, Descent(learning_rate))}\n",
    " ...\n",
    " ... ~ Node2(p1,..., out, pn) # some node that is using out the interface\n",
    " ... \n",
    "end\n",
    "\n",
    "constraints = @constraints begin\n",
    " q(out, p1, ..., pn) = q(y)q(p1,...,pn)\n",
    " q(x, y, ..., z) = q(x)...q(z) # mean-field on the inputs into delta factor\n",
    " q(x, q1, ..., qn) = q(x)q(q1,...,qn) # mean-field in the node where x also used\n",
    " ...\n",
    "end;\n",
    "```\n",
    "\n",
    "Note that only some exponential family distributions are implemented. If you want to add one not implemented inside `ReactiveMP` read this [example](###Adding-a-custom-implementation-for-an-instance-from-exponential-family-distribution).\n"
   ]
  },
  {
   "cell_type": "markdown",
   "metadata": {},
   "source": [
    "## Inference"
   ]
  },
  {
   "cell_type": "code",
   "execution_count": null,
   "metadata": {},
   "outputs": [],
   "source": []
  },
  {
   "cell_type": "code",
   "execution_count": null,
   "metadata": {},
   "outputs": [],
   "source": []
  },
  {
   "cell_type": "markdown",
   "metadata": {},
   "source": [
    "## Extension"
   ]
  },
  {
   "cell_type": "markdown",
   "metadata": {},
   "source": [
    "### Adding a custom implementation for an instance from exponential family distribution"
   ]
  },
  {
   "cell_type": "markdown",
   "metadata": {},
   "source": [
    "You might need a distribution from the exponential distribution family, which has not yet been implemented in `ReactiveMP.`\n",
    "\n",
    "This section shows how you can implement it yourself."
   ]
  },
  {
   "cell_type": "markdown",
   "metadata": {},
   "source": [
    "This example implements `Beta distribution`."
   ]
  },
  {
   "cell_type": "markdown",
   "metadata": {},
   "source": [
    "To add a new distribution, we need to implement the following:\n",
    "\n",
    "1. auxiliary structure for storing `Beta` natural parameters: it is `BetaNaturalParameters` in our example\n",
    "2. `isproper`: the domain check for `BetaNaturalParameters`\n",
    "3. auxiliary functions that convert `BetaNaturalParameters` to vector, distribution and vice-versa\n",
    "4. `lognormalizer` and `logpdf` for `BetaNaturalParameters`\n",
    "5. subtraction for `BetaNaturalParameters` "
   ]
  },
  {
   "cell_type": "code",
   "execution_count": 4,
   "metadata": {},
   "outputs": [],
   "source": [
    "using ReactiveMP, Rocket, GraphPPL, Random, LinearAlgebra, Plots, Flux, ForwardDiff, Plots, SpecialFunctions, Distributions, Base, StableRNGs"
   ]
  },
  {
   "cell_type": "markdown",
   "metadata": {},
   "source": [
    "`BetaNaturalParameters` structure"
   ]
  },
  {
   "cell_type": "code",
   "execution_count": 2,
   "metadata": {},
   "outputs": [],
   "source": [
    "struct BetaNaturalParameters{T <: Real} <: NaturalParameters\n",
    "    α::T\n",
    "    β::T\n",
    "end"
   ]
  },
  {
   "cell_type": "markdown",
   "metadata": {},
   "source": [
    "`isproper` functions"
   ]
  },
  {
   "cell_type": "code",
   "execution_count": 3,
   "metadata": {},
   "outputs": [],
   "source": [
    "ReactiveMP.isproper(params::BetaNaturalParameters) = ((params.α  - 1)> zero(params.α)) & ((params.β - 1)> zero(params.β))"
   ]
  },
  {
   "cell_type": "markdown",
   "metadata": {},
   "source": [
    "Needed axillary \"convert\" functions"
   ]
  },
  {
   "cell_type": "code",
   "execution_count": 6,
   "metadata": {},
   "outputs": [],
   "source": [
    "ReactiveMP.naturalparams(dist::Beta) = BetaNaturalParameters(dist.α, dist.β)\n",
    "\n",
    "function Base.convert(::Type{Distribution}, η::BetaNaturalParameters)\n",
    "    return Beta(η.α, η.β)\n",
    "end\n",
    "\n",
    "function Base.vec(p::BetaNaturalParameters)\n",
    "    return [p.α, p.β]\n",
    "end\n",
    "\n",
    "ReactiveMP.as_naturalparams(::Type{T}, args...) where {T <: BetaNaturalParameters} =\n",
    "    convert(BetaNaturalParameters, args...)\n",
    "\n",
    "function BetaNaturalParameters(v::AbstractVector{T}) where {T <: Real}\n",
    "    @assert length(v) === 2 \"`BetaNaturalParameters` must accept a vector of length `2`.\"\n",
    "    return BetaNaturalParameters(v[1], v[2])\n",
    "end\n",
    "\n",
    "Base.convert(::Type{BetaNaturalParameters}, vector::AbstractVector) =\n",
    "    convert(BetaNaturalParameters{eltype(vector)}, vector)\n",
    "\n",
    "Base.convert(::Type{BetaNaturalParameters{T}}, vector::AbstractVector) where {T} =\n",
    "    BetaNaturalParameters(convert(AbstractVector{T}, vector))"
   ]
  },
  {
   "cell_type": "markdown",
   "metadata": {},
   "source": [
    "`lognormalizer` and `logpdf`"
   ]
  },
  {
   "cell_type": "code",
   "execution_count": 7,
   "metadata": {},
   "outputs": [],
   "source": [
    "ReactiveMP.lognormalizer(params::BetaNaturalParameters) = loggamma(params.α) + loggamma(params.β) - loggamma(params.α + params.β) \n",
    "ReactiveMP.logpdf(params::BetaNaturalParameters, x) = x * (params.α - 1) + (1-x) * (params.β - 1) - lognormalizer(params) "
   ]
  },
  {
   "cell_type": "markdown",
   "metadata": {},
   "source": [
    "subtraction"
   ]
  },
  {
   "cell_type": "code",
   "execution_count": 8,
   "metadata": {},
   "outputs": [],
   "source": [
    "function Base.:-(left::BetaNaturalParameters, right::BetaNaturalParameters)\n",
    "    return BetaNaturalParameters(\n",
    "        left.α - right.α,\n",
    "        left.β - right.β\n",
    "    )\n",
    "end"
   ]
  },
  {
   "cell_type": "markdown",
   "metadata": {},
   "source": [
    "Now, we can specify a model with `Beta distribution` inside `Delta` factor."
   ]
  },
  {
   "cell_type": "markdown",
   "metadata": {},
   "source": [
    "Generate some syntatic data"
   ]
  },
  {
   "cell_type": "code",
   "execution_count": 13,
   "metadata": {},
   "outputs": [],
   "source": [
    "rng = StableRNG(123)\n",
    "cvi_rng = StableRNG(42)\n",
    "\n",
    "golden_beta = Beta(3, 4)\n",
    "\n",
    "num_samples = 1000\n",
    "\n",
    "means = rand(rng, golden_beta, num_samples)\n",
    "observations = map(mean -> rand(rng, NormalMeanVariance(mean, 0.01)), means);"
   ]
  },
  {
   "cell_type": "markdown",
   "metadata": {},
   "source": [
    "Creating a model specification with `@model` macro.\n",
    "\n",
    "Note, we don't need `q(beta, mean) = q(beta)q(mean)` constraint."
   ]
  },
  {
   "cell_type": "code",
   "execution_count": 14,
   "metadata": {},
   "outputs": [
    {
     "name": "stderr",
     "output_type": "stream",
     "text": [
      "┌ Error: Failed to revise /Users/mykola/repos/ReactiveMP.jl/src/nodes/delta/approximations/cvi.jl\n",
      "│   exception = Revise.ReviseEvalException(\"/Users/mykola/repos/ReactiveMP.jl/demo/none:0\", ErrorException(\"invalid redefinition of constant CVIApproximation\"), Any[(top-level scope at none:0, 1)])\n",
      "└ @ Revise /Users/mykola/.julia/packages/Revise/do2nH/src/packagedef.jl:715\n",
      "┌ Warning: The running code does not match the saved version for the following files:\n",
      "│ \n",
      "│   /Users/mykola/repos/ReactiveMP.jl/src/nodes/delta/approximations/cvi.jl\n",
      "│ \n",
      "│ If the error was due to evaluation order, it can sometimes be resolved by calling `Revise.retry()`.\n",
      "│ Use Revise.errors() to report errors again. Only the first error in each file is shown.\n",
      "│ Your prompt color may be yellow until the errors are resolved.\n",
      "└ @ Revise /Users/mykola/.julia/packages/Revise/do2nH/src/packagedef.jl:825\n"
     ]
    }
   ],
   "source": [
    "@model function normal_with_beta_mean(num_observations, cvi_rng, cvi_num_samples, cvi_num_iterations, learning_rate)\n",
    "    observations = datavar(Float64, num_observations) \n",
    "    beta ~ Beta(1, 1)\n",
    "    mean ~ identity(beta) where {meta = CVI(cvi_rng, cvi_num_samples, cvi_num_iterations, Descent(learning_rate))}\n",
    "    observations .~ NormalMeanVariance(mean, 0.01)\n",
    "end"
   ]
  },
  {
   "cell_type": "markdown",
   "metadata": {},
   "source": [
    "To run inference we will use `inference` function from `ReactiveMP`.\n",
    "Note, that for running inference for this model we need to init message for `beta`."
   ]
  },
  {
   "cell_type": "code",
   "execution_count": 11,
   "metadata": {},
   "outputs": [
    {
     "data": {
      "text/plain": [
       "Inference results:\n",
       "-----------------------------------------\n",
       "beta = Beta{Float64}(α=464.35142801780785, β=475.24111495855345)\n"
      ]
     },
     "metadata": {},
     "output_type": "display_data"
    }
   ],
   "source": [
    "res = inference(\n",
    "    model = Model(normal_with_beta_mean, num_samples, cvi_rng, 100, 1000, 0.1),\n",
    "    data = (observations = observations,),\n",
    "    iterations = 100,\n",
    "    free_energy = false,\n",
    "    returnvars = (beta = KeepLast(),),\n",
    "    initmessages = (beta = Beta(1, 1),),\n",
    ")"
   ]
  },
  {
   "cell_type": "code",
   "execution_count": 12,
   "metadata": {},
   "outputs": [
    {
     "data": {
      "text/plain": [
       "(0.49420510144415886, 0.42857142857142855)"
      ]
     },
     "metadata": {},
     "output_type": "display_data"
    }
   ],
   "source": [
    "mean(res.posteriors[:beta]), mean(golden_beta)"
   ]
  },
  {
   "cell_type": "markdown",
   "metadata": {},
   "source": [
    "As we can see by mean comparison: the inference is working correctly."
   ]
  },
  {
   "cell_type": "markdown",
   "metadata": {},
   "source": [
    "### Using a custom optimizer"
   ]
  },
  {
   "cell_type": "markdown",
   "metadata": {},
   "source": [
    "Currently, `CVI` supports only `Flux` optimizers to perform the step optimization step.\n",
    "\n",
    "Here it is shown how to extend it for a some structure."
   ]
  },
  {
   "cell_type": "markdown",
   "metadata": {},
   "source": [
    "Suppose we have `CustomDescent` structure which we want to use for `CVI` optimization step."
   ]
  },
  {
   "cell_type": "markdown",
   "metadata": {},
   "source": [
    "To make it possible we need to implement `ReactiveMP.cvi_update!(opt::CustomDescent, λ, ∇)`"
   ]
  },
  {
   "cell_type": "code",
   "execution_count": 143,
   "metadata": {},
   "outputs": [],
   "source": [
    "struct CustomDescent \n",
    "    learning_rate::Float64\n",
    "end\n",
    "\n",
    "function ReactiveMP.cvi_update!(opt::CustomDescent, λ, ∇)\n",
    "    return vec(λ) - (opt.learning_rate .* vec(∇))\n",
    "end"
   ]
  },
  {
   "cell_type": "markdown",
   "metadata": {},
   "source": [
    "Let's try to apply it to a model:\n",
    "$$\n",
    "\\begin{aligned}\n",
    " p(x) & = \\mathcal{N}(0, 1),\\\\\n",
    " p(y_{i}) & = \\mathcal{N}(x^2, 1),\\\\\n",
    "\\end{aligned}\n",
    "$$\n",
    "\n",
    "This model is not particularly interesting, but it show how to use `CVI` approximation with a custom structure."
   ]
  },
  {
   "cell_type": "markdown",
   "metadata": {},
   "source": [
    "Let's generate some syntatic data for the model"
   ]
  },
  {
   "cell_type": "code",
   "execution_count": 144,
   "metadata": {},
   "outputs": [],
   "source": [
    "rng = StableRNG(123)\n",
    "cvi_rng = StableRNG(123)\n",
    "\n",
    "golden = NormalMeanVariance(20, 10)\n",
    "\n",
    "num_samples = 5000\n",
    "\n",
    "means = rand(rng, golden, num_samples)\n",
    "observations = map(mean -> rand(rng, NormalMeanVariance(mean^2, 1)), means);"
   ]
  },
  {
   "cell_type": "markdown",
   "metadata": {},
   "source": [
    "To create a model we use `GraphPPL` package and `@model` macro:"
   ]
  },
  {
   "cell_type": "code",
   "execution_count": 145,
   "metadata": {},
   "outputs": [],
   "source": [
    "f(x) = x ^ 2\n",
    "@model function normal_square_mean(num_observations, cvi_rng, cvi_num_samples, cvi_num_iterations, optimizer)\n",
    "    observations = datavar(Float64, num_observations)\n",
    "    latent ~ NormalMeanPrecision(0, 10)\n",
    "    mean ~ f(latent) where {meta = CVIApproximation(cvi_rng, cvi_num_samples, cvi_num_iterations, optimizer)}\n",
    "    observations .~ NormalMeanVariance(mean, 1)\n",
    "end"
   ]
  },
  {
   "cell_type": "markdown",
   "metadata": {},
   "source": [
    "Note we are using optimizer, as a model parameter: `normal_square_mean(..., optimizer)`."
   ]
  },
  {
   "cell_type": "markdown",
   "metadata": {},
   "source": [
    "We will use the `inference` function from `ReactiveMP` to run inference, where we provide an instance of the `CustomDescent` structure:\n",
    "```\n",
    "... = inference(\n",
    "model = Model(..., CustomDescent(0.1)),\n",
    "...)\n",
    "```"
   ]
  },
  {
   "cell_type": "markdown",
   "metadata": {},
   "source": [
    "**Side notes**: for running inference for this model, we need to init `latent` message.\n",
    " \n",
    "We do not need to init marginal for `latent,` but with this initialization, the inference procedure is more stable."
   ]
  },
  {
   "cell_type": "code",
   "execution_count": 146,
   "metadata": {},
   "outputs": [
    {
     "data": {
      "text/plain": [
       "(-20.259631575342336, 1.2181547169391146e-7)"
      ]
     },
     "metadata": {},
     "output_type": "display_data"
    }
   ],
   "source": [
    "res = inference(\n",
    "    model = Model(normal_square_mean, num_samples, cvi_rng, 100, 5000, CustomDescent(0.1)),\n",
    "    data = (observations = observations,),\n",
    "    iterations = 20,\n",
    "    free_energy = false,\n",
    "    initmessages = (latent = NormalMeanVariance(0, 10),),\n",
    "    initmarginals = (latent = NormalMeanVariance(0, 10),)\n",
    ")\n",
    "\n",
    "mean(res.posteriors[:latent][end]), var(res.posteriors[:latent][end])"
   ]
  },
  {
   "cell_type": "markdown",
   "metadata": {},
   "source": [
    "The inference working!"
   ]
  }
 ],
 "metadata": {
  "kernelspec": {
   "display_name": "Julia 1.8.2",
   "language": "julia",
   "name": "julia-1.8"
  },
  "language_info": {
   "file_extension": ".jl",
   "mimetype": "application/julia",
   "name": "julia",
   "version": "1.8.2"
  },
  "orig_nbformat": 4
 },
 "nbformat": 4,
 "nbformat_minor": 2
}
