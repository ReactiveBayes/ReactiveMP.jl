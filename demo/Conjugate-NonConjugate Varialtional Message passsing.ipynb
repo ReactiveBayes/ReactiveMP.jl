{
 "cells": [
  {
   "cell_type": "markdown",
   "metadata": {},
   "source": [
    "# Conjugate-NonConjugate Varialtional Message Passsing: a tutorial\n",
    "\n",
    "\n",
    "*Table of contents*\n",
    "1. [Introduction](#Introduction)\n",
    "2. [Model specification](#Model-specification)\n",
    "3. [Limitations](#Limitations)\n",
    "4. [Inference](#Inference)\n",
    "5. [Extension](#Extension)"
   ]
  },
  {
   "cell_type": "markdown",
   "metadata": {},
   "source": [
    "## Introduction"
   ]
  },
  {
   "cell_type": "markdown",
   "metadata": {},
   "source": [
    "In this tutorial, we show how to excute VMP in models with delta factors of the form $\\delta(f(x_{1}, \\dots, x_{n}) - y)$ (`f` arbitrary differentiable function) inside `ReactiveMP`.\n",
    "The `ReactiveMP` implemented the Conjugate-NonConjugate Variational Inference (CVI) inside factor graphs carefully following the paper [Probabilistic programming with stochastic variational message passing](https://reader.elsevier.com/reader/sd/pii/S0888613X22000950?token=EFB22E01793BD0BF73EECC9702C315644969403BD44B13FA850E9F66C8A49E88C0D5C68A9AD03301C609DA443DB33F80&originRegion=eu-west-1&originCreation=20221027115856) (see it for implementation details)."
   ]
  },
  {
   "cell_type": "markdown",
   "metadata": {},
   "source": [
    "More specifically the tutorial shows:\n",
    "1. [How specify](#Model-specification) a `Delta factor` of the form $\\delta(f(x_{1}, \\dots, x_{n}) - y)$ inside the `@model` macro with CVI inference procedure\n",
    "2. [What limitation](#Limitations) the current implementation has\n",
    "3. [Show several inference examples](#Inference)\n",
    "4. [How to extend](#Extension) it from the user perspective"
   ]
  },
  {
   "cell_type": "markdown",
   "metadata": {},
   "source": [
    "## Model specification"
   ]
  },
  {
   "cell_type": "markdown",
   "metadata": {},
   "source": [
    "Suppose we have a function `f`:\n",
    "\n",
    "```\n",
    "    f(x, y, ..., z) = ...\n",
    "```\n",
    "\n",
    "And we have a model where we want define a `Delta factor` with this `f`:\n",
    "\n",
    "```\n",
    "@model function model_name(...)\n",
    "    ... some where here inputs (x, y, ..., z) defiened\n",
    "    out ~ f(x, y, ..., z) where {meta = CVIApproximation(rng, n_iterations, n_samples, Descent(learning_rate))}\n",
    "    ...    \n",
    "end\n",
    "```\n",
    "\n",
    "If you want to see a detailed example at this point, go to [Inference](#Inference) section. "
   ]
  },
  {
   "cell_type": "markdown",
   "metadata": {},
   "source": [
    "The magic happens inside the `where` block: where we specify through `meta` parameter that `ReactiveMP` should run `CVI` for the messages sent through the `out ~ f(x, y, ..., z)` node.\n",
    "\n",
    "So to specify it for `out ~ f(x, y, ..., z)` node you need set `meta` to `CVIApproximation(...)` inside `where` block: `meta=CVIApproximation(rng, n_samples, n_iterations, Descent(learning_rate))` in the above example."
   ]
  },
  {
   "cell_type": "markdown",
   "metadata": {},
   "source": [
    "The `CVIApproximation` structure serves for two reasons:\n",
    "1. Marker that the `CVI` rules need to be called\n",
    "2. Container of the `CVI` hyperparameters."
   ]
  },
  {
   "cell_type": "markdown",
   "metadata": {},
   "source": [
    "`CVI` procedure has 4 hyperparameters:\n",
    "1. random number generator, which will be called inside the `CVI` procedure (`rng`)\n",
    "2. number of samples to use for the out message approximation (`n_samples`)\n",
    "3. number of iterations of the CVI procedure (`n_iterations`)\n",
    "4. optimizer, which will be used to perform the CVI step (`Descent(learning_rate)`)"
   ]
  },
  {
   "cell_type": "markdown",
   "metadata": {},
   "source": [
    "## Limitations"
   ]
  },
  {
   "cell_type": "markdown",
   "metadata": {},
   "source": [
    "There are several main limitations for the `CVI` procedure that you need to satisfy:\n",
    "1. The `CVI` procedure supposes that there is mean-field assumption on the interfaces connected to the node (`out, x, y, ..., z`)\n",
    "2. The connected interface is factorized out in other nodes to which it connected\n",
    "3. The messages on input interfaces (`x, y, ..., z`) are exponential family distributions\n",
    "\n",
    "In `ReactiveMP`, you can obtain the first and second assumption through `@constraints` macro:\n",
    "\n",
    "```\n",
    "@model function model_name(...)\n",
    " ... some where here, inputs (x, y, ..., z) defined\n",
    " ... ~ Node1(x, q1, q2, ..., qn) # some node that is using x interface\n",
    " out ~ f(x, y, ..., z) where {meta = CVIApproximation(rng, n_iterations, n_samples, Descent(learning_rate))}\n",
    " ...\n",
    " ... ~ Node2(p1,..., out, pn) # some node that is using out the interface\n",
    " ... \n",
    "end\n",
    "\n",
    "constraints = @constraints begin\n",
    " q(out, p1, ..., pn) = q(y)q(p1,...,pn)\n",
    " q(out, x, y, ..., z) = q(out)q(x)...q(z)\n",
    " q(x, q1, ..., qn) = q(x)q(q1,...,qn)\n",
    "end;\n",
    "```\n",
    "\n",
    "Note that only some exponential family distributions are implemented. If you want to add one not implemented inside `ReactiveMP` you need to implement (see [example](###Adding-a-custom-implementation-for-an-instance-from-exponential-family-distribution)):\n",
    "1. `naturalparams(dist)` is a function that returns a natural parameter instance for this distribution.\n",
    "2. `lognormalizer(natparams)` is the log normalizer for the natural parameters of this distribution\n"
   ]
  },
  {
   "cell_type": "markdown",
   "metadata": {},
   "source": [
    "## Inference"
   ]
  },
  {
   "cell_type": "markdown",
   "metadata": {},
   "source": [
    "## Extension"
   ]
  },
  {
   "cell_type": "markdown",
   "metadata": {},
   "source": [
    "### Adding a custom implementation for an instance from exponential family distribution"
   ]
  },
  {
   "cell_type": "markdown",
   "metadata": {},
   "source": [
    "You might need a distribution from the exponential distribution family, which is not implemented in `ReactiveMP` yet.\n",
    "\n",
    "This section shows how you can implement it yourself."
   ]
  },
  {
   "cell_type": "markdown",
   "metadata": {},
   "source": [
    "We will take `Beta distribution` as an example."
   ]
  },
  {
   "cell_type": "code",
   "execution_count": 1,
   "metadata": {},
   "outputs": [],
   "source": [
    "using ReactiveMP, Rocket, GraphPPL, Random, LinearAlgebra, Plots, Flux, ForwardDiff, Plots, SpecialFunctions, Distributions, Base, StableRNGs"
   ]
  },
  {
   "cell_type": "markdown",
   "metadata": {},
   "source": [
    "First, you need to specify a structure for beta distribution natural parameters"
   ]
  },
  {
   "cell_type": "code",
   "execution_count": 2,
   "metadata": {},
   "outputs": [],
   "source": [
    "struct BetaNaturalParameters{T <: Real} <: NaturalParameters\n",
    "    α::T\n",
    "    β::T\n",
    "end"
   ]
  },
  {
   "cell_type": "markdown",
   "metadata": {},
   "source": [
    "Second, you need to implement `isproper` function"
   ]
  },
  {
   "cell_type": "code",
   "execution_count": 21,
   "metadata": {},
   "outputs": [],
   "source": [
    "ReactiveMP.isproper(params::BetaNaturalParameters) = ((params.α  - 1)> zero(params.α)) & ((params.β - 1)> zero(params.β))"
   ]
  },
  {
   "cell_type": "markdown",
   "metadata": {},
   "source": [
    "You need to implement `naturalparams`"
   ]
  },
  {
   "cell_type": "code",
   "execution_count": 4,
   "metadata": {},
   "outputs": [],
   "source": [
    "ReactiveMP.naturalparams(dist::Beta) = BetaNaturalParameters(dist.α, dist.β)"
   ]
  },
  {
   "cell_type": "markdown",
   "metadata": {},
   "source": [
    "Also you need to implement convert from `BetaNaturalParameters` to `Distribution`"
   ]
  },
  {
   "cell_type": "code",
   "execution_count": 5,
   "metadata": {},
   "outputs": [],
   "source": [
    "function Base.convert(::Type{Distribution}, η::BetaNaturalParameters)\n",
    "    return Beta(η.α, η.β)\n",
    "end"
   ]
  },
  {
   "cell_type": "markdown",
   "metadata": {},
   "source": [
    "Implementing `lognormalizer`, `logpdf`"
   ]
  },
  {
   "cell_type": "code",
   "execution_count": 7,
   "metadata": {},
   "outputs": [],
   "source": [
    "ReactiveMP.lognormalizer(params::BetaNaturalParameters) = loggamma(params.α) + loggamma(params.β) - loggamma(params.α + params.β) \n",
    "ReactiveMP.logpdf(params::BetaNaturalParameters, x) = x * (params.α - 1) + (1-x) * (params.β - 1) - lognormalizer(params) "
   ]
  },
  {
   "cell_type": "markdown",
   "metadata": {},
   "source": [
    "Also you need to specify how to substract natural parameters"
   ]
  },
  {
   "cell_type": "code",
   "execution_count": 8,
   "metadata": {},
   "outputs": [],
   "source": [
    "function Base.:-(left::BetaNaturalParameters, right::BetaNaturalParameters)\n",
    "    return BetaNaturalParameters(\n",
    "        left.α - right.α,\n",
    "        left.β - right.β\n",
    "    )\n",
    "end"
   ]
  },
  {
   "cell_type": "markdown",
   "metadata": {},
   "source": [
    "Also several axulary function need to be implemented"
   ]
  },
  {
   "cell_type": "code",
   "execution_count": 9,
   "metadata": {},
   "outputs": [],
   "source": [
    "function Base.vec(p::BetaNaturalParameters)\n",
    "    return [p.α, p.β]\n",
    "end\n",
    "\n",
    "ReactiveMP.as_naturalparams(::Type{T}, args...) where {T <: BetaNaturalParameters} =\n",
    "    convert(BetaNaturalParameters, args...)\n",
    "\n",
    "function BetaNaturalParameters(v::AbstractVector{T}) where {T <: Real}\n",
    "    @assert length(v) === 2 \"`BetaNaturalParameters` must accept a vector of length `2`.\"\n",
    "    return BetaNaturalParameters(v[1], v[2])\n",
    "end\n",
    "\n",
    "Base.convert(::Type{BetaNaturalParameters}, vector::AbstractVector) =\n",
    "    convert(BetaNaturalParameters{eltype(vector)}, vector)\n",
    "\n",
    "Base.convert(::Type{BetaNaturalParameters{T}}, vector::AbstractVector) where {T} =\n",
    "    BetaNaturalParameters(convert(AbstractVector{T}, vector))"
   ]
  },
  {
   "cell_type": "markdown",
   "metadata": {},
   "source": [
    "Now, we can specify a model with `Beta distribution` inside `Delta` factor."
   ]
  },
  {
   "cell_type": "markdown",
   "metadata": {},
   "source": [
    "Generate some syntatic data"
   ]
  },
  {
   "cell_type": "code",
   "execution_count": 18,
   "metadata": {},
   "outputs": [],
   "source": [
    "rng = StableRNG(123)\n",
    "cvi_rng = StableRNG(42)\n",
    "\n",
    "golden_beta = Beta(3, 4)\n",
    "\n",
    "num_samples = 1000\n",
    "\n",
    "means = rand(rng, golden_beta, num_samples)\n",
    "observations = map(mean -> rand(rng, NormalMeanVariance(mean, 0.01)), means);"
   ]
  },
  {
   "cell_type": "markdown",
   "metadata": {},
   "source": [
    "Creating a model specification"
   ]
  },
  {
   "cell_type": "code",
   "execution_count": 19,
   "metadata": {},
   "outputs": [],
   "source": [
    "@model function normal_with_beta_mean(num_observations, cvi_rng, cvi_num_samples, cvi_num_iterations, learning_rate)\n",
    "    observations = datavar(Float64, num_observations) \n",
    "    beta ~ Beta(1, 1)\n",
    "    mean ~ identity(beta) where {meta = CVIApproximation(cvi_rng, cvi_num_samples, cvi_num_iterations, Descent(learning_rate))}\n",
    "    observations .~ NormalMeanVariance(mean, 0.01)\n",
    "end"
   ]
  },
  {
   "cell_type": "markdown",
   "metadata": {},
   "source": [
    "Do inference"
   ]
  },
  {
   "cell_type": "code",
   "execution_count": 22,
   "metadata": {},
   "outputs": [
    {
     "data": {
      "text/plain": [
       "Inference results:\n",
       "-----------------------------------------\n",
       "beta = Beta{Float64}(α=10921.612503258872, β=11205.411979087337)\n"
      ]
     },
     "metadata": {},
     "output_type": "display_data"
    }
   ],
   "source": [
    "res = inference(\n",
    "    model = Model(normal_with_beta_mean, num_samples, cvi_rng, 100, 2000, 0.1),\n",
    "    data = (observations = observations,),\n",
    "    iterations = 100,\n",
    "    free_energy = false,\n",
    "    returnvars = (beta = KeepLast(),),\n",
    "    # constraints = constraints,\n",
    "    initmessages = (beta = Beta(1, 1),),\n",
    ")"
   ]
  },
  {
   "cell_type": "code",
   "execution_count": 23,
   "metadata": {},
   "outputs": [
    {
     "data": {
      "text/plain": [
       "(0.4935870393225512, 0.42857142857142855)"
      ]
     },
     "metadata": {},
     "output_type": "display_data"
    }
   ],
   "source": []
  },
  {
   "cell_type": "markdown",
   "metadata": {},
   "source": [
    "### Using custom optimizer"
   ]
  },
  {
   "cell_type": "code",
   "execution_count": 13,
   "metadata": {},
   "outputs": [
    {
     "ename": "MethodError",
     "evalue": "MethodError: Cannot `convert` an object of type Vector{ForwardDiff.Dual{ForwardDiff.Tag{ReactiveMP.var\"#735#739\"{BetaNaturalParameters{Float64}, Float64}, Float64}, Float64, 2}} to an object of type BetaNaturalParameters{ForwardDiff.Dual{ForwardDiff.Tag{ReactiveMP.var\"#735#739\"{BetaNaturalParameters{Float64}, Float64}, Float64}, Float64, 2}}\nClosest candidates are:\n  convert(::Type{T}, !Matched::T) where T at Base.jl:61\n  BetaNaturalParameters{T}(::Any, !Matched::Any) where T<:Real at ~/repos/ReactiveMP.jl/demo/Conjugate-NonConjugate Varialtional Message passsing.ipynb:2",
     "output_type": "error",
     "traceback": [
      "MethodError: Cannot `convert` an object of type Vector{ForwardDiff.Dual{ForwardDiff.Tag{ReactiveMP.var\"#735#739\"{BetaNaturalParameters{Float64}, Float64}, Float64}, Float64, 2}} to an object of type BetaNaturalParameters{ForwardDiff.Dual{ForwardDiff.Tag{ReactiveMP.var\"#735#739\"{BetaNaturalParameters{Float64}, Float64}, Float64}, Float64, 2}}\n",
      "Closest candidates are:\n",
      "  convert(::Type{T}, !Matched::T) where T at Base.jl:61\n",
      "  BetaNaturalParameters{T}(::Any, !Matched::Any) where T<:Real at ~/repos/ReactiveMP.jl/demo/Conjugate-NonConjugate Varialtional Message passsing.ipynb:2\n",
      "\n",
      "Stacktrace:\n",
      "   [1] convert(#unused#::Type{BetaNaturalParameters}, vector::Vector{ForwardDiff.Dual{ForwardDiff.Tag{ReactiveMP.var\"#735#739\"{BetaNaturalParameters{Float64}, Float64}, Float64}, Float64, 2}})\n",
      "     @ Main ~/repos/ReactiveMP.jl/demo/Conjugate-NonConjugate Varialtional Message passsing.ipynb:13\n",
      "   [2] as_naturalparams(#unused#::Type{BetaNaturalParameters{Float64}}, args::Vector{ForwardDiff.Dual{ForwardDiff.Tag{ReactiveMP.var\"#735#739\"{BetaNaturalParameters{Float64}, Float64}, Float64}, Float64, 2}})\n",
      "     @ Main ~/repos/ReactiveMP.jl/demo/Conjugate-NonConjugate Varialtional Message passsing.ipynb:5\n",
      "   [3] (::ReactiveMP.var\"#735#739\"{BetaNaturalParameters{Float64}, Float64})(vec_params::Vector{ForwardDiff.Dual{ForwardDiff.Tag{ReactiveMP.var\"#735#739\"{BetaNaturalParameters{Float64}, Float64}, Float64}, Float64, 2}})\n",
      "     @ ReactiveMP ~/repos/ReactiveMP.jl/src/nodes/delta/approximations/cvi.jl:127\n",
      "   [4] vector_mode_dual_eval!(f::ReactiveMP.var\"#735#739\"{BetaNaturalParameters{Float64}, Float64}, cfg::ForwardDiff.GradientConfig{ForwardDiff.Tag{ReactiveMP.var\"#735#739\"{BetaNaturalParameters{Float64}, Float64}, Float64}, Float64, 2, Vector{ForwardDiff.Dual{ForwardDiff.Tag{ReactiveMP.var\"#735#739\"{BetaNaturalParameters{Float64}, Float64}, Float64}, Float64, 2}}}, x::Vector{Float64})\n",
      "     @ ForwardDiff ~/.julia/packages/ForwardDiff/pDtsf/src/apiutils.jl:37\n",
      "   [5] vector_mode_gradient(f::ReactiveMP.var\"#735#739\"{BetaNaturalParameters{Float64}, Float64}, x::Vector{Float64}, cfg::ForwardDiff.GradientConfig{ForwardDiff.Tag{ReactiveMP.var\"#735#739\"{BetaNaturalParameters{Float64}, Float64}, Float64}, Float64, 2, Vector{ForwardDiff.Dual{ForwardDiff.Tag{ReactiveMP.var\"#735#739\"{BetaNaturalParameters{Float64}, Float64}, Float64}, Float64, 2}}})\n",
      "     @ ForwardDiff ~/.julia/packages/ForwardDiff/pDtsf/src/gradient.jl:106\n",
      "   [6] gradient(f::Function, x::Vector{Float64}, cfg::ForwardDiff.GradientConfig{ForwardDiff.Tag{ReactiveMP.var\"#735#739\"{BetaNaturalParameters{Float64}, Float64}, Float64}, Float64, 2, Vector{ForwardDiff.Dual{ForwardDiff.Tag{ReactiveMP.var\"#735#739\"{BetaNaturalParameters{Float64}, Float64}, Float64}, Float64, 2}}}, ::Val{true})\n",
      "     @ ForwardDiff ~/.julia/packages/ForwardDiff/pDtsf/src/gradient.jl:0\n",
      "   [7] gradient(f::Function, x::Vector{Float64}, cfg::ForwardDiff.GradientConfig{ForwardDiff.Tag{ReactiveMP.var\"#735#739\"{BetaNaturalParameters{Float64}, Float64}, Float64}, Float64, 2, Vector{ForwardDiff.Dual{ForwardDiff.Tag{ReactiveMP.var\"#735#739\"{BetaNaturalParameters{Float64}, Float64}, Float64}, Float64, 2}}}) (repeats 2 times)\n",
      "     @ ForwardDiff ~/.julia/packages/ForwardDiff/pDtsf/src/gradient.jl:17\n",
      "   [8] renderCVI(logp_nc::ReactiveMP.var\"#820#821\"{ReactiveMP.DeltaFnCallableWrapper{typeof(identity)}, NormalWeightedMeanPrecision{Float64}}, num_iterations::Int64, opt::Descent, rng::StableRNGs.LehmerRNG, λ_init::BetaNaturalParameters{Float64}, msg_in::Beta{Float64})\n",
      "     @ ReactiveMP ~/repos/ReactiveMP.jl/src/nodes/delta/approximations/cvi.jl:128\n",
      "   [9] macro expansion\n",
      "     @ ~/repos/ReactiveMP.jl/src/rules/delta/cvi/marginals.jl:7 [inlined]\n",
      "  [10] marginalrule(fform::Type{DeltaFn{ReactiveMP.DeltaFnCallableWrapper{typeof(identity)}}}, on::Type{Val{:ins}}, messages_names::Type{Val{(:out, :ins)}}, messages::Tuple{Message{NormalWeightedMeanPrecision{Float64}}, ManyOf{Tuple{Message{Beta{Float64}}}}}, marginals_names::Nothing, marginals::Nothing, meta::CVIApproximation{StableRNGs.LehmerRNG, Descent}, __node::ReactiveMP.DeltaFnNode{typeof(identity), 1, ReactiveMP.FactorNodeLocalMarginals{Tuple{ReactiveMP.FactorNodeLocalMarginal, ReactiveMP.FactorNodeLocalMarginal}}, CVIApproximation{StableRNGs.LehmerRNG, Descent}})\n",
      "     @ ReactiveMP ~/repos/ReactiveMP.jl/src/rule.jl:637\n",
      "  [11] (::ReactiveMP.MarginalMapping{DeltaFn{ReactiveMP.DeltaFnCallableWrapper{typeof(identity)}}, DataType, DataType, Nothing, CVIApproximation{StableRNGs.LehmerRNG, Descent}, ReactiveMP.DeltaFnNode{typeof(identity), 1, ReactiveMP.FactorNodeLocalMarginals{Tuple{ReactiveMP.FactorNodeLocalMarginal, ReactiveMP.FactorNodeLocalMarginal}}, CVIApproximation{StableRNGs.LehmerRNG, Descent}}})(dependencies::Tuple{Tuple{ReactiveMP.MessageObservable{Message}, ReactiveMP.ManyOfObservable{Rocket.CombineLatestUpdatesObservable{Tuple{ReactiveMP.MessageObservable{Message}}, PushNew}}}, Nothing})\n",
      "     @ ReactiveMP ~/repos/ReactiveMP.jl/src/marginal.jl:193\n",
      "  [12] on_next!(actor::Rocket.MapActor{Tuple{Tuple{ReactiveMP.MessageObservable{Message}, ReactiveMP.ManyOfObservable{Rocket.CombineLatestUpdatesObservable{Tuple{ReactiveMP.MessageObservable{Message}}, PushNew}}}, Nothing}, Rocket.RecentSubjectInstance{Marginal, Subject{Marginal, AsapScheduler, AsapScheduler}}, ReactiveMP.MarginalMapping{DeltaFn{ReactiveMP.DeltaFnCallableWrapper{typeof(identity)}}, DataType, DataType, Nothing, CVIApproximation{StableRNGs.LehmerRNG, Descent}, ReactiveMP.DeltaFnNode{typeof(identity), 1, ReactiveMP.FactorNodeLocalMarginals{Tuple{ReactiveMP.FactorNodeLocalMarginal, ReactiveMP.FactorNodeLocalMarginal}}, CVIApproximation{StableRNGs.LehmerRNG, Descent}}}}, data::Tuple{Tuple{ReactiveMP.MessageObservable{Message}, ReactiveMP.ManyOfObservable{Rocket.CombineLatestUpdatesObservable{Tuple{ReactiveMP.MessageObservable{Message}}, PushNew}}}, Nothing})\n",
      "     @ Rocket ~/.julia/packages/Rocket/55Mjm/src/operators/map.jl:60\n",
      "  [13] next!\n",
      "     @ ~/.julia/packages/Rocket/55Mjm/src/actor.jl:206 [inlined]\n",
      "  [14] on_next!\n",
      "     @ ~/.julia/packages/Rocket/55Mjm/src/operators/discontinue.jl:67 [inlined]\n",
      "  [15] next!\n",
      "     @ ~/.julia/packages/Rocket/55Mjm/src/actor.jl:206 [inlined]\n",
      "  [16] next_received!\n",
      "     @ ~/.julia/packages/Rocket/55Mjm/src/observable/combined.jl:101 [inlined]\n",
      "  [17] on_next!\n",
      "     @ ~/.julia/packages/Rocket/55Mjm/src/observable/combined.jl:68 [inlined]\n",
      "  [18] next!\n",
      "     @ ~/.julia/packages/Rocket/55Mjm/src/actor.jl:206 [inlined]\n",
      "  [19] next_received!(wrapper::Rocket.CombineLatestUpdatesActorWrapper{Tuple{ReactiveMP.MessageObservable{Message}, ReactiveMP.ManyOfObservable{Rocket.CombineLatestUpdatesObservable{Tuple{ReactiveMP.MessageObservable{Message}}, PushNew}}}, Rocket.CombineLatestInnerActor{Tuple{ReactiveMP.MessageObservable{Message}, ReactiveMP.ManyOfObservable{Rocket.CombineLatestUpdatesObservable{Tuple{ReactiveMP.MessageObservable{Message}}, PushNew}}}, Rocket.CombineLatestActorWrapper{Rocket.MStorage2{Tuple{ReactiveMP.MessageObservable{Message}, ReactiveMP.ManyOfObservable{Rocket.CombineLatestUpdatesObservable{Tuple{ReactiveMP.MessageObservable{Message}}, PushNew}}}, Nothing}, Rocket.DiscontinueActor{Tuple{Tuple{ReactiveMP.MessageObservable{Message}, ReactiveMP.ManyOfObservable{Rocket.CombineLatestUpdatesObservable{Tuple{ReactiveMP.MessageObservable{Message}}, PushNew}}}, Nothing}, Rocket.MapActor{Tuple{Tuple{ReactiveMP.MessageObservable{Message}, ReactiveMP.ManyOfObservable{Rocket.CombineLatestUpdatesObservable{Tuple{ReactiveMP.MessageObservable{Message}}, PushNew}}}, Nothing}, Rocket.RecentSubjectInstance{Marginal, Subject{Marginal, AsapScheduler, AsapScheduler}}, ReactiveMP.MarginalMapping{DeltaFn{ReactiveMP.DeltaFnCallableWrapper{typeof(identity)}}, DataType, DataType, Nothing, CVIApproximation{StableRNGs.LehmerRNG, Descent}, ReactiveMP.DeltaFnNode{typeof(identity), 1, ReactiveMP.FactorNodeLocalMarginals{Tuple{ReactiveMP.FactorNodeLocalMarginal, ReactiveMP.FactorNodeLocalMarginal}}, CVIApproximation{StableRNGs.LehmerRNG, Descent}}}}}, PushNew, Rocket.UInt8UpdatesStatus}}, PushNew, Rocket.UInt8UpdatesStatus}, data::Message{NormalWeightedMeanPrecision{Float64}}, index::Int64)\n",
      "     @ Rocket ~/.julia/packages/Rocket/55Mjm/src/observable/combined_updates.jl:65\n",
      "  [20] on_next!\n",
      "     @ ~/.julia/packages/Rocket/55Mjm/src/observable/combined_updates.jl:34 [inlined]\n",
      "  [21] scheduled_next!(actor::Rocket.CombineLatestUpdatesInnerActor{Message, Rocket.CombineLatestUpdatesActorWrapper{Tuple{ReactiveMP.MessageObservable{Message}, ReactiveMP.ManyOfObservable{Rocket.CombineLatestUpdatesObservable{Tuple{ReactiveMP.MessageObservable{Message}}, PushNew}}}, Rocket.CombineLatestInnerActor{Tuple{ReactiveMP.MessageObservable{Message}, ReactiveMP.ManyOfObservable{Rocket.CombineLatestUpdatesObservable{Tuple{ReactiveMP.MessageObservable{Message}}, PushNew}}}, Rocket.CombineLatestActorWrapper{Rocket.MStorage2{Tuple{ReactiveMP.MessageObservable{Message}, ReactiveMP.ManyOfObservable{Rocket.CombineLatestUpdatesObservable{Tuple{ReactiveMP.MessageObservable{Message}}, PushNew}}}, Nothing}, Rocket.DiscontinueActor{Tuple{Tuple{ReactiveMP.MessageObservable{Message}, ReactiveMP.ManyOfObservable{Rocket.CombineLatestUpdatesObservable{Tuple{ReactiveMP.MessageObservable{Message}}, PushNew}}}, Nothing}, Rocket.MapActor{Tuple{Tuple{ReactiveMP.MessageObservable{Message}, ReactiveMP.ManyOfObservable{Rocket.CombineLatestUpdatesObservable{Tuple{ReactiveMP.MessageObservable{Message}}, PushNew}}}, Nothing}, Rocket.RecentSubjectInstance{Marginal, Subject{Marginal, AsapScheduler, AsapScheduler}}, ReactiveMP.MarginalMapping{DeltaFn{ReactiveMP.DeltaFnCallableWrapper{typeof(identity)}}, DataType, DataType, Nothing, CVIApproximation{StableRNGs.LehmerRNG, Descent}, ReactiveMP.DeltaFnNode{typeof(identity), 1, ReactiveMP.FactorNodeLocalMarginals{Tuple{ReactiveMP.FactorNodeLocalMarginal, ReactiveMP.FactorNodeLocalMarginal}}, CVIApproximation{StableRNGs.LehmerRNG, Descent}}}}}, PushNew, Rocket.UInt8UpdatesStatus}}, PushNew, Rocket.UInt8UpdatesStatus}}, value::Message{NormalWeightedMeanPrecision{Float64}}, #unused#::AsapScheduler)\n",
      "     @ Rocket ~/.julia/packages/Rocket/55Mjm/src/schedulers/asap.jl:23\n",
      "  [22] on_next!(subject::Subject{Message, AsapScheduler, AsapScheduler}, data::Message{NormalWeightedMeanPrecision{Float64}})\n",
      "     @ Rocket ~/.julia/packages/Rocket/55Mjm/src/subjects/subject.jl:62\n",
      "  [23] actor_on_next!\n",
      "     @ ~/.julia/packages/Rocket/55Mjm/src/actor.jl:250 [inlined]\n",
      "  [24] next!\n",
      "     @ ~/.julia/packages/Rocket/55Mjm/src/actor.jl:202 [inlined]\n",
      "  [25] on_next!\n",
      "     @ ~/.julia/packages/Rocket/55Mjm/src/subjects/recent.jl:62 [inlined]\n",
      "  [26] actor_on_next!\n",
      "     @ ~/.julia/packages/Rocket/55Mjm/src/actor.jl:250 [inlined]\n",
      "  [27] next!(actor::Rocket.RecentSubjectInstance{Message, Subject{Message, AsapScheduler, AsapScheduler}}, data::Message{NormalWeightedMeanPrecision{Float64}})\n",
      "     @ Rocket ~/.julia/packages/Rocket/55Mjm/src/actor.jl:202\n",
      "  [28] on_next!(actor::Rocket.MapActor{Tuple{SingleObservable{Missing, AsapScheduler}, LazyObservable{Missing}}, Rocket.RecentSubjectInstance{Message, Subject{Message, AsapScheduler, AsapScheduler}}, ReactiveMP.ChainOutboundMapping}, data::Tuple{SingleObservable{Missing, AsapScheduler}, LazyObservable{Missing}})\n",
      "     @ Rocket ~/.julia/packages/Rocket/55Mjm/src/operators/map.jl:60\n",
      "  [29] next!\n",
      "     @ ~/.julia/packages/Rocket/55Mjm/src/actor.jl:206 [inlined]\n",
      "  [30] next_received!\n",
      "     @ ~/.julia/packages/Rocket/55Mjm/src/observable/combined_updates.jl:65 [inlined]\n",
      "  [31] on_next!\n",
      "     @ ~/.julia/packages/Rocket/55Mjm/src/observable/combined_updates.jl:34 [inlined]\n",
      "  [32] scheduled_next!(actor::Rocket.CombineLatestUpdatesInnerActor{Missing, Rocket.CombineLatestUpdatesActorWrapper{Tuple{SingleObservable{Missing, AsapScheduler}, LazyObservable{Missing}}, Rocket.MapActor{Tuple{SingleObservable{Missing, AsapScheduler}, LazyObservable{Missing}}, Rocket.RecentSubjectInstance{Message, Subject{Message, AsapScheduler, AsapScheduler}}, ReactiveMP.ChainOutboundMapping}, PushNew, Rocket.UInt8UpdatesStatus}}, value::Missing, #unused#::AsapScheduler)\n",
      "     @ Rocket ~/.julia/packages/Rocket/55Mjm/src/schedulers/asap.jl:23\n",
      "  [33] on_next!(subject::Subject{Missing, AsapScheduler, AsapScheduler}, data::Missing)\n",
      "     @ Rocket ~/.julia/packages/Rocket/55Mjm/src/subjects/subject.jl:62\n",
      "  [34] actor_on_next!\n",
      "     @ ~/.julia/packages/Rocket/55Mjm/src/actor.jl:250 [inlined]\n",
      "  [35] next!\n",
      "     @ ~/.julia/packages/Rocket/55Mjm/src/actor.jl:202 [inlined]\n",
      "  [36] on_next!\n",
      "     @ ~/.julia/packages/Rocket/55Mjm/src/subjects/recent.jl:62 [inlined]\n",
      "  [37] actor_on_next!\n",
      "     @ ~/.julia/packages/Rocket/55Mjm/src/actor.jl:250 [inlined]\n",
      "  [38] next!\n",
      "     @ ~/.julia/packages/Rocket/55Mjm/src/actor.jl:202 [inlined]\n",
      "  [39] on_next!\n",
      "     @ ~/.julia/packages/Rocket/55Mjm/src/operators/map.jl:60 [inlined]\n",
      "--- the last 11 lines are repeated 9 more times ---\n",
      " [139] next!\n",
      "     @ ~/.julia/packages/Rocket/55Mjm/src/actor.jl:206 [inlined]\n",
      " [140] next_received!\n",
      "     @ ~/.julia/packages/Rocket/55Mjm/src/observable/combined_updates.jl:65 [inlined]\n",
      " [141] on_next!\n",
      "     @ ~/.julia/packages/Rocket/55Mjm/src/observable/combined_updates.jl:34 [inlined]\n",
      " [142] scheduled_next!(actor::Rocket.CombineLatestUpdatesInnerActor{AbstractMessage, Rocket.CombineLatestUpdatesActorWrapper{Tuple{SingleObservable{Missing, AsapScheduler}, ProxyObservable{AbstractMessage, Rocket.RefCountSource{AbstractMessage, ConnectableObservable{AbstractMessage, Rocket.RecentSubjectInstance{AbstractMessage, Subject{AbstractMessage, AsapScheduler, AsapScheduler}}, ProxyObservable{AbstractMessage, ReactiveMP.MessageObservable{AbstractMessage}, Rocket.TapProxy{ReactiveMP.ChainInvalidationCallback}}}}, Rocket.RefCountProxy}}, Rocket.MapActor{Tuple{SingleObservable{Missing, AsapScheduler}, ProxyObservable{AbstractMessage, Rocket.RefCountSource{AbstractMessage, ConnectableObservable{AbstractMessage, Rocket.RecentSubjectInstance{AbstractMessage, Subject{AbstractMessage, AsapScheduler, AsapScheduler}}, ProxyObservable{AbstractMessage, ReactiveMP.MessageObservable{AbstractMessage}, Rocket.TapProxy{ReactiveMP.ChainInvalidationCallback}}}}, Rocket.RefCountProxy}}, Rocket.RecentSubjectInstance{Missing, Subject{Missing, AsapScheduler, AsapScheduler}}, Rocket.var\"#168#169\"{Missing}}, PushNew, Rocket.UInt8UpdatesStatus}}, value::VariationalMessage{Nothing, Tuple{ProxyObservable{Marginal, Rocket.RecentSubjectInstance{Message{PointMass{Float64}}, Subject{Message{PointMass{Float64}}, AsapScheduler, AsapScheduler}}, Rocket.MapProxy{Message{PointMass{Float64}}, typeof(as_marginal)}}, SingleObservable{Marginal{PointMass{Float64}}, AsapScheduler}}, ReactiveMP.MessageMapping{NormalMeanVariance, DataType, Marginalisation, Nothing, DataType, Nothing, FactorNode{Type{NormalMeanVariance}, Tuple{NodeInterface, NodeInterface, NodeInterface}, Tuple{Tuple{Int64}, Tuple{Int64}, Tuple{Int64}}, ReactiveMP.FactorNodeLocalMarginals{Tuple{ReactiveMP.FactorNodeLocalMarginal, ReactiveMP.FactorNodeLocalMarginal, ReactiveMP.FactorNodeLocalMarginal}}, Nothing, ReactiveMP.FactorNodePipeline{DefaultFunctionalDependencies, EmptyPipelineStage}}}}, #unused#::AsapScheduler)\n",
      "     @ Rocket ~/.julia/packages/Rocket/55Mjm/src/schedulers/asap.jl:23\n",
      " [143] on_next!(subject::Subject{AbstractMessage, AsapScheduler, AsapScheduler}, data::VariationalMessage{Nothing, Tuple{ProxyObservable{Marginal, Rocket.RecentSubjectInstance{Message{PointMass{Float64}}, Subject{Message{PointMass{Float64}}, AsapScheduler, AsapScheduler}}, Rocket.MapProxy{Message{PointMass{Float64}}, typeof(as_marginal)}}, SingleObservable{Marginal{PointMass{Float64}}, AsapScheduler}}, ReactiveMP.MessageMapping{NormalMeanVariance, DataType, Marginalisation, Nothing, DataType, Nothing, FactorNode{Type{NormalMeanVariance}, Tuple{NodeInterface, NodeInterface, NodeInterface}, Tuple{Tuple{Int64}, Tuple{Int64}, Tuple{Int64}}, ReactiveMP.FactorNodeLocalMarginals{Tuple{ReactiveMP.FactorNodeLocalMarginal, ReactiveMP.FactorNodeLocalMarginal, ReactiveMP.FactorNodeLocalMarginal}}, Nothing, ReactiveMP.FactorNodePipeline{DefaultFunctionalDependencies, EmptyPipelineStage}}}})\n",
      "     @ Rocket ~/.julia/packages/Rocket/55Mjm/src/subjects/subject.jl:62\n",
      " [144] actor_on_next!\n",
      "     @ ~/.julia/packages/Rocket/55Mjm/src/actor.jl:250 [inlined]\n",
      " [145] next!\n",
      "     @ ~/.julia/packages/Rocket/55Mjm/src/actor.jl:202 [inlined]\n",
      " [146] on_next!\n",
      "     @ ~/.julia/packages/Rocket/55Mjm/src/subjects/recent.jl:62 [inlined]\n",
      " [147] actor_on_next!\n",
      "     @ ~/.julia/packages/Rocket/55Mjm/src/actor.jl:250 [inlined]\n",
      " [148] next!\n",
      "     @ ~/.julia/packages/Rocket/55Mjm/src/actor.jl:202 [inlined]\n",
      " [149] on_next!\n",
      "     @ ~/.julia/packages/Rocket/55Mjm/src/operators/tap.jl:63 [inlined]\n",
      " [150] scheduled_next!(actor::Rocket.TapActor{AbstractMessage, Rocket.RecentSubjectInstance{AbstractMessage, Subject{AbstractMessage, AsapScheduler, AsapScheduler}}, ReactiveMP.ChainInvalidationCallback}, value::VariationalMessage{Nothing, Tuple{ProxyObservable{Marginal, Rocket.RecentSubjectInstance{Message{PointMass{Float64}}, Subject{Message{PointMass{Float64}}, AsapScheduler, AsapScheduler}}, Rocket.MapProxy{Message{PointMass{Float64}}, typeof(as_marginal)}}, SingleObservable{Marginal{PointMass{Float64}}, AsapScheduler}}, ReactiveMP.MessageMapping{NormalMeanVariance, DataType, Marginalisation, Nothing, DataType, Nothing, FactorNode{Type{NormalMeanVariance}, Tuple{NodeInterface, NodeInterface, NodeInterface}, Tuple{Tuple{Int64}, Tuple{Int64}, Tuple{Int64}}, ReactiveMP.FactorNodeLocalMarginals{Tuple{ReactiveMP.FactorNodeLocalMarginal, ReactiveMP.FactorNodeLocalMarginal, ReactiveMP.FactorNodeLocalMarginal}}, Nothing, ReactiveMP.FactorNodePipeline{DefaultFunctionalDependencies, EmptyPipelineStage}}}}, #unused#::AsapScheduler)\n",
      "     @ Rocket ~/.julia/packages/Rocket/55Mjm/src/schedulers/asap.jl:23\n",
      " [151] on_next!(subject::Subject{AbstractMessage, AsapScheduler, AsapScheduler}, data::VariationalMessage{Nothing, Tuple{ProxyObservable{Marginal, Rocket.RecentSubjectInstance{Message{PointMass{Float64}}, Subject{Message{PointMass{Float64}}, AsapScheduler, AsapScheduler}}, Rocket.MapProxy{Message{PointMass{Float64}}, typeof(as_marginal)}}, SingleObservable{Marginal{PointMass{Float64}}, AsapScheduler}}, ReactiveMP.MessageMapping{NormalMeanVariance, DataType, Marginalisation, Nothing, DataType, Nothing, FactorNode{Type{NormalMeanVariance}, Tuple{NodeInterface, NodeInterface, NodeInterface}, Tuple{Tuple{Int64}, Tuple{Int64}, Tuple{Int64}}, ReactiveMP.FactorNodeLocalMarginals{Tuple{ReactiveMP.FactorNodeLocalMarginal, ReactiveMP.FactorNodeLocalMarginal, ReactiveMP.FactorNodeLocalMarginal}}, Nothing, ReactiveMP.FactorNodePipeline{DefaultFunctionalDependencies, EmptyPipelineStage}}}})\n",
      "     @ Rocket ~/.julia/packages/Rocket/55Mjm/src/subjects/subject.jl:62\n",
      " [152] actor_on_next!\n",
      "     @ ~/.julia/packages/Rocket/55Mjm/src/actor.jl:250 [inlined]\n",
      " [153] next!\n",
      "     @ ~/.julia/packages/Rocket/55Mjm/src/actor.jl:202 [inlined]\n",
      " [154] on_next!\n",
      "     @ ~/.julia/packages/Rocket/55Mjm/src/subjects/recent.jl:62 [inlined]\n",
      " [155] actor_on_next!\n",
      "     @ ~/.julia/packages/Rocket/55Mjm/src/actor.jl:250 [inlined]\n",
      " [156] next!\n",
      "     @ ~/.julia/packages/Rocket/55Mjm/src/actor.jl:202 [inlined]\n",
      " [157] on_next!\n",
      "     @ ~/.julia/packages/Rocket/55Mjm/src/operators/map.jl:60 [inlined]\n",
      " [158] next!\n",
      "     @ ~/.julia/packages/Rocket/55Mjm/src/actor.jl:206 [inlined]\n",
      " [159] next_received!\n",
      "     @ ~/.julia/packages/Rocket/55Mjm/src/observable/combined.jl:101 [inlined]\n",
      " [160] on_next!\n",
      "     @ ~/.julia/packages/Rocket/55Mjm/src/observable/combined.jl:68 [inlined]\n",
      " [161] next!\n",
      "     @ ~/.julia/packages/Rocket/55Mjm/src/actor.jl:206 [inlined]\n",
      " [162] next_received!\n",
      "     @ ~/.julia/packages/Rocket/55Mjm/src/observable/combined_updates.jl:65 [inlined]\n",
      " [163] on_next!\n",
      "     @ ~/.julia/packages/Rocket/55Mjm/src/observable/combined_updates.jl:34 [inlined]\n",
      " [164] next!\n",
      "     @ ~/.julia/packages/Rocket/55Mjm/src/actor.jl:206 [inlined]\n",
      " [165] on_next!\n",
      "     @ ~/.julia/packages/Rocket/55Mjm/src/operators/map.jl:60 [inlined]\n",
      " [166] scheduled_next!(actor::Rocket.MapActor{Message{PointMass{Float64}}, Rocket.CombineLatestUpdatesInnerActor{Marginal, Rocket.CombineLatestUpdatesActorWrapper{Tuple{ProxyObservable{Marginal, Rocket.RecentSubjectInstance{Message{PointMass{Float64}}, Subject{Message{PointMass{Float64}}, AsapScheduler, AsapScheduler}}, Rocket.MapProxy{Message{PointMass{Float64}}, typeof(as_marginal)}}, SingleObservable{Marginal{PointMass{Float64}}, AsapScheduler}}, Rocket.CombineLatestInnerActor{Tuple{ProxyObservable{Marginal, Rocket.RecentSubjectInstance{Message{PointMass{Float64}}, Subject{Message{PointMass{Float64}}, AsapScheduler, AsapScheduler}}, Rocket.MapProxy{Message{PointMass{Float64}}, typeof(as_marginal)}}, SingleObservable{Marginal{PointMass{Float64}}, AsapScheduler}}, Rocket.CombineLatestActorWrapper{Rocket.MStorage2{Nothing, Tuple{ProxyObservable{Marginal, Rocket.RecentSubjectInstance{Message{PointMass{Float64}}, Subject{Message{PointMass{Float64}}, AsapScheduler, AsapScheduler}}, Rocket.MapProxy{Message{PointMass{Float64}}, typeof(as_marginal)}}, SingleObservable{Marginal{PointMass{Float64}}, AsapScheduler}}}, Rocket.MapActor{Tuple{Nothing, Tuple{ProxyObservable{Marginal, Rocket.RecentSubjectInstance{Message{PointMass{Float64}}, Subject{Message{PointMass{Float64}}, AsapScheduler, AsapScheduler}}, Rocket.MapProxy{Message{PointMass{Float64}}, typeof(as_marginal)}}, SingleObservable{Marginal{PointMass{Float64}}, AsapScheduler}}}, Rocket.RecentSubjectInstance{AbstractMessage, Subject{AbstractMessage, AsapScheduler, AsapScheduler}}, ReactiveMP.var\"#367#368\"{ReactiveMP.MessageMapping{NormalMeanVariance, DataType, Marginalisation, Nothing, DataType, Nothing, FactorNode{Type{NormalMeanVariance}, Tuple{NodeInterface, NodeInterface, NodeInterface}, Tuple{Tuple{Int64}, Tuple{Int64}, Tuple{Int64}}, ReactiveMP.FactorNodeLocalMarginals{Tuple{ReactiveMP.FactorNodeLocalMarginal, ReactiveMP.FactorNodeLocalMarginal, ReactiveMP.FactorNodeLocalMarginal}}, Nothing, ReactiveMP.FactorNodePipeline{DefaultFunctionalDependencies, EmptyPipelineStage}}}}}, PushNew, Rocket.UInt8UpdatesStatus}}, PushNew, Rocket.UInt8UpdatesStatus}}, typeof(as_marginal)}, value::Message{PointMass{Float64}}, #unused#::AsapScheduler)\n",
      "     @ Rocket ~/.julia/packages/Rocket/55Mjm/src/schedulers/asap.jl:23\n",
      " [167] on_next!(subject::Subject{Message{PointMass{Float64}}, AsapScheduler, AsapScheduler}, data::Message{PointMass{Float64}})\n",
      "     @ Rocket ~/.julia/packages/Rocket/55Mjm/src/subjects/subject.jl:62\n",
      " [168] actor_on_next!\n",
      "     @ ~/.julia/packages/Rocket/55Mjm/src/actor.jl:250 [inlined]\n",
      " [169] next!\n",
      "     @ ~/.julia/packages/Rocket/55Mjm/src/actor.jl:202 [inlined]\n",
      " [170] on_next!\n",
      "     @ ~/.julia/packages/Rocket/55Mjm/src/subjects/recent.jl:62 [inlined]\n",
      " [171] actor_on_next!\n",
      "     @ ~/.julia/packages/Rocket/55Mjm/src/actor.jl:250 [inlined]\n",
      " [172] next!\n",
      "     @ ~/.julia/packages/Rocket/55Mjm/src/actor.jl:202 [inlined]\n",
      " [173] update!\n",
      "     @ ~/repos/ReactiveMP.jl/src/variables/data.jl:145 [inlined]\n",
      " [174] update!\n",
      "     @ ~/repos/ReactiveMP.jl/src/variables/data.jl:120 [inlined]\n",
      " [175] #188\n",
      "     @ ~/repos/ReactiveMP.jl/src/variables/data.jl:155 [inlined]\n",
      " [176] foreach(f::ReactiveMP.var\"#188#189\", itr::Base.Iterators.Zip{Tuple{Vector{DataVariable{PointMass{Float64}, Rocket.RecentSubjectInstance{Message{PointMass{Float64}}, Subject{Message{PointMass{Float64}}, AsapScheduler, AsapScheduler}}}}, Vector{Float64}}})\n",
      "     @ Base ./abstractarray.jl:2774\n",
      " [177] update!(datavars::Vector{DataVariable{PointMass{Float64}, Rocket.RecentSubjectInstance{Message{PointMass{Float64}}, Subject{Message{PointMass{Float64}}, AsapScheduler, AsapScheduler}}}}, data::Vector{Float64})\n",
      "     @ ReactiveMP ~/repos/ReactiveMP.jl/src/variables/data.jl:154\n",
      " [178] inference(; model::ReactiveMP.ModelGenerator{normal_with_beta_mean, Tuple{Int64, StableRNGs.LehmerRNG, Int64, Int64, Float64}, Base.Pairs{Symbol, Union{}, Tuple{}, NamedTuple{(), Tuple{}}}, Nothing, Nothing, Nothing}, data::NamedTuple{(:observations,), Tuple{Vector{Float64}}}, initmarginals::Nothing, initmessages::NamedTuple{(:beta,), Tuple{Beta{Float64}}}, constraints::Nothing, meta::Nothing, options::NamedTuple{(), Tuple{}}, returnvars::NamedTuple{(:beta,), Tuple{KeepLast}}, iterations::Int64, free_energy::Bool, free_energy_diagnostics::Tuple{BetheFreeEnergyCheckNaNs, BetheFreeEnergyCheckInfs}, showprogress::Bool, callbacks::Nothing, warn::Bool)\n",
      "     @ ReactiveMP ~/repos/ReactiveMP.jl/src/inference.jl:435"
     ]
    }
   ],
   "source": []
  },
  {
   "cell_type": "code",
   "execution_count": null,
   "metadata": {},
   "outputs": [],
   "source": []
  }
 ],
 "metadata": {
  "kernelspec": {
   "display_name": "Julia 1.8.2",
   "language": "julia",
   "name": "julia-1.8"
  },
  "language_info": {
   "file_extension": ".jl",
   "mimetype": "application/julia",
   "name": "julia",
   "version": "1.8.2"
  },
  "orig_nbformat": 4
 },
 "nbformat": 4,
 "nbformat_minor": 2
}
