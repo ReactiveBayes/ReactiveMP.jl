{
 "cells": [
  {
   "cell_type": "markdown",
   "metadata": {},
   "source": [
    "In this example the goal is to estimate hidden states of a Dynamical process where all hidden states are Gaussians. Our process can be described with the following equations:\n",
    "\n",
    "$$\n",
    "\\begin{aligned}\n",
    " p(\\tau) & = \\text{GammaShapeRate}(\\alpha_{1}, \\beta_{1}),\\\\\n",
    " p(\\theta) & = \\text{GammaShapeRate}(\\alpha_{2}, \\beta_{2}),\\\\\n",
    " p(z_i|z_{i - 1}) & = \\mathcal{N}(x_i| z_{i - 1} + 1, \\tau),\\\\\n",
    " p(y_i|z_i) & = \\mathcal{N}(y_i|(z_i - s)^2, \\theta),\n",
    "\\end{aligned}\n",
    "$$\n",
    "\n",
    "where $z_i$ are hidden states, $y_i$ are noisy nonlinear observations, $\\tau$, and $\\theta$ are priors for state transition noise and observation noise precision, respectively.\n",
    "\n",
    "To model this process in `ReactiveMP`, first, we start with importing all needed packages:"
   ]
  },
  {
   "cell_type": "code",
   "execution_count": 1,
   "metadata": {},
   "outputs": [
    {
     "name": "stderr",
     "output_type": "stream",
     "text": [
      "┌ Info: Precompiling ReactiveMP [a194aa59-28ba-4574-a09c-4a745416d6e3]\n",
      "└ @ Base loading.jl:1664\n"
     ]
    }
   ],
   "source": [
    "using ReactiveMP, Rocket, GraphPPL, Random, LinearAlgebra, Plots, Flux, ForwardDiff, Plots"
   ]
  },
  {
   "cell_type": "markdown",
   "metadata": {},
   "source": [
    "Next step, is to generate some synthetic data:"
   ]
  },
  {
   "cell_type": "code",
   "execution_count": null,
   "metadata": {},
   "outputs": [],
   "source": [
    "seed = 123\n",
    "\n",
    "rng = MersenneTwister(seed)\n",
    "\n",
    "P = 5\n",
    "sensor_var = 5\n",
    "\n",
    "# For large `n` apply: smoothing(model_options(limit_stack_depth = 500), ...)\n",
    "T = 50\n",
    "\n",
    "sensor_location = 53\n",
    "\n",
    "hidden = collect(1:T)\n",
    "data   = (hidden + rand(rng, NormalMeanVariance(0.0, sqrt(P)), T));\n",
    "transformed = (data .- sensor_location).^2 + rand(rng, NormalMeanVariance(0.0, sensor_var), T);"
   ]
  },
  {
   "cell_type": "markdown",
   "metadata": {},
   "source": [
    "Let's plot our synthetic dataset. \n",
    "The blue line represents our hidden state we want to estimate using noisy observations, \n",
    "which are represented as dots."
   ]
  },
  {
   "cell_type": "code",
   "execution_count": null,
   "metadata": {},
   "outputs": [],
   "source": [
    "px = plot()\n",
    "\n",
    "px = plot!(px, hidden, label = \"Hidden Signal\", color = :blue)\n",
    "px = scatter!(px, transformed, label = \"Non linear observations\", markersize = 2, color = :orange)\n",
    "\n",
    "plot(px)"
   ]
  },
  {
   "cell_type": "markdown",
   "metadata": {},
   "source": [
    "To create a model we use `GraphPPL` package and `@model` macro:"
   ]
  },
  {
   "cell_type": "code",
   "execution_count": null,
   "metadata": {},
   "outputs": [],
   "source": [
    "function f(z)\n",
    "    (z - sensor_location)^2\n",
    "end\n",
    "\n",
    "@model function sensor_based_observation(T, n_iterations, n_samples, learning_rate)\n",
    "\n",
    "    z = randomvar(T)\n",
    "    x = randomvar(T)\n",
    "    y = datavar(Float64, T)\n",
    "\n",
    "    τ ~ GammaShapeRate(1.0, 1.0e-12)\n",
    "    θ ~ GammaShapeRate(1.0, 1.0e-12)\n",
    "    \n",
    "    z[1] ~ NormalMeanPrecision(0, τ)\n",
    "    x[1] ~ f(z[1]) where {meta = CVIApproximation(n_iterations, n_samples, Descent(learning_rate))}\n",
    "    y[1] ~ NormalMeanPrecision(x[1], θ)\n",
    "\n",
    "    for t in 2:T\n",
    "        z[t] ~ NormalMeanPrecision(z[t-1] + 1, τ)\n",
    "        x[t] ~ f(z[t]) where {meta = CVIApproximation(n_iterations, n_samples, Descent(learning_rate))}\n",
    "        y[t] ~ NormalMeanPrecision(x[t], θ)\n",
    "    end\n",
    "\n",
    "    return z, x, y\n",
    "end\n",
    "\n",
    "constraints = @constraints begin\n",
    "    q(z, x, τ, θ) = q(z)q(x)q(τ)q(θ)\n",
    "end;"
   ]
  },
  {
   "cell_type": "markdown",
   "metadata": {},
   "source": [
    "To run inference we will use `inference` function from `ReactiveMP`.\n",
    "Note, that for running inference for this model we need to init marginals for z, $\\theta$, $\\tau$, and init z messages."
   ]
  },
  {
   "cell_type": "code",
   "execution_count": null,
   "metadata": {},
   "outputs": [],
   "source": [
    "res = inference(\n",
    "    model = Model(sensor_based_observation, T, 1000, 2000, 0.1),\n",
    "    data = (y = transformed,),\n",
    "    iterations = 100,\n",
    "    free_energy = false,\n",
    "    returnvars = (z = KeepLast(),),\n",
    "    constraints = constraints,\n",
    "    initmessages = (z = NormalMeanVariance(0, P),),\n",
    "    initmarginals = (z = NormalMeanVariance(0, P), τ = GammaShapeRate(1.0, 1.0e-12), θ = GammaShapeRate(1.0, 1.0e-12),),\n",
    ")"
   ]
  },
  {
   "cell_type": "code",
   "execution_count": null,
   "metadata": {},
   "outputs": [],
   "source": [
    "px = plot()\n",
    "\n",
    "px = plot!(px,  hidden, label = \"Hidden Signal\", color = :red)\n",
    "px = plot!(px,  map(mean, res.posteriors[:z]), label = \"Estimated signal location\", color = :orange)\n",
    "px = plot!(px,  map(mean, res.posteriors[:z]), ribbon = std.(9 .* res.posteriors[:z]).|> sqrt, fillalpha = 0.5, label = \"Estimated Signal confidence\", color = :blue)\n",
    "\n",
    "\n",
    "plot(px)"
   ]
  }
 ],
 "metadata": {
  "kernelspec": {
   "display_name": "Julia 1.8.2",
   "language": "julia",
   "name": "julia-1.8"
  },
  "language_info": {
   "file_extension": ".jl",
   "mimetype": "application/julia",
   "name": "julia",
   "version": "1.8.2"
  }
 },
 "nbformat": 4,
 "nbformat_minor": 4
}
