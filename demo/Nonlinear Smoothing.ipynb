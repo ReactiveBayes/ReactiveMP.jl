{
 "cells": [
  {
   "cell_type": "code",
   "execution_count": 1,
   "metadata": {},
   "outputs": [
    {
     "name": "stderr",
     "output_type": "stream",
     "text": [
      "┌ Info: Precompiling ReactiveMP [a194aa59-28ba-4574-a09c-4a745416d6e3]\n",
      "└ @ Base loading.jl:1662\n"
     ]
    }
   ],
   "source": [
    "using GraphPPL, ReactiveMP, Distributions\n",
    "# using Plots"
   ]
  },
  {
   "cell_type": "code",
   "execution_count": 16,
   "metadata": {},
   "outputs": [],
   "source": [
    "function f(x)\n",
    "    return x\n",
    "end\n",
    "\n",
    "function f_inv(x)\n",
    "    return x\n",
    "end\n",
    "\n",
    "c = randn(2);\n",
    "\n",
    "@model function NKS()\n",
    "    y2 = datavar(Float64)\n",
    "    c = zeros(2); c[1] = 1.0;\n",
    "\n",
    "    # γ ~ Gamma(α=1.0, β=1.0)\n",
    "    x ~ MvNormal(μ=zeros(2), Λ=diageye(2))\n",
    "    z ~ f(x) where {meta=ET(f_inv)}\n",
    "    y1 ~ Normal(μ=dot(z, c), σ²=1.0)\n",
    "    y2 ~ Normal(μ=y1, σ²=0.5)\n",
    "end"
   ]
  },
  {
   "cell_type": "code",
   "execution_count": 17,
   "metadata": {},
   "outputs": [
    {
     "name": "stdout",
     "output_type": "stream",
     "text": [
      "\"out\" = \"out\"\n",
      "f(ones(2)) = [1.0, 1.0]\n",
      "\"in\" = \"in\"\n"
     ]
    },
    {
     "data": {
      "text/plain": [
       "Inference results:\n",
       "-----------------------------------------\n",
       "y1 = NormalWeightedMeanPrecision{Float64}(xi=2.0, w=2.5)\n",
       "x  = MvNormalWeightedMeanPrecision(\n",
       "xi: [0.6666666666666665, 0.0]\n",
       "Λ: [1.6666666666676...\n"
      ]
     },
     "execution_count": 17,
     "metadata": {},
     "output_type": "execute_result"
    }
   ],
   "source": [
    "imarginals = (x = MvNormal(zeros(2), diageye(2)), )\n",
    "\n",
    "result = inference(model = Model(NKS), data=(y2=1.0,), free_energy=false)"
   ]
  },
  {
   "cell_type": "code",
   "execution_count": 18,
   "metadata": {},
   "outputs": [],
   "source": [
    "function f(x, θ)\n",
    "    return x .+ θ\n",
    "end\n",
    "\n",
    "function f_inv_x(x)\n",
    "    return randn(length(θ))\n",
    "end\n",
    "\n",
    "function f_inv_θ(x)\n",
    "    return randn(length(x))\n",
    "end\n",
    "\n",
    "c = randn(2);\n",
    "\n",
    "@model function NKS()\n",
    "    y2 = datavar(Float64)\n",
    "    c = zeros(2); c[1] = 1.0;\n",
    "\n",
    "    θ ~ MvNormal(μ=ones(2), Λ=diageye(2))\n",
    "    x ~ MvNormal(μ=zeros(2), Λ=diageye(2))\n",
    "    z ~ f(x, θ) where {meta=ET([f_inv_x, f_inv_θ])}\n",
    "    y1 ~ Normal(μ=dot(z, c), σ²=1.0)\n",
    "    y2 ~ Normal(μ=y1, σ²=0.5)\n",
    "end"
   ]
  },
  {
   "cell_type": "code",
   "execution_count": 18,
   "metadata": {},
   "outputs": [
    {
     "data": {
      "text/plain": [
       "([0.39999999999975994, 0.0], [0.59999999999964 -0.0; -0.0 0.9999999999989999])"
      ]
     },
     "execution_count": 18,
     "metadata": {},
     "output_type": "execute_result"
    }
   ],
   "source": [
    "mean_cov(result.posteriors[:x])"
   ]
  },
  {
   "cell_type": "code",
   "execution_count": 47,
   "metadata": {},
   "outputs": [
    {
     "data": {
      "text/plain": [
       "Inference results:\n",
       "-----------------------------------------\n",
       "x = NormalWeightedMeanPrecision{Float64}(xi=6400.0, w=3200.01)\n"
      ]
     },
     "execution_count": 47,
     "metadata": {},
     "output_type": "execute_result"
    }
   ],
   "source": [
    "function g(x)\n",
    "    return x^2\n",
    "end\n",
    "\n",
    "function g_inv(x)\n",
    "    return sqrt(x)\n",
    "end\n",
    "\n",
    "@model function NKS2(n)\n",
    "    y = datavar(Float64, n)\n",
    "\n",
    "    # γ ~ Gamma(α=1.0, β=1.0)\n",
    "    x ~ Normal(μ = 0.0, var = 100)\n",
    "    z ~ g(x) where { meta = ET(g_inv) }\n",
    "    \n",
    "    y .~ Normal(μ = z, var = 0.5)\n",
    "end\n",
    "\n",
    "# constraints = @constraints begin\n",
    "#     q(x, γ) = q(x)q(γ)\n",
    "# end\n",
    "\n",
    "# imarginals = (x = MvNormal(zeros(2), diageye(2)), γ=Gamma(1.0, 1.0))\n",
    "\n",
    "result = inference(model = Model(NKS2, 100), data=(y = 4 * ones(100),), free_energy=false)"
   ]
  },
  {
   "cell_type": "code",
   "execution_count": 48,
   "metadata": {},
   "outputs": [
    {
     "data": {
      "text/plain": [
       "(1.999993750019531, 0.00031249902344055174)"
      ]
     },
     "execution_count": 48,
     "metadata": {},
     "output_type": "execute_result"
    }
   ],
   "source": [
    "mean_var(result.posteriors[:x])"
   ]
  },
  {
   "cell_type": "code",
   "execution_count": null,
   "metadata": {},
   "outputs": [],
   "source": []
  }
 ],
 "metadata": {
  "kernelspec": {
   "display_name": "Julia 1.8.0",
   "language": "julia",
   "name": "julia-1.8"
  },
  "language_info": {
   "file_extension": ".jl",
   "mimetype": "application/julia",
   "name": "julia",
   "version": "1.8.0"
  },
  "vscode": {
   "interpreter": {
    "hash": "710c76191172b975d1d33be1d5093237cafe810cb28a8dbc312172629a6fab15"
   }
  }
 },
 "nbformat": 4,
 "nbformat_minor": 4
}
