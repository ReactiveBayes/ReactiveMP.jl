{
 "cells": [
  {
   "cell_type": "code",
   "execution_count": 1,
   "metadata": {},
   "outputs": [
    {
     "name": "stderr",
     "output_type": "stream",
     "text": [
      "┌ Info: Precompiling ReactiveMP [a194aa59-28ba-4574-a09c-4a745416d6e3]\n",
      "└ @ Base loading.jl:1662\n"
     ]
    }
   ],
   "source": [
    "using GraphPPL, ReactiveMP, Distributions\n",
    "using Plots"
   ]
  },
  {
   "cell_type": "code",
   "execution_count": 2,
   "metadata": {},
   "outputs": [],
   "source": [
    "# Generate toy dataset\n",
    "T = 15\n",
    "x_0_data = 0.6\n",
    "a_data = 1.2\n",
    "\n",
    "x_data = Vector{Float64}(undef, T)\n",
    "y_data = Vector{Float64}(undef, T)\n",
    "\n",
    "x_t_min_data = x_0_data\n",
    "for t=1:T\n",
    "    x_data[t] = a_data*x_t_min_data\n",
    "    y_data[t] = ceil(x_data[t])\n",
    "    \n",
    "    x_t_min_data = x_data[t]\n",
    "end    \n",
    ";"
   ]
  },
  {
   "cell_type": "code",
   "execution_count": 3,
   "metadata": {},
   "outputs": [],
   "source": [
    "# Specify forward transition\n",
    "f(x_t_min::Float64, a::Float64) = a*x_t_min\n",
    "\n",
    "\n",
    "@model function NKS(n)\n",
    "    o = datavar(Float64, n)\n",
    "    z = randomvar(n)\n",
    "    a = randomvar(n)\n",
    "\n",
    "    z_0 ~ Normal(μ=0.0, γ=1.0)\n",
    "    z_prev = z_0\n",
    "    for i in 1:n\n",
    "        a[i] ~ Normal(μ=1.0, γ=2.0)\n",
    "        z[i] ~ f(z_prev, a[i]) where {meta=UT()}\n",
    "        o[i] ~ Normal(μ=z[i], σ²=0.2)\n",
    "\n",
    "        z_prev = z[i]\n",
    "    end\n",
    "end"
   ]
  },
  {
   "cell_type": "code",
   "execution_count": 4,
   "metadata": {},
   "outputs": [
    {
     "name": "stdout",
     "output_type": "stream",
     "text": [
      "\"called marginal\" = \"called marginal\"\n",
      "(μ_in, Σ_in) = mean_cov(q_ins) = ([8.004174031576499, 1.2481783026629607], [10.0406171356769 39.959262791877606; 39.959262791877606 321.34853658074485])\n",
      "\"called marginal\" = \"called marginal\"\n",
      "(μ_in, Σ_in) = mean_cov(q_ins) = ([6.997053779840293, 1.1441029022073625], [5.114224414397199 0.4121934784689934; 0.4121934784689934 4.88077750898616])\n",
      "\"called marginal\" = \"called marginal\"\n",
      "(μ_in, Σ_in) = mean_cov(q_ins) = ([5.994990967779304, 1.1674577918276294], [5.21980210680976 0.8394734907950042; 0.8394734907950042 7.023386234245131])\n",
      "\"called marginal\" = \"called marginal\"\n",
      "(μ_in, Σ_in) = mean_cov(q_ins) = ([4.991958108692985, 1.2015683953928227], [5.234146151786277 0.5576414889437188; 0.5576414889437188 4.774902960948494])\n",
      "\"called marginal\" = \"called marginal\"\n",
      "(μ_in, Σ_in) = mean_cov(q_ins) = ([4.022655679971806, 1.2423861847262112], [5.193531879613059 0.275811075377181; 0.275811075377181 3.1029685769221036])\n",
      "\"called marginal\" = \"called marginal\"\n",
      "(μ_in, Σ_in) = mean_cov(q_ins) = ([3.9603960895032095, 1.0157265977707597], [5.2816373286692775 0.26914520251848484; 0.26914520251848484 3.0655114621150297])\n",
      "\"called marginal\" = \"called marginal\"\n",
      "(μ_in, Σ_in) = mean_cov(q_ins) = ([3.0357927240502383, 1.3085737416742824], [5.201168581277329 -0.07286224835735215; -0.07286224835735215 1.7816772104846004])\n",
      "\"called marginal\" = \"called marginal\"\n",
      "(μ_in, Σ_in) = mean_cov(q_ins) = ([2.9209938561740243, 1.0393679766659305], [5.424912559092394 -0.09687363383728456; -0.09687363383728456 1.7175119363491087])\n",
      "\"called marginal\" = \"called marginal\"\n",
      "(μ_in, Σ_in) = mean_cov(q_ins) = ([2.0771029436913477, 1.4219885459758055], [5.1853542105777635 -0.5475414175177338; -0.5475414175177338 0.905028985388367])\n",
      "\"called marginal\" = \"called marginal\"\n",
      "(μ_in, Σ_in) = mean_cov(q_ins) = ([2.004246328219169, 1.0364725878190448], [5.204841116263016 -0.5319574256975238; -0.5319574256975238 0.9373768109211037])\n",
      "\"called marginal\" = \"called marginal\"\n",
      "(μ_in, Σ_in) = mean_cov(q_ins) = ([1.9745316776087427, 1.015069783898658], [5.3234471599879125 -0.5501613620015083; -0.5501613620015083 0.9151899765243066])\n",
      "\"called marginal\" = \"called marginal\"\n",
      "(μ_in, Σ_in) = mean_cov(q_ins) = ([1.7591708481756605, 1.1239278941680224], [6.256603665164942 -0.7205113733123032; -0.7205113733123032 0.7479015270965709])\n",
      "\"called marginal\" = \"called marginal\"\n",
      "(μ_in, Σ_in) = mean_cov(q_ins) = ([1.1472007319239756, 1.641944162766805], [5.434560137891799 -1.4408152644297756; -1.4408152644297756 0.6264601565326522])\n",
      "\"called marginal\" = \"called marginal\"\n",
      "(μ_in, Σ_in) = mean_cov(q_ins) = ([0.9351281653527367, 1.2544870800484769], [4.238061586333614 -1.468282011388475; -1.468282011388475 0.7764316571764242])\n",
      "\"called marginal\" = \"called marginal\"\n",
      "(μ_in, Σ_in) = mean_cov(q_ins) = ([0.9351281653527374, 1.0], [0.23595692974936439 -0.0; -0.0 1.9999999999999996])\n",
      "(μ_in, Σ_in) = mean_cov(q_ins) = ([0.9351281653527374, 1.0], [0.23595692974936439 -0.0; -0.0 1.9999999999999996])\n",
      "(μ_in, Σ_in) = mean_cov(q_ins) = ([0.9351281653527367, 1.2544870800484769], [4.238061586333614 -1.468282011388475; -1.468282011388475 0.7764316571764242])\n",
      "(μ_in, Σ_in) = mean_cov(q_ins) = ([1.1472007319239756, 1.641944162766805], [5.434560137891799 -1.4408152644297756; -1.4408152644297756 0.6264601565326522])\n",
      "(μ_in, Σ_in) = mean_cov(q_ins) = ([1.7591708481756605, 1.1239278941680224], [6.256603665164942 -0.7205113733123032; -0.7205113733123032 0.7479015270965709])\n",
      "(μ_in, Σ_in) = mean_cov(q_ins) = ([1.9745316776087427, 1.015069783898658], [5.3234471599879125 -0.5501613620015083; -0.5501613620015083 0.9151899765243066])\n",
      "(μ_in, Σ_in) = mean_cov(q_ins) = ([2.004246328219169, 1.0364725878190448], [5.204841116263016 -0.5319574256975238; -0.5319574256975238 0.9373768109211037])\n",
      "(μ_in, Σ_in) = mean_cov(q_ins) = ([2.0771029436913477, 1.4219885459758055], [5.1853542105777635 -0.5475414175177338; -0.5475414175177338 0.905028985388367])\n",
      "(μ_in, Σ_in) = mean_cov(q_ins) = ([2.9209938561740243, 1.0393679766659305], [5.424912559092394 -0.09687363383728456; -0.09687363383728456 1.7175119363491087])\n",
      "(μ_in, Σ_in) = mean_cov(q_ins) = ([3.0357927240502383, 1.3085737416742824], [5.201168581277329 -0.07286224835735215; -0.07286224835735215 1.7816772104846004])\n",
      "(μ_in, Σ_in) = mean_cov(q_ins) = ([3.9603960895032095, 1.0157265977707597], [5.2816373286692775 0.26914520251848484; 0.26914520251848484 3.0655114621150297])\n",
      "(μ_in, Σ_in) = mean_cov(q_ins) = ([4.022655679971806, 1.2423861847262112], [5.193531879613059 0.275811075377181; 0.275811075377181 3.1029685769221036])\n",
      "(μ_in, Σ_in) = mean_cov(q_ins) = ([4.991958108692985, 1.2015683953928227], [5.234146151786277 0.5576414889437188; 0.5576414889437188 4.774902960948494])\n",
      "(μ_in, Σ_in) = mean_cov(q_ins) = ([5.994990967779304, 1.1674577918276294], [5.21980210680976 0.8394734907950042; 0.8394734907950042 7.023386234245131])\n",
      "(μ_in, Σ_in) = mean_cov(q_ins) = ([6.997053779840293, 1.1441029022073625], [5.114224414397199 0.4121934784689934; 0.4121934784689934 4.88077750898616])\n",
      "(μ_in, Σ_in) = mean_cov(q_ins) = ([8.004174031576499, 1.2481783026629607], [10.0406171356769 39.959262791877606; 39.959262791877606 321.34853658074485])\n"
     ]
    }
   ],
   "source": [
    "imarginals = (z_0 = MvNormal(zeros(2), diageye(2)), )\n",
    "n = length(y_data)\n",
    "result = inference(model = Model(NKS, n), data=(o=y_data,), free_energy=false);"
   ]
  },
  {
   "cell_type": "code",
   "execution_count": 5,
   "metadata": {},
   "outputs": [
    {
     "data": {
      "image/svg+xml": "<?xml version=\"1.0\" encoding=\"utf-8\"?>\n<svg xmlns=\"http://www.w3.org/2000/svg\" xmlns:xlink=\"http://www.w3.org/1999/xlink\" width=\"600\" height=\"400\" viewBox=\"0 0 2400 1600\">\n<defs>\n  <clipPath id=\"clip110\">\n    <rect x=\"0\" y=\"0\" width=\"2400\" height=\"1600\"/>\n  </clipPath>\n</defs>\n<path clip-path=\"url(#clip110)\" d=\"\nM0 1600 L2400 1600 L2400 0 L0 0  Z\n  \" fill=\"#ffffff\" fill-rule=\"evenodd\" fill-opacity=\"1\"/>\n<defs>\n  <clipPath id=\"clip111\">\n    <rect x=\"480\" y=\"0\" width=\"1681\" height=\"1600\"/>\n  </clipPath>\n</defs>\n<path clip-path=\"url(#clip110)\" d=\"\nM184.191 1486.45 L2352.76 1486.45 L2352.76 47.2441 L184.191 47.2441  Z\n  \" fill=\"#ffffff\" fill-rule=\"evenodd\" fill-opacity=\"1\"/>\n<defs>\n  <clipPath id=\"clip112\">\n    <rect x=\"184\" y=\"47\" width=\"2170\" height=\"1440\"/>\n  </clipPath>\n</defs>\n<polyline clip-path=\"url(#clip112)\" style=\"stroke:#000000; stroke-linecap:butt; stroke-linejoin:round; stroke-width:2; stroke-opacity:0.1; fill:none\" points=\"\n  391.695,1486.45 391.695,47.2441 \n  \"/>\n<polyline clip-path=\"url(#clip112)\" style=\"stroke:#000000; stroke-linecap:butt; stroke-linejoin:round; stroke-width:2; stroke-opacity:0.1; fill:none\" points=\"\n  683.954,1486.45 683.954,47.2441 \n  \"/>\n<polyline clip-path=\"url(#clip112)\" style=\"stroke:#000000; stroke-linecap:butt; stroke-linejoin:round; stroke-width:2; stroke-opacity:0.1; fill:none\" points=\"\n  976.214,1486.45 976.214,47.2441 \n  \"/>\n<polyline clip-path=\"url(#clip112)\" style=\"stroke:#000000; stroke-linecap:butt; stroke-linejoin:round; stroke-width:2; stroke-opacity:0.1; fill:none\" points=\"\n  1268.47,1486.45 1268.47,47.2441 \n  \"/>\n<polyline clip-path=\"url(#clip112)\" style=\"stroke:#000000; stroke-linecap:butt; stroke-linejoin:round; stroke-width:2; stroke-opacity:0.1; fill:none\" points=\"\n  1560.73,1486.45 1560.73,47.2441 \n  \"/>\n<polyline clip-path=\"url(#clip112)\" style=\"stroke:#000000; stroke-linecap:butt; stroke-linejoin:round; stroke-width:2; stroke-opacity:0.1; fill:none\" points=\"\n  1852.99,1486.45 1852.99,47.2441 \n  \"/>\n<polyline clip-path=\"url(#clip112)\" style=\"stroke:#000000; stroke-linecap:butt; stroke-linejoin:round; stroke-width:2; stroke-opacity:0.1; fill:none\" points=\"\n  2145.25,1486.45 2145.25,47.2441 \n  \"/>\n<polyline clip-path=\"url(#clip110)\" style=\"stroke:#000000; stroke-linecap:butt; stroke-linejoin:round; stroke-width:4; stroke-opacity:1; fill:none\" points=\"\n  184.191,1486.45 2352.76,1486.45 \n  \"/>\n<polyline clip-path=\"url(#clip110)\" style=\"stroke:#000000; stroke-linecap:butt; stroke-linejoin:round; stroke-width:4; stroke-opacity:1; fill:none\" points=\"\n  391.695,1486.45 391.695,1467.55 \n  \"/>\n<polyline clip-path=\"url(#clip110)\" style=\"stroke:#000000; stroke-linecap:butt; stroke-linejoin:round; stroke-width:4; stroke-opacity:1; fill:none\" points=\"\n  683.954,1486.45 683.954,1467.55 \n  \"/>\n<polyline clip-path=\"url(#clip110)\" style=\"stroke:#000000; stroke-linecap:butt; stroke-linejoin:round; stroke-width:4; stroke-opacity:1; fill:none\" points=\"\n  976.214,1486.45 976.214,1467.55 \n  \"/>\n<polyline clip-path=\"url(#clip110)\" style=\"stroke:#000000; stroke-linecap:butt; stroke-linejoin:round; stroke-width:4; stroke-opacity:1; fill:none\" points=\"\n  1268.47,1486.45 1268.47,1467.55 \n  \"/>\n<polyline clip-path=\"url(#clip110)\" style=\"stroke:#000000; stroke-linecap:butt; stroke-linejoin:round; stroke-width:4; stroke-opacity:1; fill:none\" points=\"\n  1560.73,1486.45 1560.73,1467.55 \n  \"/>\n<polyline clip-path=\"url(#clip110)\" style=\"stroke:#000000; stroke-linecap:butt; stroke-linejoin:round; stroke-width:4; stroke-opacity:1; fill:none\" points=\"\n  1852.99,1486.45 1852.99,1467.55 \n  \"/>\n<polyline clip-path=\"url(#clip110)\" style=\"stroke:#000000; stroke-linecap:butt; stroke-linejoin:round; stroke-width:4; stroke-opacity:1; fill:none\" points=\"\n  2145.25,1486.45 2145.25,1467.55 \n  \"/>\n<path clip-path=\"url(#clip110)\" d=\"M386.348 1544.91 L402.667 1544.91 L402.667 1548.85 L380.723 1548.85 L380.723 1544.91 Q383.385 1542.16 387.968 1537.53 Q392.575 1532.88 393.755 1531.53 Q396 1529.01 396.88 1527.27 Q397.783 1525.51 397.783 1523.82 Q397.783 1521.07 395.838 1519.33 Q393.917 1517.6 390.815 1517.6 Q388.616 1517.6 386.163 1518.36 Q383.732 1519.13 380.954 1520.68 L380.954 1515.95 Q383.778 1514.82 386.232 1514.24 Q388.686 1513.66 390.723 1513.66 Q396.093 1513.66 399.287 1516.35 Q402.482 1519.03 402.482 1523.52 Q402.482 1525.65 401.672 1527.57 Q400.885 1529.47 398.778 1532.07 Q398.199 1532.74 395.098 1535.95 Q391.996 1539.15 386.348 1544.91 Z\" fill=\"#000000\" fill-rule=\"evenodd\" fill-opacity=\"1\" /><path clip-path=\"url(#clip110)\" d=\"M686.964 1518.36 L675.158 1536.81 L686.964 1536.81 L686.964 1518.36 M685.737 1514.29 L691.616 1514.29 L691.616 1536.81 L696.547 1536.81 L696.547 1540.7 L691.616 1540.7 L691.616 1548.85 L686.964 1548.85 L686.964 1540.7 L671.362 1540.7 L671.362 1536.19 L685.737 1514.29 Z\" fill=\"#000000\" fill-rule=\"evenodd\" fill-opacity=\"1\" /><path clip-path=\"url(#clip110)\" d=\"M976.619 1529.7 Q973.471 1529.7 971.619 1531.86 Q969.79 1534.01 969.79 1537.76 Q969.79 1541.49 971.619 1543.66 Q973.471 1545.82 976.619 1545.82 Q979.767 1545.82 981.596 1543.66 Q983.448 1541.49 983.448 1537.76 Q983.448 1534.01 981.596 1531.86 Q979.767 1529.7 976.619 1529.7 M985.901 1515.05 L985.901 1519.31 Q984.142 1518.48 982.336 1518.04 Q980.554 1517.6 978.795 1517.6 Q974.165 1517.6 971.712 1520.72 Q969.281 1523.85 968.934 1530.17 Q970.3 1528.15 972.36 1527.09 Q974.42 1526 976.897 1526 Q982.105 1526 985.114 1529.17 Q988.147 1532.32 988.147 1537.76 Q988.147 1543.08 984.999 1546.3 Q981.85 1549.52 976.619 1549.52 Q970.624 1549.52 967.452 1544.94 Q964.281 1540.33 964.281 1531.6 Q964.281 1523.41 968.17 1518.55 Q972.059 1513.66 978.61 1513.66 Q980.369 1513.66 982.151 1514.01 Q983.957 1514.36 985.901 1515.05 Z\" fill=\"#000000\" fill-rule=\"evenodd\" fill-opacity=\"1\" /><path clip-path=\"url(#clip110)\" d=\"M1268.47 1532.44 Q1265.14 1532.44 1263.22 1534.22 Q1261.32 1536 1261.32 1539.13 Q1261.32 1542.25 1263.22 1544.03 Q1265.14 1545.82 1268.47 1545.82 Q1271.81 1545.82 1273.73 1544.03 Q1275.65 1542.23 1275.65 1539.13 Q1275.65 1536 1273.73 1534.22 Q1271.83 1532.44 1268.47 1532.44 M1263.8 1530.45 Q1260.79 1529.7 1259.1 1527.64 Q1257.43 1525.58 1257.43 1522.62 Q1257.43 1518.48 1260.37 1516.07 Q1263.33 1513.66 1268.47 1513.66 Q1273.64 1513.66 1276.58 1516.07 Q1279.51 1518.48 1279.51 1522.62 Q1279.51 1525.58 1277.83 1527.64 Q1276.16 1529.7 1273.17 1530.45 Q1276.55 1531.23 1278.43 1533.52 Q1280.33 1535.82 1280.33 1539.13 Q1280.33 1544.15 1277.25 1546.83 Q1274.19 1549.52 1268.47 1549.52 Q1262.76 1549.52 1259.68 1546.83 Q1256.62 1544.15 1256.62 1539.13 Q1256.62 1535.82 1258.52 1533.52 Q1260.42 1531.23 1263.8 1530.45 M1262.08 1523.06 Q1262.08 1525.75 1263.75 1527.25 Q1265.44 1528.76 1268.47 1528.76 Q1271.48 1528.76 1273.17 1527.25 Q1274.89 1525.75 1274.89 1523.06 Q1274.89 1520.38 1273.17 1518.87 Q1271.48 1517.37 1268.47 1517.37 Q1265.44 1517.37 1263.75 1518.87 Q1262.08 1520.38 1262.08 1523.06 Z\" fill=\"#000000\" fill-rule=\"evenodd\" fill-opacity=\"1\" /><path clip-path=\"url(#clip110)\" d=\"M1535.42 1544.91 L1543.06 1544.91 L1543.06 1518.55 L1534.75 1520.21 L1534.75 1515.95 L1543.01 1514.29 L1547.69 1514.29 L1547.69 1544.91 L1555.33 1544.91 L1555.33 1548.85 L1535.42 1548.85 L1535.42 1544.91 Z\" fill=\"#000000\" fill-rule=\"evenodd\" fill-opacity=\"1\" /><path clip-path=\"url(#clip110)\" d=\"M1574.77 1517.37 Q1571.16 1517.37 1569.33 1520.93 Q1567.53 1524.47 1567.53 1531.6 Q1567.53 1538.71 1569.33 1542.27 Q1571.16 1545.82 1574.77 1545.82 Q1578.41 1545.82 1580.21 1542.27 Q1582.04 1538.71 1582.04 1531.6 Q1582.04 1524.47 1580.21 1520.93 Q1578.41 1517.37 1574.77 1517.37 M1574.77 1513.66 Q1580.58 1513.66 1583.64 1518.27 Q1586.72 1522.85 1586.72 1531.6 Q1586.72 1540.33 1583.64 1544.94 Q1580.58 1549.52 1574.77 1549.52 Q1568.96 1549.52 1565.88 1544.94 Q1562.83 1540.33 1562.83 1531.6 Q1562.83 1522.85 1565.88 1518.27 Q1568.96 1513.66 1574.77 1513.66 Z\" fill=\"#000000\" fill-rule=\"evenodd\" fill-opacity=\"1\" /><path clip-path=\"url(#clip110)\" d=\"M1828.48 1544.91 L1836.12 1544.91 L1836.12 1518.55 L1827.81 1520.21 L1827.81 1515.95 L1836.07 1514.29 L1840.75 1514.29 L1840.75 1544.91 L1848.39 1544.91 L1848.39 1548.85 L1828.48 1548.85 L1828.48 1544.91 Z\" fill=\"#000000\" fill-rule=\"evenodd\" fill-opacity=\"1\" /><path clip-path=\"url(#clip110)\" d=\"M1861.86 1544.91 L1878.18 1544.91 L1878.18 1548.85 L1856.23 1548.85 L1856.23 1544.91 Q1858.89 1542.16 1863.48 1537.53 Q1868.08 1532.88 1869.27 1531.53 Q1871.51 1529.01 1872.39 1527.27 Q1873.29 1525.51 1873.29 1523.82 Q1873.29 1521.07 1871.35 1519.33 Q1869.43 1517.6 1866.33 1517.6 Q1864.13 1517.6 1861.67 1518.36 Q1859.24 1519.13 1856.46 1520.68 L1856.46 1515.95 Q1859.29 1514.82 1861.74 1514.24 Q1864.2 1513.66 1866.23 1513.66 Q1871.6 1513.66 1874.8 1516.35 Q1877.99 1519.03 1877.99 1523.52 Q1877.99 1525.65 1877.18 1527.57 Q1876.39 1529.47 1874.29 1532.07 Q1873.71 1532.74 1870.61 1535.95 Q1867.51 1539.15 1861.86 1544.91 Z\" fill=\"#000000\" fill-rule=\"evenodd\" fill-opacity=\"1\" /><path clip-path=\"url(#clip110)\" d=\"M2119.7 1544.91 L2127.34 1544.91 L2127.34 1518.55 L2119.02 1520.21 L2119.02 1515.95 L2127.29 1514.29 L2131.96 1514.29 L2131.96 1544.91 L2139.6 1544.91 L2139.6 1548.85 L2119.7 1548.85 L2119.7 1544.91 Z\" fill=\"#000000\" fill-rule=\"evenodd\" fill-opacity=\"1\" /><path clip-path=\"url(#clip110)\" d=\"M2161.9 1518.36 L2150.09 1536.81 L2161.9 1536.81 L2161.9 1518.36 M2160.67 1514.29 L2166.55 1514.29 L2166.55 1536.81 L2171.48 1536.81 L2171.48 1540.7 L2166.55 1540.7 L2166.55 1548.85 L2161.9 1548.85 L2161.9 1540.7 L2146.29 1540.7 L2146.29 1536.19 L2160.67 1514.29 Z\" fill=\"#000000\" fill-rule=\"evenodd\" fill-opacity=\"1\" /><polyline clip-path=\"url(#clip112)\" style=\"stroke:#000000; stroke-linecap:butt; stroke-linejoin:round; stroke-width:2; stroke-opacity:0.1; fill:none\" points=\"\n  184.191,1315.62 2352.76,1315.62 \n  \"/>\n<polyline clip-path=\"url(#clip112)\" style=\"stroke:#000000; stroke-linecap:butt; stroke-linejoin:round; stroke-width:2; stroke-opacity:0.1; fill:none\" points=\"\n  184.191,1040.93 2352.76,1040.93 \n  \"/>\n<polyline clip-path=\"url(#clip112)\" style=\"stroke:#000000; stroke-linecap:butt; stroke-linejoin:round; stroke-width:2; stroke-opacity:0.1; fill:none\" points=\"\n  184.191,766.234 2352.76,766.234 \n  \"/>\n<polyline clip-path=\"url(#clip112)\" style=\"stroke:#000000; stroke-linecap:butt; stroke-linejoin:round; stroke-width:2; stroke-opacity:0.1; fill:none\" points=\"\n  184.191,491.541 2352.76,491.541 \n  \"/>\n<polyline clip-path=\"url(#clip112)\" style=\"stroke:#000000; stroke-linecap:butt; stroke-linejoin:round; stroke-width:2; stroke-opacity:0.1; fill:none\" points=\"\n  184.191,216.848 2352.76,216.848 \n  \"/>\n<polyline clip-path=\"url(#clip110)\" style=\"stroke:#000000; stroke-linecap:butt; stroke-linejoin:round; stroke-width:4; stroke-opacity:1; fill:none\" points=\"\n  184.191,1486.45 184.191,47.2441 \n  \"/>\n<polyline clip-path=\"url(#clip110)\" style=\"stroke:#000000; stroke-linecap:butt; stroke-linejoin:round; stroke-width:4; stroke-opacity:1; fill:none\" points=\"\n  184.191,1315.62 203.088,1315.62 \n  \"/>\n<polyline clip-path=\"url(#clip110)\" style=\"stroke:#000000; stroke-linecap:butt; stroke-linejoin:round; stroke-width:4; stroke-opacity:1; fill:none\" points=\"\n  184.191,1040.93 203.088,1040.93 \n  \"/>\n<polyline clip-path=\"url(#clip110)\" style=\"stroke:#000000; stroke-linecap:butt; stroke-linejoin:round; stroke-width:4; stroke-opacity:1; fill:none\" points=\"\n  184.191,766.234 203.088,766.234 \n  \"/>\n<polyline clip-path=\"url(#clip110)\" style=\"stroke:#000000; stroke-linecap:butt; stroke-linejoin:round; stroke-width:4; stroke-opacity:1; fill:none\" points=\"\n  184.191,491.541 203.088,491.541 \n  \"/>\n<polyline clip-path=\"url(#clip110)\" style=\"stroke:#000000; stroke-linecap:butt; stroke-linejoin:round; stroke-width:4; stroke-opacity:1; fill:none\" points=\"\n  184.191,216.848 203.088,216.848 \n  \"/>\n<path clip-path=\"url(#clip110)\" d=\"M91.0151 1301.42 Q87.404 1301.42 85.5753 1304.98 Q83.7697 1308.52 83.7697 1315.65 Q83.7697 1322.76 85.5753 1326.33 Q87.404 1329.87 91.0151 1329.87 Q94.6493 1329.87 96.4548 1326.33 Q98.2835 1322.76 98.2835 1315.65 Q98.2835 1308.52 96.4548 1304.98 Q94.6493 1301.42 91.0151 1301.42 M91.0151 1297.71 Q96.8252 1297.71 99.8808 1302.32 Q102.959 1306.9 102.959 1315.65 Q102.959 1324.38 99.8808 1328.99 Q96.8252 1333.57 91.0151 1333.57 Q85.2049 1333.57 82.1262 1328.99 Q79.0707 1324.38 79.0707 1315.65 Q79.0707 1306.9 82.1262 1302.32 Q85.2049 1297.71 91.0151 1297.71 Z\" fill=\"#000000\" fill-rule=\"evenodd\" fill-opacity=\"1\" /><path clip-path=\"url(#clip110)\" d=\"M111.177 1327.02 L116.061 1327.02 L116.061 1332.9 L111.177 1332.9 L111.177 1327.02 Z\" fill=\"#000000\" fill-rule=\"evenodd\" fill-opacity=\"1\" /><path clip-path=\"url(#clip110)\" d=\"M136.246 1301.42 Q132.635 1301.42 130.807 1304.98 Q129.001 1308.52 129.001 1315.65 Q129.001 1322.76 130.807 1326.33 Q132.635 1329.87 136.246 1329.87 Q139.881 1329.87 141.686 1326.33 Q143.515 1322.76 143.515 1315.65 Q143.515 1308.52 141.686 1304.98 Q139.881 1301.42 136.246 1301.42 M136.246 1297.71 Q142.056 1297.71 145.112 1302.32 Q148.191 1306.9 148.191 1315.65 Q148.191 1324.38 145.112 1328.99 Q142.056 1333.57 136.246 1333.57 Q130.436 1333.57 127.357 1328.99 Q124.302 1324.38 124.302 1315.65 Q124.302 1306.9 127.357 1302.32 Q130.436 1297.71 136.246 1297.71 Z\" fill=\"#000000\" fill-rule=\"evenodd\" fill-opacity=\"1\" /><path clip-path=\"url(#clip110)\" d=\"M86.0382 1054.27 L102.358 1054.27 L102.358 1058.21 L80.4133 1058.21 L80.4133 1054.27 Q83.0753 1051.52 87.6586 1046.89 Q92.2651 1042.23 93.4456 1040.89 Q95.691 1038.37 96.5706 1036.63 Q97.4734 1034.87 97.4734 1033.18 Q97.4734 1030.43 95.5289 1028.69 Q93.6076 1026.96 90.5058 1026.96 Q88.3067 1026.96 85.8531 1027.72 Q83.4225 1028.48 80.6447 1030.04 L80.6447 1025.31 Q83.4688 1024.18 85.9225 1023.6 Q88.3762 1023.02 90.4132 1023.02 Q95.7836 1023.02 98.978 1025.71 Q102.172 1028.39 102.172 1032.88 Q102.172 1035.01 101.362 1036.93 Q100.575 1038.83 98.4687 1041.42 Q97.89 1042.1 94.7882 1045.31 Q91.6864 1048.51 86.0382 1054.27 Z\" fill=\"#000000\" fill-rule=\"evenodd\" fill-opacity=\"1\" /><path clip-path=\"url(#clip110)\" d=\"M112.172 1052.33 L117.057 1052.33 L117.057 1058.21 L112.172 1058.21 L112.172 1052.33 Z\" fill=\"#000000\" fill-rule=\"evenodd\" fill-opacity=\"1\" /><path clip-path=\"url(#clip110)\" d=\"M127.288 1023.65 L145.644 1023.65 L145.644 1027.58 L131.57 1027.58 L131.57 1036.05 Q132.589 1035.71 133.607 1035.54 Q134.626 1035.36 135.644 1035.36 Q141.431 1035.36 144.811 1038.53 Q148.191 1041.7 148.191 1047.12 Q148.191 1052.7 144.718 1055.8 Q141.246 1058.88 134.927 1058.88 Q132.751 1058.88 130.482 1058.51 Q128.237 1058.14 125.83 1057.4 L125.83 1052.7 Q127.913 1053.83 130.135 1054.39 Q132.357 1054.94 134.834 1054.94 Q138.839 1054.94 141.177 1052.84 Q143.515 1050.73 143.515 1047.12 Q143.515 1043.51 141.177 1041.4 Q138.839 1039.29 134.834 1039.29 Q132.959 1039.29 131.084 1039.71 Q129.232 1040.13 127.288 1041.01 L127.288 1023.65 Z\" fill=\"#000000\" fill-rule=\"evenodd\" fill-opacity=\"1\" /><path clip-path=\"url(#clip110)\" d=\"M81.0614 748.954 L99.4178 748.954 L99.4178 752.889 L85.3438 752.889 L85.3438 761.361 Q86.3623 761.014 87.3808 760.852 Q88.3993 760.667 89.4178 760.667 Q95.2049 760.667 98.5845 763.838 Q101.964 767.009 101.964 772.426 Q101.964 778.004 98.4919 781.106 Q95.0197 784.185 88.7003 784.185 Q86.5243 784.185 84.2558 783.815 Q82.0105 783.444 79.6031 782.703 L79.6031 778.004 Q81.6864 779.139 83.9086 779.694 Q86.1308 780.25 88.6077 780.25 Q92.6123 780.25 94.9502 778.143 Q97.2882 776.037 97.2882 772.426 Q97.2882 768.815 94.9502 766.708 Q92.6123 764.602 88.6077 764.602 Q86.7327 764.602 84.8577 765.018 Q83.0058 765.435 81.0614 766.315 L81.0614 748.954 Z\" fill=\"#000000\" fill-rule=\"evenodd\" fill-opacity=\"1\" /><path clip-path=\"url(#clip110)\" d=\"M111.177 777.634 L116.061 777.634 L116.061 783.514 L111.177 783.514 L111.177 777.634 Z\" fill=\"#000000\" fill-rule=\"evenodd\" fill-opacity=\"1\" /><path clip-path=\"url(#clip110)\" d=\"M136.246 752.032 Q132.635 752.032 130.807 755.597 Q129.001 759.139 129.001 766.268 Q129.001 773.375 130.807 776.94 Q132.635 780.481 136.246 780.481 Q139.881 780.481 141.686 776.94 Q143.515 773.375 143.515 766.268 Q143.515 759.139 141.686 755.597 Q139.881 752.032 136.246 752.032 M136.246 748.329 Q142.056 748.329 145.112 752.935 Q148.191 757.518 148.191 766.268 Q148.191 774.995 145.112 779.602 Q142.056 784.185 136.246 784.185 Q130.436 784.185 127.357 779.602 Q124.302 774.995 124.302 766.268 Q124.302 757.518 127.357 752.935 Q130.436 748.329 136.246 748.329 Z\" fill=\"#000000\" fill-rule=\"evenodd\" fill-opacity=\"1\" /><path clip-path=\"url(#clip110)\" d=\"M80.8299 474.261 L103.052 474.261 L103.052 476.251 L90.5058 508.821 L85.6216 508.821 L97.4271 478.196 L80.8299 478.196 L80.8299 474.261 Z\" fill=\"#000000\" fill-rule=\"evenodd\" fill-opacity=\"1\" /><path clip-path=\"url(#clip110)\" d=\"M112.172 502.941 L117.057 502.941 L117.057 508.821 L112.172 508.821 L112.172 502.941 Z\" fill=\"#000000\" fill-rule=\"evenodd\" fill-opacity=\"1\" /><path clip-path=\"url(#clip110)\" d=\"M127.288 474.261 L145.644 474.261 L145.644 478.196 L131.57 478.196 L131.57 486.668 Q132.589 486.321 133.607 486.159 Q134.626 485.974 135.644 485.974 Q141.431 485.974 144.811 489.145 Q148.191 492.316 148.191 497.733 Q148.191 503.311 144.718 506.413 Q141.246 509.492 134.927 509.492 Q132.751 509.492 130.482 509.122 Q128.237 508.751 125.83 508.01 L125.83 503.311 Q127.913 504.446 130.135 505.001 Q132.357 505.557 134.834 505.557 Q138.839 505.557 141.177 503.45 Q143.515 501.344 143.515 497.733 Q143.515 494.122 141.177 492.015 Q138.839 489.909 134.834 489.909 Q132.959 489.909 131.084 490.325 Q129.232 490.742 127.288 491.622 L127.288 474.261 Z\" fill=\"#000000\" fill-rule=\"evenodd\" fill-opacity=\"1\" /><path clip-path=\"url(#clip110)\" d=\"M51.6634 230.192 L59.3023 230.192 L59.3023 203.827 L50.9921 205.494 L50.9921 201.234 L59.256 199.568 L63.9319 199.568 L63.9319 230.192 L71.5707 230.192 L71.5707 234.128 L51.6634 234.128 L51.6634 230.192 Z\" fill=\"#000000\" fill-rule=\"evenodd\" fill-opacity=\"1\" /><path clip-path=\"url(#clip110)\" d=\"M91.0151 202.646 Q87.404 202.646 85.5753 206.211 Q83.7697 209.753 83.7697 216.882 Q83.7697 223.989 85.5753 227.554 Q87.404 231.095 91.0151 231.095 Q94.6493 231.095 96.4548 227.554 Q98.2835 223.989 98.2835 216.882 Q98.2835 209.753 96.4548 206.211 Q94.6493 202.646 91.0151 202.646 M91.0151 198.943 Q96.8252 198.943 99.8808 203.549 Q102.959 208.132 102.959 216.882 Q102.959 225.609 99.8808 230.216 Q96.8252 234.799 91.0151 234.799 Q85.2049 234.799 82.1262 230.216 Q79.0707 225.609 79.0707 216.882 Q79.0707 208.132 82.1262 203.549 Q85.2049 198.943 91.0151 198.943 Z\" fill=\"#000000\" fill-rule=\"evenodd\" fill-opacity=\"1\" /><path clip-path=\"url(#clip110)\" d=\"M111.177 228.248 L116.061 228.248 L116.061 234.128 L111.177 234.128 L111.177 228.248 Z\" fill=\"#000000\" fill-rule=\"evenodd\" fill-opacity=\"1\" /><path clip-path=\"url(#clip110)\" d=\"M136.246 202.646 Q132.635 202.646 130.807 206.211 Q129.001 209.753 129.001 216.882 Q129.001 223.989 130.807 227.554 Q132.635 231.095 136.246 231.095 Q139.881 231.095 141.686 227.554 Q143.515 223.989 143.515 216.882 Q143.515 209.753 141.686 206.211 Q139.881 202.646 136.246 202.646 M136.246 198.943 Q142.056 198.943 145.112 203.549 Q148.191 208.132 148.191 216.882 Q148.191 225.609 145.112 230.216 Q142.056 234.799 136.246 234.799 Q130.436 234.799 127.357 230.216 Q124.302 225.609 124.302 216.882 Q124.302 208.132 127.357 203.549 Q130.436 198.943 136.246 198.943 Z\" fill=\"#000000\" fill-rule=\"evenodd\" fill-opacity=\"1\" /><polyline clip-path=\"url(#clip112)\" style=\"stroke:#009af9; stroke-linecap:butt; stroke-linejoin:round; stroke-width:4; stroke-opacity:1; fill:none\" points=\"\n  245.565,1236.51 391.695,1220.69 537.825,1201.7 683.954,1178.91 830.084,1151.57 976.214,1118.76 1122.34,1079.39 1268.47,1032.15 1414.6,975.454 1560.73,907.421 \n  1706.86,825.782 1852.99,727.814 1999.12,610.253 2145.25,469.179 2291.38,299.891 \n  \"/>\n<circle clip-path=\"url(#clip112)\" cx=\"245.565\" cy=\"1205.74\" r=\"14.4\" fill=\"#e26f46\" fill-rule=\"evenodd\" fill-opacity=\"1\" stroke=\"#000000\" stroke-opacity=\"1\" stroke-width=\"3.2\"/>\n<circle clip-path=\"url(#clip112)\" cx=\"391.695\" cy=\"1205.74\" r=\"14.4\" fill=\"#e26f46\" fill-rule=\"evenodd\" fill-opacity=\"1\" stroke=\"#000000\" stroke-opacity=\"1\" stroke-width=\"3.2\"/>\n<circle clip-path=\"url(#clip112)\" cx=\"537.825\" cy=\"1095.87\" r=\"14.4\" fill=\"#e26f46\" fill-rule=\"evenodd\" fill-opacity=\"1\" stroke=\"#000000\" stroke-opacity=\"1\" stroke-width=\"3.2\"/>\n<circle clip-path=\"url(#clip112)\" cx=\"683.954\" cy=\"1095.87\" r=\"14.4\" fill=\"#e26f46\" fill-rule=\"evenodd\" fill-opacity=\"1\" stroke=\"#000000\" stroke-opacity=\"1\" stroke-width=\"3.2\"/>\n<circle clip-path=\"url(#clip112)\" cx=\"830.084\" cy=\"1095.87\" r=\"14.4\" fill=\"#e26f46\" fill-rule=\"evenodd\" fill-opacity=\"1\" stroke=\"#000000\" stroke-opacity=\"1\" stroke-width=\"3.2\"/>\n<circle clip-path=\"url(#clip112)\" cx=\"976.214\" cy=\"1095.87\" r=\"14.4\" fill=\"#e26f46\" fill-rule=\"evenodd\" fill-opacity=\"1\" stroke=\"#000000\" stroke-opacity=\"1\" stroke-width=\"3.2\"/>\n<circle clip-path=\"url(#clip112)\" cx=\"1122.34\" cy=\"985.988\" r=\"14.4\" fill=\"#e26f46\" fill-rule=\"evenodd\" fill-opacity=\"1\" stroke=\"#000000\" stroke-opacity=\"1\" stroke-width=\"3.2\"/>\n<circle clip-path=\"url(#clip112)\" cx=\"1268.47\" cy=\"985.988\" r=\"14.4\" fill=\"#e26f46\" fill-rule=\"evenodd\" fill-opacity=\"1\" stroke=\"#000000\" stroke-opacity=\"1\" stroke-width=\"3.2\"/>\n<circle clip-path=\"url(#clip112)\" cx=\"1414.6\" cy=\"876.111\" r=\"14.4\" fill=\"#e26f46\" fill-rule=\"evenodd\" fill-opacity=\"1\" stroke=\"#000000\" stroke-opacity=\"1\" stroke-width=\"3.2\"/>\n<circle clip-path=\"url(#clip112)\" cx=\"1560.73\" cy=\"876.111\" r=\"14.4\" fill=\"#e26f46\" fill-rule=\"evenodd\" fill-opacity=\"1\" stroke=\"#000000\" stroke-opacity=\"1\" stroke-width=\"3.2\"/>\n<circle clip-path=\"url(#clip112)\" cx=\"1706.86\" cy=\"766.234\" r=\"14.4\" fill=\"#e26f46\" fill-rule=\"evenodd\" fill-opacity=\"1\" stroke=\"#000000\" stroke-opacity=\"1\" stroke-width=\"3.2\"/>\n<circle clip-path=\"url(#clip112)\" cx=\"1852.99\" cy=\"656.356\" r=\"14.4\" fill=\"#e26f46\" fill-rule=\"evenodd\" fill-opacity=\"1\" stroke=\"#000000\" stroke-opacity=\"1\" stroke-width=\"3.2\"/>\n<circle clip-path=\"url(#clip112)\" cx=\"1999.12\" cy=\"546.479\" r=\"14.4\" fill=\"#e26f46\" fill-rule=\"evenodd\" fill-opacity=\"1\" stroke=\"#000000\" stroke-opacity=\"1\" stroke-width=\"3.2\"/>\n<circle clip-path=\"url(#clip112)\" cx=\"2145.25\" cy=\"436.602\" r=\"14.4\" fill=\"#e26f46\" fill-rule=\"evenodd\" fill-opacity=\"1\" stroke=\"#000000\" stroke-opacity=\"1\" stroke-width=\"3.2\"/>\n<circle clip-path=\"url(#clip112)\" cx=\"2291.38\" cy=\"216.848\" r=\"14.4\" fill=\"#e26f46\" fill-rule=\"evenodd\" fill-opacity=\"1\" stroke=\"#000000\" stroke-opacity=\"1\" stroke-width=\"3.2\"/>\n<path clip-path=\"url(#clip112)\" d=\"\nM245.565 1439.07 L391.695 1445.72 L537.825 1397.16 L683.954 1352.18 L830.084 1346.07 L976.214 1337.6 L1122.34 1250.59 L1268.47 1232.64 L1414.6 1132.98 L1560.73 1124.02 \n  L1706.86 1018.5 L1852.99 907.942 L1999.12 795.286 L2145.25 784.311 L2291.38 267.199 L2291.38 169.226 L2145.25 87.9763 L1999.12 298.32 L1852.99 405.872 L1706.86 515.737 \n  L1560.73 623.219 L1414.6 627.945 L1268.47 731.469 L1122.34 738.749 L976.214 837.188 L830.084 844.723 L683.954 845.148 L537.825 847.489 L391.695 933.421 L245.565 986.671 \n   Z\n  \" fill=\"#3da44d\" fill-rule=\"evenodd\" fill-opacity=\"0.5\"/>\n<polyline clip-path=\"url(#clip112)\" style=\"stroke:#3da44d; stroke-linecap:butt; stroke-linejoin:round; stroke-width:4; stroke-opacity:1; fill:none\" points=\"\n  245.565,1212.87 391.695,1189.57 537.825,1122.33 683.954,1098.66 830.084,1095.4 976.214,1087.39 1122.34,994.669 1268.47,982.055 1414.6,880.462 1560.73,873.621 \n  1706.86,767.117 1852.99,656.907 1999.12,546.803 2145.25,436.143 2291.38,218.212 \n  \"/>\n<path clip-path=\"url(#clip110)\" d=\"\nM1986.51 302.578 L2280.47 302.578 L2280.47 95.2176 L1986.51 95.2176  Z\n  \" fill=\"#ffffff\" fill-rule=\"evenodd\" fill-opacity=\"1\"/>\n<polyline clip-path=\"url(#clip110)\" style=\"stroke:#000000; stroke-linecap:butt; stroke-linejoin:round; stroke-width:4; stroke-opacity:1; fill:none\" points=\"\n  1986.51,302.578 2280.47,302.578 2280.47,95.2176 1986.51,95.2176 1986.51,302.578 \n  \"/>\n<polyline clip-path=\"url(#clip110)\" style=\"stroke:#009af9; stroke-linecap:butt; stroke-linejoin:round; stroke-width:4; stroke-opacity:1; fill:none\" points=\"\n  2010.6,147.058 2155.18,147.058 \n  \"/>\n<path clip-path=\"url(#clip110)\" d=\"M2193.11 166.745 Q2191.31 171.375 2189.6 172.787 Q2187.88 174.199 2185.01 174.199 L2181.61 174.199 L2181.61 170.634 L2184.11 170.634 Q2185.87 170.634 2186.84 169.8 Q2187.81 168.967 2188.99 165.865 L2189.76 163.921 L2179.27 138.412 L2183.78 138.412 L2191.89 158.689 L2199.99 138.412 L2204.5 138.412 L2193.11 166.745 Z\" fill=\"#000000\" fill-rule=\"evenodd\" fill-opacity=\"1\" /><path clip-path=\"url(#clip110)\" d=\"M2211.79 160.402 L2219.43 160.402 L2219.43 134.037 L2211.12 135.703 L2211.12 131.444 L2219.39 129.778 L2224.06 129.778 L2224.06 160.402 L2231.7 160.402 L2231.7 164.338 L2211.79 164.338 L2211.79 160.402 Z\" fill=\"#000000\" fill-rule=\"evenodd\" fill-opacity=\"1\" /><circle clip-path=\"url(#clip110)\" cx=\"2082.89\" cy=\"198.898\" r=\"23.04\" fill=\"#e26f46\" fill-rule=\"evenodd\" fill-opacity=\"1\" stroke=\"#000000\" stroke-opacity=\"1\" stroke-width=\"5.12\"/>\n<path clip-path=\"url(#clip110)\" d=\"M2193.11 218.585 Q2191.31 223.215 2189.6 224.627 Q2187.88 226.039 2185.01 226.039 L2181.61 226.039 L2181.61 222.474 L2184.11 222.474 Q2185.87 222.474 2186.84 221.64 Q2187.81 220.807 2188.99 217.705 L2189.76 215.761 L2179.27 190.252 L2183.78 190.252 L2191.89 210.529 L2199.99 190.252 L2204.5 190.252 L2193.11 218.585 Z\" fill=\"#000000\" fill-rule=\"evenodd\" fill-opacity=\"1\" /><path clip-path=\"url(#clip110)\" d=\"M2215.01 212.242 L2231.33 212.242 L2231.33 216.178 L2209.39 216.178 L2209.39 212.242 Q2212.05 209.488 2216.63 204.858 Q2221.24 200.205 2222.42 198.863 Q2224.66 196.34 2225.54 194.604 Q2226.45 192.844 2226.45 191.155 Q2226.45 188.4 2224.5 186.664 Q2222.58 184.928 2219.48 184.928 Q2217.28 184.928 2214.83 185.692 Q2212.4 186.455 2209.62 188.006 L2209.62 183.284 Q2212.44 182.15 2214.9 181.571 Q2217.35 180.993 2219.39 180.993 Q2224.76 180.993 2227.95 183.678 Q2231.15 186.363 2231.15 190.854 Q2231.15 192.983 2230.34 194.905 Q2229.55 196.803 2227.44 199.395 Q2226.86 200.067 2223.76 203.284 Q2220.66 206.479 2215.01 212.242 Z\" fill=\"#000000\" fill-rule=\"evenodd\" fill-opacity=\"1\" /><polyline clip-path=\"url(#clip110)\" style=\"stroke:#3da44d; stroke-linecap:butt; stroke-linejoin:round; stroke-width:4; stroke-opacity:1; fill:none\" points=\"\n  2010.6,250.738 2155.18,250.738 \n  \"/>\n<path clip-path=\"url(#clip110)\" d=\"M2193.11 270.425 Q2191.31 275.055 2189.6 276.467 Q2187.88 277.879 2185.01 277.879 L2181.61 277.879 L2181.61 274.314 L2184.11 274.314 Q2185.87 274.314 2186.84 273.48 Q2187.81 272.647 2188.99 269.545 L2189.76 267.601 L2179.27 242.092 L2183.78 242.092 L2191.89 262.369 L2199.99 242.092 L2204.5 242.092 L2193.11 270.425 Z\" fill=\"#000000\" fill-rule=\"evenodd\" fill-opacity=\"1\" /><path clip-path=\"url(#clip110)\" d=\"M2225.15 249.383 Q2228.51 250.101 2230.38 252.369 Q2232.28 254.638 2232.28 257.971 Q2232.28 263.087 2228.76 265.888 Q2225.24 268.689 2218.76 268.689 Q2216.59 268.689 2214.27 268.249 Q2211.98 267.832 2209.53 266.976 L2209.53 262.462 Q2211.47 263.596 2213.78 264.175 Q2216.1 264.754 2218.62 264.754 Q2223.02 264.754 2225.31 263.018 Q2227.63 261.281 2227.63 257.971 Q2227.63 254.916 2225.47 253.203 Q2223.34 251.467 2219.53 251.467 L2215.5 251.467 L2215.5 247.624 L2219.71 247.624 Q2223.16 247.624 2224.99 246.258 Q2226.82 244.87 2226.82 242.277 Q2226.82 239.615 2224.92 238.203 Q2223.04 236.768 2219.53 236.768 Q2217.6 236.768 2215.41 237.184 Q2213.21 237.601 2210.57 238.481 L2210.57 234.314 Q2213.23 233.573 2215.54 233.203 Q2217.88 232.833 2219.94 232.833 Q2225.27 232.833 2228.37 235.263 Q2231.47 237.67 2231.47 241.791 Q2231.47 244.661 2229.83 246.652 Q2228.18 248.62 2225.15 249.383 Z\" fill=\"#000000\" fill-rule=\"evenodd\" fill-opacity=\"1\" /></svg>\n"
     },
     "execution_count": 5,
     "metadata": {},
     "output_type": "execute_result"
    }
   ],
   "source": [
    "\n",
    "plot(x_data)\n",
    "scatter!(y_data)\n",
    "plot!(mean.(result.posteriors[:z]), ribbon=sqrt.(var.(result.posteriors[:z])))"
   ]
  },
  {
   "cell_type": "markdown",
   "metadata": {},
   "source": [
    "### ET"
   ]
  },
  {
   "cell_type": "code",
   "execution_count": 6,
   "metadata": {},
   "outputs": [],
   "source": [
    "function f(x)\n",
    "    return sqrt.(x)\n",
    "end\n",
    "\n",
    "function f_inv(x)\n",
    "    return x .^ 2\n",
    "end\n",
    "\n",
    "\n",
    "@model function NKS()\n",
    "    y2 = datavar(Float64)\n",
    "    c = zeros(2); c[1] = 1.0;\n",
    "\n",
    "    x ~ MvNormal(μ=ones(2), Λ=diageye(2))\n",
    "    z ~ f(x) where {meta=ET(inverse=f_inv)}\n",
    "    y1 ~ Normal(μ=dot(z, c), σ²=1.0)\n",
    "    y2 ~ Normal(μ=y1, σ²=0.5)\n",
    "end"
   ]
  },
  {
   "cell_type": "code",
   "execution_count": 7,
   "metadata": {},
   "outputs": [
    {
     "data": {
      "text/plain": [
       "Inference results:\n",
       "-----------------------------------------\n",
       "y1 = NormalWeightedMeanPrecision{Float64}(xi=8.8, w=2.8)\n",
       "x  = MvNormalWeightedMeanPrecision(\n",
       "xi: [1.1666666666669165, 1.0]\n",
       "Λ: [1.0104166666667...\n"
      ]
     },
     "execution_count": 7,
     "metadata": {},
     "output_type": "execute_result"
    }
   ],
   "source": [
    "imarginals = (x = MvNormal(zeros(2), diageye(2)), )\n",
    "\n",
    "result = inference(model = Model(NKS), data=(y2=4.0,), free_energy=false)"
   ]
  },
  {
   "cell_type": "code",
   "execution_count": 8,
   "metadata": {},
   "outputs": [
    {
     "data": {
      "text/plain": [
       "2-element Vector{Float64}:\n",
       " 1.1546391752579255\n",
       " 0.4999999999999999"
      ]
     },
     "execution_count": 8,
     "metadata": {},
     "output_type": "execute_result"
    }
   ],
   "source": [
    "mean(result.posteriors[:x])"
   ]
  },
  {
   "cell_type": "code",
   "execution_count": 9,
   "metadata": {},
   "outputs": [],
   "source": [
    "function f(x)\n",
    "    return sqrt.(x)\n",
    "end\n",
    "\n",
    "\n",
    "@model function NKS()\n",
    "    y2 = datavar(Float64)\n",
    "    c = zeros(2); c[1] = 1.0;\n",
    "\n",
    "    x ~ MvNormal(μ=ones(2), Λ=diageye(2))\n",
    "    z ~ f(x) where {meta=ET()}\n",
    "    y1 ~ Normal(μ=dot(z, c), σ²=1.0)\n",
    "    y2 ~ Normal(μ=y1, σ²=0.5)\n",
    "end"
   ]
  },
  {
   "cell_type": "code",
   "execution_count": 10,
   "metadata": {},
   "outputs": [
    {
     "name": "stdout",
     "output_type": "stream",
     "text": [
      "m_ins = (MvNormalMeanPrecision(\n",
      "μ: [1.0, 1.0]\n",
      "Λ: [1.0 0.0; 0.0 1.0]\n",
      ")\n",
      ",)\n",
      "(A, b) = ([0.5 0.0; 0.0 0.5], [0.5, 0.5])\n",
      "μ_fw_out = [1.0, 1.0]\n"
     ]
    },
    {
     "data": {
      "text/plain": [
       "Inference results:\n",
       "-----------------------------------------\n",
       "y1 = NormalWeightedMeanPrecision{Float64}(xi=2.8, w=2.8)\n",
       "x  = MvNormalWeightedMeanPrecision(\n",
       "xi: [1.1666666666664167, 0.99999999999975]\n",
       "Λ: [1....\n"
      ]
     },
     "execution_count": 10,
     "metadata": {},
     "output_type": "execute_result"
    }
   ],
   "source": [
    "imarginals = (x = MvNormal(zeros(2), diageye(2)), )\n",
    "\n",
    "result = inference(model = Model(NKS), data=(y2=1.0,), free_energy=false)"
   ]
  },
  {
   "cell_type": "code",
   "execution_count": 11,
   "metadata": {},
   "outputs": [
    {
     "data": {
      "text/plain": [
       "2-element Vector{Float64}:\n",
       " 0.9999999999995713\n",
       " 0.9999999999995"
      ]
     },
     "execution_count": 11,
     "metadata": {},
     "output_type": "execute_result"
    }
   ],
   "source": [
    "mean(result.posteriors[:x])"
   ]
  },
  {
   "cell_type": "code",
   "execution_count": 12,
   "metadata": {},
   "outputs": [],
   "source": [
    "function f(x, θ)\n",
    "    return x .+ θ\n",
    "end\n",
    "\n",
    "function f_x(θ, z)\n",
    "    return z .- θ\n",
    "end\n",
    "\n",
    "function f_θ(x, z)\n",
    "    return z .- x\n",
    "end\n",
    "\n",
    "c = randn(2);\n",
    "\n",
    "@model function NKS()\n",
    "    y2 = datavar(Float64)\n",
    "    c = zeros(2); c[1] = 1.0;\n",
    "\n",
    "    θ ~ MvNormal(μ=ones(2), Λ=diageye(2))\n",
    "    x ~ MvNormal(μ=zeros(2), Λ=diageye(2))\n",
    "    z ~ f(x, θ) where {meta=ET(inverse=(f_x, f_θ))}\n",
    "    y1 ~ Normal(μ=dot(z, c), σ²=1.0)\n",
    "    y2 ~ Normal(μ=y1, σ²=0.5)\n",
    "end"
   ]
  },
  {
   "cell_type": "code",
   "execution_count": 14,
   "metadata": {},
   "outputs": [
    {
     "ename": "LoadError",
     "evalue": "RuleMethodError: no method matching rule for the given arguments\n\nPossible fix, define:\n\n@rule DeltaFn{f}(:(:in, k), Marginalisation) (m_out::MvNormalWeightedMeanPrecision, m_ins::Tuple, meta::DeltaExtended{Tuple{typeof(f_x), typeof(f_θ)}}) = begin \n    return ...\nend\n\n",
     "output_type": "error",
     "traceback": [
      "RuleMethodError: no method matching rule for the given arguments\n\nPossible fix, define:\n\n@rule DeltaFn{f}(:(:in, k), Marginalisation) (m_out::MvNormalWeightedMeanPrecision, m_ins::Tuple, meta::DeltaExtended{Tuple{typeof(f_x), typeof(f_θ)}}) = begin \n    return ...\nend\n\n",
      "",
      "Stacktrace:",
      "   [1] rule(fform::Type, on::Tuple{Val{:in}, Int64}, vconstraint::Marginalisation, mnames::Type, messages::Tuple{Message{MvNormalWeightedMeanPrecision{Float64, Vector{Float64}, Matrix{Float64}}}, Tuple{Message{MvNormalMeanPrecision{Float64, Vector{Float64}, Matrix{Float64}}}}}, qnames::Nothing, marginals::Nothing, meta::DeltaExtended{Tuple{typeof(f_x), typeof(f_θ)}}, __node::ReactiveMP.DeltaFnNode{typeof(f), 2, ReactiveMP.FactorNodeLocalMarginals{Tuple{ReactiveMP.FactorNodeLocalMarginal, ReactiveMP.FactorNodeLocalMarginal}}, DeltaExtended{Tuple{typeof(f_x), typeof(f_θ)}}})",
      "     @ ReactiveMP ~/.julia/dev/ReactiveMP/src/rule.jl:847",
      "   [2] materialize!(mapping::ReactiveMP.MessageMapping{DeltaFn{ReactiveMP.DeltaFnCallableWrapper{typeof(f)}}, Tuple{Val{:in}, Int64}, Marginalisation, DataType, Nothing, DeltaExtended{Tuple{typeof(f_x), typeof(f_θ)}}, ReactiveMP.DeltaFnNode{typeof(f), 2, ReactiveMP.FactorNodeLocalMarginals{Tuple{ReactiveMP.FactorNodeLocalMarginal, ReactiveMP.FactorNodeLocalMarginal}}, DeltaExtended{Tuple{typeof(f_x), typeof(f_θ)}}}}, dependencies::Tuple{Tuple{Message{MvNormalWeightedMeanPrecision{Float64, Vector{Float64}, Matrix{Float64}}}, Tuple{Message{MvNormalMeanPrecision{Float64, Vector{Float64}, Matrix{Float64}}}}}, Nothing})",
      "     @ ReactiveMP ~/.julia/dev/ReactiveMP/src/message.jl:290",
      "   [3] materialize!",
      "     @ ~/.julia/dev/ReactiveMP/src/message.jl:192 [inlined]",
      "   [4] as_message(vmessage::VariationalMessage{Tuple{ReactiveMP.MessageObservable{Message}, Rocket.CombineLatestUpdatesObservable{Tuple{ReactiveMP.MessageObservable{Message}}, Rocket.PushNew}}, Nothing, ReactiveMP.MessageMapping{DeltaFn{ReactiveMP.DeltaFnCallableWrapper{typeof(f)}}, Tuple{Val{:in}, Int64}, Marginalisation, DataType, Nothing, DeltaExtended{Tuple{typeof(f_x), typeof(f_θ)}}, ReactiveMP.DeltaFnNode{typeof(f), 2, ReactiveMP.FactorNodeLocalMarginals{Tuple{ReactiveMP.FactorNodeLocalMarginal, ReactiveMP.FactorNodeLocalMarginal}}, DeltaExtended{Tuple{typeof(f_x), typeof(f_θ)}}}}})",
      "     @ ReactiveMP ~/.julia/dev/ReactiveMP/src/message.jl:200",
      "   [5] MappingRF",
      "     @ ./reduce.jl:95 [inlined]",
      "   [6] _foldl_impl(op::Base.MappingRF{typeof(as_message), Base.BottomRF{ReactiveMP.var\"#38#40\"{ProdAnalytical}}}, init::Base._InitialValue, itr::Vector{AbstractMessage})",
      "     @ Base ./reduce.jl:62",
      "   [7] foldl_impl",
      "     @ ./reduce.jl:48 [inlined]",
      "   [8] mapfoldl_impl",
      "     @ ./reduce.jl:44 [inlined]",
      "   [9] #mapfoldl#258",
      "     @ ./reduce.jl:162 [inlined]",
      "  [10] mapfoldl",
      "     @ ./reduce.jl:162 [inlined]",
      "  [11] #foldl#259",
      "     @ ./reduce.jl:185 [inlined]",
      "  [12] foldl",
      "     @ ./reduce.jl:185 [inlined]",
      "  [13] (::ReactiveMP.var\"#37#39\"{ProdAnalytical, UnspecifiedFormConstraint})(messages::Vector{AbstractMessage})",
      "     @ ReactiveMP ~/.julia/dev/ReactiveMP/src/message.jl:114",
      "  [14] (::ReactiveMP.var\"#60#61\"{ReactiveMP.var\"#37#39\"{ProdAnalytical, UnspecifiedFormConstraint}})(messages::Vector{AbstractMessage})",
      "     @ ReactiveMP ~/.julia/dev/ReactiveMP/src/variable.jl:70",
      "  [15] next_received!(wrapper::Rocket.CollectLatestObservableWrapper{AbstractMessage, Rocket.RecentSubjectInstance{Marginal, Rocket.Subject{Marginal, Rocket.AsapScheduler, Rocket.AsapScheduler}}, Vector{AbstractMessage}, BitVector, Vector{Rocket.Teardown}, ReactiveMP.var\"#60#61\"{ReactiveMP.var\"#37#39\"{ProdAnalytical, UnspecifiedFormConstraint}}}, data::VariationalMessage{Tuple{ReactiveMP.MessageObservable{Message}, Rocket.CombineLatestUpdatesObservable{Tuple{ReactiveMP.MessageObservable{Message}}, Rocket.PushNew}}, Nothing, ReactiveMP.MessageMapping{DeltaFn{ReactiveMP.DeltaFnCallableWrapper{typeof(f)}}, Tuple{Val{:in}, Int64}, Marginalisation, DataType, Nothing, DeltaExtended{Tuple{typeof(f_x), typeof(f_θ)}}, ReactiveMP.DeltaFnNode{typeof(f), 2, ReactiveMP.FactorNodeLocalMarginals{Tuple{ReactiveMP.FactorNodeLocalMarginal, ReactiveMP.FactorNodeLocalMarginal}}, DeltaExtended{Tuple{typeof(f_x), typeof(f_θ)}}}}}, index::CartesianIndex{1})",
      "     @ Rocket ~/.julia/packages/Rocket/hszfL/src/observable/collected.jl:97",
      "  [16] on_next!",
      "     @ ~/.julia/packages/Rocket/hszfL/src/observable/collected.jl:87 [inlined]",
      "  [17] scheduled_next!(actor::Rocket.CollectLatestObservableInnerActor{AbstractMessage, CartesianIndex{1}, Rocket.CollectLatestObservableWrapper{AbstractMessage, Rocket.RecentSubjectInstance{Marginal, Rocket.Subject{Marginal, Rocket.AsapScheduler, Rocket.AsapScheduler}}, Vector{AbstractMessage}, BitVector, Vector{Rocket.Teardown}, ReactiveMP.var\"#60#61\"{ReactiveMP.var\"#37#39\"{ProdAnalytical, UnspecifiedFormConstraint}}}}, value::VariationalMessage{Tuple{ReactiveMP.MessageObservable{Message}, Rocket.CombineLatestUpdatesObservable{Tuple{ReactiveMP.MessageObservable{Message}}, Rocket.PushNew}}, Nothing, ReactiveMP.MessageMapping{DeltaFn{ReactiveMP.DeltaFnCallableWrapper{typeof(f)}}, Tuple{Val{:in}, Int64}, Marginalisation, DataType, Nothing, DeltaExtended{Tuple{typeof(f_x), typeof(f_θ)}}, ReactiveMP.DeltaFnNode{typeof(f), 2, ReactiveMP.FactorNodeLocalMarginals{Tuple{ReactiveMP.FactorNodeLocalMarginal, ReactiveMP.FactorNodeLocalMarginal}}, DeltaExtended{Tuple{typeof(f_x), typeof(f_θ)}}}}}, #unused#::Rocket.AsapScheduler)",
      "     @ Rocket ~/.julia/packages/Rocket/hszfL/src/schedulers/asap.jl:23",
      "  [18] on_next!(subject::Rocket.Subject{AbstractMessage, Rocket.AsapScheduler, Rocket.AsapScheduler}, data::VariationalMessage{Tuple{ReactiveMP.MessageObservable{Message}, Rocket.CombineLatestUpdatesObservable{Tuple{ReactiveMP.MessageObservable{Message}}, Rocket.PushNew}}, Nothing, ReactiveMP.MessageMapping{DeltaFn{ReactiveMP.DeltaFnCallableWrapper{typeof(f)}}, Tuple{Val{:in}, Int64}, Marginalisation, DataType, Nothing, DeltaExtended{Tuple{typeof(f_x), typeof(f_θ)}}, ReactiveMP.DeltaFnNode{typeof(f), 2, ReactiveMP.FactorNodeLocalMarginals{Tuple{ReactiveMP.FactorNodeLocalMarginal, ReactiveMP.FactorNodeLocalMarginal}}, DeltaExtended{Tuple{typeof(f_x), typeof(f_θ)}}}}})",
      "     @ Rocket ~/.julia/packages/Rocket/hszfL/src/subjects/subject.jl:62",
      "  [19] actor_on_next!",
      "     @ ~/.julia/packages/Rocket/hszfL/src/actor.jl:250 [inlined]",
      "  [20] next!",
      "     @ ~/.julia/packages/Rocket/hszfL/src/actor.jl:202 [inlined]",
      "  [21] on_next!",
      "     @ ~/.julia/packages/Rocket/hszfL/src/subjects/recent.jl:62 [inlined]",
      "  [22] actor_on_next!",
      "     @ ~/.julia/packages/Rocket/hszfL/src/actor.jl:250 [inlined]",
      "  [23] next!",
      "     @ ~/.julia/packages/Rocket/hszfL/src/actor.jl:202 [inlined]",
      "  [24] on_next!",
      "     @ ~/.julia/packages/Rocket/hszfL/src/operators/map.jl:60 [inlined]",
      "  [25] next!",
      "     @ ~/.julia/packages/Rocket/hszfL/src/actor.jl:206 [inlined]",
      "  [26] next_received!",
      "     @ ~/.julia/packages/Rocket/hszfL/src/observable/combined.jl:101 [inlined]",
      "  [27] on_next!",
      "     @ ~/.julia/packages/Rocket/hszfL/src/observable/combined.jl:68 [inlined]",
      "  [28] next!",
      "     @ ~/.julia/packages/Rocket/hszfL/src/actor.jl:206 [inlined]",
      "  [29] next_received!",
      "     @ ~/.julia/packages/Rocket/hszfL/src/observable/combined_updates.jl:65 [inlined]",
      "  [30] on_next!",
      "     @ ~/.julia/packages/Rocket/hszfL/src/observable/combined_updates.jl:34 [inlined]",
      "  [31] scheduled_next!(actor::Rocket.CombineLatestUpdatesInnerActor{Message, Rocket.CombineLatestUpdatesActorWrapper{Tuple{ReactiveMP.MessageObservable{Message}, Rocket.CombineLatestUpdatesObservable{Tuple{ReactiveMP.MessageObservable{Message}}, Rocket.PushNew}}, Rocket.CombineLatestInnerActor{Tuple{ReactiveMP.MessageObservable{Message}, Rocket.CombineLatestUpdatesObservable{Tuple{ReactiveMP.MessageObservable{Message}}, Rocket.PushNew}}, Rocket.CombineLatestActorWrapper{Rocket.MStorage2{Tuple{ReactiveMP.MessageObservable{Message}, Rocket.CombineLatestUpdatesObservable{Tuple{ReactiveMP.MessageObservable{Message}}, Rocket.PushNew}}, Nothing}, Rocket.MapActor{Tuple{Tuple{ReactiveMP.MessageObservable{Message}, Rocket.CombineLatestUpdatesObservable{Tuple{ReactiveMP.MessageObservable{Message}}, Rocket.PushNew}}, Nothing}, Rocket.RecentSubjectInstance{AbstractMessage, Rocket.Subject{AbstractMessage, Rocket.AsapScheduler, Rocket.AsapScheduler}}, ReactiveMP.var\"#701#704\"{ReactiveMP.MessageMapping{DeltaFn{ReactiveMP.DeltaFnCallableWrapper{typeof(f)}}, Tuple{Val{:in}, Int64}, Marginalisation, DataType, Nothing, DeltaExtended{Tuple{typeof(f_x), typeof(f_θ)}}, ReactiveMP.DeltaFnNode{typeof(f), 2, ReactiveMP.FactorNodeLocalMarginals{Tuple{ReactiveMP.FactorNodeLocalMarginal, ReactiveMP.FactorNodeLocalMarginal}}, DeltaExtended{Tuple{typeof(f_x), typeof(f_θ)}}}}}}, Rocket.PushNew, Rocket.UInt8UpdatesStatus}}, Rocket.PushNew, Rocket.UInt8UpdatesStatus}}, value::Message{MvNormalWeightedMeanPrecision{Float64, Vector{Float64}, Matrix{Float64}}}, #unused#::Rocket.AsapScheduler)",
      "     @ Rocket ~/.julia/packages/Rocket/hszfL/src/schedulers/asap.jl:23",
      "  [32] on_next!(subject::Rocket.Subject{Message, Rocket.AsapScheduler, Rocket.AsapScheduler}, data::Message{MvNormalWeightedMeanPrecision{Float64, Vector{Float64}, Matrix{Float64}}})",
      "     @ Rocket ~/.julia/packages/Rocket/hszfL/src/subjects/subject.jl:62",
      "  [33] actor_on_next!",
      "     @ ~/.julia/packages/Rocket/hszfL/src/actor.jl:250 [inlined]",
      "  [34] next!",
      "     @ ~/.julia/packages/Rocket/hszfL/src/actor.jl:202 [inlined]",
      "  [35] on_next!",
      "     @ ~/.julia/packages/Rocket/hszfL/src/subjects/recent.jl:62 [inlined]",
      "  [36] actor_on_next!",
      "     @ ~/.julia/packages/Rocket/hszfL/src/actor.jl:250 [inlined]",
      "  [37] next!(actor::Rocket.RecentSubjectInstance{Message, Rocket.Subject{Message, Rocket.AsapScheduler, Rocket.AsapScheduler}}, data::Message{MvNormalWeightedMeanPrecision{Float64, Vector{Float64}, Matrix{Float64}}})",
      "     @ Rocket ~/.julia/packages/Rocket/hszfL/src/actor.jl:202",
      "--- the last 23 lines are repeated 2 more times ---",
      "  [84] next_received!(wrapper::Rocket.CollectLatestObservableWrapper{AbstractMessage, Rocket.RecentSubjectInstance{Message, Rocket.Subject{Message, Rocket.AsapScheduler, Rocket.AsapScheduler}}, Vector{AbstractMessage}, BitVector, Vector{Rocket.Teardown}, ReactiveMP.var\"#37#39\"{ProdAnalytical, UnspecifiedFormConstraint}}, data::VariationalMessage{Nothing, Tuple{Rocket.ProxyObservable{Marginal, Rocket.RecentSubjectInstance{Message{PointMass{Float64}}, Rocket.Subject{Message{PointMass{Float64}}, Rocket.AsapScheduler, Rocket.AsapScheduler}}, Rocket.MapProxy{Message{PointMass{Float64}}, typeof(as_marginal)}}, Rocket.SingleObservable{Marginal{PointMass{Float64}}, Rocket.AsapScheduler}}, ReactiveMP.MessageMapping{NormalMeanVariance, DataType, Marginalisation, Nothing, DataType, Nothing, FactorNode{Type{NormalMeanVariance}, Tuple{NodeInterface, NodeInterface, NodeInterface}, Tuple{Tuple{Int64}, Tuple{Int64}, Tuple{Int64}}, ReactiveMP.FactorNodeLocalMarginals{Tuple{ReactiveMP.FactorNodeLocalMarginal, ReactiveMP.FactorNodeLocalMarginal, ReactiveMP.FactorNodeLocalMarginal}}, Nothing, ReactiveMP.FactorNodePipeline{DefaultFunctionalDependencies, EmptyPipelineStage}}}}, index::CartesianIndex{1})",
      "     @ Rocket ~/.julia/packages/Rocket/hszfL/src/observable/collected.jl:97",
      "  [85] on_next!",
      "     @ ~/.julia/packages/Rocket/hszfL/src/observable/collected.jl:87 [inlined]",
      "  [86] scheduled_next!(actor::Rocket.CollectLatestObservableInnerActor{AbstractMessage, CartesianIndex{1}, Rocket.CollectLatestObservableWrapper{AbstractMessage, Rocket.RecentSubjectInstance{Message, Rocket.Subject{Message, Rocket.AsapScheduler, Rocket.AsapScheduler}}, Vector{AbstractMessage}, BitVector, Vector{Rocket.Teardown}, ReactiveMP.var\"#37#39\"{ProdAnalytical, UnspecifiedFormConstraint}}}, value::VariationalMessage{Nothing, Tuple{Rocket.ProxyObservable{Marginal, Rocket.RecentSubjectInstance{Message{PointMass{Float64}}, Rocket.Subject{Message{PointMass{Float64}}, Rocket.AsapScheduler, Rocket.AsapScheduler}}, Rocket.MapProxy{Message{PointMass{Float64}}, typeof(as_marginal)}}, Rocket.SingleObservable{Marginal{PointMass{Float64}}, Rocket.AsapScheduler}}, ReactiveMP.MessageMapping{NormalMeanVariance, DataType, Marginalisation, Nothing, DataType, Nothing, FactorNode{Type{NormalMeanVariance}, Tuple{NodeInterface, NodeInterface, NodeInterface}, Tuple{Tuple{Int64}, Tuple{Int64}, Tuple{Int64}}, ReactiveMP.FactorNodeLocalMarginals{Tuple{ReactiveMP.FactorNodeLocalMarginal, ReactiveMP.FactorNodeLocalMarginal, ReactiveMP.FactorNodeLocalMarginal}}, Nothing, ReactiveMP.FactorNodePipeline{DefaultFunctionalDependencies, EmptyPipelineStage}}}}, #unused#::Rocket.AsapScheduler)",
      "     @ Rocket ~/.julia/packages/Rocket/hszfL/src/schedulers/asap.jl:23",
      "  [87] on_next!(subject::Rocket.Subject{AbstractMessage, Rocket.AsapScheduler, Rocket.AsapScheduler}, data::VariationalMessage{Nothing, Tuple{Rocket.ProxyObservable{Marginal, Rocket.RecentSubjectInstance{Message{PointMass{Float64}}, Rocket.Subject{Message{PointMass{Float64}}, Rocket.AsapScheduler, Rocket.AsapScheduler}}, Rocket.MapProxy{Message{PointMass{Float64}}, typeof(as_marginal)}}, Rocket.SingleObservable{Marginal{PointMass{Float64}}, Rocket.AsapScheduler}}, ReactiveMP.MessageMapping{NormalMeanVariance, DataType, Marginalisation, Nothing, DataType, Nothing, FactorNode{Type{NormalMeanVariance}, Tuple{NodeInterface, NodeInterface, NodeInterface}, Tuple{Tuple{Int64}, Tuple{Int64}, Tuple{Int64}}, ReactiveMP.FactorNodeLocalMarginals{Tuple{ReactiveMP.FactorNodeLocalMarginal, ReactiveMP.FactorNodeLocalMarginal, ReactiveMP.FactorNodeLocalMarginal}}, Nothing, ReactiveMP.FactorNodePipeline{DefaultFunctionalDependencies, EmptyPipelineStage}}}})",
      "     @ Rocket ~/.julia/packages/Rocket/hszfL/src/subjects/subject.jl:62",
      "  [88] actor_on_next!",
      "     @ ~/.julia/packages/Rocket/hszfL/src/actor.jl:250 [inlined]",
      "  [89] next!",
      "     @ ~/.julia/packages/Rocket/hszfL/src/actor.jl:202 [inlined]",
      "  [90] on_next!",
      "     @ ~/.julia/packages/Rocket/hszfL/src/subjects/recent.jl:62 [inlined]",
      "  [91] actor_on_next!",
      "     @ ~/.julia/packages/Rocket/hszfL/src/actor.jl:250 [inlined]",
      "  [92] next!",
      "     @ ~/.julia/packages/Rocket/hszfL/src/actor.jl:202 [inlined]",
      "  [93] on_next!",
      "     @ ~/.julia/packages/Rocket/hszfL/src/operators/map.jl:60 [inlined]",
      "  [94] next!",
      "     @ ~/.julia/packages/Rocket/hszfL/src/actor.jl:206 [inlined]",
      "  [95] next_received!",
      "     @ ~/.julia/packages/Rocket/hszfL/src/observable/combined.jl:101 [inlined]",
      "  [96] on_next!",
      "     @ ~/.julia/packages/Rocket/hszfL/src/observable/combined.jl:68 [inlined]",
      "  [97] next!",
      "     @ ~/.julia/packages/Rocket/hszfL/src/actor.jl:206 [inlined]",
      "  [98] next_received!",
      "     @ ~/.julia/packages/Rocket/hszfL/src/observable/combined_updates.jl:65 [inlined]",
      "  [99] on_next!",
      "     @ ~/.julia/packages/Rocket/hszfL/src/observable/combined_updates.jl:34 [inlined]",
      " [100] next!",
      "     @ ~/.julia/packages/Rocket/hszfL/src/actor.jl:206 [inlined]",
      " [101] on_next!",
      "     @ ~/.julia/packages/Rocket/hszfL/src/operators/map.jl:60 [inlined]",
      " [102] scheduled_next!(actor::Rocket.MapActor{Message{PointMass{Float64}}, Rocket.CombineLatestUpdatesInnerActor{Marginal, Rocket.CombineLatestUpdatesActorWrapper{Tuple{Rocket.ProxyObservable{Marginal, Rocket.RecentSubjectInstance{Message{PointMass{Float64}}, Rocket.Subject{Message{PointMass{Float64}}, Rocket.AsapScheduler, Rocket.AsapScheduler}}, Rocket.MapProxy{Message{PointMass{Float64}}, typeof(as_marginal)}}, Rocket.SingleObservable{Marginal{PointMass{Float64}}, Rocket.AsapScheduler}}, Rocket.CombineLatestInnerActor{Tuple{Rocket.ProxyObservable{Marginal, Rocket.RecentSubjectInstance{Message{PointMass{Float64}}, Rocket.Subject{Message{PointMass{Float64}}, Rocket.AsapScheduler, Rocket.AsapScheduler}}, Rocket.MapProxy{Message{PointMass{Float64}}, typeof(as_marginal)}}, Rocket.SingleObservable{Marginal{PointMass{Float64}}, Rocket.AsapScheduler}}, Rocket.CombineLatestActorWrapper{Rocket.MStorage2{Nothing, Tuple{Rocket.ProxyObservable{Marginal, Rocket.RecentSubjectInstance{Message{PointMass{Float64}}, Rocket.Subject{Message{PointMass{Float64}}, Rocket.AsapScheduler, Rocket.AsapScheduler}}, Rocket.MapProxy{Message{PointMass{Float64}}, typeof(as_marginal)}}, Rocket.SingleObservable{Marginal{PointMass{Float64}}, Rocket.AsapScheduler}}}, Rocket.MapActor{Tuple{Nothing, Tuple{Rocket.ProxyObservable{Marginal, Rocket.RecentSubjectInstance{Message{PointMass{Float64}}, Rocket.Subject{Message{PointMass{Float64}}, Rocket.AsapScheduler, Rocket.AsapScheduler}}, Rocket.MapProxy{Message{PointMass{Float64}}, typeof(as_marginal)}}, Rocket.SingleObservable{Marginal{PointMass{Float64}}, Rocket.AsapScheduler}}}, Rocket.RecentSubjectInstance{AbstractMessage, Rocket.Subject{AbstractMessage, Rocket.AsapScheduler, Rocket.AsapScheduler}}, ReactiveMP.var\"#354#355\"{ReactiveMP.MessageMapping{NormalMeanVariance, DataType, Marginalisation, Nothing, DataType, Nothing, FactorNode{Type{NormalMeanVariance}, Tuple{NodeInterface, NodeInterface, NodeInterface}, Tuple{Tuple{Int64}, Tuple{Int64}, Tuple{Int64}}, ReactiveMP.FactorNodeLocalMarginals{Tuple{ReactiveMP.FactorNodeLocalMarginal, ReactiveMP.FactorNodeLocalMarginal, ReactiveMP.FactorNodeLocalMarginal}}, Nothing, ReactiveMP.FactorNodePipeline{DefaultFunctionalDependencies, EmptyPipelineStage}}}}}, Rocket.PushNew, Rocket.UInt8UpdatesStatus}}, Rocket.PushNew, Rocket.UInt8UpdatesStatus}}, typeof(as_marginal)}, value::Message{PointMass{Float64}}, #unused#::Rocket.AsapScheduler)",
      "     @ Rocket ~/.julia/packages/Rocket/hszfL/src/schedulers/asap.jl:23",
      " [103] on_next!(subject::Rocket.Subject{Message{PointMass{Float64}}, Rocket.AsapScheduler, Rocket.AsapScheduler}, data::Message{PointMass{Float64}})",
      "     @ Rocket ~/.julia/packages/Rocket/hszfL/src/subjects/subject.jl:62",
      " [104] actor_on_next!",
      "     @ ~/.julia/packages/Rocket/hszfL/src/actor.jl:250 [inlined]",
      " [105] next!",
      "     @ ~/.julia/packages/Rocket/hszfL/src/actor.jl:202 [inlined]",
      " [106] on_next!",
      "     @ ~/.julia/packages/Rocket/hszfL/src/subjects/recent.jl:62 [inlined]",
      " [107] actor_on_next!",
      "     @ ~/.julia/packages/Rocket/hszfL/src/actor.jl:250 [inlined]",
      " [108] next!",
      "     @ ~/.julia/packages/Rocket/hszfL/src/actor.jl:202 [inlined]",
      " [109] update!",
      "     @ ~/.julia/dev/ReactiveMP/src/variables/data.jl:145 [inlined]",
      " [110] update!(datavar::DataVariable{PointMass{Float64}, Rocket.RecentSubjectInstance{Message{PointMass{Float64}}, Rocket.Subject{Message{PointMass{Float64}}, Rocket.AsapScheduler, Rocket.AsapScheduler}}}, data::Float64)",
      "     @ ReactiveMP ~/.julia/dev/ReactiveMP/src/variables/data.jl:120",
      " [111] inference(; model::ReactiveMP.ModelGenerator{NKS, Tuple{}, Base.Pairs{Symbol, Union{}, Tuple{}, NamedTuple{(), Tuple{}}}, Nothing, Nothing, Nothing}, data::NamedTuple{(:y2,), Tuple{Float64}}, initmarginals::Nothing, initmessages::Nothing, constraints::Nothing, meta::Nothing, options::NamedTuple{(), Tuple{}}, returnvars::Nothing, iterations::Nothing, free_energy::Bool, free_energy_diagnostics::Tuple{BetheFreeEnergyCheckNaNs, BetheFreeEnergyCheckInfs}, showprogress::Bool, callbacks::Nothing, warn::Bool)",
      "     @ ReactiveMP ~/.julia/dev/ReactiveMP/src/inference.jl:435",
      " [112] top-level scope",
      "     @ In[14]:3",
      " [113] eval",
      "     @ ./boot.jl:368 [inlined]"
     ]
    }
   ],
   "source": [
    "imarginals = (x = MvNormal(zeros(2), diageye(2)), )\n",
    "\n",
    "result = inference(model = Model(NKS), data=(y2=1.0,), free_energy=false)"
   ]
  },
  {
   "cell_type": "code",
   "execution_count": 16,
   "metadata": {},
   "outputs": [],
   "source": [
    "function f(x, θ, ζ)\n",
    "    return x .+ θ .+ ζ\n",
    "end\n",
    "\n",
    "\n",
    "@model function NKS()\n",
    "    y2 = datavar(Float64)\n",
    "    c = zeros(2); c[1] = 1.0;\n",
    "\n",
    "    θ ~ MvNormal(μ=ones(2), Λ=diageye(2))\n",
    "    ζ ~ MvNormal(μ=0.5ones(2), Λ=diageye(2))\n",
    "    x ~ MvNormal(μ=zeros(2), Λ=diageye(2))\n",
    "    z ~ f(x, θ, ζ) where {meta=ET()}\n",
    "    y1 ~ Normal(μ=dot(z, c), σ²=1.0)\n",
    "    y2 ~ Normal(μ=y1, σ²=0.5)\n",
    "end"
   ]
  },
  {
   "cell_type": "code",
   "execution_count": 17,
   "metadata": {},
   "outputs": [
    {
     "data": {
      "text/plain": [
       "Inference results:\n",
       "-----------------------------------------\n",
       "y1 = NormalWeightedMeanPrecision{Float64}(xi=2.375, w=2.25)\n",
       "ζ  = MvNormalWeightedMeanPrecision(\n",
       "xi: [0.4999999999995714, 0.49999999999900013]\n",
       "Λ: ...\n",
       "θ  = MvNormalWeightedMeanPrecision(\n",
       "xi: [1.1428571428568057, 0.9999999999995002]\n",
       "Λ: [...\n",
       "x  = MvNormalWeightedMeanPrecision(\n",
       "xi: [-0.14285714285766313, -1.499911306270087e-12...\n"
      ]
     },
     "execution_count": 17,
     "metadata": {},
     "output_type": "execute_result"
    }
   ],
   "source": [
    "imarginals = (x = MvNormal(zeros(2), diageye(2)), )\n",
    "\n",
    "result = inference(model = Model(NKS), data=(y2=1.0,), free_energy=false)"
   ]
  },
  {
   "cell_type": "markdown",
   "metadata": {},
   "source": [
    "### UT"
   ]
  },
  {
   "cell_type": "code",
   "execution_count": 18,
   "metadata": {},
   "outputs": [],
   "source": [
    "function f(x)\n",
    "    return x\n",
    "end\n",
    "\n",
    "function f_inv(x)\n",
    "    return x\n",
    "end\n",
    "\n",
    "c = randn(2);\n",
    "\n",
    "@model function NKS()\n",
    "    y2 = datavar(Float64)\n",
    "    c = zeros(2); c[1] = 1.0;\n",
    "\n",
    "    # γ ~ Gamma(α=1.0, β=1.0)\n",
    "    x ~ MvNormal(μ=zeros(2), Λ=diageye(2))\n",
    "    z ~ f(x) where {meta=UT(inverse=f_inv)}\n",
    "    y1 ~ Normal(μ=dot(z, c), σ²=1.0)\n",
    "    y2 ~ Normal(μ=y1, σ²=0.5)\n",
    "end"
   ]
  },
  {
   "cell_type": "code",
   "execution_count": 19,
   "metadata": {},
   "outputs": [
    {
     "name": "stdout",
     "output_type": "stream",
     "text": [
      "(μ_tilde, Σ_tilde, _) = unscentedStatistics(μ_fw_in1, Σ_fw_in1, f; alpha = meta.alpha, beta = meta.beta, kappa = meta.kappa) = ([0.0, 0.0], [1.0 0.0; 0.0 1.0], [1.0 0.0; 0.0 1.0])\n"
     ]
    },
    {
     "data": {
      "text/plain": [
       "Inference results:\n",
       "-----------------------------------------\n",
       "y1 = NormalWeightedMeanPrecision{Float64}(xi=2.0, w=2.5)\n",
       "x  = MvNormalWeightedMeanPrecision(\n",
       "xi: [0.6666666666676693, 0.0]\n",
       "Λ: [1.6666666666676...\n"
      ]
     },
     "execution_count": 19,
     "metadata": {},
     "output_type": "execute_result"
    }
   ],
   "source": [
    "imarginals = (x = MvNormal(zeros(2), diageye(2)), )\n",
    "\n",
    "result = inference(model = Model(NKS), data=(y2=1.0,), free_energy=false)"
   ]
  },
  {
   "cell_type": "code",
   "execution_count": 20,
   "metadata": {},
   "outputs": [],
   "source": [
    "function f(x)\n",
    "    return x.^2\n",
    "end\n",
    "\n",
    "c = randn(2);\n",
    "\n",
    "@model function NKS()\n",
    "    y2 = datavar(Float64)\n",
    "    c = zeros(2); c[1] = 1.0;\n",
    "\n",
    "    x ~ MvNormal(μ=zeros(2), Λ=diageye(2))\n",
    "    z ~ f(x) where {meta=UT()}\n",
    "    y1 ~ Normal(μ=dot(z, c), σ²=1.0)\n",
    "    y2 ~ Normal(μ=y1, σ²=0.5)\n",
    "end"
   ]
  },
  {
   "cell_type": "code",
   "execution_count": 21,
   "metadata": {},
   "outputs": [
    {
     "name": "stdout",
     "output_type": "stream",
     "text": [
      "(μ_tilde, Σ_tilde, _) = unscentedStatistics(μ_fw_in1, Σ_fw_in1, f; alpha = meta.alpha, beta = meta.beta, kappa = meta.kappa) = ([1.0, 1.0], [2.000001000065822 1.9999990000505932; 1.9999990000505932 2.000001000065822], [0.0 0.0; 0.0 0.0])\n",
      "(μ_tilde, Σ_tilde, C_tilde) = ([1.0, 1.0], [2.000001000065822 1.9999990000505932; 1.9999990000505932 2.000001000065822], [0.0 0.0; 0.0 0.0])\n",
      "(μ_in, Σ_in) = ([0.0, 0.0], [1.0 0.0; 0.0 1.0])\n",
      "(μ_in, Σ_in) = mean_cov(q_ins) = ([0.0, 0.0], [1.0 -0.0; -0.0 1.0])\n"
     ]
    },
    {
     "data": {
      "text/plain": [
       "Inference results:\n",
       "-----------------------------------------\n",
       "y1 = NormalWeightedMeanPrecision{Float64}(xi=2.3333332222149457, w=2.3333332222149457...\n",
       "x  = MvNormalWeightedMeanPrecision(\n",
       "xi: [0.0, 0.0]\n",
       "Λ: [1.0 0.0; 0.0 1.0]\n",
       ")\n",
       "\n"
      ]
     },
     "execution_count": 21,
     "metadata": {},
     "output_type": "execute_result"
    }
   ],
   "source": [
    "imarginals = (x = MvNormal(zeros(2), diageye(2)), )\n",
    "\n",
    "result = inference(model = Model(NKS), data=(y2=1.0,), free_energy=false)"
   ]
  },
  {
   "cell_type": "code",
   "execution_count": 22,
   "metadata": {},
   "outputs": [],
   "source": [
    "function f(x, θ)\n",
    "    return x .+ θ\n",
    "end\n",
    "\n",
    "function f_x(θ, z)\n",
    "    return z .- θ\n",
    "end\n",
    "\n",
    "function f_θ(x, z)\n",
    "    return z .- x\n",
    "end\n",
    "\n",
    "c = randn(2);\n",
    "\n",
    "@model function NKS()\n",
    "    y2 = datavar(Float64)\n",
    "    c = zeros(2); c[1] = 1.0;\n",
    "\n",
    "    θ ~ MvNormal(μ=ones(2), Λ=diageye(2))\n",
    "    x ~ MvNormal(μ=zeros(2), Λ=diageye(2))\n",
    "    z ~ f(x, θ) where {meta=UT(inverse=(f_x, f_θ))}\n",
    "    y1 ~ Normal(μ=dot(z, c), σ²=1.0)\n",
    "    y2 ~ Normal(μ=y1, σ²=0.5)\n",
    "end"
   ]
  },
  {
   "cell_type": "code",
   "execution_count": 23,
   "metadata": {},
   "outputs": [
    {
     "ename": "LoadError",
     "evalue": "RuleMethodError: no method matching rule for the given arguments\n\nPossible fix, define:\n\n@rule DeltaFn{f}(:(:in, k), Marginalisation) (m_out::MvNormalWeightedMeanPrecision, m_ins::Tuple, meta::DeltaUnscented{Tuple{typeof(f_x), typeof(f_θ)}}) = begin \n    return ...\nend\n\n",
     "output_type": "error",
     "traceback": [
      "RuleMethodError: no method matching rule for the given arguments\n\nPossible fix, define:\n\n@rule DeltaFn{f}(:(:in, k), Marginalisation) (m_out::MvNormalWeightedMeanPrecision, m_ins::Tuple, meta::DeltaUnscented{Tuple{typeof(f_x), typeof(f_θ)}}) = begin \n    return ...\nend\n\n",
      "",
      "Stacktrace:",
      "   [1] rule(fform::Type, on::Tuple{Val{:in}, Int64}, vconstraint::Marginalisation, mnames::Type, messages::Tuple{Message{MvNormalWeightedMeanPrecision{Float64, Vector{Float64}, Matrix{Float64}}}, Tuple{Message{MvNormalMeanPrecision{Float64, Vector{Float64}, Matrix{Float64}}}}}, qnames::Nothing, marginals::Nothing, meta::DeltaUnscented{Tuple{typeof(f_x), typeof(f_θ)}}, __node::ReactiveMP.DeltaFnNode{typeof(f), 2, ReactiveMP.FactorNodeLocalMarginals{Tuple{ReactiveMP.FactorNodeLocalMarginal, ReactiveMP.FactorNodeLocalMarginal}}, DeltaUnscented{Tuple{typeof(f_x), typeof(f_θ)}}})",
      "     @ ReactiveMP ~/.julia/dev/ReactiveMP/src/rule.jl:847",
      "   [2] materialize!(mapping::ReactiveMP.MessageMapping{DeltaFn{ReactiveMP.DeltaFnCallableWrapper{typeof(f)}}, Tuple{Val{:in}, Int64}, Marginalisation, DataType, Nothing, DeltaUnscented{Tuple{typeof(f_x), typeof(f_θ)}}, ReactiveMP.DeltaFnNode{typeof(f), 2, ReactiveMP.FactorNodeLocalMarginals{Tuple{ReactiveMP.FactorNodeLocalMarginal, ReactiveMP.FactorNodeLocalMarginal}}, DeltaUnscented{Tuple{typeof(f_x), typeof(f_θ)}}}}, dependencies::Tuple{Tuple{Message{MvNormalWeightedMeanPrecision{Float64, Vector{Float64}, Matrix{Float64}}}, Tuple{Message{MvNormalMeanPrecision{Float64, Vector{Float64}, Matrix{Float64}}}}}, Nothing})",
      "     @ ReactiveMP ~/.julia/dev/ReactiveMP/src/message.jl:290",
      "   [3] materialize!",
      "     @ ~/.julia/dev/ReactiveMP/src/message.jl:192 [inlined]",
      "   [4] as_message(vmessage::VariationalMessage{Tuple{ReactiveMP.MessageObservable{Message}, Rocket.CombineLatestUpdatesObservable{Tuple{ReactiveMP.MessageObservable{Message}}, Rocket.PushNew}}, Nothing, ReactiveMP.MessageMapping{DeltaFn{ReactiveMP.DeltaFnCallableWrapper{typeof(f)}}, Tuple{Val{:in}, Int64}, Marginalisation, DataType, Nothing, DeltaUnscented{Tuple{typeof(f_x), typeof(f_θ)}}, ReactiveMP.DeltaFnNode{typeof(f), 2, ReactiveMP.FactorNodeLocalMarginals{Tuple{ReactiveMP.FactorNodeLocalMarginal, ReactiveMP.FactorNodeLocalMarginal}}, DeltaUnscented{Tuple{typeof(f_x), typeof(f_θ)}}}}})",
      "     @ ReactiveMP ~/.julia/dev/ReactiveMP/src/message.jl:200",
      "   [5] MappingRF",
      "     @ ./reduce.jl:95 [inlined]",
      "   [6] _foldl_impl(op::Base.MappingRF{typeof(as_message), Base.BottomRF{ReactiveMP.var\"#38#40\"{ProdAnalytical}}}, init::Base._InitialValue, itr::Vector{AbstractMessage})",
      "     @ Base ./reduce.jl:62",
      "   [7] foldl_impl",
      "     @ ./reduce.jl:48 [inlined]",
      "   [8] mapfoldl_impl",
      "     @ ./reduce.jl:44 [inlined]",
      "   [9] #mapfoldl#258",
      "     @ ./reduce.jl:162 [inlined]",
      "  [10] mapfoldl",
      "     @ ./reduce.jl:162 [inlined]",
      "  [11] #foldl#259",
      "     @ ./reduce.jl:185 [inlined]",
      "  [12] foldl",
      "     @ ./reduce.jl:185 [inlined]",
      "  [13] (::ReactiveMP.var\"#37#39\"{ProdAnalytical, UnspecifiedFormConstraint})(messages::Vector{AbstractMessage})",
      "     @ ReactiveMP ~/.julia/dev/ReactiveMP/src/message.jl:114",
      "  [14] (::ReactiveMP.var\"#60#61\"{ReactiveMP.var\"#37#39\"{ProdAnalytical, UnspecifiedFormConstraint}})(messages::Vector{AbstractMessage})",
      "     @ ReactiveMP ~/.julia/dev/ReactiveMP/src/variable.jl:70",
      "  [15] next_received!(wrapper::Rocket.CollectLatestObservableWrapper{AbstractMessage, Rocket.RecentSubjectInstance{Marginal, Rocket.Subject{Marginal, Rocket.AsapScheduler, Rocket.AsapScheduler}}, Vector{AbstractMessage}, BitVector, Vector{Rocket.Teardown}, ReactiveMP.var\"#60#61\"{ReactiveMP.var\"#37#39\"{ProdAnalytical, UnspecifiedFormConstraint}}}, data::VariationalMessage{Tuple{ReactiveMP.MessageObservable{Message}, Rocket.CombineLatestUpdatesObservable{Tuple{ReactiveMP.MessageObservable{Message}}, Rocket.PushNew}}, Nothing, ReactiveMP.MessageMapping{DeltaFn{ReactiveMP.DeltaFnCallableWrapper{typeof(f)}}, Tuple{Val{:in}, Int64}, Marginalisation, DataType, Nothing, DeltaUnscented{Tuple{typeof(f_x), typeof(f_θ)}}, ReactiveMP.DeltaFnNode{typeof(f), 2, ReactiveMP.FactorNodeLocalMarginals{Tuple{ReactiveMP.FactorNodeLocalMarginal, ReactiveMP.FactorNodeLocalMarginal}}, DeltaUnscented{Tuple{typeof(f_x), typeof(f_θ)}}}}}, index::CartesianIndex{1})",
      "     @ Rocket ~/.julia/packages/Rocket/hszfL/src/observable/collected.jl:97",
      "  [16] on_next!",
      "     @ ~/.julia/packages/Rocket/hszfL/src/observable/collected.jl:87 [inlined]",
      "  [17] scheduled_next!(actor::Rocket.CollectLatestObservableInnerActor{AbstractMessage, CartesianIndex{1}, Rocket.CollectLatestObservableWrapper{AbstractMessage, Rocket.RecentSubjectInstance{Marginal, Rocket.Subject{Marginal, Rocket.AsapScheduler, Rocket.AsapScheduler}}, Vector{AbstractMessage}, BitVector, Vector{Rocket.Teardown}, ReactiveMP.var\"#60#61\"{ReactiveMP.var\"#37#39\"{ProdAnalytical, UnspecifiedFormConstraint}}}}, value::VariationalMessage{Tuple{ReactiveMP.MessageObservable{Message}, Rocket.CombineLatestUpdatesObservable{Tuple{ReactiveMP.MessageObservable{Message}}, Rocket.PushNew}}, Nothing, ReactiveMP.MessageMapping{DeltaFn{ReactiveMP.DeltaFnCallableWrapper{typeof(f)}}, Tuple{Val{:in}, Int64}, Marginalisation, DataType, Nothing, DeltaUnscented{Tuple{typeof(f_x), typeof(f_θ)}}, ReactiveMP.DeltaFnNode{typeof(f), 2, ReactiveMP.FactorNodeLocalMarginals{Tuple{ReactiveMP.FactorNodeLocalMarginal, ReactiveMP.FactorNodeLocalMarginal}}, DeltaUnscented{Tuple{typeof(f_x), typeof(f_θ)}}}}}, #unused#::Rocket.AsapScheduler)",
      "     @ Rocket ~/.julia/packages/Rocket/hszfL/src/schedulers/asap.jl:23",
      "  [18] on_next!(subject::Rocket.Subject{AbstractMessage, Rocket.AsapScheduler, Rocket.AsapScheduler}, data::VariationalMessage{Tuple{ReactiveMP.MessageObservable{Message}, Rocket.CombineLatestUpdatesObservable{Tuple{ReactiveMP.MessageObservable{Message}}, Rocket.PushNew}}, Nothing, ReactiveMP.MessageMapping{DeltaFn{ReactiveMP.DeltaFnCallableWrapper{typeof(f)}}, Tuple{Val{:in}, Int64}, Marginalisation, DataType, Nothing, DeltaUnscented{Tuple{typeof(f_x), typeof(f_θ)}}, ReactiveMP.DeltaFnNode{typeof(f), 2, ReactiveMP.FactorNodeLocalMarginals{Tuple{ReactiveMP.FactorNodeLocalMarginal, ReactiveMP.FactorNodeLocalMarginal}}, DeltaUnscented{Tuple{typeof(f_x), typeof(f_θ)}}}}})",
      "     @ Rocket ~/.julia/packages/Rocket/hszfL/src/subjects/subject.jl:62",
      "  [19] actor_on_next!",
      "     @ ~/.julia/packages/Rocket/hszfL/src/actor.jl:250 [inlined]",
      "  [20] next!",
      "     @ ~/.julia/packages/Rocket/hszfL/src/actor.jl:202 [inlined]",
      "  [21] on_next!",
      "     @ ~/.julia/packages/Rocket/hszfL/src/subjects/recent.jl:62 [inlined]",
      "  [22] actor_on_next!",
      "     @ ~/.julia/packages/Rocket/hszfL/src/actor.jl:250 [inlined]",
      "  [23] next!",
      "     @ ~/.julia/packages/Rocket/hszfL/src/actor.jl:202 [inlined]",
      "  [24] on_next!",
      "     @ ~/.julia/packages/Rocket/hszfL/src/operators/map.jl:60 [inlined]",
      "  [25] next!",
      "     @ ~/.julia/packages/Rocket/hszfL/src/actor.jl:206 [inlined]",
      "  [26] next_received!",
      "     @ ~/.julia/packages/Rocket/hszfL/src/observable/combined.jl:101 [inlined]",
      "  [27] on_next!",
      "     @ ~/.julia/packages/Rocket/hszfL/src/observable/combined.jl:68 [inlined]",
      "  [28] next!",
      "     @ ~/.julia/packages/Rocket/hszfL/src/actor.jl:206 [inlined]",
      "  [29] next_received!",
      "     @ ~/.julia/packages/Rocket/hszfL/src/observable/combined_updates.jl:65 [inlined]",
      "  [30] on_next!",
      "     @ ~/.julia/packages/Rocket/hszfL/src/observable/combined_updates.jl:34 [inlined]",
      "  [31] scheduled_next!(actor::Rocket.CombineLatestUpdatesInnerActor{Message, Rocket.CombineLatestUpdatesActorWrapper{Tuple{ReactiveMP.MessageObservable{Message}, Rocket.CombineLatestUpdatesObservable{Tuple{ReactiveMP.MessageObservable{Message}}, Rocket.PushNew}}, Rocket.CombineLatestInnerActor{Tuple{ReactiveMP.MessageObservable{Message}, Rocket.CombineLatestUpdatesObservable{Tuple{ReactiveMP.MessageObservable{Message}}, Rocket.PushNew}}, Rocket.CombineLatestActorWrapper{Rocket.MStorage2{Tuple{ReactiveMP.MessageObservable{Message}, Rocket.CombineLatestUpdatesObservable{Tuple{ReactiveMP.MessageObservable{Message}}, Rocket.PushNew}}, Nothing}, Rocket.MapActor{Tuple{Tuple{ReactiveMP.MessageObservable{Message}, Rocket.CombineLatestUpdatesObservable{Tuple{ReactiveMP.MessageObservable{Message}}, Rocket.PushNew}}, Nothing}, Rocket.RecentSubjectInstance{AbstractMessage, Rocket.Subject{AbstractMessage, Rocket.AsapScheduler, Rocket.AsapScheduler}}, ReactiveMP.var\"#715#718\"{ReactiveMP.MessageMapping{DeltaFn{ReactiveMP.DeltaFnCallableWrapper{typeof(f)}}, Tuple{Val{:in}, Int64}, Marginalisation, DataType, Nothing, DeltaUnscented{Tuple{typeof(f_x), typeof(f_θ)}}, ReactiveMP.DeltaFnNode{typeof(f), 2, ReactiveMP.FactorNodeLocalMarginals{Tuple{ReactiveMP.FactorNodeLocalMarginal, ReactiveMP.FactorNodeLocalMarginal}}, DeltaUnscented{Tuple{typeof(f_x), typeof(f_θ)}}}}}}, Rocket.PushNew, Rocket.UInt8UpdatesStatus}}, Rocket.PushNew, Rocket.UInt8UpdatesStatus}}, value::Message{MvNormalWeightedMeanPrecision{Float64, Vector{Float64}, Matrix{Float64}}}, #unused#::Rocket.AsapScheduler)",
      "     @ Rocket ~/.julia/packages/Rocket/hszfL/src/schedulers/asap.jl:23",
      "  [32] on_next!(subject::Rocket.Subject{Message, Rocket.AsapScheduler, Rocket.AsapScheduler}, data::Message{MvNormalWeightedMeanPrecision{Float64, Vector{Float64}, Matrix{Float64}}})",
      "     @ Rocket ~/.julia/packages/Rocket/hszfL/src/subjects/subject.jl:62",
      "  [33] actor_on_next!",
      "     @ ~/.julia/packages/Rocket/hszfL/src/actor.jl:250 [inlined]",
      "  [34] next!",
      "     @ ~/.julia/packages/Rocket/hszfL/src/actor.jl:202 [inlined]",
      "  [35] on_next!",
      "     @ ~/.julia/packages/Rocket/hszfL/src/subjects/recent.jl:62 [inlined]",
      "  [36] actor_on_next!",
      "     @ ~/.julia/packages/Rocket/hszfL/src/actor.jl:250 [inlined]",
      "  [37] next!(actor::Rocket.RecentSubjectInstance{Message, Rocket.Subject{Message, Rocket.AsapScheduler, Rocket.AsapScheduler}}, data::Message{MvNormalWeightedMeanPrecision{Float64, Vector{Float64}, Matrix{Float64}}})",
      "     @ Rocket ~/.julia/packages/Rocket/hszfL/src/actor.jl:202",
      "--- the last 23 lines are repeated 2 more times ---",
      "  [84] next_received!(wrapper::Rocket.CollectLatestObservableWrapper{AbstractMessage, Rocket.RecentSubjectInstance{Message, Rocket.Subject{Message, Rocket.AsapScheduler, Rocket.AsapScheduler}}, Vector{AbstractMessage}, BitVector, Vector{Rocket.Teardown}, ReactiveMP.var\"#37#39\"{ProdAnalytical, UnspecifiedFormConstraint}}, data::VariationalMessage{Nothing, Tuple{Rocket.ProxyObservable{Marginal, Rocket.RecentSubjectInstance{Message{PointMass{Float64}}, Rocket.Subject{Message{PointMass{Float64}}, Rocket.AsapScheduler, Rocket.AsapScheduler}}, Rocket.MapProxy{Message{PointMass{Float64}}, typeof(as_marginal)}}, Rocket.SingleObservable{Marginal{PointMass{Float64}}, Rocket.AsapScheduler}}, ReactiveMP.MessageMapping{NormalMeanVariance, DataType, Marginalisation, Nothing, DataType, Nothing, FactorNode{Type{NormalMeanVariance}, Tuple{NodeInterface, NodeInterface, NodeInterface}, Tuple{Tuple{Int64}, Tuple{Int64}, Tuple{Int64}}, ReactiveMP.FactorNodeLocalMarginals{Tuple{ReactiveMP.FactorNodeLocalMarginal, ReactiveMP.FactorNodeLocalMarginal, ReactiveMP.FactorNodeLocalMarginal}}, Nothing, ReactiveMP.FactorNodePipeline{DefaultFunctionalDependencies, EmptyPipelineStage}}}}, index::CartesianIndex{1})",
      "     @ Rocket ~/.julia/packages/Rocket/hszfL/src/observable/collected.jl:97",
      "  [85] on_next!",
      "     @ ~/.julia/packages/Rocket/hszfL/src/observable/collected.jl:87 [inlined]",
      "  [86] scheduled_next!(actor::Rocket.CollectLatestObservableInnerActor{AbstractMessage, CartesianIndex{1}, Rocket.CollectLatestObservableWrapper{AbstractMessage, Rocket.RecentSubjectInstance{Message, Rocket.Subject{Message, Rocket.AsapScheduler, Rocket.AsapScheduler}}, Vector{AbstractMessage}, BitVector, Vector{Rocket.Teardown}, ReactiveMP.var\"#37#39\"{ProdAnalytical, UnspecifiedFormConstraint}}}, value::VariationalMessage{Nothing, Tuple{Rocket.ProxyObservable{Marginal, Rocket.RecentSubjectInstance{Message{PointMass{Float64}}, Rocket.Subject{Message{PointMass{Float64}}, Rocket.AsapScheduler, Rocket.AsapScheduler}}, Rocket.MapProxy{Message{PointMass{Float64}}, typeof(as_marginal)}}, Rocket.SingleObservable{Marginal{PointMass{Float64}}, Rocket.AsapScheduler}}, ReactiveMP.MessageMapping{NormalMeanVariance, DataType, Marginalisation, Nothing, DataType, Nothing, FactorNode{Type{NormalMeanVariance}, Tuple{NodeInterface, NodeInterface, NodeInterface}, Tuple{Tuple{Int64}, Tuple{Int64}, Tuple{Int64}}, ReactiveMP.FactorNodeLocalMarginals{Tuple{ReactiveMP.FactorNodeLocalMarginal, ReactiveMP.FactorNodeLocalMarginal, ReactiveMP.FactorNodeLocalMarginal}}, Nothing, ReactiveMP.FactorNodePipeline{DefaultFunctionalDependencies, EmptyPipelineStage}}}}, #unused#::Rocket.AsapScheduler)",
      "     @ Rocket ~/.julia/packages/Rocket/hszfL/src/schedulers/asap.jl:23",
      "  [87] on_next!(subject::Rocket.Subject{AbstractMessage, Rocket.AsapScheduler, Rocket.AsapScheduler}, data::VariationalMessage{Nothing, Tuple{Rocket.ProxyObservable{Marginal, Rocket.RecentSubjectInstance{Message{PointMass{Float64}}, Rocket.Subject{Message{PointMass{Float64}}, Rocket.AsapScheduler, Rocket.AsapScheduler}}, Rocket.MapProxy{Message{PointMass{Float64}}, typeof(as_marginal)}}, Rocket.SingleObservable{Marginal{PointMass{Float64}}, Rocket.AsapScheduler}}, ReactiveMP.MessageMapping{NormalMeanVariance, DataType, Marginalisation, Nothing, DataType, Nothing, FactorNode{Type{NormalMeanVariance}, Tuple{NodeInterface, NodeInterface, NodeInterface}, Tuple{Tuple{Int64}, Tuple{Int64}, Tuple{Int64}}, ReactiveMP.FactorNodeLocalMarginals{Tuple{ReactiveMP.FactorNodeLocalMarginal, ReactiveMP.FactorNodeLocalMarginal, ReactiveMP.FactorNodeLocalMarginal}}, Nothing, ReactiveMP.FactorNodePipeline{DefaultFunctionalDependencies, EmptyPipelineStage}}}})",
      "     @ Rocket ~/.julia/packages/Rocket/hszfL/src/subjects/subject.jl:62",
      "  [88] actor_on_next!",
      "     @ ~/.julia/packages/Rocket/hszfL/src/actor.jl:250 [inlined]",
      "  [89] next!",
      "     @ ~/.julia/packages/Rocket/hszfL/src/actor.jl:202 [inlined]",
      "  [90] on_next!",
      "     @ ~/.julia/packages/Rocket/hszfL/src/subjects/recent.jl:62 [inlined]",
      "  [91] actor_on_next!",
      "     @ ~/.julia/packages/Rocket/hszfL/src/actor.jl:250 [inlined]",
      "  [92] next!",
      "     @ ~/.julia/packages/Rocket/hszfL/src/actor.jl:202 [inlined]",
      "  [93] on_next!",
      "     @ ~/.julia/packages/Rocket/hszfL/src/operators/map.jl:60 [inlined]",
      "  [94] next!",
      "     @ ~/.julia/packages/Rocket/hszfL/src/actor.jl:206 [inlined]",
      "  [95] next_received!",
      "     @ ~/.julia/packages/Rocket/hszfL/src/observable/combined.jl:101 [inlined]",
      "  [96] on_next!",
      "     @ ~/.julia/packages/Rocket/hszfL/src/observable/combined.jl:68 [inlined]",
      "  [97] next!",
      "     @ ~/.julia/packages/Rocket/hszfL/src/actor.jl:206 [inlined]",
      "  [98] next_received!",
      "     @ ~/.julia/packages/Rocket/hszfL/src/observable/combined_updates.jl:65 [inlined]",
      "  [99] on_next!",
      "     @ ~/.julia/packages/Rocket/hszfL/src/observable/combined_updates.jl:34 [inlined]",
      " [100] next!",
      "     @ ~/.julia/packages/Rocket/hszfL/src/actor.jl:206 [inlined]",
      " [101] on_next!",
      "     @ ~/.julia/packages/Rocket/hszfL/src/operators/map.jl:60 [inlined]",
      " [102] scheduled_next!(actor::Rocket.MapActor{Message{PointMass{Float64}}, Rocket.CombineLatestUpdatesInnerActor{Marginal, Rocket.CombineLatestUpdatesActorWrapper{Tuple{Rocket.ProxyObservable{Marginal, Rocket.RecentSubjectInstance{Message{PointMass{Float64}}, Rocket.Subject{Message{PointMass{Float64}}, Rocket.AsapScheduler, Rocket.AsapScheduler}}, Rocket.MapProxy{Message{PointMass{Float64}}, typeof(as_marginal)}}, Rocket.SingleObservable{Marginal{PointMass{Float64}}, Rocket.AsapScheduler}}, Rocket.CombineLatestInnerActor{Tuple{Rocket.ProxyObservable{Marginal, Rocket.RecentSubjectInstance{Message{PointMass{Float64}}, Rocket.Subject{Message{PointMass{Float64}}, Rocket.AsapScheduler, Rocket.AsapScheduler}}, Rocket.MapProxy{Message{PointMass{Float64}}, typeof(as_marginal)}}, Rocket.SingleObservable{Marginal{PointMass{Float64}}, Rocket.AsapScheduler}}, Rocket.CombineLatestActorWrapper{Rocket.MStorage2{Nothing, Tuple{Rocket.ProxyObservable{Marginal, Rocket.RecentSubjectInstance{Message{PointMass{Float64}}, Rocket.Subject{Message{PointMass{Float64}}, Rocket.AsapScheduler, Rocket.AsapScheduler}}, Rocket.MapProxy{Message{PointMass{Float64}}, typeof(as_marginal)}}, Rocket.SingleObservable{Marginal{PointMass{Float64}}, Rocket.AsapScheduler}}}, Rocket.MapActor{Tuple{Nothing, Tuple{Rocket.ProxyObservable{Marginal, Rocket.RecentSubjectInstance{Message{PointMass{Float64}}, Rocket.Subject{Message{PointMass{Float64}}, Rocket.AsapScheduler, Rocket.AsapScheduler}}, Rocket.MapProxy{Message{PointMass{Float64}}, typeof(as_marginal)}}, Rocket.SingleObservable{Marginal{PointMass{Float64}}, Rocket.AsapScheduler}}}, Rocket.RecentSubjectInstance{AbstractMessage, Rocket.Subject{AbstractMessage, Rocket.AsapScheduler, Rocket.AsapScheduler}}, ReactiveMP.var\"#354#355\"{ReactiveMP.MessageMapping{NormalMeanVariance, DataType, Marginalisation, Nothing, DataType, Nothing, FactorNode{Type{NormalMeanVariance}, Tuple{NodeInterface, NodeInterface, NodeInterface}, Tuple{Tuple{Int64}, Tuple{Int64}, Tuple{Int64}}, ReactiveMP.FactorNodeLocalMarginals{Tuple{ReactiveMP.FactorNodeLocalMarginal, ReactiveMP.FactorNodeLocalMarginal, ReactiveMP.FactorNodeLocalMarginal}}, Nothing, ReactiveMP.FactorNodePipeline{DefaultFunctionalDependencies, EmptyPipelineStage}}}}}, Rocket.PushNew, Rocket.UInt8UpdatesStatus}}, Rocket.PushNew, Rocket.UInt8UpdatesStatus}}, typeof(as_marginal)}, value::Message{PointMass{Float64}}, #unused#::Rocket.AsapScheduler)",
      "     @ Rocket ~/.julia/packages/Rocket/hszfL/src/schedulers/asap.jl:23",
      " [103] on_next!(subject::Rocket.Subject{Message{PointMass{Float64}}, Rocket.AsapScheduler, Rocket.AsapScheduler}, data::Message{PointMass{Float64}})",
      "     @ Rocket ~/.julia/packages/Rocket/hszfL/src/subjects/subject.jl:62",
      " [104] actor_on_next!",
      "     @ ~/.julia/packages/Rocket/hszfL/src/actor.jl:250 [inlined]",
      " [105] next!",
      "     @ ~/.julia/packages/Rocket/hszfL/src/actor.jl:202 [inlined]",
      " [106] on_next!",
      "     @ ~/.julia/packages/Rocket/hszfL/src/subjects/recent.jl:62 [inlined]",
      " [107] actor_on_next!",
      "     @ ~/.julia/packages/Rocket/hszfL/src/actor.jl:250 [inlined]",
      " [108] next!",
      "     @ ~/.julia/packages/Rocket/hszfL/src/actor.jl:202 [inlined]",
      " [109] update!",
      "     @ ~/.julia/dev/ReactiveMP/src/variables/data.jl:145 [inlined]",
      " [110] update!(datavar::DataVariable{PointMass{Float64}, Rocket.RecentSubjectInstance{Message{PointMass{Float64}}, Rocket.Subject{Message{PointMass{Float64}}, Rocket.AsapScheduler, Rocket.AsapScheduler}}}, data::Float64)",
      "     @ ReactiveMP ~/.julia/dev/ReactiveMP/src/variables/data.jl:120",
      " [111] inference(; model::ReactiveMP.ModelGenerator{NKS, Tuple{}, Base.Pairs{Symbol, Union{}, Tuple{}, NamedTuple{(), Tuple{}}}, Nothing, Nothing, Nothing}, data::NamedTuple{(:y2,), Tuple{Float64}}, initmarginals::Nothing, initmessages::Nothing, constraints::Nothing, meta::Nothing, options::NamedTuple{(), Tuple{}}, returnvars::Nothing, iterations::Nothing, free_energy::Bool, free_energy_diagnostics::Tuple{BetheFreeEnergyCheckNaNs, BetheFreeEnergyCheckInfs}, showprogress::Bool, callbacks::Nothing, warn::Bool)",
      "     @ ReactiveMP ~/.julia/dev/ReactiveMP/src/inference.jl:435",
      " [112] top-level scope",
      "     @ In[23]:3",
      " [113] eval",
      "     @ ./boot.jl:368 [inlined]"
     ]
    }
   ],
   "source": [
    "imarginals = (x = MvNormal(zeros(2), diageye(2)), )\n",
    "\n",
    "result = inference(model = Model(NKS), data=(y2=1.0,), free_energy=false)"
   ]
  },
  {
   "cell_type": "code",
   "execution_count": 24,
   "metadata": {},
   "outputs": [],
   "source": [
    "function f(x, θ)\n",
    "    return x .+ θ\n",
    "end\n",
    "\n",
    "c = randn(2);\n",
    "\n",
    "@model function NKS()\n",
    "    y2 = datavar(Float64)\n",
    "    c = zeros(2); c[1] = 1.0;\n",
    "\n",
    "    θ ~ MvNormal(μ=ones(2), Λ=diageye(2))\n",
    "    # ζ ~ MvNormal(μ=0.5ones(2), Λ=diageye(2))\n",
    "    x ~ MvNormal(μ=zeros(2), Λ=diageye(2))\n",
    "    z ~ f(x, θ) where {meta=UT()}\n",
    "    y1 ~ Normal(μ=dot(z, c), σ²=1.0)\n",
    "    y2 ~ Normal(μ=y1, σ²=0.5)\n",
    "end"
   ]
  },
  {
   "cell_type": "code",
   "execution_count": 25,
   "metadata": {},
   "outputs": [
    {
     "name": "stdout",
     "output_type": "stream",
     "text": [
      "\"called marginal\" = \"called marginal\"\n",
      "(μ_in, Σ_in) = mean_cov(q_ins) = ([-1.705935392948323e-11, -9.999778782799056e-13, 0.9999999999829406, 0.999999999999], [1.6666666666676055 -1.2503668776828297e-32 0.6666666666675873 5.382188518894395e-22; -1.2503668776828297e-32 1.000000000001 -1.1494886002502958e-32 9.999778782818784e-13; 0.6666666666675873 -1.1494886002502958e-32 1.666666666667569 5.382188518904331e-22; 5.382188518894395e-22 9.999778782818784e-13 5.382188518904331e-22 1.000000000001])\n",
      "(μ_in, Σ_in) = mean_cov(q_ins) = ([-1.705935392948323e-11, -9.999778782799056e-13, 0.9999999999829406, 0.999999999999], [1.6666666666676055 -1.2503668776828297e-32 0.6666666666675873 5.382188518894395e-22; -1.2503668776828297e-32 1.000000000001 -1.1494886002502958e-32 9.999778782818784e-13; 0.6666666666675873 -1.1494886002502958e-32 1.666666666667569 5.382188518904331e-22; 5.382188518894395e-22 9.999778782818784e-13 5.382188518904331e-22 1.000000000001])\n"
     ]
    },
    {
     "data": {
      "text/plain": [
       "Inference results:\n",
       "-----------------------------------------\n",
       "y1 = NormalWeightedMeanPrecision{Float64}(xi=2.333333333352748, w=2.3333333333333455)...\n",
       "θ  = MvNormalWeightedMeanPrecision(\n",
       "xi: [0.5999999999894395, 0.9999999999979999]\n",
       "Λ: [...\n",
       "x  = MvNormalWeightedMeanPrecision(\n",
       "xi: [-1.023561235768417e-11, -9.999778782789055e-...\n"
      ]
     },
     "execution_count": 25,
     "metadata": {},
     "output_type": "execute_result"
    }
   ],
   "source": [
    "imarginals = (x = MvNormal(zeros(2), diageye(2)), )\n",
    "\n",
    "result = inference(model = Model(NKS), data=(y2=1.0,), free_energy=false)"
   ]
  },
  {
   "cell_type": "code",
   "execution_count": null,
   "metadata": {},
   "outputs": [],
   "source": []
  }
 ],
 "metadata": {
  "kernelspec": {
   "display_name": "Julia 1.8.0",
   "language": "julia",
   "name": "julia-1.8"
  },
  "language_info": {
   "file_extension": ".jl",
   "mimetype": "application/julia",
   "name": "julia",
   "version": "1.8.0"
  },
  "vscode": {
   "interpreter": {
    "hash": "710c76191172b975d1d33be1d5093237cafe810cb28a8dbc312172629a6fab15"
   }
  }
 },
 "nbformat": 4,
 "nbformat_minor": 4
}
