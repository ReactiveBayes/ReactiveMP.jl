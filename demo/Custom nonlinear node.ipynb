{
 "cells": [
  {
   "cell_type": "code",
   "execution_count": 1,
   "metadata": {},
   "outputs": [],
   "source": [
    "using ReactiveMP\n",
    "using Distributions\n",
    "using Random\n",
    "using BenchmarkTools\n",
    "using Rocket\n",
    "using GraphPPL\n",
    "using Parameters"
   ]
  },
  {
   "cell_type": "markdown",
   "metadata": {},
   "source": [
    "Here is an example of creating custom node with nonlinear function approximation with samplelist."
   ]
  },
  {
   "cell_type": "markdown",
   "metadata": {},
   "source": [
    "### Custom node creation"
   ]
  },
  {
   "cell_type": "code",
   "execution_count": 2,
   "metadata": {},
   "outputs": [],
   "source": [
    "struct NonlinearNode end # Dummy structure just to make Julia happy\n",
    "\n",
    "struct NonlinearMeta{F}\n",
    "    fn       :: F   # Nonlinear function, we assume 1 float input - 1 float ouput\n",
    "    nsamples :: Int # Number of samples used in approximation\n",
    "end"
   ]
  },
  {
   "cell_type": "code",
   "execution_count": 3,
   "metadata": {},
   "outputs": [],
   "source": [
    "@node NonlinearNode Deterministic [ out, in ]"
   ]
  },
  {
   "cell_type": "markdown",
   "metadata": {},
   "source": [
    "We need to define two Sum-product message computation rules for our new custom node\n",
    "- Rule for outbound message on `out` edge given inbound message on `in` edge\n",
    "- Rule for outbound message on `in` edge given inbound message on `out` edge\n",
    "- Both rules accept optional meta object"
   ]
  },
  {
   "cell_type": "code",
   "execution_count": 4,
   "metadata": {},
   "outputs": [],
   "source": [
    "# Rule for outbound message on `out` edge given inbound message on `in` edge\n",
    "@rule NonlinearNode(:out, Marginalisation) (m_in::NormalMeanVariance, meta::NonlinearMeta) = begin \n",
    "    samples = rand(m_in, meta.nsamples)\n",
    "    return SampleList(map(meta.fn, samples))\n",
    "end"
   ]
  },
  {
   "cell_type": "code",
   "execution_count": 5,
   "metadata": {},
   "outputs": [],
   "source": [
    "# Rule for outbound message on `in` edge given inbound message on `out` edge\n",
    "@rule NonlinearNode(:in, Marginalisation) (m_out::Gamma, meta::NonlinearMeta) = begin     \n",
    "    return ContinuousUnivariateLogPdf((x) -> logpdf(m_out, meta.fn(x)))\n",
    "end"
   ]
  },
  {
   "cell_type": "markdown",
   "metadata": {},
   "source": [
    "### Model specification\n",
    "\n",
    "After we have defined our custom node with custom rules we may proceed with a model specification. In this model the aim is to estimate a precision of a Gaussian distribution given IID samples. We pass a random variable `θ` through a non-linear transformation `fn` to make it positive and suitable for a precision parameter of a Gaussian distribution. We later on will estimate posterior of `θ`."
   ]
  },
  {
   "cell_type": "code",
   "execution_count": 6,
   "metadata": {},
   "outputs": [
    {
     "data": {
      "text/plain": [
       "nonlinear_estimation (generic function with 1 method)"
      ]
     },
     "execution_count": 6,
     "metadata": {},
     "output_type": "execute_result"
    }
   ],
   "source": [
    "@model [ default_factorisation = MeanField() ] function nonlinear_estimation(fn::Function, n, nsamples)\n",
    "    \n",
    "    # We fallback to generic product and sample list approximation \n",
    "    # with prior as proposal distribution\n",
    "    θ = randomvar() where {\n",
    "        prod_constraint = ProdGeneric(),\n",
    "        form_constraint = SampleListFormConstraint(nsamples, LeftProposal()) \n",
    "    }\n",
    "    \n",
    "    θ ~ NormalMeanVariance(0.0, 100.0)\n",
    "    m ~ NormalMeanVariance(0.0, 1.0)\n",
    "    \n",
    "    # We fallback to generic product and sample list approximation \n",
    "    # with likelihood as proposal distribution\n",
    "    w = randomvar() where {\n",
    "        prod_constraint = ProdGeneric(),\n",
    "        form_constraint = SampleListFormConstraint(nsamples, RightProposal()) \n",
    "    }\n",
    "    \n",
    "    w ~ NonlinearNode(θ) where { meta = NonlinearMeta(fn, nsamples) }\n",
    "    \n",
    "    y = datavar(Float64, n)\n",
    "    \n",
    "    for i in 1:n\n",
    "        y[i] ~ NormalMeanPrecision(m, w)\n",
    "    end\n",
    "    \n",
    "    return θ, m, w, y\n",
    "end"
   ]
  },
  {
   "cell_type": "markdown",
   "metadata": {},
   "source": [
    "Here we generate some data"
   ]
  },
  {
   "cell_type": "code",
   "execution_count": 10,
   "metadata": {},
   "outputs": [
    {
     "data": {
      "text/plain": [
       "nonlinear_fn (generic function with 1 method)"
      ]
     },
     "execution_count": 10,
     "metadata": {},
     "output_type": "execute_result"
    }
   ],
   "source": [
    "function nonlinear_fn(x) # We use exp as a simple example\n",
    "    return exp(x + 2)\n",
    "end"
   ]
  },
  {
   "cell_type": "code",
   "execution_count": 11,
   "metadata": {},
   "outputs": [],
   "source": [
    "seed = 123\n",
    "rng  = MersenneTwister(seed)\n",
    "\n",
    "niters   = 15 # Number of VMP iterations\n",
    "nsamples = 5_000 # Number of samples in approximation\n",
    "\n",
    "n = 1000 # Number of IID samples\n",
    "μ = -10.0\n",
    "θ = -3.0\n",
    "w = nonlinear_fn(θ)\n",
    "\n",
    "\n",
    "data = rand(rng, NormalMeanPrecision(μ, w), n);"
   ]
  },
  {
   "cell_type": "code",
   "execution_count": 33,
   "metadata": {},
   "outputs": [
    {
     "name": "stdout",
     "output_type": "stream",
     "text": [
      "  0.194140 seconds (710.40 k allocations: 46.054 MiB, 67.63% compilation time)\n"
     ]
    }
   ],
   "source": [
    "@time result = inference(model=() -> nonlinear_estimation(nonlinear_fn, n, nsamples), \n",
    "                         data=Dict(:y => data), \n",
    "                         initmarginals=Dict(:m => vague(NormalMeanPrecision), :w => vague(Gamma)),\n",
    "                         iterations=niters, showprogress=true);\n",
    "\n",
    "θposterior = result.posteriors[:θ];"
   ]
  },
  {
   "cell_type": "code",
   "execution_count": 34,
   "metadata": {},
   "outputs": [],
   "source": [
    "using CairoMakie"
   ]
  },
  {
   "cell_type": "code",
   "execution_count": 35,
   "metadata": {},
   "outputs": [
    {
     "data": {
      "image/png": "[encoded data removed]",
      "text/plain": [
       "Figure()"
      ]
     },
     "execution_count": 35,
     "metadata": {},
     "output_type": "execute_result"
    }
   ],
   "source": [
    "let\n",
    "    f = Figure()\n",
    "    \n",
    "    θplot = Axis(f[1, 1])\n",
    "    \n",
    "    θplot.title = \"Posterior for θ over VMP iterations\"\n",
    "    \n",
    "    range = 1:niters\n",
    "    \n",
    "    lines!(θplot, range, mean.(θposterior), label = \"Estimated\")\n",
    "    band!(θplot, range, mean.(θposterior) .- std.(θposterior), mean.(θposterior) .+ std.(θposterior))\n",
    "    \n",
    "    lines!(θplot, range, fill(θ, niters), label = \"Real\")\n",
    "    \n",
    "    axislegend(θplot, position = :rb)\n",
    "    \n",
    "    ylims!(θplot, (-10, -2))\n",
    "    \n",
    "    f\n",
    "end"
   ]
  },
  {
   "cell_type": "code",
   "execution_count": 36,
   "metadata": {},
   "outputs": [
    {
     "data": {
      "text/plain": [
       "BenchmarkTools.Trial: 79 samples with 1 evaluation.\n",
       " Range \u001b[90m(\u001b[39m\u001b[36m\u001b[1mmin\u001b[22m\u001b[39m … \u001b[35mmax\u001b[39m\u001b[90m):  \u001b[39m\u001b[36m\u001b[1m49.312 ms\u001b[22m\u001b[39m … \u001b[35m107.985 ms\u001b[39m  \u001b[90m┊\u001b[39m GC \u001b[90m(\u001b[39mmin … max\u001b[90m): \u001b[39m 0.00% … 29.43%\n",
       " Time  \u001b[90m(\u001b[39m\u001b[34m\u001b[1mmedian\u001b[22m\u001b[39m\u001b[90m):     \u001b[39m\u001b[34m\u001b[1m57.315 ms               \u001b[22m\u001b[39m\u001b[90m┊\u001b[39m GC \u001b[90m(\u001b[39mmedian\u001b[90m):    \u001b[39m 0.00%\n",
       " Time  \u001b[90m(\u001b[39m\u001b[32m\u001b[1mmean\u001b[22m\u001b[39m ± \u001b[32mσ\u001b[39m\u001b[90m):   \u001b[39m\u001b[32m\u001b[1m64.450 ms\u001b[22m\u001b[39m ± \u001b[32m 15.041 ms\u001b[39m  \u001b[90m┊\u001b[39m GC \u001b[90m(\u001b[39mmean ± σ\u001b[90m):  \u001b[39m12.53% ± 15.13%\n",
       "\n",
       "  \u001b[39m \u001b[39m \u001b[39m▂\u001b[39m \u001b[39m▃\u001b[39m▃\u001b[39m█\u001b[39m \u001b[34m \u001b[39m\u001b[39m \u001b[39m \u001b[39m \u001b[39m \u001b[39m \u001b[39m \u001b[39m \u001b[32m \u001b[39m\u001b[39m \u001b[39m \u001b[39m \u001b[39m \u001b[39m \u001b[39m \u001b[39m \u001b[39m \u001b[39m \u001b[39m \u001b[39m \u001b[39m \u001b[39m \u001b[39m \u001b[39m \u001b[39m \u001b[39m \u001b[39m \u001b[39m \u001b[39m \u001b[39m \u001b[39m \u001b[39m \u001b[39m \u001b[39m \u001b[39m \u001b[39m \u001b[39m \u001b[39m \u001b[39m \u001b[39m \u001b[39m \u001b[39m \u001b[39m \u001b[39m \u001b[39m \u001b[39m \u001b[39m \u001b[39m \u001b[39m \u001b[39m \u001b[39m \u001b[39m \u001b[39m \u001b[39m \n",
       "  \u001b[39m▇\u001b[39m▇\u001b[39m█\u001b[39m▅\u001b[39m█\u001b[39m█\u001b[39m█\u001b[39m█\u001b[34m█\u001b[39m\u001b[39m█\u001b[39m█\u001b[39m▁\u001b[39m▅\u001b[39m▄\u001b[39m▄\u001b[39m▅\u001b[32m▁\u001b[39m\u001b[39m▁\u001b[39m▁\u001b[39m▁\u001b[39m▁\u001b[39m▁\u001b[39m▄\u001b[39m▁\u001b[39m▁\u001b[39m▁\u001b[39m▁\u001b[39m▁\u001b[39m▁\u001b[39m▁\u001b[39m▁\u001b[39m▄\u001b[39m▄\u001b[39m▅\u001b[39m▇\u001b[39m▅\u001b[39m▄\u001b[39m▁\u001b[39m▇\u001b[39m▇\u001b[39m▁\u001b[39m▄\u001b[39m▄\u001b[39m▄\u001b[39m▁\u001b[39m▁\u001b[39m▁\u001b[39m▁\u001b[39m▁\u001b[39m▁\u001b[39m▁\u001b[39m▁\u001b[39m▁\u001b[39m▄\u001b[39m▁\u001b[39m▁\u001b[39m▁\u001b[39m▁\u001b[39m▁\u001b[39m▄\u001b[39m \u001b[39m▁\n",
       "  49.3 ms\u001b[90m         Histogram: frequency by time\u001b[39m          106 ms \u001b[0m\u001b[1m<\u001b[22m\n",
       "\n",
       " Memory estimate\u001b[90m: \u001b[39m\u001b[33m40.38 MiB\u001b[39m, allocs estimate\u001b[90m: \u001b[39m\u001b[33m615658\u001b[39m."
      ]
     },
     "execution_count": 36,
     "metadata": {},
     "output_type": "execute_result"
    }
   ],
   "source": [
    "@benchmark inference(model=() -> nonlinear_estimation($nonlinear_fn, $n, $nsamples), \n",
    "                     data=Dict(:y => $data), \n",
    "                     initmarginals=Dict(:m => vague(NormalMeanPrecision), :w => vague(Gamma)),\n",
    "                     iterations=$niters, showprogress=true)"
   ]
  },
  {
   "cell_type": "code",
   "execution_count": 32,
   "metadata": {},
   "outputs": [
    {
     "name": "stdout",
     "output_type": "stream",
     "text": [
      "Julia Version 1.6.0\n",
      "Commit f9720dc2eb (2021-03-24 12:55 UTC)\n",
      "Platform Info:\n",
      "  OS: macOS (x86_64-apple-darwin19.6.0)\n",
      "  CPU: Intel(R) Core(TM) i7-8559U CPU @ 2.70GHz\n",
      "  WORD_SIZE: 64\n",
      "  LIBM: libopenlibm\n",
      "  LLVM: libLLVM-11.0.1 (ORCJIT, skylake)\n"
     ]
    }
   ],
   "source": [
    "versioninfo()"
   ]
  },
  {
   "cell_type": "code",
   "execution_count": null,
   "metadata": {},
   "outputs": [],
   "source": []
  }
 ],
 "metadata": {
  "kernelspec": {
   "display_name": "Julia 1.6.0",
   "language": "julia",
   "name": "julia-1.6"
  },
  "language_info": {
   "file_extension": ".jl",
   "mimetype": "application/julia",
   "name": "julia",
   "version": "1.6.0"
  }
 },
 "nbformat": 4,
 "nbformat_minor": 4
}
