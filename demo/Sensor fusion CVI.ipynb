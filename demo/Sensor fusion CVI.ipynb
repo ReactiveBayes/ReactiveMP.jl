{
 "cells": [
  {
   "cell_type": "markdown",
   "id": "08ba845c",
   "metadata": {},
   "source": [
    "In this example the goal is to estimate hidden states of a Dynamical process where all hidden states are Gaussians. Our process can be described with the following two sets of equations:\n",
    "\n",
    "$$\n",
    "\\begin{align*}\n",
    " & p(z_i|z_{i - 1}) = \\mathcal{N}(z_{i-1},~\\mathcal{I}_{2}),\\\\\n",
    " & p(y_i|z_i)  = \\mathcal{N} \\left (y_i \\left \\vert \\begin{bmatrix} \\| z_{i} - s_{1}\\| \\\\ \\|z_{i} - s_{2}\\| \\\\ \\|z_{i} - s_{3}\\|\\end{bmatrix}\\!,~\\mathcal{I}_{3}\\! \\right . \\right)\\!,\n",
    "\\end{align*}\n",
    "$$\n",
    "\n",
    "$$\n",
    "\\begin{align*}\n",
    " & p(\\text{W}) = \\text{Wishart}_{2} \\\\\n",
    " & p(\\text{R}) = \\text{Wishart}_{3} \\\\\n",
    " & p(z_i|z_{i - 1}) = \\mathcal{N}(z_{i-1},~W),\\\\\n",
    " & p(y_i|z_i)  = \\mathcal{N} \\left (y_i \\left \\vert \\begin{bmatrix} \\| z_{i} - s_{1}\\| \\\\ \\|z_{i} - s_{2}\\| \\\\ \\|z_{i} - s_{3}\\|\\end{bmatrix}\\!,~R\\! \\right . \\right)\\!,\n",
    "\\end{align*}\n",
    "$$\n",
    "\n",
    "where $z_i$ are hidden states, $y_i$ are noisy nonlinear observations. In the second set of the equations, W and R are covariance matrix parameters for z, and y, respectively.\n",
    "\n",
    "To model this process in `ReactiveMP`, first, we start with importing all needed packages:"
   ]
  },
  {
   "cell_type": "code",
   "execution_count": null,
   "id": "cd8aa0f8-f459-409d-a069-7717b31f6d81",
   "metadata": {},
   "outputs": [],
   "source": [
    "1+1"
   ]
  },
  {
   "cell_type": "code",
   "execution_count": 1,
   "id": "5ee1d127",
   "metadata": {},
   "outputs": [
    {
     "name": "stderr",
     "output_type": "stream",
     "text": [
      "┌ Info: Precompiling ReactiveMP [a194aa59-28ba-4574-a09c-4a745416d6e3]\n",
      "└ @ Base loading.jl:1664\n"
     ]
    }
   ],
   "source": [
    "using ReactiveMP, Rocket, GraphPPL\n",
    "using Random, LinearAlgebra, Distributions, Plots, Flux, DataFrames, DelimitedFiles"
   ]
  },
  {
   "cell_type": "markdown",
   "id": "3330d02d",
   "metadata": {},
   "source": [
    "Next step, is to load our data:"
   ]
  },
  {
   "cell_type": "code",
   "execution_count": null,
   "id": "185d1b7e-4aff-4771-9bd4-d2ea637e69e1",
   "metadata": {},
   "outputs": [],
   "source": [
    "sensors = readdlm(\"data/sensor_fusion/sensors.txt\")\n",
    "sensor1, sensor2, sensor3 = sensors[1,:], sensors[2,:], sensors[3,:]\n",
    "observation = readdlm(\"data/sensor_fusion/observation.txt\")\n",
    "position = readdlm(\"data/sensor_fusion/position.txt\")\n",
    "T = 15\n",
    "observation_list = [observation[t,:] for t=1:T];"
   ]
  },
  {
   "cell_type": "markdown",
   "id": "a69ddcf6",
   "metadata": {},
   "source": [
    "To create a model we use `GraphPPL` package and `@model` macro:"
   ]
  },
  {
   "cell_type": "code",
   "execution_count": null,
   "id": "688de053-47c6-45a4-8fe6-9f5806a5cfe0",
   "metadata": {},
   "outputs": [],
   "source": [
    "A = [1.0 0.0; 0.0 1.0]\n",
    "# Nonlinear function that maps states to observations\n",
    "function f(z)       \n",
    "    pos = z\n",
    "    o1 = sqrt(sum((pos-sensor1).^2))\n",
    "    o2 = sqrt(sum((pos-sensor2).^2))\n",
    "    o3 = sqrt(sum((pos-sensor3).^2))\n",
    "    o = [o1,o2,o3]\n",
    "end\n",
    "\n",
    "@model function sensor_fusion(T)\n",
    "    W = diagm(0=>ones(2))\n",
    "    R = diagm(0=>ones(3))\n",
    "\n",
    "    z = randomvar(T)\n",
    "    x = randomvar(T)\n",
    "    y = datavar(Vector{Float64}, T)\n",
    "\n",
    "    z[1] ~ MvNormalMeanCovariance(zeros(2), diagm(0 => ones(2)))\n",
    "    x[1] ~ f(z[1]) where {meta = CVIApproximation(2000, 100, Descent(0.1))}\n",
    "    y[1] ~ MvNormalMeanCovariance(x[1], diagm(0 => ones(3)))\n",
    "\n",
    "    for t in 2:T\n",
    "        z[t] ~ MvNormalMeanPrecision(A * z[t-1], W)\n",
    "        x[t] ~ f(z[t]) where {meta = CVIApproximation(2000, 100, Descent(0.1))}\n",
    "        y[t] ~ MvNormalMeanPrecision(x[t], R)\n",
    "    end\n",
    "\n",
    "    return z, x, y\n",
    "end\n",
    "\n",
    "constraints = @constraints begin\n",
    "    q(z, x) = q(z)q(x)\n",
    "end;"
   ]
  },
  {
   "cell_type": "markdown",
   "id": "d2035f78",
   "metadata": {},
   "source": [
    "To run inference we will use `inference` function from `ReactiveMP`.\n",
    "Note, that for running inference for this model we need to init marginals for z messages."
   ]
  },
  {
   "cell_type": "code",
   "execution_count": null,
   "id": "d655695a-2fad-45b7-a410-bdbc3fc4e9a0",
   "metadata": {},
   "outputs": [],
   "source": [
    "res = inference(\n",
    "    model = Model(sensor_fusion, T),\n",
    "    data = (y = observation_list,),\n",
    "    iterations = 10,\n",
    "    free_energy = false,\n",
    "    returnvars = (z = KeepLast(),),\n",
    "    constraints = constraints,\n",
    "    initmessages = (z = MvNormalMeanPrecision(zeros(2), 0.01*diagm(0=>ones(2))),),\n",
    ");"
   ]
  },
  {
   "cell_type": "code",
   "execution_count": null,
   "id": "03a173ab-14fa-4283-81de-4ee372f5e227",
   "metadata": {},
   "outputs": [],
   "source": [
    "points = map(z -> mean(z)[1:2], res.posteriors[:z]);\n",
    "x = map(z -> z[1], points);\n",
    "y = map(z -> z[2], points);\n",
    "\n",
    "L = 30\n",
    "p = plot(xlim = (-1.5L, 1.5L), ylim = (-L, L))\n",
    "gaussians = map(z -> MvNormal(mean(z)[1:2], cov(z)[1:2, 1:2]), res.posteriors[:z])\n",
    "for (index, gaussian) in enumerate(gaussians)\n",
    "    p = contour!(p, range(-2L, 2L, step = 0.25), range(-2L, 2L, step = 0.25), (x, y) -> pdf(gaussian, [ x, y ]), levels = 6, colorbar = false)\n",
    "end\n",
    "p = plot!([sensor1[1],sensor2[1],sensor3[1]],[sensor1[2],sensor2[2],sensor3[2]],\n",
    "    seriestype = :scatter, color=:black, markersize=5, markershape=:square, label = \"Sensors\", size = [700, 660])\n",
    "p = plot!(x, y, seriestype = :scatter, label = \"Estimated location\")\n",
    "p = plot!(position'[1:15, 1], position'[1:15, 2], color=:redsblues, label = \"Hidden trajectory\")\n",
    "p = plot!(legend=:topright)"
   ]
  },
  {
   "cell_type": "markdown",
   "id": "c4919ab7",
   "metadata": {},
   "source": [
    "In the following model, please note that covarience are distributions."
   ]
  },
  {
   "cell_type": "code",
   "execution_count": null,
   "id": "15e0351f",
   "metadata": {},
   "outputs": [],
   "source": [
    "@model function sensor_fusion_unfixed_W_R(T, optimizer)\n",
    "    W ~ Wishart(2, diagm(0=>ones(2)))\n",
    "    R ~ Wishart(3, diagm(0=>ones(3)))\n",
    "\n",
    "    z = randomvar(T)\n",
    "    x = randomvar(T)\n",
    "    y = datavar(Vector{Float64}, T)\n",
    "\n",
    "    z[1] ~ MvNormalMeanPrecision(zeros(2), W)\n",
    "    x[1] ~ f(z[1]) where {meta = CVIApproximation(2000, 100, optimizer)}\n",
    "    y[1] ~ MvNormalMeanPrecision(x[1], R)\n",
    "\n",
    "    for t in 2:T\n",
    "        z[t] ~ MvNormalMeanPrecision(A * z[t-1], W)\n",
    "        x[t] ~ f(z[t]) where {meta = CVIApproximation(2000, 100, optimizer)}\n",
    "        y[t] ~ MvNormalMeanPrecision(x[t], R)\n",
    "    end\n",
    "\n",
    "    return z, x, y\n",
    "end\n",
    "\n",
    "constraints = @constraints begin\n",
    "    q(z, x, W, R) = q(z)q(W)q(x)q(R)\n",
    "end;"
   ]
  },
  {
   "cell_type": "code",
   "execution_count": null,
   "id": "4f1a00cd",
   "metadata": {},
   "outputs": [],
   "source": [
    "res = inference(\n",
    "    model = Model(sensor_fusion_unfixed_W_R, T, Descent(0.01)),\n",
    "    data = (y = observation_list,),\n",
    "    iterations = 200,\n",
    "    free_energy = false,\n",
    "    returnvars = (z = KeepLast(),),\n",
    "    constraints = constraints,\n",
    "    initmessages = (z = MvNormalMeanPrecision(zeros(2), 0.01*diagm(0=>ones(2))),),\n",
    "    initmarginals = (R = Wishart(3, diagm(0=>ones(3))), W = Wishart(2, diagm(0=>ones(2))))\n",
    ");"
   ]
  },
  {
   "cell_type": "markdown",
   "id": "706b0159",
   "metadata": {},
   "source": [
    "Looking at the following plot, one can notice that adding additional flexibility gives a better parameter estimation: the founded states fit into the hidden trajectory better."
   ]
  },
  {
   "cell_type": "code",
   "execution_count": null,
   "id": "daf9ec83",
   "metadata": {},
   "outputs": [],
   "source": [
    "points = map(z -> mean(z)[1:2], res.posteriors[:z]);\n",
    "x = map(z -> z[1], points);\n",
    "y = map(z -> z[2], points);\n",
    "\n",
    "L = 30\n",
    "p = plot(xlim = (-1.5L, 1.5L), ylim = (-L, L))\n",
    "gaussians = map(z -> MvNormal(mean(z)[1:2], cov(z)[1:2, 1:2]), res.posteriors[:z])\n",
    "for (index, gaussian) in enumerate(gaussians)\n",
    "    p = contour!(p, range(-2L, 2L, step = 0.25), range(-2L, 2L, step = 0.25), (x, y) -> pdf(gaussian, [ x, y ]), levels = 6, colorbar = false)\n",
    "end\n",
    "p = plot!([sensor1[1],sensor2[1],sensor3[1]],[sensor1[2],sensor2[2],sensor3[2]],\n",
    "    seriestype = :scatter, color=:black, markersize=5, markershape=:square, label = \"Sensors\", size = [700, 660])\n",
    "p = plot!(x, y, seriestype = :scatter, label = \"Estimated location\")\n",
    "p = plot!(position'[1:15, 1], position'[1:15, 2], color=:redsblues, label = \"Hidden trajectory\")\n",
    "p = plot!(legend=:topright)"
   ]
  }
 ],
 "metadata": {
  "kernelspec": {
   "display_name": "Julia 1.8.2",
   "language": "julia",
   "name": "julia-1.8"
  },
  "language_info": {
   "file_extension": ".jl",
   "mimetype": "application/julia",
   "name": "julia",
   "version": "1.8.2"
  }
 },
 "nbformat": 4,
 "nbformat_minor": 5
}
