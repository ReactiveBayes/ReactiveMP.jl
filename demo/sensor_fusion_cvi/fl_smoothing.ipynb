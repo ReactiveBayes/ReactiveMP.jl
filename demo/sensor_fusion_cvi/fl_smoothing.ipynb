{
 "cells": [
  {
   "cell_type": "code",
   "execution_count": 168,
   "id": "d34666e0-3c4c-4253-888b-fd437e8400e6",
   "metadata": {},
   "outputs": [],
   "source": [
    "using ReactiveMP, Rocket, GraphPPL, Random, LinearAlgebra, Plots, Flux, Zygote, ForwardDiff, DataFrames, DelimitedFiles"
   ]
  },
  {
   "cell_type": "code",
   "execution_count": 169,
   "id": "a9756660-5fcc-4b50-b732-809d19f57461",
   "metadata": {},
   "outputs": [],
   "source": [
    "sensors = readdlm(\"sensors.txt\")\n",
    "sensor1, sensor2, sensor3 = sensors[1,:], sensors[2,:], sensors[3,:]\n",
    "observation = readdlm(\"observation.txt\")\n",
    "position = readdlm(\"position.txt\")\n",
    "# T = size(observation)[1]\n",
    "T = 15\n",
    "observation_list = [observation[t,:] for t=1:T];"
   ]
  },
  {
   "cell_type": "code",
   "execution_count": 170,
   "id": "f86ce3ea-32d1-4fa0-a9da-899d2c2018d4",
   "metadata": {},
   "outputs": [],
   "source": [
    "A = [1.0 0.0 1.0 0.0; 0.0 1.0 0.0 1.0; 0.0 0.0 1.0 0.0; 0.0 0.0 0.0 1.0]\n",
    "B = [1.0 0.0 0.0 0.0; 0.0 1.0 0.0 0.0]\n",
    "# Nonlinear function that maps states to observations\n",
    "function f(z)\n",
    "    pos = B*z\n",
    "    o1 = sqrt(sum((pos-sensor1).^2))\n",
    "    o2 = sqrt(sum((pos-sensor2).^2))\n",
    "    o3 = sqrt(sum((pos-sensor3).^2))\n",
    "    o = [o1,o2,o3]\n",
    "end\n",
    "\n",
    "@model function sensor_fusion(T)\n",
    "    W ~ Wishart(4, diagm(0=>ones(4)))\n",
    "    R ~ Wishart(3, diagm(0=>ones(3)))\n",
    "\n",
    "    z = randomvar(T)\n",
    "    x = randomvar(T)\n",
    "    y = datavar(Vector{Float64}, T)\n",
    "\n",
    "    z[1] ~ MvNormalMeanPrecision(zeros(4), W)\n",
    "    x[1] ~ f(z[1]) where {meta = CVIApproximation(100, 100, ADAM(), 100, 20)}\n",
    "    y[1] ~ MvNormalMeanPrecision(x[1], R)\n",
    "\n",
    "    for t in 2:T\n",
    "        z[t] ~ MvNormalMeanPrecision(A * z[t-1], W)\n",
    "        x[t] ~ f(z[t]) where {meta = CVIApproximation(100, 100, ADAM(), 100, 20)}\n",
    "        y[t] ~ MvNormalMeanPrecision(x[t], R)\n",
    "    end\n",
    "\n",
    "    return z, x, y\n",
    "end\n",
    "\n",
    "constraints = @constraints begin\n",
    "    q(z, x) = q(z)q(x)\n",
    "end;"
   ]
  },
  {
   "cell_type": "code",
   "execution_count": 171,
   "id": "ef425300-9ad3-4bce-a801-16ff834c95a8",
   "metadata": {},
   "outputs": [],
   "source": [
    "@rule MvNormalMeanPrecision(:Λ, Marginalisation) (m_out::MultivariateGaussianDistributionsFamily, q_μ::PointMass, ) = begin \n",
    "    μ_mean = mean(q_μ)\n",
    "    m_out, v_out = mean_cov(m_out)\n",
    "    return Wishart(length(m_out) + 1, cholinv(v_out + (μ_mean - m_out)*(μ_mean - m_out)'))\n",
    "end\n",
    "\n",
    "@rule MvNormalMeanPrecision(:Λ, Marginalisation) (m_out::MultivariateGaussianDistributionsFamily, m_μ::MvNormalMeanCovariance, ) = begin \n",
    "    (m_mean, v_mean) = mean_cov(m_μ)\n",
    "    (m_out, v_out) = mean_cov(m_out)\n",
    "    return Wishart(length(m_out) + 1, cholinv(v_mean + v_out + (m_mean - m_out)*(m_mean - m_out)'))\n",
    "end\n",
    "\n",
    "@rule MvNormalMeanPrecision(:out, Marginalisation) (m_μ::Any, m_Λ::Wishart, ) = begin \n",
    "    return MvNormalMeanPrecision(mean(m_μ), mean(m_Λ))\n",
    "end\n",
    "\n",
    "@rule MvNormalMeanPrecision(:out, Marginalisation) (q_μ::PointMass, m_Λ::Wishart, ) = begin \n",
    "    return MvNormalMeanPrecision(mean(q_μ), mean(m_Λ))\n",
    "end\n",
    "\n",
    "@rule MvNormalMeanPrecision(:μ, Marginalisation) (m_out::MultivariateGaussianDistributionsFamily, m_Λ::Wishart, ) = begin \n",
    "    m_out, v_out = mean_cov(m_out)\n",
    "    m_μ, v_μ = mean_precision(MvNormalMeanCovariance(m_out, v_out + cholinv(mean(m_Λ))))\n",
    "    return MvNormalMeanPrecision(m_μ, v_μ)\n",
    "end\n",
    "\n",
    "@rule MvNormalMeanPrecision(:μ, Marginalisation) (q_out::PointMass, m_Λ::Wishart, ) = begin \n",
    "    return MvNormalMeanPrecision(mean(q_out), mean(m_Λ))\n",
    "end"
   ]
  },
  {
   "cell_type": "code",
   "execution_count": 172,
   "id": "0a557fc4-70bf-4692-9327-2b28d3c2a0c9",
   "metadata": {},
   "outputs": [
    {
     "ename": "LoadError",
     "evalue": "RuleMethodError: no method matching rule for the given arguments\n\nPossible fix, define:\n\n@rule MvNormalMeanPrecision(:Λ, Marginalisation) (q_out::PointMass, m_μ::ProdFinal, ) = begin \n    return ...\nend\n\n",
     "output_type": "error",
     "traceback": [
      "RuleMethodError: no method matching rule for the given arguments\n\nPossible fix, define:\n\n@rule MvNormalMeanPrecision(:Λ, Marginalisation) (q_out::PointMass, m_μ::ProdFinal, ) = begin \n    return ...\nend\n\n",
      "",
      "Stacktrace:",
      "   [1] rule(fform::Type, on::Type, vconstraint::Marginalisation, mnames::Type, messages::Tuple{Message{ProdFinal{SampleList{(3,), Vector{Float64}, Vector{Float64}, ReactiveMP.SampleListCache{Vector{Float64}, Matrix{Float64}}, Nothing}}}}, qnames::Type, marginals::Tuple{Marginal{PointMass{Vector{Float64}}}}, meta::Nothing, __node::FactorNode{Type{MvNormalMeanPrecision}, Tuple{NodeInterface, NodeInterface, NodeInterface}, Tuple{Tuple{Int64}, Tuple{Int64, Int64}}, ReactiveMP.FactorNodeLocalMarginals{Tuple{ReactiveMP.FactorNodeLocalMarginal, ReactiveMP.FactorNodeLocalMarginal}}, Nothing, ReactiveMP.FactorNodePipeline{DefaultFunctionalDependencies, EmptyPipelineStage}})",
      "     @ ReactiveMP ~/repos/ReactiveMP.jl/src/rule.jl:847",
      "   [2] materialize!(mapping::ReactiveMP.MessageMapping{MvNormalMeanPrecision, DataType, Marginalisation, DataType, DataType, Nothing, FactorNode{Type{MvNormalMeanPrecision}, Tuple{NodeInterface, NodeInterface, NodeInterface}, Tuple{Tuple{Int64}, Tuple{Int64, Int64}}, ReactiveMP.FactorNodeLocalMarginals{Tuple{ReactiveMP.FactorNodeLocalMarginal, ReactiveMP.FactorNodeLocalMarginal}}, Nothing, ReactiveMP.FactorNodePipeline{DefaultFunctionalDependencies, EmptyPipelineStage}}}, dependencies::Tuple{Tuple{Message{ProdFinal{SampleList{(3,), Vector{Float64}, Vector{Float64}, ReactiveMP.SampleListCache{Vector{Float64}, Matrix{Float64}}, Nothing}}}}, Tuple{Marginal{PointMass{Vector{Float64}}}}})",
      "     @ ReactiveMP ~/repos/ReactiveMP.jl/src/message.jl:280",
      "   [3] materialize!(vmessage::VariationalMessage{Tuple{ReactiveMP.MessageObservable{Message}}, Tuple{ProxyObservable{Marginal, Rocket.RecentSubjectInstance{Message{PointMass{Vector{Float64}}}, Subject{Message{PointMass{Vector{Float64}}}, AsapScheduler, AsapScheduler}}, Rocket.MapProxy{Message{PointMass{Vector{Float64}}}, typeof(as_marginal)}}}, ReactiveMP.MessageMapping{MvNormalMeanPrecision, DataType, Marginalisation, DataType, DataType, Nothing, FactorNode{Type{MvNormalMeanPrecision}, Tuple{NodeInterface, NodeInterface, NodeInterface}, Tuple{Tuple{Int64}, Tuple{Int64, Int64}}, ReactiveMP.FactorNodeLocalMarginals{Tuple{ReactiveMP.FactorNodeLocalMarginal, ReactiveMP.FactorNodeLocalMarginal}}, Nothing, ReactiveMP.FactorNodePipeline{DefaultFunctionalDependencies, EmptyPipelineStage}}}})",
      "     @ ReactiveMP ~/repos/ReactiveMP.jl/src/message.jl:182",
      "   [4] as_message(vmessage::VariationalMessage{Tuple{ReactiveMP.MessageObservable{Message}}, Tuple{ProxyObservable{Marginal, Rocket.RecentSubjectInstance{Message{PointMass{Vector{Float64}}}, Subject{Message{PointMass{Vector{Float64}}}, AsapScheduler, AsapScheduler}}, Rocket.MapProxy{Message{PointMass{Vector{Float64}}}, typeof(as_marginal)}}}, ReactiveMP.MessageMapping{MvNormalMeanPrecision, DataType, Marginalisation, DataType, DataType, Nothing, FactorNode{Type{MvNormalMeanPrecision}, Tuple{NodeInterface, NodeInterface, NodeInterface}, Tuple{Tuple{Int64}, Tuple{Int64, Int64}}, ReactiveMP.FactorNodeLocalMarginals{Tuple{ReactiveMP.FactorNodeLocalMarginal, ReactiveMP.FactorNodeLocalMarginal}}, Nothing, ReactiveMP.FactorNodePipeline{DefaultFunctionalDependencies, EmptyPipelineStage}}}})",
      "     @ ReactiveMP ~/repos/ReactiveMP.jl/src/message.jl:190",
      "   [5] materialize!(type::ReactiveMP.EqualityRightOutbound, chain::ReactiveMP.EqualityChain{Rocket.ScheduleOnOperator{AsapScheduler}, ReactiveMP.var\"#37#39\"{ProdAnalytical, UnspecifiedFormConstraint}}, node_index::Int64)",
      "     @ ReactiveMP ~/repos/ReactiveMP.jl/src/nodes/equality.jl:125",
      "   [6] (::ReactiveMP.ChainOutboundMapping)(#unused#::Tuple{LazyObservable{Missing}, SingleObservable{Missing, AsapScheduler}})",
      "     @ ReactiveMP ~/repos/ReactiveMP.jl/src/nodes/equality.jl:165",
      "   [7] on_next!(actor::Rocket.MapActor{Tuple{LazyObservable{Missing}, SingleObservable{Missing, AsapScheduler}}, Rocket.RecentSubjectInstance{Message, Subject{Message, AsapScheduler, AsapScheduler}}, ReactiveMP.ChainOutboundMapping}, data::Tuple{LazyObservable{Missing}, SingleObservable{Missing, AsapScheduler}})",
      "     @ Rocket ~/.julia/packages/Rocket/hszfL/src/operators/map.jl:60",
      "   [8] next!",
      "     @ ~/.julia/packages/Rocket/hszfL/src/actor.jl:206 [inlined]",
      "   [9] next_received!",
      "     @ ~/.julia/packages/Rocket/hszfL/src/observable/combined_updates.jl:65 [inlined]",
      "  [10] on_next!",
      "     @ ~/.julia/packages/Rocket/hszfL/src/observable/combined_updates.jl:34 [inlined]",
      "  [11] scheduled_next!(actor::Rocket.CombineLatestUpdatesInnerActor{Missing, Rocket.CombineLatestUpdatesActorWrapper{Tuple{LazyObservable{Missing}, SingleObservable{Missing, AsapScheduler}}, Rocket.MapActor{Tuple{LazyObservable{Missing}, SingleObservable{Missing, AsapScheduler}}, Rocket.RecentSubjectInstance{Message, Subject{Message, AsapScheduler, AsapScheduler}}, ReactiveMP.ChainOutboundMapping}, PushNew, Rocket.UInt8UpdatesStatus}}, value::Missing, #unused#::AsapScheduler)",
      "     @ Rocket ~/.julia/packages/Rocket/hszfL/src/schedulers/asap.jl:23",
      "  [12] on_next!(subject::Subject{Missing, AsapScheduler, AsapScheduler}, data::Missing)",
      "     @ Rocket ~/.julia/packages/Rocket/hszfL/src/subjects/subject.jl:62",
      "  [13] actor_on_next!",
      "     @ ~/.julia/packages/Rocket/hszfL/src/actor.jl:250 [inlined]",
      "  [14] next!",
      "     @ ~/.julia/packages/Rocket/hszfL/src/actor.jl:202 [inlined]",
      "  [15] on_next!",
      "     @ ~/.julia/packages/Rocket/hszfL/src/subjects/recent.jl:62 [inlined]",
      "  [16] actor_on_next!",
      "     @ ~/.julia/packages/Rocket/hszfL/src/actor.jl:250 [inlined]",
      "  [17] next!",
      "     @ ~/.julia/packages/Rocket/hszfL/src/actor.jl:202 [inlined]",
      "  [18] on_next!",
      "     @ ~/.julia/packages/Rocket/hszfL/src/operators/map.jl:60 [inlined]",
      "  [19] next!",
      "     @ ~/.julia/packages/Rocket/hszfL/src/actor.jl:206 [inlined]",
      "  [20] next_received!",
      "     @ ~/.julia/packages/Rocket/hszfL/src/observable/combined_updates.jl:65 [inlined]",
      "  [21] on_next!",
      "     @ ~/.julia/packages/Rocket/hszfL/src/observable/combined_updates.jl:34 [inlined]",
      "  [22] scheduled_next!(actor::Rocket.CombineLatestUpdatesInnerActor{AbstractMessage, Rocket.CombineLatestUpdatesActorWrapper{Tuple{LazyObservable{Missing}, ProxyObservable{AbstractMessage, Rocket.RefCountSource{AbstractMessage, ConnectableObservable{AbstractMessage, Rocket.RecentSubjectInstance{AbstractMessage, Subject{AbstractMessage, AsapScheduler, AsapScheduler}}, ProxyObservable{AbstractMessage, ReactiveMP.MessageObservable{AbstractMessage}, Rocket.TapProxy{ReactiveMP.ChainInvalidationCallback}}}}, Rocket.RefCountProxy}}, Rocket.MapActor{Tuple{LazyObservable{Missing}, ProxyObservable{AbstractMessage, Rocket.RefCountSource{AbstractMessage, ConnectableObservable{AbstractMessage, Rocket.RecentSubjectInstance{AbstractMessage, Subject{AbstractMessage, AsapScheduler, AsapScheduler}}, ProxyObservable{AbstractMessage, ReactiveMP.MessageObservable{AbstractMessage}, Rocket.TapProxy{ReactiveMP.ChainInvalidationCallback}}}}, Rocket.RefCountProxy}}, Rocket.RecentSubjectInstance{Missing, Subject{Missing, AsapScheduler, AsapScheduler}}, Rocket.var\"#162#163\"{Missing}}, PushNew, Rocket.UInt8UpdatesStatus}}, value::VariationalMessage{Tuple{ReactiveMP.MessageObservable{Message}}, Tuple{ProxyObservable{Marginal, Rocket.RecentSubjectInstance{Message{PointMass{Vector{Float64}}}, Subject{Message{PointMass{Vector{Float64}}}, AsapScheduler, AsapScheduler}}, Rocket.MapProxy{Message{PointMass{Vector{Float64}}}, typeof(as_marginal)}}}, ReactiveMP.MessageMapping{MvNormalMeanPrecision, DataType, Marginalisation, DataType, DataType, Nothing, FactorNode{Type{MvNormalMeanPrecision}, Tuple{NodeInterface, NodeInterface, NodeInterface}, Tuple{Tuple{Int64}, Tuple{Int64, Int64}}, ReactiveMP.FactorNodeLocalMarginals{Tuple{ReactiveMP.FactorNodeLocalMarginal, ReactiveMP.FactorNodeLocalMarginal}}, Nothing, ReactiveMP.FactorNodePipeline{DefaultFunctionalDependencies, EmptyPipelineStage}}}}, #unused#::AsapScheduler)",
      "     @ Rocket ~/.julia/packages/Rocket/hszfL/src/schedulers/asap.jl:23",
      "  [23] on_next!(subject::Subject{AbstractMessage, AsapScheduler, AsapScheduler}, data::VariationalMessage{Tuple{ReactiveMP.MessageObservable{Message}}, Tuple{ProxyObservable{Marginal, Rocket.RecentSubjectInstance{Message{PointMass{Vector{Float64}}}, Subject{Message{PointMass{Vector{Float64}}}, AsapScheduler, AsapScheduler}}, Rocket.MapProxy{Message{PointMass{Vector{Float64}}}, typeof(as_marginal)}}}, ReactiveMP.MessageMapping{MvNormalMeanPrecision, DataType, Marginalisation, DataType, DataType, Nothing, FactorNode{Type{MvNormalMeanPrecision}, Tuple{NodeInterface, NodeInterface, NodeInterface}, Tuple{Tuple{Int64}, Tuple{Int64, Int64}}, ReactiveMP.FactorNodeLocalMarginals{Tuple{ReactiveMP.FactorNodeLocalMarginal, ReactiveMP.FactorNodeLocalMarginal}}, Nothing, ReactiveMP.FactorNodePipeline{DefaultFunctionalDependencies, EmptyPipelineStage}}}})",
      "     @ Rocket ~/.julia/packages/Rocket/hszfL/src/subjects/subject.jl:62",
      "  [24] actor_on_next!",
      "     @ ~/.julia/packages/Rocket/hszfL/src/actor.jl:250 [inlined]",
      "  [25] next!",
      "     @ ~/.julia/packages/Rocket/hszfL/src/actor.jl:202 [inlined]",
      "  [26] on_next!",
      "     @ ~/.julia/packages/Rocket/hszfL/src/subjects/recent.jl:62 [inlined]",
      "  [27] actor_on_next!",
      "     @ ~/.julia/packages/Rocket/hszfL/src/actor.jl:250 [inlined]",
      "  [28] next!",
      "     @ ~/.julia/packages/Rocket/hszfL/src/actor.jl:202 [inlined]",
      "  [29] on_next!",
      "     @ ~/.julia/packages/Rocket/hszfL/src/operators/tap.jl:63 [inlined]",
      "  [30] scheduled_next!(actor::Rocket.TapActor{AbstractMessage, Rocket.RecentSubjectInstance{AbstractMessage, Subject{AbstractMessage, AsapScheduler, AsapScheduler}}, ReactiveMP.ChainInvalidationCallback}, value::VariationalMessage{Tuple{ReactiveMP.MessageObservable{Message}}, Tuple{ProxyObservable{Marginal, Rocket.RecentSubjectInstance{Message{PointMass{Vector{Float64}}}, Subject{Message{PointMass{Vector{Float64}}}, AsapScheduler, AsapScheduler}}, Rocket.MapProxy{Message{PointMass{Vector{Float64}}}, typeof(as_marginal)}}}, ReactiveMP.MessageMapping{MvNormalMeanPrecision, DataType, Marginalisation, DataType, DataType, Nothing, FactorNode{Type{MvNormalMeanPrecision}, Tuple{NodeInterface, NodeInterface, NodeInterface}, Tuple{Tuple{Int64}, Tuple{Int64, Int64}}, ReactiveMP.FactorNodeLocalMarginals{Tuple{ReactiveMP.FactorNodeLocalMarginal, ReactiveMP.FactorNodeLocalMarginal}}, Nothing, ReactiveMP.FactorNodePipeline{DefaultFunctionalDependencies, EmptyPipelineStage}}}}, #unused#::AsapScheduler)",
      "     @ Rocket ~/.julia/packages/Rocket/hszfL/src/schedulers/asap.jl:23",
      "  [31] on_next!(subject::Subject{AbstractMessage, AsapScheduler, AsapScheduler}, data::VariationalMessage{Tuple{ReactiveMP.MessageObservable{Message}}, Tuple{ProxyObservable{Marginal, Rocket.RecentSubjectInstance{Message{PointMass{Vector{Float64}}}, Subject{Message{PointMass{Vector{Float64}}}, AsapScheduler, AsapScheduler}}, Rocket.MapProxy{Message{PointMass{Vector{Float64}}}, typeof(as_marginal)}}}, ReactiveMP.MessageMapping{MvNormalMeanPrecision, DataType, Marginalisation, DataType, DataType, Nothing, FactorNode{Type{MvNormalMeanPrecision}, Tuple{NodeInterface, NodeInterface, NodeInterface}, Tuple{Tuple{Int64}, Tuple{Int64, Int64}}, ReactiveMP.FactorNodeLocalMarginals{Tuple{ReactiveMP.FactorNodeLocalMarginal, ReactiveMP.FactorNodeLocalMarginal}}, Nothing, ReactiveMP.FactorNodePipeline{DefaultFunctionalDependencies, EmptyPipelineStage}}}})",
      "     @ Rocket ~/.julia/packages/Rocket/hszfL/src/subjects/subject.jl:62",
      "  [32] actor_on_next!",
      "     @ ~/.julia/packages/Rocket/hszfL/src/actor.jl:250 [inlined]",
      "  [33] next!",
      "     @ ~/.julia/packages/Rocket/hszfL/src/actor.jl:202 [inlined]",
      "  [34] on_next!",
      "     @ ~/.julia/packages/Rocket/hszfL/src/subjects/recent.jl:62 [inlined]",
      "  [35] actor_on_next!",
      "     @ ~/.julia/packages/Rocket/hszfL/src/actor.jl:250 [inlined]",
      "  [36] next!",
      "     @ ~/.julia/packages/Rocket/hszfL/src/actor.jl:202 [inlined]",
      "  [37] on_next!",
      "     @ ~/.julia/packages/Rocket/hszfL/src/operators/map.jl:60 [inlined]",
      "  [38] next!",
      "     @ ~/.julia/packages/Rocket/hszfL/src/actor.jl:206 [inlined]",
      "  [39] next_received!",
      "     @ ~/.julia/packages/Rocket/hszfL/src/observable/combined.jl:101 [inlined]",
      "  [40] on_next!",
      "     @ ~/.julia/packages/Rocket/hszfL/src/observable/combined.jl:68 [inlined]",
      "  [41] next!",
      "     @ ~/.julia/packages/Rocket/hszfL/src/actor.jl:206 [inlined]",
      "  [42] next_received!",
      "     @ ~/.julia/packages/Rocket/hszfL/src/observable/combined_updates.jl:65 [inlined]",
      "  [43] on_next!",
      "     @ ~/.julia/packages/Rocket/hszfL/src/observable/combined_updates.jl:34 [inlined]",
      "  [44] scheduled_next!(actor::Rocket.CombineLatestUpdatesInnerActor{Message, Rocket.CombineLatestUpdatesActorWrapper{Tuple{ReactiveMP.MessageObservable{Message}}, Rocket.CombineLatestInnerActor{Tuple{ReactiveMP.MessageObservable{Message}}, Rocket.CombineLatestActorWrapper{Rocket.MStorage2{Tuple{ReactiveMP.MessageObservable{Message}}, Tuple{ProxyObservable{Marginal, Rocket.RecentSubjectInstance{Message{PointMass{Vector{Float64}}}, Subject{Message{PointMass{Vector{Float64}}}, AsapScheduler, AsapScheduler}}, Rocket.MapProxy{Message{PointMass{Vector{Float64}}}, typeof(as_marginal)}}}}, Rocket.MapActor{Tuple{Tuple{ReactiveMP.MessageObservable{Message}}, Tuple{ProxyObservable{Marginal, Rocket.RecentSubjectInstance{Message{PointMass{Vector{Float64}}}, Subject{Message{PointMass{Vector{Float64}}}, AsapScheduler, AsapScheduler}}, Rocket.MapProxy{Message{PointMass{Vector{Float64}}}, typeof(as_marginal)}}}}, Rocket.RecentSubjectInstance{AbstractMessage, Subject{AbstractMessage, AsapScheduler, AsapScheduler}}, ReactiveMP.var\"#345#346\"{ReactiveMP.MessageMapping{MvNormalMeanPrecision, DataType, Marginalisation, DataType, DataType, Nothing, FactorNode{Type{MvNormalMeanPrecision}, Tuple{NodeInterface, NodeInterface, NodeInterface}, Tuple{Tuple{Int64}, Tuple{Int64, Int64}}, ReactiveMP.FactorNodeLocalMarginals{Tuple{ReactiveMP.FactorNodeLocalMarginal, ReactiveMP.FactorNodeLocalMarginal}}, Nothing, ReactiveMP.FactorNodePipeline{DefaultFunctionalDependencies, EmptyPipelineStage}}}}}, PushNew, Rocket.UInt8UpdatesStatus}}, PushNew, Rocket.UInt8UpdatesStatus}}, value::Message{ProdFinal{SampleList{(3,), Vector{Float64}, Vector{Float64}, ReactiveMP.SampleListCache{Vector{Float64}, Matrix{Float64}}, Nothing}}}, #unused#::AsapScheduler)",
      "     @ Rocket ~/.julia/packages/Rocket/hszfL/src/schedulers/asap.jl:23",
      "  [45] on_next!(subject::Subject{Message, AsapScheduler, AsapScheduler}, data::Message{ProdFinal{SampleList{(3,), Vector{Float64}, Vector{Float64}, ReactiveMP.SampleListCache{Vector{Float64}, Matrix{Float64}}, Nothing}}})",
      "     @ Rocket ~/.julia/packages/Rocket/hszfL/src/subjects/subject.jl:62",
      "  [46] actor_on_next!",
      "     @ ~/.julia/packages/Rocket/hszfL/src/actor.jl:250 [inlined]",
      "  [47] next!",
      "     @ ~/.julia/packages/Rocket/hszfL/src/actor.jl:202 [inlined]",
      "  [48] on_next!",
      "     @ ~/.julia/packages/Rocket/hszfL/src/subjects/recent.jl:62 [inlined]",
      "  [49] actor_on_next!",
      "     @ ~/.julia/packages/Rocket/hszfL/src/actor.jl:250 [inlined]",
      "  [50] next!(actor::Rocket.RecentSubjectInstance{Message, Subject{Message, AsapScheduler, AsapScheduler}}, data::Message{ProdFinal{SampleList{(3,), Vector{Float64}, Vector{Float64}, ReactiveMP.SampleListCache{Vector{Float64}, Matrix{Float64}}, Nothing}}})",
      "     @ Rocket ~/.julia/packages/Rocket/hszfL/src/actor.jl:202",
      "  [51] next_received!(wrapper::Rocket.CollectLatestObservableWrapper{AbstractMessage, Rocket.RecentSubjectInstance{Message, Subject{Message, AsapScheduler, AsapScheduler}}, Vector{AbstractMessage}, BitVector, Vector{Teardown}, ReactiveMP.var\"#37#39\"{ProdAnalytical, UnspecifiedFormConstraint}}, data::VariationalMessage{Nothing, Tuple{ReactiveMP.MarginalObservable}, ReactiveMP.MessageMapping{DeltaFn{ReactiveMP.DeltaFnCallableWrapper{typeof(f)}}, DataType, Marginalisation, Nothing, DataType, CVIApproximation, ReactiveMP.DeltaFnNode{typeof(f), 1, ReactiveMP.FactorNodeLocalMarginals{Tuple{ReactiveMP.FactorNodeLocalMarginal, ReactiveMP.FactorNodeLocalMarginal}}, CVIApproximation}}}, index::CartesianIndex{1})",
      "     @ Rocket ~/.julia/packages/Rocket/hszfL/src/observable/collected.jl:97",
      "  [52] on_next!",
      "     @ ~/.julia/packages/Rocket/hszfL/src/observable/collected.jl:87 [inlined]",
      "  [53] scheduled_next!(actor::Rocket.CollectLatestObservableInnerActor{AbstractMessage, CartesianIndex{1}, Rocket.CollectLatestObservableWrapper{AbstractMessage, Rocket.RecentSubjectInstance{Message, Subject{Message, AsapScheduler, AsapScheduler}}, Vector{AbstractMessage}, BitVector, Vector{Teardown}, ReactiveMP.var\"#37#39\"{ProdAnalytical, UnspecifiedFormConstraint}}}, value::VariationalMessage{Nothing, Tuple{ReactiveMP.MarginalObservable}, ReactiveMP.MessageMapping{DeltaFn{ReactiveMP.DeltaFnCallableWrapper{typeof(f)}}, DataType, Marginalisation, Nothing, DataType, CVIApproximation, ReactiveMP.DeltaFnNode{typeof(f), 1, ReactiveMP.FactorNodeLocalMarginals{Tuple{ReactiveMP.FactorNodeLocalMarginal, ReactiveMP.FactorNodeLocalMarginal}}, CVIApproximation}}}, #unused#::AsapScheduler)",
      "     @ Rocket ~/.julia/packages/Rocket/hszfL/src/schedulers/asap.jl:23",
      "  [54] on_next!(subject::Subject{AbstractMessage, AsapScheduler, AsapScheduler}, data::VariationalMessage{Nothing, Tuple{ReactiveMP.MarginalObservable}, ReactiveMP.MessageMapping{DeltaFn{ReactiveMP.DeltaFnCallableWrapper{typeof(f)}}, DataType, Marginalisation, Nothing, DataType, CVIApproximation, ReactiveMP.DeltaFnNode{typeof(f), 1, ReactiveMP.FactorNodeLocalMarginals{Tuple{ReactiveMP.FactorNodeLocalMarginal, ReactiveMP.FactorNodeLocalMarginal}}, CVIApproximation}}})",
      "     @ Rocket ~/.julia/packages/Rocket/hszfL/src/subjects/subject.jl:62",
      "  [55] actor_on_next!",
      "     @ ~/.julia/packages/Rocket/hszfL/src/actor.jl:250 [inlined]",
      "  [56] next!",
      "     @ ~/.julia/packages/Rocket/hszfL/src/actor.jl:202 [inlined]",
      "  [57] on_next!",
      "     @ ~/.julia/packages/Rocket/hszfL/src/subjects/recent.jl:62 [inlined]",
      "  [58] actor_on_next!",
      "     @ ~/.julia/packages/Rocket/hszfL/src/actor.jl:250 [inlined]",
      "  [59] next!",
      "     @ ~/.julia/packages/Rocket/hszfL/src/actor.jl:202 [inlined]",
      "  [60] on_next!",
      "     @ ~/.julia/packages/Rocket/hszfL/src/operators/map.jl:60 [inlined]",
      "  [61] next!",
      "     @ ~/.julia/packages/Rocket/hszfL/src/actor.jl:206 [inlined]",
      "  [62] next_received!",
      "     @ ~/.julia/packages/Rocket/hszfL/src/observable/combined.jl:101 [inlined]",
      "  [63] on_next!",
      "     @ ~/.julia/packages/Rocket/hszfL/src/observable/combined.jl:68 [inlined]",
      "  [64] next!",
      "     @ ~/.julia/packages/Rocket/hszfL/src/actor.jl:206 [inlined]",
      "  [65] next_received!",
      "     @ ~/.julia/packages/Rocket/hszfL/src/observable/combined_updates.jl:65 [inlined]",
      "  [66] on_next!",
      "     @ ~/.julia/packages/Rocket/hszfL/src/observable/combined_updates.jl:34 [inlined]",
      "  [67] scheduled_next!(actor::Rocket.CombineLatestUpdatesInnerActor{Marginal, Rocket.CombineLatestUpdatesActorWrapper{Tuple{ReactiveMP.MarginalObservable}, Rocket.CombineLatestInnerActor{Tuple{ReactiveMP.MarginalObservable}, Rocket.CombineLatestActorWrapper{Rocket.MStorage2{Nothing, Tuple{ReactiveMP.MarginalObservable}}, Rocket.MapActor{Tuple{Nothing, Tuple{ReactiveMP.MarginalObservable}}, Rocket.RecentSubjectInstance{AbstractMessage, Subject{AbstractMessage, AsapScheduler, AsapScheduler}}, ReactiveMP.var\"#678#679\"{ReactiveMP.MessageMapping{DeltaFn{ReactiveMP.DeltaFnCallableWrapper{typeof(f)}}, DataType, Marginalisation, Nothing, DataType, CVIApproximation, ReactiveMP.DeltaFnNode{typeof(f), 1, ReactiveMP.FactorNodeLocalMarginals{Tuple{ReactiveMP.FactorNodeLocalMarginal, ReactiveMP.FactorNodeLocalMarginal}}, CVIApproximation}}}}, PushNew, Rocket.UInt8UpdatesStatus}}, PushNew, Rocket.UInt8UpdatesStatus}}, value::Marginal{FactorProduct{Tuple{MvNormalWeightedMeanPrecision{Float64, Vector{Float64}, Matrix{Float64}}}}}, #unused#::AsapScheduler)",
      "     @ Rocket ~/.julia/packages/Rocket/hszfL/src/schedulers/asap.jl:23",
      "  [68] on_next!(subject::Subject{Marginal, AsapScheduler, AsapScheduler}, data::Marginal{FactorProduct{Tuple{MvNormalWeightedMeanPrecision{Float64, Vector{Float64}, Matrix{Float64}}}}})",
      "     @ Rocket ~/.julia/packages/Rocket/hszfL/src/subjects/subject.jl:62",
      "  [69] actor_on_next!",
      "     @ ~/.julia/packages/Rocket/hszfL/src/actor.jl:250 [inlined]",
      "  [70] next!",
      "     @ ~/.julia/packages/Rocket/hszfL/src/actor.jl:202 [inlined]",
      "  [71] on_next!",
      "     @ ~/.julia/packages/Rocket/hszfL/src/subjects/recent.jl:62 [inlined]",
      "  [72] actor_on_next!",
      "     @ ~/.julia/packages/Rocket/hszfL/src/actor.jl:250 [inlined]",
      "  [73] next!(actor::Rocket.RecentSubjectInstance{Marginal, Subject{Marginal, AsapScheduler, AsapScheduler}}, data::Marginal{FactorProduct{Tuple{MvNormalWeightedMeanPrecision{Float64, Vector{Float64}, Matrix{Float64}}}}})",
      "     @ Rocket ~/.julia/packages/Rocket/hszfL/src/actor.jl:202",
      "  [74] on_next!(actor::Rocket.MapActor{Tuple{Tuple{ReactiveMP.MessageObservable{Message}, Rocket.CombineLatestUpdatesObservable{Tuple{ReactiveMP.MessageObservable{Message}}, PushNew}}, Nothing}, Rocket.RecentSubjectInstance{Marginal, Subject{Marginal, AsapScheduler, AsapScheduler}}, ReactiveMP.MarginalMapping{DeltaFn{ReactiveMP.DeltaFnCallableWrapper{typeof(f)}}, DataType, DataType, Nothing, CVIApproximation, ReactiveMP.DeltaFnNode{typeof(f), 1, ReactiveMP.FactorNodeLocalMarginals{Tuple{ReactiveMP.FactorNodeLocalMarginal, ReactiveMP.FactorNodeLocalMarginal}}, CVIApproximation}}}, data::Tuple{Tuple{ReactiveMP.MessageObservable{Message}, Rocket.CombineLatestUpdatesObservable{Tuple{ReactiveMP.MessageObservable{Message}}, PushNew}}, Nothing})",
      "     @ Rocket ~/.julia/packages/Rocket/hszfL/src/operators/map.jl:60",
      "  [75] next!",
      "     @ ~/.julia/packages/Rocket/hszfL/src/actor.jl:206 [inlined]",
      "  [76] on_next!",
      "     @ ~/.julia/packages/Rocket/hszfL/src/operators/discontinue.jl:67 [inlined]",
      "  [77] next!",
      "     @ ~/.julia/packages/Rocket/hszfL/src/actor.jl:206 [inlined]",
      "  [78] next_received!",
      "     @ ~/.julia/packages/Rocket/hszfL/src/observable/combined.jl:101 [inlined]",
      "  [79] on_next!",
      "     @ ~/.julia/packages/Rocket/hszfL/src/observable/combined.jl:68 [inlined]",
      "  [80] next!",
      "     @ ~/.julia/packages/Rocket/hszfL/src/actor.jl:206 [inlined]",
      "  [81] next_received!(wrapper::Rocket.CombineLatestUpdatesActorWrapper{Tuple{ReactiveMP.MessageObservable{Message}, Rocket.CombineLatestUpdatesObservable{Tuple{ReactiveMP.MessageObservable{Message}}, PushNew}}, Rocket.CombineLatestInnerActor{Tuple{ReactiveMP.MessageObservable{Message}, Rocket.CombineLatestUpdatesObservable{Tuple{ReactiveMP.MessageObservable{Message}}, PushNew}}, Rocket.CombineLatestActorWrapper{Rocket.MStorage2{Tuple{ReactiveMP.MessageObservable{Message}, Rocket.CombineLatestUpdatesObservable{Tuple{ReactiveMP.MessageObservable{Message}}, PushNew}}, Nothing}, Rocket.DiscontinueActor{Tuple{Tuple{ReactiveMP.MessageObservable{Message}, Rocket.CombineLatestUpdatesObservable{Tuple{ReactiveMP.MessageObservable{Message}}, PushNew}}, Nothing}, Rocket.MapActor{Tuple{Tuple{ReactiveMP.MessageObservable{Message}, Rocket.CombineLatestUpdatesObservable{Tuple{ReactiveMP.MessageObservable{Message}}, PushNew}}, Nothing}, Rocket.RecentSubjectInstance{Marginal, Subject{Marginal, AsapScheduler, AsapScheduler}}, ReactiveMP.MarginalMapping{DeltaFn{ReactiveMP.DeltaFnCallableWrapper{typeof(f)}}, DataType, DataType, Nothing, CVIApproximation, ReactiveMP.DeltaFnNode{typeof(f), 1, ReactiveMP.FactorNodeLocalMarginals{Tuple{ReactiveMP.FactorNodeLocalMarginal, ReactiveMP.FactorNodeLocalMarginal}}, CVIApproximation}}}}, PushNew, Rocket.UInt8UpdatesStatus}}, PushNew, Rocket.UInt8UpdatesStatus}, data::Message{MvNormalMeanPrecision{Float64, Vector{Float64}, Matrix{Float64}}}, index::Int64)",
      "     @ Rocket ~/.julia/packages/Rocket/hszfL/src/observable/combined_updates.jl:65",
      "  [82] on_next!",
      "     @ ~/.julia/packages/Rocket/hszfL/src/observable/combined_updates.jl:34 [inlined]",
      "  [83] scheduled_next!(actor::Rocket.CombineLatestUpdatesInnerActor{Message, Rocket.CombineLatestUpdatesActorWrapper{Tuple{ReactiveMP.MessageObservable{Message}, Rocket.CombineLatestUpdatesObservable{Tuple{ReactiveMP.MessageObservable{Message}}, PushNew}}, Rocket.CombineLatestInnerActor{Tuple{ReactiveMP.MessageObservable{Message}, Rocket.CombineLatestUpdatesObservable{Tuple{ReactiveMP.MessageObservable{Message}}, PushNew}}, Rocket.CombineLatestActorWrapper{Rocket.MStorage2{Tuple{ReactiveMP.MessageObservable{Message}, Rocket.CombineLatestUpdatesObservable{Tuple{ReactiveMP.MessageObservable{Message}}, PushNew}}, Nothing}, Rocket.DiscontinueActor{Tuple{Tuple{ReactiveMP.MessageObservable{Message}, Rocket.CombineLatestUpdatesObservable{Tuple{ReactiveMP.MessageObservable{Message}}, PushNew}}, Nothing}, Rocket.MapActor{Tuple{Tuple{ReactiveMP.MessageObservable{Message}, Rocket.CombineLatestUpdatesObservable{Tuple{ReactiveMP.MessageObservable{Message}}, PushNew}}, Nothing}, Rocket.RecentSubjectInstance{Marginal, Subject{Marginal, AsapScheduler, AsapScheduler}}, ReactiveMP.MarginalMapping{DeltaFn{ReactiveMP.DeltaFnCallableWrapper{typeof(f)}}, DataType, DataType, Nothing, CVIApproximation, ReactiveMP.DeltaFnNode{typeof(f), 1, ReactiveMP.FactorNodeLocalMarginals{Tuple{ReactiveMP.FactorNodeLocalMarginal, ReactiveMP.FactorNodeLocalMarginal}}, CVIApproximation}}}}, PushNew, Rocket.UInt8UpdatesStatus}}, PushNew, Rocket.UInt8UpdatesStatus}}, value::Message{MvNormalMeanPrecision{Float64, Vector{Float64}, Matrix{Float64}}}, #unused#::AsapScheduler)",
      "     @ Rocket ~/.julia/packages/Rocket/hszfL/src/schedulers/asap.jl:23",
      "  [84] on_next!(subject::Subject{Message, AsapScheduler, AsapScheduler}, data::Message{MvNormalMeanPrecision{Float64, Vector{Float64}, Matrix{Float64}}})",
      "     @ Rocket ~/.julia/packages/Rocket/hszfL/src/subjects/subject.jl:62",
      "  [85] actor_on_next!",
      "     @ ~/.julia/packages/Rocket/hszfL/src/actor.jl:250 [inlined]",
      "  [86] next!",
      "     @ ~/.julia/packages/Rocket/hszfL/src/actor.jl:202 [inlined]",
      "  [87] on_next!",
      "     @ ~/.julia/packages/Rocket/hszfL/src/subjects/recent.jl:62 [inlined]",
      "  [88] actor_on_next!",
      "     @ ~/.julia/packages/Rocket/hszfL/src/actor.jl:250 [inlined]",
      "  [89] next!(actor::Rocket.RecentSubjectInstance{Message, Subject{Message, AsapScheduler, AsapScheduler}}, data::Message{MvNormalMeanPrecision{Float64, Vector{Float64}, Matrix{Float64}}})",
      "     @ Rocket ~/.julia/packages/Rocket/hszfL/src/actor.jl:202",
      "  [90] next_received!(wrapper::Rocket.CollectLatestObservableWrapper{AbstractMessage, Rocket.RecentSubjectInstance{Message, Subject{Message, AsapScheduler, AsapScheduler}}, Vector{AbstractMessage}, BitVector, Vector{Teardown}, ReactiveMP.var\"#37#39\"{ProdAnalytical, UnspecifiedFormConstraint}}, data::VariationalMessage{Tuple{ReactiveMP.MessageObservable{Message}}, Tuple{ProxyObservable{Marginal, Rocket.RecentSubjectInstance{Message{PointMass{Vector{Float64}}}, Subject{Message{PointMass{Vector{Float64}}}, AsapScheduler, AsapScheduler}}, Rocket.MapProxy{Message{PointMass{Vector{Float64}}}, typeof(as_marginal)}}}, ReactiveMP.MessageMapping{MvNormalMeanPrecision, DataType, Marginalisation, DataType, DataType, Nothing, FactorNode{Type{MvNormalMeanPrecision}, Tuple{NodeInterface, NodeInterface, NodeInterface}, Tuple{Tuple{Int64}, Tuple{Int64, Int64}}, ReactiveMP.FactorNodeLocalMarginals{Tuple{ReactiveMP.FactorNodeLocalMarginal, ReactiveMP.FactorNodeLocalMarginal}}, Nothing, ReactiveMP.FactorNodePipeline{DefaultFunctionalDependencies, EmptyPipelineStage}}}}, index::CartesianIndex{1})",
      "     @ Rocket ~/.julia/packages/Rocket/hszfL/src/observable/collected.jl:97",
      "  [91] on_next!",
      "     @ ~/.julia/packages/Rocket/hszfL/src/observable/collected.jl:87 [inlined]",
      "  [92] scheduled_next!(actor::Rocket.CollectLatestObservableInnerActor{AbstractMessage, CartesianIndex{1}, Rocket.CollectLatestObservableWrapper{AbstractMessage, Rocket.RecentSubjectInstance{Message, Subject{Message, AsapScheduler, AsapScheduler}}, Vector{AbstractMessage}, BitVector, Vector{Teardown}, ReactiveMP.var\"#37#39\"{ProdAnalytical, UnspecifiedFormConstraint}}}, value::VariationalMessage{Tuple{ReactiveMP.MessageObservable{Message}}, Tuple{ProxyObservable{Marginal, Rocket.RecentSubjectInstance{Message{PointMass{Vector{Float64}}}, Subject{Message{PointMass{Vector{Float64}}}, AsapScheduler, AsapScheduler}}, Rocket.MapProxy{Message{PointMass{Vector{Float64}}}, typeof(as_marginal)}}}, ReactiveMP.MessageMapping{MvNormalMeanPrecision, DataType, Marginalisation, DataType, DataType, Nothing, FactorNode{Type{MvNormalMeanPrecision}, Tuple{NodeInterface, NodeInterface, NodeInterface}, Tuple{Tuple{Int64}, Tuple{Int64, Int64}}, ReactiveMP.FactorNodeLocalMarginals{Tuple{ReactiveMP.FactorNodeLocalMarginal, ReactiveMP.FactorNodeLocalMarginal}}, Nothing, ReactiveMP.FactorNodePipeline{DefaultFunctionalDependencies, EmptyPipelineStage}}}}, #unused#::AsapScheduler)",
      "     @ Rocket ~/.julia/packages/Rocket/hszfL/src/schedulers/asap.jl:23",
      "  [93] on_next!(subject::Subject{AbstractMessage, AsapScheduler, AsapScheduler}, data::VariationalMessage{Tuple{ReactiveMP.MessageObservable{Message}}, Tuple{ProxyObservable{Marginal, Rocket.RecentSubjectInstance{Message{PointMass{Vector{Float64}}}, Subject{Message{PointMass{Vector{Float64}}}, AsapScheduler, AsapScheduler}}, Rocket.MapProxy{Message{PointMass{Vector{Float64}}}, typeof(as_marginal)}}}, ReactiveMP.MessageMapping{MvNormalMeanPrecision, DataType, Marginalisation, DataType, DataType, Nothing, FactorNode{Type{MvNormalMeanPrecision}, Tuple{NodeInterface, NodeInterface, NodeInterface}, Tuple{Tuple{Int64}, Tuple{Int64, Int64}}, ReactiveMP.FactorNodeLocalMarginals{Tuple{ReactiveMP.FactorNodeLocalMarginal, ReactiveMP.FactorNodeLocalMarginal}}, Nothing, ReactiveMP.FactorNodePipeline{DefaultFunctionalDependencies, EmptyPipelineStage}}}})",
      "     @ Rocket ~/.julia/packages/Rocket/hszfL/src/subjects/subject.jl:62",
      "  [94] actor_on_next!",
      "     @ ~/.julia/packages/Rocket/hszfL/src/actor.jl:250 [inlined]",
      "  [95] next!",
      "     @ ~/.julia/packages/Rocket/hszfL/src/actor.jl:202 [inlined]",
      "  [96] on_next!",
      "     @ ~/.julia/packages/Rocket/hszfL/src/subjects/recent.jl:62 [inlined]",
      "  [97] actor_on_next!",
      "     @ ~/.julia/packages/Rocket/hszfL/src/actor.jl:250 [inlined]",
      "  [98] next!",
      "     @ ~/.julia/packages/Rocket/hszfL/src/actor.jl:202 [inlined]",
      "  [99] on_next!",
      "     @ ~/.julia/packages/Rocket/hszfL/src/operators/map.jl:60 [inlined]",
      " [100] next!",
      "     @ ~/.julia/packages/Rocket/hszfL/src/actor.jl:206 [inlined]",
      " [101] next_received!",
      "     @ ~/.julia/packages/Rocket/hszfL/src/observable/combined.jl:101 [inlined]",
      " [102] on_next!",
      "     @ ~/.julia/packages/Rocket/hszfL/src/observable/combined.jl:68 [inlined]",
      " [103] next!",
      "     @ ~/.julia/packages/Rocket/hszfL/src/actor.jl:206 [inlined]",
      " [104] next_received!",
      "     @ ~/.julia/packages/Rocket/hszfL/src/observable/combined_updates.jl:65 [inlined]",
      " [105] on_next!",
      "     @ ~/.julia/packages/Rocket/hszfL/src/observable/combined_updates.jl:34 [inlined]",
      " [106] next!",
      "     @ ~/.julia/packages/Rocket/hszfL/src/actor.jl:206 [inlined]",
      " [107] on_next!",
      "     @ ~/.julia/packages/Rocket/hszfL/src/operators/map.jl:60 [inlined]",
      " [108] scheduled_next!(actor::Rocket.MapActor{Message{PointMass{Vector{Float64}}}, Rocket.CombineLatestUpdatesInnerActor{Marginal, Rocket.CombineLatestUpdatesActorWrapper{Tuple{ProxyObservable{Marginal, Rocket.RecentSubjectInstance{Message{PointMass{Vector{Float64}}}, Subject{Message{PointMass{Vector{Float64}}}, AsapScheduler, AsapScheduler}}, Rocket.MapProxy{Message{PointMass{Vector{Float64}}}, typeof(as_marginal)}}}, Rocket.CombineLatestInnerActor{Tuple{ProxyObservable{Marginal, Rocket.RecentSubjectInstance{Message{PointMass{Vector{Float64}}}, Subject{Message{PointMass{Vector{Float64}}}, AsapScheduler, AsapScheduler}}, Rocket.MapProxy{Message{PointMass{Vector{Float64}}}, typeof(as_marginal)}}}, Rocket.CombineLatestActorWrapper{Rocket.MStorage2{Tuple{ReactiveMP.MessageObservable{Message}}, Tuple{ProxyObservable{Marginal, Rocket.RecentSubjectInstance{Message{PointMass{Vector{Float64}}}, Subject{Message{PointMass{Vector{Float64}}}, AsapScheduler, AsapScheduler}}, Rocket.MapProxy{Message{PointMass{Vector{Float64}}}, typeof(as_marginal)}}}}, Rocket.MapActor{Tuple{Tuple{ReactiveMP.MessageObservable{Message}}, Tuple{ProxyObservable{Marginal, Rocket.RecentSubjectInstance{Message{PointMass{Vector{Float64}}}, Subject{Message{PointMass{Vector{Float64}}}, AsapScheduler, AsapScheduler}}, Rocket.MapProxy{Message{PointMass{Vector{Float64}}}, typeof(as_marginal)}}}}, Rocket.RecentSubjectInstance{AbstractMessage, Subject{AbstractMessage, AsapScheduler, AsapScheduler}}, ReactiveMP.var\"#345#346\"{ReactiveMP.MessageMapping{MvNormalMeanPrecision, DataType, Marginalisation, DataType, DataType, Nothing, FactorNode{Type{MvNormalMeanPrecision}, Tuple{NodeInterface, NodeInterface, NodeInterface}, Tuple{Tuple{Int64}, Tuple{Int64, Int64}}, ReactiveMP.FactorNodeLocalMarginals{Tuple{ReactiveMP.FactorNodeLocalMarginal, ReactiveMP.FactorNodeLocalMarginal}}, Nothing, ReactiveMP.FactorNodePipeline{DefaultFunctionalDependencies, EmptyPipelineStage}}}}}, PushNew, Rocket.UInt8UpdatesStatus}}, PushNew, Rocket.UInt8UpdatesStatus}}, typeof(as_marginal)}, value::Message{PointMass{Vector{Float64}}}, #unused#::AsapScheduler)",
      "     @ Rocket ~/.julia/packages/Rocket/hszfL/src/schedulers/asap.jl:23",
      " [109] on_next!(subject::Subject{Message{PointMass{Vector{Float64}}}, AsapScheduler, AsapScheduler}, data::Message{PointMass{Vector{Float64}}})",
      "     @ Rocket ~/.julia/packages/Rocket/hszfL/src/subjects/subject.jl:62",
      " [110] actor_on_next!",
      "     @ ~/.julia/packages/Rocket/hszfL/src/actor.jl:250 [inlined]",
      " [111] next!",
      "     @ ~/.julia/packages/Rocket/hszfL/src/actor.jl:202 [inlined]",
      " [112] on_next!",
      "     @ ~/.julia/packages/Rocket/hszfL/src/subjects/recent.jl:62 [inlined]",
      " [113] actor_on_next!",
      "     @ ~/.julia/packages/Rocket/hszfL/src/actor.jl:250 [inlined]",
      " [114] next!",
      "     @ ~/.julia/packages/Rocket/hszfL/src/actor.jl:202 [inlined]",
      " [115] update!",
      "     @ ~/repos/ReactiveMP.jl/src/variables/data.jl:126 [inlined]",
      " [116] update!",
      "     @ ~/repos/ReactiveMP.jl/src/variables/data.jl:121 [inlined]",
      " [117] #174",
      "     @ ~/repos/ReactiveMP.jl/src/variables/data.jl:134 [inlined]",
      " [118] foreach(f::ReactiveMP.var\"#174#175\", itr::Base.Iterators.Zip{Tuple{Vector{DataVariable{PointMass{Vector{Float64}}, Rocket.RecentSubjectInstance{Message{PointMass{Vector{Float64}}}, Subject{Message{PointMass{Vector{Float64}}}, AsapScheduler, AsapScheduler}}}}, Vector{Vector{Float64}}}})",
      "     @ Base ./abstractarray.jl:2694",
      " [119] update!(datavars::Vector{DataVariable{PointMass{Vector{Float64}}, Rocket.RecentSubjectInstance{Message{PointMass{Vector{Float64}}}, Subject{Message{PointMass{Vector{Float64}}}, AsapScheduler, AsapScheduler}}}}, data::Vector{Vector{Float64}})",
      "     @ ReactiveMP ~/repos/ReactiveMP.jl/src/variables/data.jl:133",
      " [120] inference(; model::ReactiveMP.ModelGenerator{sensor_fusion, Tuple{Int64}, Base.Pairs{Symbol, Union{}, Tuple{}, NamedTuple{(), Tuple{}}}, Nothing, Nothing, Nothing}, data::NamedTuple{(:y,), Tuple{Vector{Vector{Float64}}}}, initmarginals::NamedTuple{(:R, :W), Tuple{Wishart{Float64, PDMats.PDMat{Float64, Matrix{Float64}}, Int64}, Wishart{Float64, PDMats.PDMat{Float64, Matrix{Float64}}, Int64}}}, initmessages::NamedTuple{(:z, :W, :R), Tuple{MvNormalMeanPrecision{Float64, Vector{Float64}, Matrix{Float64}}, Wishart{Float64, PDMats.PDMat{Float64, Matrix{Float64}}, Int64}, Wishart{Float64, PDMats.PDMat{Float64, Matrix{Float64}}, Int64}}}, constraints::ConstraintsSpecification{Tuple{ReactiveMP.FactorisationConstraintsSpecification{(:z, :x), (q(z), q(x))}}, NamedTuple{(), Tuple{}}, NamedTuple{(), Tuple{}}}, meta::Nothing, options::NamedTuple{(), Tuple{}}, returnvars::NamedTuple{(:z,), Tuple{KeepEach}}, iterations::Int64, free_energy::Bool, free_energy_diagnostics::Tuple{BetheFreeEnergyCheckNaNs, BetheFreeEnergyCheckInfs}, showprogress::Bool, callbacks::Nothing, warn::Bool)",
      "     @ ReactiveMP ~/repos/ReactiveMP.jl/src/inference.jl:416",
      " [121] top-level scope",
      "     @ In[172]:1",
      " [122] eval",
      "     @ ./boot.jl:373 [inlined]"
     ]
    }
   ],
   "source": [
    "res = inference(\n",
    "    model = Model(sensor_fusion, T),\n",
    "    data = (y = observation_list,),\n",
    "    iterations = 2,\n",
    "    free_energy = false,\n",
    "    returnvars = (z = KeepEach(),),\n",
    "    constraints = constraints,\n",
    "    initmessages = (\n",
    "        z = MvNormalMeanPrecision(zeros(4), 0.01*diagm(0=>ones(4))), \n",
    "        W = Wishart(4, diagm(0=>ones(4))), \n",
    "        R= Wishart(3, diagm(0=>ones(3)))),\n",
    "    initmarginals = (R = Wishart(3, diagm(0=>ones(3))), W = Wishart(4, diagm(0=>ones(4))))\n",
    ")"
   ]
  },
  {
   "cell_type": "code",
   "execution_count": 42,
   "id": "15e9d36a-fd47-4f94-b416-665059dc8d85",
   "metadata": {},
   "outputs": [
    {
     "data": {
      "text/plain": [
       "2"
      ]
     },
     "execution_count": 42,
     "metadata": {},
     "output_type": "execute_result"
    }
   ],
   "source": [
    "length(mean_precision(MvNormalMeanPrecision(zeros(4), diagm(0=>ones(4)))))"
   ]
  },
  {
   "cell_type": "code",
   "execution_count": 20,
   "id": "c040b585-945c-42ea-bbe1-72fa1bbc5f6d",
   "metadata": {},
   "outputs": [
    {
     "data": {
      "text/plain": [
       "4×4 Matrix{Float64}:\n",
       "  1.0   0.0   0.0  -0.0\n",
       "  0.0   1.0   0.0  -0.0\n",
       "  0.0   0.0   1.0  -0.0\n",
       " -0.0  -0.0  -0.0   1.0"
      ]
     },
     "execution_count": 20,
     "metadata": {},
     "output_type": "execute_result"
    }
   ],
   "source": [
    "p"
   ]
  },
  {
   "cell_type": "code",
   "execution_count": 87,
   "id": "ad46ae5d-aae9-498f-a2ac-23df053e59c3",
   "metadata": {},
   "outputs": [
    {
     "data": {
      "text/plain": [
       "4×4 Matrix{Float64}:\n",
       " 1.0  0.0  0.0  0.0\n",
       " 0.0  1.0  0.0  0.0\n",
       " 0.0  0.0  1.0  0.0\n",
       " 0.0  0.0  0.0  1.0"
      ]
     },
     "execution_count": 87,
     "metadata": {},
     "output_type": "execute_result"
    }
   ],
   "source": [
    "mean(Wishart(1, diagm(0=>ones(4))))"
   ]
  },
  {
   "cell_type": "code",
   "execution_count": 132,
   "id": "7364383a-d95b-4ea6-a84d-30b703517140",
   "metadata": {},
   "outputs": [
    {
     "data": {
      "text/plain": [
       "4×10 Matrix{Float64}:\n",
       "  0.825888   -0.948144  1.31037   …  -0.988617    0.105391  -1.28206\n",
       " -1.24359    -0.5526    0.371746      0.416852   -1.15302    0.549141\n",
       "  1.35556    -1.81755   1.05541       1.29406     0.1835    -0.0721076\n",
       "  0.0345196  -0.293503  1.69378      -0.0409659   0.573095   0.357154"
      ]
     },
     "execution_count": 132,
     "metadata": {},
     "output_type": "execute_result"
    }
   ],
   "source": [
    "rng = something(nothing, Random.GLOBAL_RNG)\n",
    "samples = rand(rng, MvNormalMeanPrecision(zeros(4), diagm(0=>ones(4))), 10)\n",
    "samples"
   ]
  },
  {
   "cell_type": "code",
   "execution_count": 150,
   "id": "ba671130-51f1-4102-8b62-20c8769b1932",
   "metadata": {},
   "outputs": [
    {
     "name": "stdout",
     "output_type": "stream",
     "text": [
      "Vector{Float64}\n",
      "Vector{Float64}\n",
      "Vector{Float64}\n",
      "Vector{Float64}\n",
      "Vector{Float64}\n",
      "Vector{Float64}\n",
      "Vector{Float64}\n",
      "Vector{Float64}\n",
      "Vector{Float64}\n",
      "Vector{Float64}\n"
     ]
    }
   ],
   "source": [
    "for col in eachcol(samples)\n",
    "    println(typeof(convert(Array, col)))\n",
    "end"
   ]
  },
  {
   "cell_type": "code",
   "execution_count": 148,
   "id": "e314c20a-210e-4851-a496-e4015611a5ad",
   "metadata": {},
   "outputs": [
    {
     "data": {
      "text/plain": [
       "Array"
      ]
     },
     "execution_count": 148,
     "metadata": {},
     "output_type": "execute_result"
    }
   ],
   "source": [
    "Array"
   ]
  },
  {
   "cell_type": "code",
   "execution_count": 158,
   "id": "0907035b-a5cc-4b35-817d-be7b8bdb6bd9",
   "metadata": {},
   "outputs": [
    {
     "data": {
      "text/plain": [
       "10-element Vector{Vector{Float64}}:\n",
       " [1.7302414687022891, -0.9453722711387934, -1.2406293563393882, -0.98154225239336]\n",
       " [-0.3434040949807968, -0.21939477559552267, -2.267802617045663, 0.5979133468261842]\n",
       " [-0.07944486178621736, 0.19849749458741203, -0.0601064856398875, 1.2132532138542484]\n",
       " [-0.7034826533529761, 0.8729854781401021, 0.004504004445781497, 3.202064953219846]\n",
       " [0.899147655354539, 0.31012388570745714, -0.7340087882260947, -0.8893638349472888]\n",
       " [-1.6000919529227657, 0.2510578654586799, -0.2585899202643073, -1.9386142674160158]\n",
       " [0.8830293610357492, -0.5882730188414279, 1.4431209265546403, -0.5224377999112231]\n",
       " [-0.8838580074059497, 0.10038503924771103, -0.3708521310083794, -0.2350022584903327]\n",
       " [-1.1852581987270783, 0.4255864948201069, -0.17182254035193475, -1.033856942713576]\n",
       " [0.4996689457804617, 1.1746641015954244, 1.1477327398908073, 1.1557731759117749]"
      ]
     },
     "execution_count": 158,
     "metadata": {},
     "output_type": "execute_result"
    }
   ],
   "source": [
    "[rand(rng, MvNormalMeanPrecision(zeros(4), diagm(0=>ones(4)))) for i=1:10]"
   ]
  },
  {
   "cell_type": "code",
   "execution_count": null,
   "id": "7f1ed679-ac1f-4193-834f-a8dbb3d4514b",
   "metadata": {},
   "outputs": [],
   "source": []
  }
 ],
 "metadata": {
  "kernelspec": {
   "display_name": "Julia 1.7.2",
   "language": "julia",
   "name": "julia-1.7"
  },
  "language_info": {
   "file_extension": ".jl",
   "mimetype": "application/julia",
   "name": "julia",
   "version": "1.7.2"
  }
 },
 "nbformat": 4,
 "nbformat_minor": 5
}
