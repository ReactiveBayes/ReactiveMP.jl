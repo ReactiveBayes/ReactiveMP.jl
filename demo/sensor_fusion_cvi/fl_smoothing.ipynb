{
 "cells": [
  {
   "cell_type": "code",
   "execution_count": 4,
   "id": "d34666e0-3c4c-4253-888b-fd437e8400e6",
   "metadata": {},
   "outputs": [
    {
     "name": "stderr",
     "output_type": "stream",
     "text": [
      "┌ Info: Precompiling ReactiveMP [a194aa59-28ba-4574-a09c-4a745416d6e3]\n",
      "└ @ Base loading.jl:1423\n",
      "\u001b[33m\u001b[1m┌ \u001b[22m\u001b[39m\u001b[33m\u001b[1mWarning: \u001b[22m\u001b[39mPackage ReactiveMP does not have Flux in its dependencies:\n",
      "\u001b[33m\u001b[1m│ \u001b[22m\u001b[39m- If you have ReactiveMP checked out for development and have\n",
      "\u001b[33m\u001b[1m│ \u001b[22m\u001b[39m  added Flux as a dependency but haven't updated your primary\n",
      "\u001b[33m\u001b[1m│ \u001b[22m\u001b[39m  environment's manifest file, try `Pkg.resolve()`.\n",
      "\u001b[33m\u001b[1m│ \u001b[22m\u001b[39m- Otherwise you may need to report an issue with ReactiveMP\n",
      "\u001b[33m\u001b[1m└ \u001b[22m\u001b[39mLoading Flux into ReactiveMP from project dependency, future warnings for ReactiveMP are suppressed.\n"
     ]
    }
   ],
   "source": [
    "using ReactiveMP, Rocket, GraphPPL, Random, LinearAlgebra, Plots, Flux, Zygote, ForwardDiff, DataFrames, DelimitedFiles"
   ]
  },
  {
   "cell_type": "code",
   "execution_count": 5,
   "id": "a9756660-5fcc-4b50-b732-809d19f57461",
   "metadata": {},
   "outputs": [],
   "source": [
    "sensors = readdlm(\"sensors.txt\")\n",
    "sensor1, sensor2, sensor3 = sensors[1,:], sensors[2,:], sensors[3,:]\n",
    "observation = readdlm(\"observation.txt\")\n",
    "position = readdlm(\"position.txt\")\n",
    "# T = size(observation)[1]\n",
    "T = 15\n",
    "observation_list = [observation[t,:] for t=1:T];"
   ]
  },
  {
   "cell_type": "code",
   "execution_count": 6,
   "id": "f86ce3ea-32d1-4fa0-a9da-899d2c2018d4",
   "metadata": {},
   "outputs": [],
   "source": [
    "A = [1.0 0.0 1.0 0.0; 0.0 1.0 0.0 1.0; 0.0 0.0 1.0 0.0; 0.0 0.0 0.0 1.0]\n",
    "B = [1.0 0.0 0.0 0.0; 0.0 1.0 0.0 0.0]\n",
    "# Nonlinear function that maps states to observations\n",
    "function f(z)\n",
    "    pos = B*z\n",
    "    o1 = sqrt(sum((pos-sensor1).^2))\n",
    "    o2 = sqrt(sum((pos-sensor2).^2))\n",
    "    o3 = sqrt(sum((pos-sensor3).^2))\n",
    "    o = [o1,o2,o3]\n",
    "end\n",
    "\n",
    "@model function sensor_fusion(T)\n",
    "    W ~ Wishart(4, diagm(0=>ones(4)))\n",
    "    R ~ Wishart(3, diagm(0=>ones(3)))\n",
    "\n",
    "    z = randomvar(T)\n",
    "    x = randomvar(T)\n",
    "    y = datavar(Vector{Float64}, T)\n",
    "\n",
    "    z[1] ~ MvNormalMeanPrecision(zeros(4), W)\n",
    "    x[1] ~ f(z[1]) where {meta = CVIApproximation(100, 100, ADAM(), 100, 20)}\n",
    "    y[1] ~ MvNormalMeanPrecision(x[1], R)\n",
    "\n",
    "    for t in 2:T\n",
    "        z[t] ~ MvNormalMeanPrecision(A * z[t-1], W)\n",
    "        x[t] ~ f(z[t]) where {meta = CVIApproximation(100, 100, ADAM(), 100, 20)}\n",
    "        y[t] ~ MvNormalMeanPrecision(x[t], R)\n",
    "    end\n",
    "\n",
    "    return z, x, y\n",
    "end\n",
    "\n",
    "constraints = @constraints begin\n",
    "    q(z, W) = q(z)q(W)\n",
    "    q(x, R) = q(x)q(R)\n",
    "    # q(z) = q(z[begin])..q(z[end]) \n",
    "end;"
   ]
  },
  {
   "cell_type": "code",
   "execution_count": 10,
   "id": "0a557fc4-70bf-4692-9327-2b28d3c2a0c9",
   "metadata": {},
   "outputs": [
    {
     "data": {
      "text/plain": [
       "Inference results:\n",
       "-----------------------------------------\n",
       "z = Vector{MvNormalWeightedMeanPrecision{Float64, Vector{Float64}, Matrix{Float64}}}...\n"
      ]
     },
     "execution_count": 10,
     "metadata": {},
     "output_type": "execute_result"
    }
   ],
   "source": [
    "res = inference(\n",
    "    model = Model(sensor_fusion, T),\n",
    "    data = (y = observation_list,),\n",
    "    iterations = 2,\n",
    "    free_energy = false,\n",
    "    returnvars = (z = KeepEach(),),\n",
    "    constraints = constraints,\n",
    "    initmessages = (z = MvNormalMeanPrecision(zeros(4), 0.01*diagm(0=>ones(4))),),\n",
    "    initmarginals = (R = Wishart(3, diagm(0=>ones(3))), W = Wishart(4, diagm(0=>ones(4))))\n",
    ")"
   ]
  }
 ],
 "metadata": {
  "kernelspec": {
   "display_name": "Julia 1.7.2",
   "language": "julia",
   "name": "julia-1.7"
  },
  "language_info": {
   "file_extension": ".jl",
   "mimetype": "application/julia",
   "name": "julia",
   "version": "1.7.2"
  }
 },
 "nbformat": 4,
 "nbformat_minor": 5
}
