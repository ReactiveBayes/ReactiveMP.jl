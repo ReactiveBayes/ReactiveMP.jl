{
 "cells": [
  {
   "cell_type": "code",
   "execution_count": 6,
   "id": "d34666e0-3c4c-4253-888b-fd437e8400e6",
   "metadata": {},
   "outputs": [],
   "source": [
    "using ReactiveMP, Rocket, GraphPPL, Random, LinearAlgebra, Plots, Flux, Zygote, ForwardDiff, DataFrames, DelimitedFiles"
   ]
  },
  {
   "cell_type": "code",
   "execution_count": 7,
   "id": "a9756660-5fcc-4b50-b732-809d19f57461",
   "metadata": {},
   "outputs": [],
   "source": [
    "sensors = readdlm(\"sensors.txt\")\n",
    "sensor1, sensor2, sensor3 = sensors[1,:], sensors[2,:], sensors[3,:]\n",
    "observation = readdlm(\"observation.txt\")\n",
    "position = readdlm(\"position.txt\")\n",
    "# T = size(observation)[1]\n",
    "T = 15\n",
    "observation_list = [observation[t,:] for t=1:T];"
   ]
  },
  {
   "cell_type": "code",
   "execution_count": 8,
   "id": "ab58e2ef-3365-4391-8f35-02ab04e83236",
   "metadata": {},
   "outputs": [],
   "source": [
    "struct MyOptimizer end"
   ]
  },
  {
   "cell_type": "code",
   "execution_count": 9,
   "id": "128e7ae5-4148-4289-ac90-ccb8342e5a21",
   "metadata": {},
   "outputs": [],
   "source": [
    "function ReactiveMP.cvi_update!(opt::MyOptimizer, a, b)\n",
    "    return vec(a)\n",
    "end"
   ]
  },
  {
   "cell_type": "code",
   "execution_count": 18,
   "id": "040d573d-ccfc-4578-a4a9-9b940bed8b67",
   "metadata": {},
   "outputs": [
    {
     "data": {
      "text/plain": [
       "#39 (generic function with 1 method)"
      ]
     },
     "execution_count": 18,
     "metadata": {},
     "output_type": "execute_result"
    }
   ],
   "source": [
    "opt = Descent(0.1)\n",
    "\n",
    "callback_optimizer = (λ, ∇) -> begin \n",
    "    return Flux.Optimise.update!(opt, vec(λ), vec(∇))\n",
    "end"
   ]
  },
  {
   "cell_type": "code",
   "execution_count": 38,
   "id": "f86ce3ea-32d1-4fa0-a9da-899d2c2018d4",
   "metadata": {},
   "outputs": [],
   "source": [
    "A = [1.0 0.0 1.0 0.0; 0.0 1.0 0.0 1.0; 0.0 0.0 1.0 0.0; 0.0 0.0 0.0 1.0]\n",
    "B = [1.0 0.0 0.0 0.0; 0.0 1.0 0.0 0.0]\n",
    "# Nonlinear function that maps states to observations\n",
    "function g(z)\n",
    "    pos = B*z\n",
    "    o1 = sqrt(sum((pos-sensor1).^2))\n",
    "    o2 = sqrt(sum((pos-sensor2).^2))\n",
    "    o3 = sqrt(sum((pos-sensor3).^2))\n",
    "    o = [o1,o2,o3]\n",
    "end\n",
    "\n",
    "@model function sensor_fusion(T, optimizer)\n",
    "    W ~ Wishart(4, diagm(0=>ones(4)))\n",
    "    R ~ Wishart(3, diagm(0=>ones(3)))\n",
    "\n",
    "    z = randomvar(T)\n",
    "    x = randomvar(T)\n",
    "    y = datavar(Vector{Float64}, T)\n",
    "\n",
    "    z[1] ~ MvNormalMeanPrecision(zeros(4), W)\n",
    "    x[1] ~ g(z[1]) where {meta = CVIApproximation(2000, 100, optimizer)}\n",
    "    y[1] ~ MvNormalMeanPrecision(x[1], R)\n",
    "\n",
    "    for t in 2:T\n",
    "        z[t] ~ MvNormalMeanPrecision(A * z[t-1], W)\n",
    "        x[t] ~ g(z[t]) where {meta = CVIApproximation(2000, 100, optimizer)}\n",
    "        y[t] ~ MvNormalMeanPrecision(x[t], R)\n",
    "    end\n",
    "\n",
    "    return z, x, y\n",
    "end\n",
    "\n",
    "constraints = @constraints begin\n",
    "    q(z, x, W, R) = q(z)q(W)q(x)q(R)\n",
    "end;"
   ]
  },
  {
   "cell_type": "code",
   "execution_count": 39,
   "id": "0a557fc4-70bf-4692-9327-2b28d3c2a0c9",
   "metadata": {},
   "outputs": [
    {
     "data": {
      "text/plain": [
       "Inference results:\n",
       "-----------------------------------------\n",
       "z = MvNormalWeightedMeanPrecision{Float64, Vector{Float64}, Matrix{Float64}}[MvNorma...\n"
      ]
     },
     "execution_count": 39,
     "metadata": {},
     "output_type": "execute_result"
    }
   ],
   "source": [
    "res = inference(\n",
    "    model = Model(sensor_fusion, T, callback_optimizer),\n",
    "    data = (y = observation_list,),\n",
    "    iterations = 1,\n",
    "    free_energy = false,\n",
    "    returnvars = (z = KeepLast(),),\n",
    "    constraints = constraints,\n",
    "    initmessages = (z = MvNormalMeanPrecision(zeros(4), 0.01*diagm(0=>ones(4))),),\n",
    "    initmarginals = (R = Wishart(3, diagm(0=>ones(3))), W = Wishart(4, diagm(0=>ones(4))))\n",
    ")"
   ]
  },
  {
   "cell_type": "code",
   "execution_count": 40,
   "id": "74d1d673",
   "metadata": {},
   "outputs": [
    {
     "data": {
      "image/svg+xml": [
       "<?xml version=\"1.0\" encoding=\"utf-8\"?>\n",
       "<svg xmlns=\"http://www.w3.org/2000/svg\" xmlns:xlink=\"http://www.w3.org/1999/xlink\" width=\"600\" height=\"400\" viewBox=\"0 0 2400 1600\">\n",
       "<defs>\n",
       "  <clipPath id=\"clip680\">\n",
       "    <rect x=\"0\" y=\"0\" width=\"2400\" height=\"1600\"/>\n",
       "  </clipPath>\n",
       "</defs>\n",
       "<path clip-path=\"url(#clip680)\" d=\"\n",
       "M0 1600 L2400 1600 L2400 0 L0 0  Z\n",
       "  \" fill=\"#ffffff\" fill-rule=\"evenodd\" fill-opacity=\"1\"/>\n",
       "<defs>\n",
       "  <clipPath id=\"clip681\">\n",
       "    <rect x=\"480\" y=\"0\" width=\"1681\" height=\"1600\"/>\n",
       "  </clipPath>\n",
       "</defs>\n",
       "<path clip-path=\"url(#clip680)\" d=\"\n",
       "M178.867 1486.45 L2352.76 1486.45 L2352.76 47.2441 L178.867 47.2441  Z\n",
       "  \" fill=\"#ffffff\" fill-rule=\"evenodd\" fill-opacity=\"1\"/>\n",
       "<defs>\n",
       "  <clipPath id=\"clip682\">\n",
       "    <rect x=\"178\" y=\"47\" width=\"2175\" height=\"1440\"/>\n",
       "  </clipPath>\n",
       "</defs>\n",
       "<polyline clip-path=\"url(#clip682)\" style=\"stroke:#000000; stroke-linecap:round; stroke-linejoin:round; stroke-width:2; stroke-opacity:0.1; fill:none\" points=\"\n",
       "  240.392,1486.45 240.392,47.2441 \n",
       "  \"/>\n",
       "<polyline clip-path=\"url(#clip682)\" style=\"stroke:#000000; stroke-linecap:round; stroke-linejoin:round; stroke-width:2; stroke-opacity:0.1; fill:none\" points=\"\n",
       "  696.134,1486.45 696.134,47.2441 \n",
       "  \"/>\n",
       "<polyline clip-path=\"url(#clip682)\" style=\"stroke:#000000; stroke-linecap:round; stroke-linejoin:round; stroke-width:2; stroke-opacity:0.1; fill:none\" points=\"\n",
       "  1151.88,1486.45 1151.88,47.2441 \n",
       "  \"/>\n",
       "<polyline clip-path=\"url(#clip682)\" style=\"stroke:#000000; stroke-linecap:round; stroke-linejoin:round; stroke-width:2; stroke-opacity:0.1; fill:none\" points=\"\n",
       "  1607.62,1486.45 1607.62,47.2441 \n",
       "  \"/>\n",
       "<polyline clip-path=\"url(#clip682)\" style=\"stroke:#000000; stroke-linecap:round; stroke-linejoin:round; stroke-width:2; stroke-opacity:0.1; fill:none\" points=\"\n",
       "  2063.36,1486.45 2063.36,47.2441 \n",
       "  \"/>\n",
       "<polyline clip-path=\"url(#clip680)\" style=\"stroke:#000000; stroke-linecap:round; stroke-linejoin:round; stroke-width:4; stroke-opacity:1; fill:none\" points=\"\n",
       "  178.867,1486.45 2352.76,1486.45 \n",
       "  \"/>\n",
       "<polyline clip-path=\"url(#clip680)\" style=\"stroke:#000000; stroke-linecap:round; stroke-linejoin:round; stroke-width:4; stroke-opacity:1; fill:none\" points=\"\n",
       "  240.392,1486.45 240.392,1467.55 \n",
       "  \"/>\n",
       "<polyline clip-path=\"url(#clip680)\" style=\"stroke:#000000; stroke-linecap:round; stroke-linejoin:round; stroke-width:4; stroke-opacity:1; fill:none\" points=\"\n",
       "  696.134,1486.45 696.134,1467.55 \n",
       "  \"/>\n",
       "<polyline clip-path=\"url(#clip680)\" style=\"stroke:#000000; stroke-linecap:round; stroke-linejoin:round; stroke-width:4; stroke-opacity:1; fill:none\" points=\"\n",
       "  1151.88,1486.45 1151.88,1467.55 \n",
       "  \"/>\n",
       "<polyline clip-path=\"url(#clip680)\" style=\"stroke:#000000; stroke-linecap:round; stroke-linejoin:round; stroke-width:4; stroke-opacity:1; fill:none\" points=\"\n",
       "  1607.62,1486.45 1607.62,1467.55 \n",
       "  \"/>\n",
       "<polyline clip-path=\"url(#clip680)\" style=\"stroke:#000000; stroke-linecap:round; stroke-linejoin:round; stroke-width:4; stroke-opacity:1; fill:none\" points=\"\n",
       "  2063.36,1486.45 2063.36,1467.55 \n",
       "  \"/>\n",
       "<path clip-path=\"url(#clip680)\" d=\"M194.455 1532.02 L224.13 1532.02 L224.13 1535.95 L194.455 1535.95 L194.455 1532.02 Z\" fill=\"#000000\" fill-rule=\"evenodd\" fill-opacity=\"1\" /><path clip-path=\"url(#clip680)\" d=\"M247.07 1518.36 L235.265 1536.81 L247.07 1536.81 L247.07 1518.36 M245.843 1514.29 L251.723 1514.29 L251.723 1536.81 L256.653 1536.81 L256.653 1540.7 L251.723 1540.7 L251.723 1548.85 L247.07 1548.85 L247.07 1540.7 L231.468 1540.7 L231.468 1536.19 L245.843 1514.29 Z\" fill=\"#000000\" fill-rule=\"evenodd\" fill-opacity=\"1\" /><path clip-path=\"url(#clip680)\" d=\"M274.385 1517.37 Q270.774 1517.37 268.945 1520.93 Q267.139 1524.47 267.139 1531.6 Q267.139 1538.71 268.945 1542.27 Q270.774 1545.82 274.385 1545.82 Q278.019 1545.82 279.824 1542.27 Q281.653 1538.71 281.653 1531.6 Q281.653 1524.47 279.824 1520.93 Q278.019 1517.37 274.385 1517.37 M274.385 1513.66 Q280.195 1513.66 283.25 1518.27 Q286.329 1522.85 286.329 1531.6 Q286.329 1540.33 283.25 1544.94 Q280.195 1549.52 274.385 1549.52 Q268.575 1549.52 265.496 1544.94 Q262.44 1540.33 262.44 1531.6 Q262.44 1522.85 265.496 1518.27 Q268.575 1513.66 274.385 1513.66 Z\" fill=\"#000000\" fill-rule=\"evenodd\" fill-opacity=\"1\" /><path clip-path=\"url(#clip680)\" d=\"M650.197 1532.02 L679.872 1532.02 L679.872 1535.95 L650.197 1535.95 L650.197 1532.02 Z\" fill=\"#000000\" fill-rule=\"evenodd\" fill-opacity=\"1\" /><path clip-path=\"url(#clip680)\" d=\"M704.131 1530.21 Q707.488 1530.93 709.363 1533.2 Q711.261 1535.47 711.261 1538.8 Q711.261 1543.92 707.743 1546.72 Q704.224 1549.52 697.743 1549.52 Q695.567 1549.52 693.252 1549.08 Q690.96 1548.66 688.507 1547.81 L688.507 1543.29 Q690.451 1544.43 692.766 1545.01 Q695.081 1545.58 697.604 1545.58 Q702.002 1545.58 704.293 1543.85 Q706.608 1542.11 706.608 1538.8 Q706.608 1535.75 704.456 1534.03 Q702.326 1532.3 698.506 1532.3 L694.479 1532.3 L694.479 1528.45 L698.692 1528.45 Q702.141 1528.45 703.969 1527.09 Q705.798 1525.7 705.798 1523.11 Q705.798 1520.45 703.9 1519.03 Q702.025 1517.6 698.506 1517.6 Q696.585 1517.6 694.386 1518.01 Q692.187 1518.43 689.548 1519.31 L689.548 1515.14 Q692.21 1514.4 694.525 1514.03 Q696.863 1513.66 698.923 1513.66 Q704.247 1513.66 707.349 1516.09 Q710.451 1518.5 710.451 1522.62 Q710.451 1525.49 708.807 1527.48 Q707.164 1529.45 704.131 1530.21 Z\" fill=\"#000000\" fill-rule=\"evenodd\" fill-opacity=\"1\" /><path clip-path=\"url(#clip680)\" d=\"M730.127 1517.37 Q726.516 1517.37 724.687 1520.93 Q722.881 1524.47 722.881 1531.6 Q722.881 1538.71 724.687 1542.27 Q726.516 1545.82 730.127 1545.82 Q733.761 1545.82 735.566 1542.27 Q737.395 1538.71 737.395 1531.6 Q737.395 1524.47 735.566 1520.93 Q733.761 1517.37 730.127 1517.37 M730.127 1513.66 Q735.937 1513.66 738.992 1518.27 Q742.071 1522.85 742.071 1531.6 Q742.071 1540.33 738.992 1544.94 Q735.937 1549.52 730.127 1549.52 Q724.317 1549.52 721.238 1544.94 Q718.182 1540.33 718.182 1531.6 Q718.182 1522.85 721.238 1518.27 Q724.317 1513.66 730.127 1513.66 Z\" fill=\"#000000\" fill-rule=\"evenodd\" fill-opacity=\"1\" /><path clip-path=\"url(#clip680)\" d=\"M1105.94 1532.02 L1135.61 1532.02 L1135.61 1535.95 L1105.94 1535.95 L1105.94 1532.02 Z\" fill=\"#000000\" fill-rule=\"evenodd\" fill-opacity=\"1\" /><path clip-path=\"url(#clip680)\" d=\"M1149.73 1544.91 L1166.05 1544.91 L1166.05 1548.85 L1144.11 1548.85 L1144.11 1544.91 Q1146.77 1542.16 1151.35 1537.53 Q1155.96 1532.88 1157.14 1531.53 Q1159.39 1529.01 1160.27 1527.27 Q1161.17 1525.51 1161.17 1523.82 Q1161.17 1521.07 1159.23 1519.33 Q1157.3 1517.6 1154.2 1517.6 Q1152 1517.6 1149.55 1518.36 Q1147.12 1519.13 1144.34 1520.68 L1144.34 1515.95 Q1147.17 1514.82 1149.62 1514.24 Q1152.07 1513.66 1154.11 1513.66 Q1159.48 1513.66 1162.67 1516.35 Q1165.87 1519.03 1165.87 1523.52 Q1165.87 1525.65 1165.06 1527.57 Q1164.27 1529.47 1162.17 1532.07 Q1161.59 1532.74 1158.48 1535.95 Q1155.38 1539.15 1149.73 1544.91 Z\" fill=\"#000000\" fill-rule=\"evenodd\" fill-opacity=\"1\" /><path clip-path=\"url(#clip680)\" d=\"M1185.87 1517.37 Q1182.26 1517.37 1180.43 1520.93 Q1178.62 1524.47 1178.62 1531.6 Q1178.62 1538.71 1180.43 1542.27 Q1182.26 1545.82 1185.87 1545.82 Q1189.5 1545.82 1191.31 1542.27 Q1193.14 1538.71 1193.14 1531.6 Q1193.14 1524.47 1191.31 1520.93 Q1189.5 1517.37 1185.87 1517.37 M1185.87 1513.66 Q1191.68 1513.66 1194.73 1518.27 Q1197.81 1522.85 1197.81 1531.6 Q1197.81 1540.33 1194.73 1544.94 Q1191.68 1549.52 1185.87 1549.52 Q1180.06 1549.52 1176.98 1544.94 Q1173.92 1540.33 1173.92 1531.6 Q1173.92 1522.85 1176.98 1518.27 Q1180.06 1513.66 1185.87 1513.66 Z\" fill=\"#000000\" fill-rule=\"evenodd\" fill-opacity=\"1\" /><path clip-path=\"url(#clip680)\" d=\"M1561.68 1532.02 L1591.36 1532.02 L1591.36 1535.95 L1561.68 1535.95 L1561.68 1532.02 Z\" fill=\"#000000\" fill-rule=\"evenodd\" fill-opacity=\"1\" /><path clip-path=\"url(#clip680)\" d=\"M1602.26 1544.91 L1609.9 1544.91 L1609.9 1518.55 L1601.59 1520.21 L1601.59 1515.95 L1609.85 1514.29 L1614.53 1514.29 L1614.53 1544.91 L1622.17 1544.91 L1622.17 1548.85 L1602.26 1548.85 L1602.26 1544.91 Z\" fill=\"#000000\" fill-rule=\"evenodd\" fill-opacity=\"1\" /><path clip-path=\"url(#clip680)\" d=\"M1641.61 1517.37 Q1638 1517.37 1636.17 1520.93 Q1634.37 1524.47 1634.37 1531.6 Q1634.37 1538.71 1636.17 1542.27 Q1638 1545.82 1641.61 1545.82 Q1645.24 1545.82 1647.05 1542.27 Q1648.88 1538.71 1648.88 1531.6 Q1648.88 1524.47 1647.05 1520.93 Q1645.24 1517.37 1641.61 1517.37 M1641.61 1513.66 Q1647.42 1513.66 1650.48 1518.27 Q1653.56 1522.85 1653.56 1531.6 Q1653.56 1540.33 1650.48 1544.94 Q1647.42 1549.52 1641.61 1549.52 Q1635.8 1549.52 1632.72 1544.94 Q1629.67 1540.33 1629.67 1531.6 Q1629.67 1522.85 1632.72 1518.27 Q1635.8 1513.66 1641.61 1513.66 Z\" fill=\"#000000\" fill-rule=\"evenodd\" fill-opacity=\"1\" /><path clip-path=\"url(#clip680)\" d=\"M2063.36 1517.37 Q2059.75 1517.37 2057.92 1520.93 Q2056.11 1524.47 2056.11 1531.6 Q2056.11 1538.71 2057.92 1542.27 Q2059.75 1545.82 2063.36 1545.82 Q2066.99 1545.82 2068.8 1542.27 Q2070.63 1538.71 2070.63 1531.6 Q2070.63 1524.47 2068.8 1520.93 Q2066.99 1517.37 2063.36 1517.37 M2063.36 1513.66 Q2069.17 1513.66 2072.23 1518.27 Q2075.3 1522.85 2075.3 1531.6 Q2075.3 1540.33 2072.23 1544.94 Q2069.17 1549.52 2063.36 1549.52 Q2057.55 1549.52 2054.47 1544.94 Q2051.42 1540.33 2051.42 1531.6 Q2051.42 1522.85 2054.47 1518.27 Q2057.55 1513.66 2063.36 1513.66 Z\" fill=\"#000000\" fill-rule=\"evenodd\" fill-opacity=\"1\" /><polyline clip-path=\"url(#clip682)\" style=\"stroke:#000000; stroke-linecap:round; stroke-linejoin:round; stroke-width:2; stroke-opacity:0.1; fill:none\" points=\"\n",
       "  178.867,1445.72 2352.76,1445.72 \n",
       "  \"/>\n",
       "<polyline clip-path=\"url(#clip682)\" style=\"stroke:#000000; stroke-linecap:round; stroke-linejoin:round; stroke-width:2; stroke-opacity:0.1; fill:none\" points=\"\n",
       "  178.867,994.083 2352.76,994.083 \n",
       "  \"/>\n",
       "<polyline clip-path=\"url(#clip682)\" style=\"stroke:#000000; stroke-linecap:round; stroke-linejoin:round; stroke-width:2; stroke-opacity:0.1; fill:none\" points=\"\n",
       "  178.867,542.451 2352.76,542.451 \n",
       "  \"/>\n",
       "<polyline clip-path=\"url(#clip682)\" style=\"stroke:#000000; stroke-linecap:round; stroke-linejoin:round; stroke-width:2; stroke-opacity:0.1; fill:none\" points=\"\n",
       "  178.867,90.8183 2352.76,90.8183 \n",
       "  \"/>\n",
       "<polyline clip-path=\"url(#clip680)\" style=\"stroke:#000000; stroke-linecap:round; stroke-linejoin:round; stroke-width:4; stroke-opacity:1; fill:none\" points=\"\n",
       "  178.867,1486.45 178.867,47.2441 \n",
       "  \"/>\n",
       "<polyline clip-path=\"url(#clip680)\" style=\"stroke:#000000; stroke-linecap:round; stroke-linejoin:round; stroke-width:4; stroke-opacity:1; fill:none\" points=\"\n",
       "  178.867,1445.72 197.764,1445.72 \n",
       "  \"/>\n",
       "<polyline clip-path=\"url(#clip680)\" style=\"stroke:#000000; stroke-linecap:round; stroke-linejoin:round; stroke-width:4; stroke-opacity:1; fill:none\" points=\"\n",
       "  178.867,994.083 197.764,994.083 \n",
       "  \"/>\n",
       "<polyline clip-path=\"url(#clip680)\" style=\"stroke:#000000; stroke-linecap:round; stroke-linejoin:round; stroke-width:4; stroke-opacity:1; fill:none\" points=\"\n",
       "  178.867,542.451 197.764,542.451 \n",
       "  \"/>\n",
       "<polyline clip-path=\"url(#clip680)\" style=\"stroke:#000000; stroke-linecap:round; stroke-linejoin:round; stroke-width:4; stroke-opacity:1; fill:none\" points=\"\n",
       "  178.867,90.8183 197.764,90.8183 \n",
       "  \"/>\n",
       "<path clip-path=\"url(#clip680)\" d=\"M50.9921 1446.17 L80.6679 1446.17 L80.6679 1450.1 L50.9921 1450.1 L50.9921 1446.17 Z\" fill=\"#000000\" fill-rule=\"evenodd\" fill-opacity=\"1\" /><path clip-path=\"url(#clip680)\" d=\"M91.5706 1459.06 L99.2095 1459.06 L99.2095 1432.69 L90.8993 1434.36 L90.8993 1430.1 L99.1632 1428.44 L103.839 1428.44 L103.839 1459.06 L111.478 1459.06 L111.478 1463 L91.5706 1463 L91.5706 1459.06 Z\" fill=\"#000000\" fill-rule=\"evenodd\" fill-opacity=\"1\" /><path clip-path=\"url(#clip680)\" d=\"M130.922 1431.51 Q127.311 1431.51 125.482 1435.08 Q123.677 1438.62 123.677 1445.75 Q123.677 1452.86 125.482 1456.42 Q127.311 1459.96 130.922 1459.96 Q134.556 1459.96 136.362 1456.42 Q138.191 1452.86 138.191 1445.75 Q138.191 1438.62 136.362 1435.08 Q134.556 1431.51 130.922 1431.51 M130.922 1427.81 Q136.732 1427.81 139.788 1432.42 Q142.867 1437 142.867 1445.75 Q142.867 1454.48 139.788 1459.08 Q136.732 1463.67 130.922 1463.67 Q125.112 1463.67 122.033 1459.08 Q118.978 1454.48 118.978 1445.75 Q118.978 1437 122.033 1432.42 Q125.112 1427.81 130.922 1427.81 Z\" fill=\"#000000\" fill-rule=\"evenodd\" fill-opacity=\"1\" /><path clip-path=\"url(#clip680)\" d=\"M130.922 979.882 Q127.311 979.882 125.482 983.447 Q123.677 986.988 123.677 994.118 Q123.677 1001.22 125.482 1004.79 Q127.311 1008.33 130.922 1008.33 Q134.556 1008.33 136.362 1004.79 Q138.191 1001.22 138.191 994.118 Q138.191 986.988 136.362 983.447 Q134.556 979.882 130.922 979.882 M130.922 976.178 Q136.732 976.178 139.788 980.785 Q142.867 985.368 142.867 994.118 Q142.867 1002.84 139.788 1007.45 Q136.732 1012.03 130.922 1012.03 Q125.112 1012.03 122.033 1007.45 Q118.978 1002.84 118.978 994.118 Q118.978 985.368 122.033 980.785 Q125.112 976.178 130.922 976.178 Z\" fill=\"#000000\" fill-rule=\"evenodd\" fill-opacity=\"1\" /><path clip-path=\"url(#clip680)\" d=\"M91.5706 555.796 L99.2095 555.796 L99.2095 529.43 L90.8993 531.097 L90.8993 526.837 L99.1632 525.171 L103.839 525.171 L103.839 555.796 L111.478 555.796 L111.478 559.731 L91.5706 559.731 L91.5706 555.796 Z\" fill=\"#000000\" fill-rule=\"evenodd\" fill-opacity=\"1\" /><path clip-path=\"url(#clip680)\" d=\"M130.922 528.249 Q127.311 528.249 125.482 531.814 Q123.677 535.356 123.677 542.485 Q123.677 549.592 125.482 553.157 Q127.311 556.698 130.922 556.698 Q134.556 556.698 136.362 553.157 Q138.191 549.592 138.191 542.485 Q138.191 535.356 136.362 531.814 Q134.556 528.249 130.922 528.249 M130.922 524.546 Q136.732 524.546 139.788 529.152 Q142.867 533.736 142.867 542.485 Q142.867 551.212 139.788 555.819 Q136.732 560.402 130.922 560.402 Q125.112 560.402 122.033 555.819 Q118.978 551.212 118.978 542.485 Q118.978 533.736 122.033 529.152 Q125.112 524.546 130.922 524.546 Z\" fill=\"#000000\" fill-rule=\"evenodd\" fill-opacity=\"1\" /><path clip-path=\"url(#clip680)\" d=\"M94.7882 104.163 L111.108 104.163 L111.108 108.098 L89.1632 108.098 L89.1632 104.163 Q91.8252 101.408 96.4085 96.7789 Q101.015 92.1261 102.196 90.7835 Q104.441 88.2604 105.321 86.5243 Q106.223 84.7651 106.223 83.0753 Q106.223 80.3206 104.279 78.5845 Q102.358 76.8484 99.2558 76.8484 Q97.0567 76.8484 94.603 77.6123 Q92.1725 78.3762 89.3947 79.9271 L89.3947 75.2049 Q92.2188 74.0707 94.6724 73.492 Q97.1261 72.9133 99.1632 72.9133 Q104.534 72.9133 107.728 75.5984 Q110.922 78.2836 110.922 82.7743 Q110.922 84.9039 110.112 86.8252 Q109.325 88.7234 107.219 91.3159 Q106.64 91.9872 103.538 95.2048 Q100.436 98.3992 94.7882 104.163 Z\" fill=\"#000000\" fill-rule=\"evenodd\" fill-opacity=\"1\" /><path clip-path=\"url(#clip680)\" d=\"M130.922 76.617 Q127.311 76.617 125.482 80.1817 Q123.677 83.7234 123.677 90.853 Q123.677 97.9594 125.482 101.524 Q127.311 105.066 130.922 105.066 Q134.556 105.066 136.362 101.524 Q138.191 97.9594 138.191 90.853 Q138.191 83.7234 136.362 80.1817 Q134.556 76.617 130.922 76.617 M130.922 72.9133 Q136.732 72.9133 139.788 77.5197 Q142.867 82.103 142.867 90.853 Q142.867 99.5798 139.788 104.186 Q136.732 108.77 130.922 108.77 Q125.112 108.77 122.033 104.186 Q118.978 99.5798 118.978 90.853 Q118.978 82.103 122.033 77.5197 Q125.112 72.9133 130.922 72.9133 Z\" fill=\"#000000\" fill-rule=\"evenodd\" fill-opacity=\"1\" /><circle clip-path=\"url(#clip682)\" cx=\"2105.97\" cy=\"938.908\" r=\"14.4\" fill=\"#009af9\" fill-rule=\"evenodd\" fill-opacity=\"1\" stroke=\"#000000\" stroke-opacity=\"1\" stroke-width=\"3.2\"/>\n",
       "<circle clip-path=\"url(#clip682)\" cx=\"2100.06\" cy=\"891.495\" r=\"14.4\" fill=\"#009af9\" fill-rule=\"evenodd\" fill-opacity=\"1\" stroke=\"#000000\" stroke-opacity=\"1\" stroke-width=\"3.2\"/>\n",
       "<circle clip-path=\"url(#clip682)\" cx=\"1959.18\" cy=\"784.175\" r=\"14.4\" fill=\"#009af9\" fill-rule=\"evenodd\" fill-opacity=\"1\" stroke=\"#000000\" stroke-opacity=\"1\" stroke-width=\"3.2\"/>\n",
       "<circle clip-path=\"url(#clip682)\" cx=\"1934.86\" cy=\"732.167\" r=\"14.4\" fill=\"#009af9\" fill-rule=\"evenodd\" fill-opacity=\"1\" stroke=\"#000000\" stroke-opacity=\"1\" stroke-width=\"3.2\"/>\n",
       "<circle clip-path=\"url(#clip682)\" cx=\"1903.03\" cy=\"584.916\" r=\"14.4\" fill=\"#009af9\" fill-rule=\"evenodd\" fill-opacity=\"1\" stroke=\"#000000\" stroke-opacity=\"1\" stroke-width=\"3.2\"/>\n",
       "<circle clip-path=\"url(#clip682)\" cx=\"1993.17\" cy=\"435.919\" r=\"14.4\" fill=\"#009af9\" fill-rule=\"evenodd\" fill-opacity=\"1\" stroke=\"#000000\" stroke-opacity=\"1\" stroke-width=\"3.2\"/>\n",
       "<circle clip-path=\"url(#clip682)\" cx=\"1853.29\" cy=\"378.763\" r=\"14.4\" fill=\"#009af9\" fill-rule=\"evenodd\" fill-opacity=\"1\" stroke=\"#000000\" stroke-opacity=\"1\" stroke-width=\"3.2\"/>\n",
       "<circle clip-path=\"url(#clip682)\" cx=\"1806.43\" cy=\"291.281\" r=\"14.4\" fill=\"#009af9\" fill-rule=\"evenodd\" fill-opacity=\"1\" stroke=\"#000000\" stroke-opacity=\"1\" stroke-width=\"3.2\"/>\n",
       "<circle clip-path=\"url(#clip682)\" cx=\"1680.77\" cy=\"267.782\" r=\"14.4\" fill=\"#009af9\" fill-rule=\"evenodd\" fill-opacity=\"1\" stroke=\"#000000\" stroke-opacity=\"1\" stroke-width=\"3.2\"/>\n",
       "<circle clip-path=\"url(#clip682)\" cx=\"1579.74\" cy=\"160.774\" r=\"14.4\" fill=\"#009af9\" fill-rule=\"evenodd\" fill-opacity=\"1\" stroke=\"#000000\" stroke-opacity=\"1\" stroke-width=\"3.2\"/>\n",
       "<circle clip-path=\"url(#clip682)\" cx=\"1505.35\" cy=\"134.384\" r=\"14.4\" fill=\"#009af9\" fill-rule=\"evenodd\" fill-opacity=\"1\" stroke=\"#000000\" stroke-opacity=\"1\" stroke-width=\"3.2\"/>\n",
       "<circle clip-path=\"url(#clip682)\" cx=\"1377.68\" cy=\"103.554\" r=\"14.4\" fill=\"#009af9\" fill-rule=\"evenodd\" fill-opacity=\"1\" stroke=\"#000000\" stroke-opacity=\"1\" stroke-width=\"3.2\"/>\n",
       "<circle clip-path=\"url(#clip682)\" cx=\"1194.57\" cy=\"101.325\" r=\"14.4\" fill=\"#009af9\" fill-rule=\"evenodd\" fill-opacity=\"1\" stroke=\"#000000\" stroke-opacity=\"1\" stroke-width=\"3.2\"/>\n",
       "<circle clip-path=\"url(#clip682)\" cx=\"1029.52\" cy=\"191.788\" r=\"14.4\" fill=\"#009af9\" fill-rule=\"evenodd\" fill-opacity=\"1\" stroke=\"#000000\" stroke-opacity=\"1\" stroke-width=\"3.2\"/>\n",
       "<circle clip-path=\"url(#clip682)\" cx=\"781.079\" cy=\"211.097\" r=\"14.4\" fill=\"#009af9\" fill-rule=\"evenodd\" fill-opacity=\"1\" stroke=\"#000000\" stroke-opacity=\"1\" stroke-width=\"3.2\"/>\n",
       "<path clip-path=\"url(#clip682)\" d=\"M2271.23 748.267 L2271.23 788.267 L2311.23 788.267 L2311.23 748.267 L2271.23 748.267 Z\" fill=\"#000000\" fill-rule=\"evenodd\" fill-opacity=\"1\" stroke=\"none\"/>\n",
       "<path clip-path=\"url(#clip682)\" d=\"M220.392 1425.72 L220.392 1465.72 L260.392 1465.72 L260.392 1425.72 L220.392 1425.72 Z\" fill=\"#000000\" fill-rule=\"evenodd\" fill-opacity=\"1\" stroke=\"none\"/>\n",
       "<path clip-path=\"url(#clip682)\" d=\"M2043.36 70.8183 L2043.36 110.818 L2083.36 110.818 L2083.36 70.8183 L2043.36 70.8183 Z\" fill=\"#000000\" fill-rule=\"evenodd\" fill-opacity=\"1\" stroke=\"none\"/>\n",
       "<circle clip-path=\"url(#clip682)\" cx=\"2154.51\" cy=\"903.757\" r=\"14.4\" fill=\"#8b0000\" fill-rule=\"evenodd\" fill-opacity=\"1\" stroke=\"#000000\" stroke-opacity=\"1\" stroke-width=\"3.2\"/>\n",
       "<circle clip-path=\"url(#clip682)\" cx=\"2063.39\" cy=\"855.009\" r=\"14.4\" fill=\"#8b0000\" fill-rule=\"evenodd\" fill-opacity=\"1\" stroke=\"#000000\" stroke-opacity=\"1\" stroke-width=\"3.2\"/>\n",
       "<circle clip-path=\"url(#clip682)\" cx=\"1995.17\" cy=\"780.731\" r=\"14.4\" fill=\"#8b0000\" fill-rule=\"evenodd\" fill-opacity=\"1\" stroke=\"#000000\" stroke-opacity=\"1\" stroke-width=\"3.2\"/>\n",
       "<circle clip-path=\"url(#clip682)\" cx=\"1963.67\" cy=\"697.233\" r=\"14.4\" fill=\"#8b0000\" fill-rule=\"evenodd\" fill-opacity=\"1\" stroke=\"#000000\" stroke-opacity=\"1\" stroke-width=\"3.2\"/>\n",
       "<circle clip-path=\"url(#clip682)\" cx=\"1929.38\" cy=\"572.6\" r=\"14.4\" fill=\"#8b0000\" fill-rule=\"evenodd\" fill-opacity=\"1\" stroke=\"#000000\" stroke-opacity=\"1\" stroke-width=\"3.2\"/>\n",
       "<circle clip-path=\"url(#clip682)\" cx=\"1871.31\" cy=\"411.684\" r=\"14.4\" fill=\"#8b0000\" fill-rule=\"evenodd\" fill-opacity=\"1\" stroke=\"#000000\" stroke-opacity=\"1\" stroke-width=\"3.2\"/>\n",
       "<circle clip-path=\"url(#clip682)\" cx=\"1852.73\" cy=\"316.318\" r=\"14.4\" fill=\"#8b0000\" fill-rule=\"evenodd\" fill-opacity=\"1\" stroke=\"#000000\" stroke-opacity=\"1\" stroke-width=\"3.2\"/>\n",
       "<circle clip-path=\"url(#clip682)\" cx=\"1795.42\" cy=\"266.084\" r=\"14.4\" fill=\"#8b0000\" fill-rule=\"evenodd\" fill-opacity=\"1\" stroke=\"#000000\" stroke-opacity=\"1\" stroke-width=\"3.2\"/>\n",
       "<circle clip-path=\"url(#clip682)\" cx=\"1691.14\" cy=\"215.159\" r=\"14.4\" fill=\"#8b0000\" fill-rule=\"evenodd\" fill-opacity=\"1\" stroke=\"#000000\" stroke-opacity=\"1\" stroke-width=\"3.2\"/>\n",
       "<circle clip-path=\"url(#clip682)\" cx=\"1561.58\" cy=\"150.52\" r=\"14.4\" fill=\"#8b0000\" fill-rule=\"evenodd\" fill-opacity=\"1\" stroke=\"#000000\" stroke-opacity=\"1\" stroke-width=\"3.2\"/>\n",
       "<circle clip-path=\"url(#clip682)\" cx=\"1462.83\" cy=\"87.9763\" r=\"14.4\" fill=\"#8b0000\" fill-rule=\"evenodd\" fill-opacity=\"1\" stroke=\"#000000\" stroke-opacity=\"1\" stroke-width=\"3.2\"/>\n",
       "<circle clip-path=\"url(#clip682)\" cx=\"1356.34\" cy=\"95.3889\" r=\"14.4\" fill=\"#8b0000\" fill-rule=\"evenodd\" fill-opacity=\"1\" stroke=\"#000000\" stroke-opacity=\"1\" stroke-width=\"3.2\"/>\n",
       "<circle clip-path=\"url(#clip682)\" cx=\"1199.74\" cy=\"127.136\" r=\"14.4\" fill=\"#8b0000\" fill-rule=\"evenodd\" fill-opacity=\"1\" stroke=\"#000000\" stroke-opacity=\"1\" stroke-width=\"3.2\"/>\n",
       "<circle clip-path=\"url(#clip682)\" cx=\"1002.45\" cy=\"183.778\" r=\"14.4\" fill=\"#8b0000\" fill-rule=\"evenodd\" fill-opacity=\"1\" stroke=\"#000000\" stroke-opacity=\"1\" stroke-width=\"3.2\"/>\n",
       "<circle clip-path=\"url(#clip682)\" cx=\"745.846\" cy=\"278.332\" r=\"14.4\" fill=\"#8b0000\" fill-rule=\"evenodd\" fill-opacity=\"1\" stroke=\"#000000\" stroke-opacity=\"1\" stroke-width=\"3.2\"/>\n",
       "<path clip-path=\"url(#clip680)\" d=\"\n",
       "M1985.74 302.578 L2280.29 302.578 L2280.29 95.2176 L1985.74 95.2176  Z\n",
       "  \" fill=\"#ffffff\" fill-rule=\"evenodd\" fill-opacity=\"1\"/>\n",
       "<polyline clip-path=\"url(#clip680)\" style=\"stroke:#000000; stroke-linecap:round; stroke-linejoin:round; stroke-width:4; stroke-opacity:1; fill:none\" points=\"\n",
       "  1985.74,302.578 2280.29,302.578 2280.29,95.2176 1985.74,95.2176 1985.74,302.578 \n",
       "  \"/>\n",
       "<circle clip-path=\"url(#clip680)\" cx=\"2082.36\" cy=\"147.058\" r=\"23.04\" fill=\"#009af9\" fill-rule=\"evenodd\" fill-opacity=\"1\" stroke=\"#000000\" stroke-opacity=\"1\" stroke-width=\"5.12\"/>\n",
       "<path clip-path=\"url(#clip680)\" d=\"M2192.82 166.745 Q2191.01 171.375 2189.3 172.787 Q2187.59 174.199 2184.72 174.199 L2181.31 174.199 L2181.31 170.634 L2183.81 170.634 Q2185.57 170.634 2186.54 169.8 Q2187.52 168.967 2188.7 165.865 L2189.46 163.921 L2178.98 138.412 L2183.49 138.412 L2191.59 158.689 L2199.69 138.412 L2204.21 138.412 L2192.82 166.745 Z\" fill=\"#000000\" fill-rule=\"evenodd\" fill-opacity=\"1\" /><path clip-path=\"url(#clip680)\" d=\"M2211.5 160.402 L2219.14 160.402 L2219.14 134.037 L2210.83 135.703 L2210.83 131.444 L2219.09 129.778 L2223.77 129.778 L2223.77 160.402 L2231.41 160.402 L2231.41 164.338 L2211.5 164.338 L2211.5 160.402 Z\" fill=\"#000000\" fill-rule=\"evenodd\" fill-opacity=\"1\" /><path clip-path=\"url(#clip680)\" d=\"M2056.76 173.298 L2056.76 224.498 L2107.96 224.498 L2107.96 173.298 L2056.76 173.298 Z\" fill=\"#000000\" fill-rule=\"evenodd\" fill-opacity=\"1\" stroke=\"none\"/>\n",
       "<path clip-path=\"url(#clip680)\" d=\"M2192.82 218.585 Q2191.01 223.215 2189.3 224.627 Q2187.59 226.039 2184.72 226.039 L2181.31 226.039 L2181.31 222.474 L2183.81 222.474 Q2185.57 222.474 2186.54 221.64 Q2187.52 220.807 2188.7 217.705 L2189.46 215.761 L2178.98 190.252 L2183.49 190.252 L2191.59 210.529 L2199.69 190.252 L2204.21 190.252 L2192.82 218.585 Z\" fill=\"#000000\" fill-rule=\"evenodd\" fill-opacity=\"1\" /><path clip-path=\"url(#clip680)\" d=\"M2214.72 212.242 L2231.04 212.242 L2231.04 216.178 L2209.09 216.178 L2209.09 212.242 Q2211.75 209.488 2216.34 204.858 Q2220.94 200.205 2222.12 198.863 Q2224.37 196.34 2225.25 194.604 Q2226.15 192.844 2226.15 191.155 Q2226.15 188.4 2224.21 186.664 Q2222.29 184.928 2219.18 184.928 Q2216.98 184.928 2214.53 185.692 Q2212.1 186.455 2209.32 188.006 L2209.32 183.284 Q2212.15 182.15 2214.6 181.571 Q2217.05 180.993 2219.09 180.993 Q2224.46 180.993 2227.66 183.678 Q2230.85 186.363 2230.85 190.854 Q2230.85 192.983 2230.04 194.905 Q2229.25 196.803 2227.15 199.395 Q2226.57 200.067 2223.47 203.284 Q2220.36 206.479 2214.72 212.242 Z\" fill=\"#000000\" fill-rule=\"evenodd\" fill-opacity=\"1\" /><circle clip-path=\"url(#clip680)\" cx=\"2082.36\" cy=\"250.738\" r=\"23.04\" fill=\"#8b0000\" fill-rule=\"evenodd\" fill-opacity=\"1\" stroke=\"#000000\" stroke-opacity=\"1\" stroke-width=\"5.12\"/>\n",
       "<path clip-path=\"url(#clip680)\" d=\"M2192.82 270.425 Q2191.01 275.055 2189.3 276.467 Q2187.59 277.879 2184.72 277.879 L2181.31 277.879 L2181.31 274.314 L2183.81 274.314 Q2185.57 274.314 2186.54 273.48 Q2187.52 272.647 2188.7 269.545 L2189.46 267.601 L2178.98 242.092 L2183.49 242.092 L2191.59 262.369 L2199.69 242.092 L2204.21 242.092 L2192.82 270.425 Z\" fill=\"#000000\" fill-rule=\"evenodd\" fill-opacity=\"1\" /><path clip-path=\"url(#clip680)\" d=\"M2224.85 249.383 Q2228.21 250.101 2230.09 252.369 Q2231.98 254.638 2231.98 257.971 Q2231.98 263.087 2228.47 265.888 Q2224.95 268.689 2218.47 268.689 Q2216.29 268.689 2213.98 268.249 Q2211.68 267.832 2209.23 266.976 L2209.23 262.462 Q2211.17 263.596 2213.49 264.175 Q2215.8 264.754 2218.33 264.754 Q2222.73 264.754 2225.02 263.018 Q2227.33 261.281 2227.33 257.971 Q2227.33 254.916 2225.18 253.203 Q2223.05 251.467 2219.23 251.467 L2215.2 251.467 L2215.2 247.624 L2219.41 247.624 Q2222.86 247.624 2224.69 246.258 Q2226.52 244.87 2226.52 242.277 Q2226.52 239.615 2224.62 238.203 Q2222.75 236.768 2219.23 236.768 Q2217.31 236.768 2215.11 237.184 Q2212.91 237.601 2210.27 238.481 L2210.27 234.314 Q2212.93 233.573 2215.25 233.203 Q2217.59 232.833 2219.65 232.833 Q2224.97 232.833 2228.07 235.263 Q2231.17 237.67 2231.17 241.791 Q2231.17 244.661 2229.53 246.652 Q2227.89 248.62 2224.85 249.383 Z\" fill=\"#000000\" fill-rule=\"evenodd\" fill-opacity=\"1\" /></svg>\n"
      ]
     },
     "execution_count": 40,
     "metadata": {},
     "output_type": "execute_result"
    }
   ],
   "source": [
    "points = map(z -> mean(z)[1:2], res.posteriors[:z]);\n",
    "x = map(z -> z[1], points);\n",
    "y = map(z -> z[2], points);\n",
    "plot(x, y, seriestype = :scatter)\n",
    "plot!([sensor1[1],sensor2[1],sensor3[1]],[sensor1[2],sensor2[2],sensor3[2]],\n",
    "    seriestype = :scatter, color=:black, markersize=5, markershape=:square)\n",
    "plot!(position'[1:15, 1], position'[1:15, 2], seriestype = :scatter, color=:redsblues)"
   ]
  },
  {
   "cell_type": "code",
   "execution_count": null,
   "id": "c8b92790",
   "metadata": {},
   "outputs": [],
   "source": []
  }
 ],
 "metadata": {
  "kernelspec": {
   "display_name": "Julia 1.8.1",
   "language": "julia",
   "name": "julia-1.8"
  },
  "language_info": {
   "file_extension": ".jl",
   "mimetype": "application/julia",
   "name": "julia",
   "version": "1.8.1"
  }
 },
 "nbformat": 4,
 "nbformat_minor": 5
}
