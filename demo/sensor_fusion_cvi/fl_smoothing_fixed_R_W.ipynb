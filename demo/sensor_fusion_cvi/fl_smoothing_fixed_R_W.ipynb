{
 "cells": [
  {
   "cell_type": "code",
   "execution_count": 1,
   "id": "81d38b79-bfff-4f74-bb2f-a9f63daecb5a",
   "metadata": {},
   "outputs": [
    {
     "name": "stderr",
     "output_type": "stream",
     "text": [
      "┌ Info: Precompiling ReactiveMP [a194aa59-28ba-4574-a09c-4a745416d6e3]\n",
      "└ @ Base loading.jl:1423\n",
      "\u001b[33m\u001b[1m┌ \u001b[22m\u001b[39m\u001b[33m\u001b[1mWarning: \u001b[22m\u001b[39mPackage ReactiveMP does not have Flux in its dependencies:\n",
      "\u001b[33m\u001b[1m│ \u001b[22m\u001b[39m- If you have ReactiveMP checked out for development and have\n",
      "\u001b[33m\u001b[1m│ \u001b[22m\u001b[39m  added Flux as a dependency but haven't updated your primary\n",
      "\u001b[33m\u001b[1m│ \u001b[22m\u001b[39m  environment's manifest file, try `Pkg.resolve()`.\n",
      "\u001b[33m\u001b[1m│ \u001b[22m\u001b[39m- Otherwise you may need to report an issue with ReactiveMP\n",
      "\u001b[33m\u001b[1m└ \u001b[22m\u001b[39mLoading Flux into ReactiveMP from project dependency, future warnings for ReactiveMP are suppressed.\n"
     ]
    }
   ],
   "source": [
    "using ReactiveMP, Rocket, GraphPPL, Random, LinearAlgebra, Plots, Flux, Zygote, ForwardDiff, DataFrames, DelimitedFiles"
   ]
  },
  {
   "cell_type": "code",
   "execution_count": 2,
   "id": "185d1b7e-4aff-4771-9bd4-d2ea637e69e1",
   "metadata": {},
   "outputs": [],
   "source": [
    "sensors = readdlm(\"sensors.txt\")\n",
    "sensor1, sensor2, sensor3 = sensors[1,:], sensors[2,:], sensors[3,:]\n",
    "observation = readdlm(\"observation.txt\")\n",
    "position = readdlm(\"position.txt\")\n",
    "# T = size(observation)[1]\n",
    "T = 15\n",
    "observation_list = [observation[t,:] for t=1:T];"
   ]
  },
  {
   "cell_type": "code",
   "execution_count": 3,
   "id": "688de053-47c6-45a4-8fe6-9f5806a5cfe0",
   "metadata": {},
   "outputs": [],
   "source": [
    "A = [1.0 0.0 1.0 0.0; 0.0 1.0 0.0 1.0; 0.0 0.0 1.0 0.0; 0.0 0.0 0.0 1.0]\n",
    "B = [1.0 0.0 0.0 0.0; 0.0 1.0 0.0 0.0]\n",
    "# Nonlinear function that maps states to observations\n",
    "function f(z)       \n",
    "    pos = B*z\n",
    "    o1 = sqrt(sum((pos-sensor1).^2))\n",
    "    o2 = sqrt(sum((pos-sensor2).^2))\n",
    "    o3 = sqrt(sum((pos-sensor3).^2))\n",
    "    o = [o1,o2,o3]\n",
    "end\n",
    "\n",
    "@model function sensor_fusion(T)\n",
    "    W = diagm(0=>ones(4))\n",
    "    R = diagm(0=>ones(3))\n",
    "\n",
    "    z = randomvar(T)\n",
    "    x = randomvar(T)\n",
    "    y = datavar(Vector{Float64}, T)\n",
    "\n",
    "    z[1] ~ MvNormalMeanCovariance(zeros(4), diagm(0 => ones(4)))\n",
    "    x[1] ~ f(z[1]) where {meta = CVIApproximation(100, 100, ADAM(), 100, 20)}\n",
    "    y[1] ~ MvNormalMeanCovariance(x[1], diagm(0 => ones(3)))\n",
    "\n",
    "    for t in 2:T\n",
    "        z[t] ~ MvNormalMeanPrecision(A * z[t-1], W)\n",
    "        x[t] ~ f(z[t]) where {meta = CVIApproximation(100, 100, ADAM(), 100, 20)}\n",
    "        y[t] ~ MvNormalMeanPrecision(x[t], R)\n",
    "    end\n",
    "\n",
    "    return z, x, y\n",
    "end\n",
    "\n",
    "constraints = @constraints begin\n",
    "    q(z, x) = q(z)q(x)\n",
    "end;"
   ]
  },
  {
   "cell_type": "code",
   "execution_count": 4,
   "id": "d655695a-2fad-45b7-a410-bdbc3fc4e9a0",
   "metadata": {},
   "outputs": [
    {
     "data": {
      "text/plain": [
       "Inference results:\n",
       "-----------------------------------------\n",
       "z = Vector{MvNormalWeightedMeanPrecision{Float64, Vector{Float64}, Matrix{Float64}}}...\n"
      ]
     },
     "execution_count": 4,
     "metadata": {},
     "output_type": "execute_result"
    }
   ],
   "source": [
    "res = inference(\n",
    "    model = Model(sensor_fusion, T),\n",
    "    data = (y = observation_list,),\n",
    "    iterations = 1000,\n",
    "    free_energy = false,\n",
    "    returnvars = (z = KeepEach(),),\n",
    "    constraints = constraints,\n",
    "    initmessages = (z = MvNormalMeanPrecision(zeros(4), 0.01*diagm(0=>ones(4))),)\n",
    ")"
   ]
  },
  {
   "cell_type": "code",
   "execution_count": null,
   "id": "03a173ab-14fa-4283-81de-4ee372f5e227",
   "metadata": {},
   "outputs": [],
   "source": []
  }
 ],
 "metadata": {
  "kernelspec": {
   "display_name": "Julia 1.7.2",
   "language": "julia",
   "name": "julia-1.7"
  },
  "language_info": {
   "file_extension": ".jl",
   "mimetype": "application/julia",
   "name": "julia",
   "version": "1.7.2"
  }
 },
 "nbformat": 4,
 "nbformat_minor": 5
}
