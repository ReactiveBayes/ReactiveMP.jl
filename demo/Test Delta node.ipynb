{
 "cells": [
  {
   "cell_type": "code",
   "execution_count": null,
   "metadata": {},
   "outputs": [],
   "source": [
    "using ReactiveMP, Distributions, Random, Rocket, GraphPPL"
   ]
  },
  {
   "cell_type": "code",
   "execution_count": null,
   "metadata": {},
   "outputs": [],
   "source": [
    "a, b = 0.1, -1000\n",
    "linear_fn(x) = a*x + b\n",
    "linear_fn_inverse(x) = (1/a)*(x - b)\n",
    "\n",
    "@model function nonlinear_estimation(n)\n",
    "    \n",
    "    m ~ NormalMeanVariance(10, 1)\n",
    "    τ ~ Gamma(1.1, 1000.1)\n",
    "    x = randomvar(n)    \n",
    "    transformed = randomvar(n)\n",
    "    y = datavar(Float64, n)\n",
    "    \n",
    "    for i in 1:n\n",
    "        x[i] ~ NormalMeanPrecision(m, τ)\n",
    "        transformed[i] ~ linear_fn(x[i]) where { meta = LinearApproximationKnownInverse(linear_fn_inverse)}\n",
    "        y[i] ~ NormalMeanPrecision(transformed[i], 0.1)\n",
    "    end\n",
    "    \n",
    "    return transformed, m, y\n",
    "end"
   ]
  },
  {
   "cell_type": "code",
   "execution_count": null,
   "metadata": {},
   "outputs": [],
   "source": [
    "n = 200\n",
    "\n",
    "X = rand(Normal(0.0, 1), n)\n",
    "data = map(x -> linear_fn(x), X);\n",
    "\n",
    "result = inference(\n",
    "    model = Model(nonlinear_estimation, n),\n",
    "    data = (y = data, ),\n",
    "    initmarginals = (\n",
    "        m = vague(NormalMeanVariance),\n",
    "        τ = vague(Gamma),\n",
    "    ),\n",
    "    constraints = cs,\n",
    "    returnvars = (\n",
    "        m = KeepEach(),\n",
    "        τ = KeepEach()\n",
    "    ),\n",
    "    iterations = 1000,  \n",
    "    showprogress = true\n",
    ")"
   ]
  }
 ],
 "metadata": {
  "language_info": {
   "name": "python"
  },
  "orig_nbformat": 4
 },
 "nbformat": 4,
 "nbformat_minor": 2
}
