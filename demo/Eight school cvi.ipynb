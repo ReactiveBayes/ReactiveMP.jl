{
 "cells": [
  {
   "cell_type": "code",
   "execution_count": 1,
   "metadata": {},
   "outputs": [
    {
     "name": "stderr",
     "output_type": "stream",
     "text": [
      "┌ Info: Precompiling ReactiveMP [a194aa59-28ba-4574-a09c-4a745416d6e3]\n",
      "└ @ Base loading.jl:1423\n",
      "\u001b[33m\u001b[1m┌ \u001b[22m\u001b[39m\u001b[33m\u001b[1mWarning: \u001b[22m\u001b[39mPackage ReactiveMP does not have Flux in its dependencies:\n",
      "\u001b[33m\u001b[1m│ \u001b[22m\u001b[39m- If you have ReactiveMP checked out for development and have\n",
      "\u001b[33m\u001b[1m│ \u001b[22m\u001b[39m  added Flux as a dependency but haven't updated your primary\n",
      "\u001b[33m\u001b[1m│ \u001b[22m\u001b[39m  environment's manifest file, try `Pkg.resolve()`.\n",
      "\u001b[33m\u001b[1m│ \u001b[22m\u001b[39m- Otherwise you may need to report an issue with ReactiveMP\n",
      "\u001b[33m\u001b[1m└ \u001b[22m\u001b[39mLoading Flux into ReactiveMP from project dependency, future warnings for ReactiveMP are suppressed.\n"
     ]
    }
   ],
   "source": [
    "using ReactiveMP, Distributions, Random, Rocket, GraphPPL, Flux, Zygote, ForwardDiff\n",
    "import SpecialFunctions: loggamma"
   ]
  },
  {
   "cell_type": "code",
   "execution_count": 2,
   "metadata": {},
   "outputs": [],
   "source": [
    "dataset = [[58.7226956168386, 45.13976354300799, 34.891234306106206, 22.049813810571656, 18.029311822124683, 42.714517401378004, 26.86775400403366, 32.107230568182345],\n",
    " [4.606339701921808, -0.43877921447069923, -0.8893574689730634],\n",
    " [6.478451882763512, 2.888032369033442, -7.49813190569346, -14.758169441040984, -14.478560265189357, -15.401117821926048, -18.672627310307654],\n",
    " [1.846619359098037, -2.68986972978257, 10.054981057055565, 23.763077651153214, -12.555004304724793],\n",
    " [6.040319868293942, 19.822216736962826, -8.83951499143022, 2.1115471241811163, -2.4026795198407163, 19.997114297241556, -9.985174142931942, -0.3973994620971628],\n",
    " [-8.68576178873407, -1.791407472467292, 9.954292431463115, -11.37327663982918, -2.78835504435457, -1.6674794730107032, 17.851944050272632, 5.547874888293355, -1.5037350724506187],\n",
    " [33.31815939613223, -13.432641838306846, 3.5993734745928982],\n",
    " [8.268877742477276, 35.26754519612162, 33.05402194461256]]\n",
    "\n",
    "flatten_dataset = [score for school in dataset for score in school]\n",
    "\n",
    "school_sizes = map(length, dataset);"
   ]
  },
  {
   "cell_type": "code",
   "execution_count": 3,
   "metadata": {},
   "outputs": [],
   "source": [
    "@model [ default_factorisation = MeanField() ] function school_model(school_sizes)\n",
    "    α ~ GammaShapeRate(0.1, 0.1)\n",
    "    α_ ~ identity(α) where {meta = CVIApproximation(100, 100, ADAM(), 100, 20)}\n",
    "    β ~ GammaShapeRate(0.1, 0.1)\n",
    "    μ ~ NormalMeanVariance(0, 10)\n",
    "    s ~ GammaShapeRate(0.1, 1.0)\n",
    "\n",
    "    x = randomvar(length(school_sizes))\n",
    "    w = randomvar(length(school_sizes))\n",
    "    y = datavar(Float64, sum(school_sizes))\n",
    "\n",
    "    n_count = 0\n",
    "    for i in 1:8\n",
    "        x[i] ~ NormalMeanPrecision(μ, s)\n",
    "        w[i] ~ GammaShapeRate(α_, β)\n",
    "        for n in 1:school_sizes[i]\n",
    "            n_count += 1\n",
    "            y[n_count] ~ NormalMeanPrecision(x[i], w[i])\n",
    "        end\n",
    "    end\n",
    "\n",
    "    return α, β, μ, s, x, w, y\n",
    "end"
   ]
  },
  {
   "cell_type": "code",
   "execution_count": 4,
   "metadata": {},
   "outputs": [],
   "source": [
    "ReactiveMP.prod_analytical_rule(::Type{T}, ::Type{<:GenericLogPdfVectorisedProduct{T}}) where {T<:ContinuousUnivariateLogPdf} = ReactiveMP.ProdAnalyticalRuleAvailable()"
   ]
  },
  {
   "cell_type": "code",
   "execution_count": 5,
   "metadata": {},
   "outputs": [],
   "source": [
    "function ReactiveMP.prod(::ProdAnalytical, left::T, right::GenericLogPdfVectorisedProduct{T}) where {T<:ContinuousUnivariateLogPdf}\n",
    "    return push!(right, left)\n",
    "end"
   ]
  },
  {
   "cell_type": "code",
   "execution_count": 6,
   "metadata": {},
   "outputs": [],
   "source": [
    "ReactiveMP.getdata(m::Marginal{<:ProdFinal}) = m.data.dist"
   ]
  },
  {
   "cell_type": "code",
   "execution_count": 7,
   "metadata": {},
   "outputs": [],
   "source": [
    "# import DomainSets\n",
    "@rule GammaShapeRate(:α, Marginalisation) (q_out::Any, q_β::Any, ) = begin \n",
    "    return ContinuousUnivariateLogPdf(ReactiveMP.DomainSets.HalfLine(), (α)->α*mean(log, q_β) + (α-1)*mean(log, q_out) - loggamma(α))\n",
    "end\n",
    "\n",
    "@rule GammaShapeRate(:β, Marginalisation) (q_out::Any, q_α::Any, ) = begin\n",
    "    return GammaShapeRate(mean(q_α)+1, mean(q_out))\n",
    "end \n",
    "\n",
    "@rule GammaShapeRate(:out, Marginalisation) (q_α::Any, q_β::Any, ) = begin \n",
    "    return GammaShapeRate(mean(q_α), mean(q_β))\n",
    "end"
   ]
  },
  {
   "cell_type": "code",
   "execution_count": 16,
   "metadata": {},
   "outputs": [
    {
     "data": {
      "text/plain": [
       "Inference results:\n",
       "-----------------------------------------\n",
       "α = GammaShapeRate{Float64}[GammaShapeRate{Float64}(a=0.12799999997516487, b=0.18600...\n"
      ]
     },
     "execution_count": 16,
     "metadata": {},
     "output_type": "execute_result"
    }
   ],
   "source": [
    "res = inference(\n",
    "    model = Model(school_model, school_sizes),\n",
    "    data = (y = flatten_dataset,),\n",
    "    iterations = 1000,\n",
    "    free_energy = false,\n",
    "    initmarginals = (\n",
    "        α = Gamma(0.01, 0.01), \n",
    "        α_ = Gamma(0.01, 0.01),\n",
    "        β = Gamma(0.01, 0.01),\n",
    "        s = Gamma(0.01, 0.01),\n",
    "        μ = vague(GaussianMeanVariance),\n",
    "        w = Gamma(0.01, 0.01),\n",
    "        x = vague(GaussianMeanPrecision)),\n",
    "    returnvars = (α = KeepEach(),)\n",
    ")"
   ]
  },
  {
   "cell_type": "code",
   "execution_count": 17,
   "metadata": {},
   "outputs": [
    {
     "data": {
      "text/plain": [
       "1.3793103472490422"
      ]
     },
     "execution_count": 17,
     "metadata": {},
     "output_type": "execute_result"
    }
   ],
   "source": [
    "res.posteriors[:α][end] |> mean"
   ]
  },
  {
   "cell_type": "code",
   "execution_count": null,
   "metadata": {},
   "outputs": [],
   "source": []
  }
 ],
 "metadata": {
  "@webio": {
   "lastCommId": null,
   "lastKernelId": null
  },
  "kernelspec": {
   "display_name": "Julia 1.7.3",
   "language": "julia",
   "name": "julia-1.7"
  },
  "language_info": {
   "file_extension": ".jl",
   "mimetype": "application/julia",
   "name": "julia",
   "version": "1.7.3"
  },
  "vscode": {
   "interpreter": {
    "hash": "8ef3ac6fd311fb9f643cd309ae0eddfced35ab894c40f2c7e0782c1c9cdd57c2"
   }
  }
 },
 "nbformat": 4,
 "nbformat_minor": 2
}
