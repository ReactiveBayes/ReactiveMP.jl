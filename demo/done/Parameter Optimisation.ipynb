{
 "cells": [
  {
   "cell_type": "markdown",
   "metadata": {},
   "source": [
    "This notebook demonstrates how to optimize the parameters of the state-space model (implemented in **ReactiveMP.jl**) through an external optimization packages such as [Optim.jl](https://github.com/JuliaNLSolvers/Optim.jl/)"
   ]
  },
  {
   "cell_type": "markdown",
   "metadata": {},
   "source": [
    "We use the following model:\n",
    "$$\n",
    "\\begin{align*}\n",
    "    {x}_t &= {x}_{t-1} + c \\\\\n",
    "    {y}_t &\\sim \\mathcal{N}\\left({x}_{t}, p \\right) \n",
    "\\end{align*}\n",
    "$$\n",
    "with prior $${x}_0 \\sim \\mathcal{N}({m_{{x}_0}}, {v_{{x}_0}})$$.\n",
    "\n",
    "Our goal is to optimize parameters $c$ and ${m_{{x}_0}}$."
   ]
  },
  {
   "cell_type": "code",
   "execution_count": 7,
   "metadata": {},
   "outputs": [],
   "source": [
    "using Rocket\n",
    "using ReactiveMP\n",
    "using GraphPPL\n",
    "using BenchmarkTools\n",
    "using Distributions"
   ]
  },
  {
   "cell_type": "code",
   "execution_count": 8,
   "metadata": {},
   "outputs": [],
   "source": [
    "@model function smoothing(n, x0, c::ConstVariable, P::ConstVariable)\n",
    "    \n",
    "    x_prior ~ NormalMeanVariance(mean(x0), cov(x0)) \n",
    "\n",
    "    x = randomvar(n)\n",
    "    y = datavar(Float64, n)\n",
    "\n",
    "    x_prev = x_prior\n",
    "\n",
    "    for i in 1:n\n",
    "        x[i] ~ x_prev + c\n",
    "        y[i] ~ NormalMeanVariance(x[i], P)\n",
    "        \n",
    "        x_prev = x[i]\n",
    "    end\n",
    "\n",
    "    return x, y\n",
    "end"
   ]
  },
  {
   "cell_type": "code",
   "execution_count": 9,
   "metadata": {},
   "outputs": [],
   "source": [
    "using Random"
   ]
  },
  {
   "cell_type": "code",
   "execution_count": 20,
   "metadata": {},
   "outputs": [],
   "source": [
    "P = 1.0\n",
    "\n",
    "Random.seed!(123)\n",
    "\n",
    "n = 250\n",
    "c_real = -5.0\n",
    "data = c_real .+ collect(1:n) + rand(Normal(0.0, sqrt(P)), n);"
   ]
  },
  {
   "cell_type": "code",
   "execution_count": 21,
   "metadata": {},
   "outputs": [
    {
     "data": {
      "text/plain": [
       "f (generic function with 1 method)"
      ]
     },
     "execution_count": 21,
     "metadata": {},
     "output_type": "execute_result"
    }
   ],
   "source": [
    "# c[1] is C\n",
    "# c[2] is μ0\n",
    "function f(c)\n",
    "    x0_prior = NormalMeanVariance(c[2], 100.0)\n",
    "    result = inference(model=Model(smoothing, n, x0_prior, c[1], P), data=(y=data,), free_energy=true)\n",
    "    return result.free_energy[end]\n",
    "end"
   ]
  },
  {
   "cell_type": "code",
   "execution_count": 22,
   "metadata": {},
   "outputs": [],
   "source": [
    "using Optim"
   ]
  },
  {
   "cell_type": "code",
   "execution_count": 23,
   "metadata": {},
   "outputs": [
    {
     "name": "stdout",
     "output_type": "stream",
     "text": [
      "Iter     Function value   Gradient norm \n",
      "     0     3.655789e+02     8.149754e+02\n",
      " * time: 0.00013899803161621094\n",
      "     1     3.653239e+02     5.997070e-02\n",
      " * time: 0.10898494720458984\n",
      "     2     3.652297e+02     3.418191e+02\n",
      " * time: 0.7918410301208496\n",
      "     3     3.651848e+02     2.856214e-02\n",
      " * time: 0.8754818439483643\n",
      "     4     3.651653e+02     1.628199e+02\n",
      " * time: 1.5290229320526123\n",
      "     5     3.651552e+02     1.491695e-02\n",
      " * time: 1.6358189582824707\n",
      "     6     3.651483e+02     8.271286e+01\n",
      " * time: 2.3205809593200684\n",
      "     7     3.651457e+02     5.697649e-03\n",
      " * time: 2.429054021835327\n",
      "     8     3.651449e+02     3.250149e+01\n",
      " * time: 3.112091064453125\n",
      "     9     3.651445e+02     2.921074e-03\n",
      " * time: 3.2149858474731445\n",
      "    10     3.651444e+02     1.173193e+01\n",
      " * time: 3.8436949253082275\n",
      "    11     3.651443e+02     2.498033e-03\n",
      " * time: 3.9480140209198\n",
      "    12     3.651443e+02     9.145920e+00\n",
      " * time: 4.578362941741943\n",
      "    13     3.651443e+02     2.207014e-03\n",
      " * time: 4.6828508377075195\n",
      "    14     3.651442e+02     8.601636e+00\n",
      " * time: 5.306994915008545\n",
      "    15     3.651442e+02     1.909539e-03\n",
      " * time: 5.418444871902466\n",
      "    16     3.651442e+02     8.354390e+00\n",
      " * time: 6.0718488693237305\n",
      "    17     3.651442e+02     1.567693e-03\n",
      " * time: 6.157577991485596\n",
      "    18     3.651441e+02     7.029160e+00\n",
      " * time: 6.796474933624268\n",
      "    19     3.651441e+02     1.268681e-03\n",
      " * time: 6.882274866104126\n",
      "    20     3.651440e+02     4.499833e+00\n",
      " * time: 7.603070974349976\n",
      "    21     3.651440e+02     1.374391e-04\n",
      " * time: 7.713088035583496\n"
     ]
    },
    {
     "data": {
      "text/plain": [
       " * Status: success\n",
       "\n",
       " * Candidate solution\n",
       "    Final objective value:     3.651440e+02\n",
       "\n",
       " * Found with\n",
       "    Algorithm:     Gradient Descent\n",
       "\n",
       " * Convergence measures\n",
       "    |x - x'|               = 3.46e-06 ≰ 0.0e+00\n",
       "    |x - x'|/|x'|          = 6.93e-07 ≰ 0.0e+00\n",
       "    |f(x) - f(x')|         = 7.77e-06 ≰ 0.0e+00\n",
       "    |f(x) - f(x')|/|f(x')| = 2.13e-08 ≰ 0.0e+00\n",
       "    |g(x)|                 = 1.37e-04 ≤ 1.0e-03\n",
       "\n",
       " * Work counters\n",
       "    Seconds run:   8  (vs limit Inf)\n",
       "    Iterations:    21\n",
       "    f(x) calls:    158\n",
       "    ∇f(x) calls:   158\n"
      ]
     },
     "execution_count": 23,
     "metadata": {},
     "output_type": "execute_result"
    }
   ],
   "source": [
    "res = optimize(f, ones(2), GradientDescent(), Optim.Options(g_tol = 1e-3, iterations = 100, store_trace = true, show_trace = true))"
   ]
  },
  {
   "cell_type": "code",
   "execution_count": 24,
   "metadata": {},
   "outputs": [
    {
     "data": {
      "text/plain": [
       "2-element Vector{Float64}:\n",
       "  1.0006316025049258\n",
       " -4.984289609532286"
      ]
     },
     "execution_count": 24,
     "metadata": {},
     "output_type": "execute_result"
    }
   ],
   "source": [
    "res.minimizer # Real values are indeed (c = 1.0 and μ0 = -5.0)"
   ]
  },
  {
   "cell_type": "code",
   "execution_count": 25,
   "metadata": {},
   "outputs": [
    {
     "name": "stdout",
     "output_type": "stream",
     "text": [
      "Real value vs Optimized\n",
      "Real:      [1.0, -5.0]\n",
      "Optimized: [1.0006316025049258, -4.984289609532286]\n"
     ]
    }
   ],
   "source": [
    "println(\"Real value vs Optimized\")\n",
    "println(\"Real:      \", [c, c_real])\n",
    "println(\"Optimized: \", res.minimizer)"
   ]
  }
 ],
 "metadata": {
  "kernelspec": {
   "display_name": "Julia 1.6.0",
   "language": "julia",
   "name": "julia-1.6"
  },
  "language_info": {
   "file_extension": ".jl",
   "mimetype": "application/julia",
   "name": "julia",
   "version": "1.6.0"
  }
 },
 "nbformat": 4,
 "nbformat_minor": 4
}
