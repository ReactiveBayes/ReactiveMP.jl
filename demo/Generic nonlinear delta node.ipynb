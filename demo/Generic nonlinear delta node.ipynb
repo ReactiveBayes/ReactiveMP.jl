{
 "cells": [
  {
   "cell_type": "code",
   "execution_count": 7,
   "metadata": {},
   "outputs": [],
   "source": [
    "using GraphPPL, ReactiveMP, Distributions, Rocket\n",
    "using BenchmarkTools"
   ]
  },
  {
   "cell_type": "code",
   "execution_count": 8,
   "metadata": {},
   "outputs": [
    {
     "data": {
      "text/plain": [
       "f (generic function with 1 method)"
      ]
     },
     "execution_count": 8,
     "metadata": {},
     "output_type": "execute_result"
    }
   ],
   "source": [
    "# Here I just create a custom function `f`\n",
    "# it is also possible to define function inside the `@model` macro\n",
    "f(x, r, l) = exp(x + r + l) "
   ]
  },
  {
   "cell_type": "code",
   "execution_count": 9,
   "metadata": {},
   "outputs": [],
   "source": [
    "# Lets pretend we have some approximation method and some internal fields\n",
    "struct CustomApproximationMethod \n",
    "    # some fields here ...\n",
    "end"
   ]
  },
  {
   "cell_type": "code",
   "execution_count": 13,
   "metadata": {},
   "outputs": [
    {
     "data": {
      "text/plain": [
       "hello (generic function with 1 method)"
      ]
     },
     "execution_count": 13,
     "metadata": {},
     "output_type": "execute_result"
    }
   ],
   "source": [
    "@model function hello()\n",
    "    x ~ NormalMeanPrecision(1.0, 2.0)\n",
    "    r ~ NormalMeanPrecision(1.0, 2.0)\n",
    "    l ~ NormalMeanPrecision(1.0, 2.0)\n",
    "    \n",
    "    # ReactiveMP.jl overloads all unknown functional nodes to use `DeltaFnNode`\n",
    "    z ~ f(x, r, l) where { meta = CustomApproximationMethod() }\n",
    "    \n",
    "    y = datavar(Float64)\n",
    "    y ~ NormalMeanPrecision(z, 1.0)\n",
    "    \n",
    "    return x, y, z\n",
    "end"
   ]
  },
  {
   "cell_type": "code",
   "execution_count": 11,
   "metadata": {},
   "outputs": [],
   "source": [
    "# Some rules that don't do anything really (yet)\n",
    "# We define a rule for `DeltaFn{f}` where `f` is a callable reference to our function and can be called as `f(1, 2, 3)` blabla\n",
    "# `m_ins` is a tuple of input messages\n",
    "# `meta` handles reference to our meta object\n",
    "# `N` can be used for dispatch and can handle special cases, e.g `m_ins::NTuple{1, NormalMeanPrecision}` means that `DeltaFn` has only 1 input\n",
    "\n",
    "@rule DeltaFn{f}(:out, Marginalisation) (m_ins::NTuple{N, Any}, meta::CustomApproximationMethod) where { f, N } = begin\n",
    "    return NormalMeanPrecision(f(mean.(m_ins)...), 1.0)\n",
    "end\n",
    "\n",
    "@rule DeltaFn{f}((:in, k), Marginalisation) (q_ins::Any, m_in::Any, meta::CustomApproximationMethod) where { f } = begin \n",
    "    return NormalMeanPrecision(0.0, 1.0)\n",
    "end\n",
    "\n",
    "@marginalrule DeltaFn{f}(:ins) (q_out::Any, m_ins::NTuple{N, Any}, meta::CustomApproximationMethod) where { f, N } = begin \n",
    "    return MvNormalMeanPrecision(zeros(N), diageye(N))\n",
    "end"
   ]
  },
  {
   "cell_type": "code",
   "execution_count": 14,
   "metadata": {},
   "outputs": [
    {
     "name": "stdout",
     "output_type": "stream",
     "text": [
      "Marginal(NormalWeightedMeanPrecision{Float64}(xi=21.085536923187668, w=2.0))\n",
      "Marginal(NormalWeightedMeanPrecision{Float64}(xi=2.0, w=3.0))\n"
     ]
    }
   ],
   "source": [
    "# Here I only test that there are no errors\n",
    "\n",
    "model, (x, y, z) = hello();\n",
    "\n",
    "subscription1 = subscribe!(getmarginal(z), println)\n",
    "subscription2 = subscribe!(getmarginal(x), println)\n",
    "\n",
    "update!(y, 1.0)\n",
    "\n",
    "unsubscribe!(subscription1)\n",
    "unsubscribe!(subscription2)"
   ]
  },
  {
   "cell_type": "code",
   "execution_count": null,
   "metadata": {},
   "outputs": [],
   "source": []
  },
  {
   "cell_type": "code",
   "execution_count": null,
   "metadata": {},
   "outputs": [],
   "source": []
  }
 ],
 "metadata": {
  "kernelspec": {
   "display_name": "Julia 1.7.2",
   "language": "julia",
   "name": "julia-1.7"
  },
  "language_info": {
   "file_extension": ".jl",
   "mimetype": "application/julia",
   "name": "julia",
   "version": "1.7.2"
  }
 },
 "nbformat": 4,
 "nbformat_minor": 4
}
