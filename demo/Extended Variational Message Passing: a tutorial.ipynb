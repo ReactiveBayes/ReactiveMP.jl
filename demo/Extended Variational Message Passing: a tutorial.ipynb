{
 "cells": [
  {
   "cell_type": "markdown",
   "metadata": {},
   "source": [
    "# CVI: a tutorial\n",
    "\n",
    "\n",
    "*Table of contents*\n",
    "1. [Introduction](#Introduction)\n",
    "2. [Model specification](#Model-specification)\n",
    "3. [Limitations](#Limitations)\n",
    "4. [Inference](#Inference)\n",
    "5. [Extension](#Extension)"
   ]
  },
  {
   "cell_type": "markdown",
   "metadata": {},
   "source": [
    "## Introduction"
   ]
  },
  {
   "cell_type": "markdown",
   "metadata": {},
   "source": [
    "In this tutorial, we show how to excute VMP in models with delta factors of the form $\\delta(f(x_{1}, \\dots,  x_{n}) - y)$ with arbitrary differentiable function `f` inside with [Extended Variational Message Passing](https://www.mdpi.com/1099-4300/23/7/815) (EVMP) procedure."
   ]
  },
  {
   "cell_type": "markdown",
   "metadata": {},
   "source": [
    "More specifcly we will show:\n",
    "1. [How specify](#Model-specification) a `Delta factor` of the form $\\delta(f(x_{1}, \\dots,  x_{n}) - y)$ inside the `@model` macro with EVMP as inference procedure\n",
    "2. [What limitation](#Limitations) the current implementation has\n",
    "3. [Show several inference examples](#Inference)\n",
    "4. [How to extend](#Extension) it from the user perspective"
   ]
  },
  {
   "cell_type": "markdown",
   "metadata": {},
   "source": [
    "## Model specification"
   ]
  },
  {
   "cell_type": "markdown",
   "metadata": {},
   "source": [
    "Specifying an model is easy. Suppose we have a function `f`:\n",
    "\n",
    "```\n",
    "    f(x, y, ..., z) = ...\n",
    "```\n",
    "\n",
    "And we have a model where we want define a `Delta factor` with this `f`:\n",
    "\n",
    "```\n",
    "@model function model_name(...)\n",
    "    ... some where here inputs (x, y, ..., z) defiened\n",
    "    out ~ f(x, y, ..., z) where {meta = CVIApproximation(rng, n_iterations, n_samples, Descent(learning_rate))}\n",
    "    ...    \n",
    "end\n",
    "```\n",
    "\n",
    "If you want to see detalied example at this point go to [Inference](#Inference) section. "
   ]
  },
  {
   "cell_type": "markdown",
   "metadata": {},
   "source": [
    "The magic happens inside the `where` block: where we specifying trough `meta` parametr that `ReactiveMP` should run `EVMP` for the messages sended trough the `out ~ f(x, y, ..., z)` node.\n",
    "\n",
    "So to specify it for `out ~ f(x, y, ..., z)` node you need set `meta` to `CVIApproximation(...)` inside `where` block: `meta=CVIApproximation(rng, n_samples, n_iterations, Descent(learning_rate))` in the above example."
   ]
  },
  {
   "cell_type": "markdown",
   "metadata": {},
   "source": [
    "The `CVIApproximation` structure serves for 2 reasons:\n",
    "1. Marker that the `EVMP` rules need to be called\n",
    "2. Container of the `EVMP` hyperparmetrs."
   ]
  },
  {
   "cell_type": "markdown",
   "metadata": {},
   "source": [
    "`EVMP` procedure has 4 hyperparametrs:\n",
    "1. random number generator which will be called inside `EVMP` procedure (`rng`)\n",
    "2. number of samples to use for the out message approximation (`n_samples`)\n",
    "3. number of iteration of the EVMP procedure (`n_iterations`)\n",
    "4. optimizer, which will be used to perform the EVMP step (`Descent(learning_rate)`)"
   ]
  },
  {
   "cell_type": "markdown",
   "metadata": {},
   "source": [
    "## Limitations"
   ]
  },
  {
   "cell_type": "markdown",
   "metadata": {},
   "source": [
    "There several main limitation for the `EVMP` procedure that you need satisfy:\n",
    "1. The `EVMP` procedure suppose that there is mean-field assumpitoin on the interfaces connected to the node (`out, x, y, ..., z`)\n",
    "2. The connected interface is factorized out in other nodes to which it connected\n",
    "3. The messages on input interfaces (`x, y, ..., z`) are exponetial family distributions\n",
    "\n",
    "In `ReactiveMP` you can obtain first and second assumption trough `@constraints` macro:\n",
    "\n",
    "```\n",
    "@model function model_name(...)\n",
    "    ... some where here inputs (x, y, ..., z) defiened\n",
    "    ... ~ Node1(x, q1, q2, ..., qn) # some node that is using x interface\n",
    "    out ~ f(x, y, ..., z) where {meta = CVIApproximation(rng, n_iterations, n_samples, Descent(learning_rate))}\n",
    "    ...\n",
    "    ... ~ Node2(p1,..., out, pn) # some node that is using out interface\n",
    "    ...    \n",
    "end\n",
    "\n",
    "constraints = @constraints begin\n",
    "    q(out, p1, ..., pn) = q(y)q(p1,...,pn)\n",
    "    q(out, x, y, ..., z) = q(out)q(x)...q(z)\n",
    "    q(x, q1, ..., qn) = q(x)q(q1,...,qn)\n",
    "end;\n",
    "```\n",
    "\n",
    "Note, that not all exponential family distributions are implemented. If you want to add one not implemented inside `ReactiveMP` you need to implement:\n",
    "1. `naturalparams(dist)`. Function that returns a naturalparametrs from this distribution.\n",
    "2. `lognormalizer(natparams)` lognormalizer for the naturalparametrs of this distribution\n"
   ]
  },
  {
   "cell_type": "markdown",
   "metadata": {},
   "source": [
    "## Inference"
   ]
  },
  {
   "cell_type": "markdown",
   "metadata": {},
   "source": [
    "## Extension"
   ]
  },
  {
   "cell_type": "code",
   "execution_count": null,
   "metadata": {
    "vscode": {
     "languageId": "plaintext"
    }
   },
   "outputs": [],
   "source": []
  }
 ],
 "metadata": {
  "language_info": {
   "name": "python"
  },
  "orig_nbformat": 4
 },
 "nbformat": 4,
 "nbformat_minor": 2
}
