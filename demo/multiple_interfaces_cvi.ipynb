{
 "cells": [
  {
   "cell_type": "code",
   "execution_count": 2,
   "id": "aa218729-9fa7-4a4c-bbcb-569cc0b7c819",
   "metadata": {},
   "outputs": [
    {
     "name": "stderr",
     "output_type": "stream",
     "text": [
      "┌ Info: Precompiling ReactiveMP [a194aa59-28ba-4574-a09c-4a745416d6e3]\n",
      "└ @ Base loading.jl:1423\n",
      "\u001b[33m\u001b[1m┌ \u001b[22m\u001b[39m\u001b[33m\u001b[1mWarning: \u001b[22m\u001b[39mPackage ReactiveMP does not have Flux in its dependencies:\n",
      "\u001b[33m\u001b[1m│ \u001b[22m\u001b[39m- If you have ReactiveMP checked out for development and have\n",
      "\u001b[33m\u001b[1m│ \u001b[22m\u001b[39m  added Flux as a dependency but haven't updated your primary\n",
      "\u001b[33m\u001b[1m│ \u001b[22m\u001b[39m  environment's manifest file, try `Pkg.resolve()`.\n",
      "\u001b[33m\u001b[1m│ \u001b[22m\u001b[39m- Otherwise you may need to report an issue with ReactiveMP\n",
      "\u001b[33m\u001b[1m└ \u001b[22m\u001b[39mLoading Flux into ReactiveMP from project dependency, future warnings for ReactiveMP are suppressed.\n"
     ]
    }
   ],
   "source": [
    "using ReactiveMP, Rocket, GraphPPL, Random, LinearAlgebra, Plots, Flux, Zygote, ForwardDiff, DataFrames, DelimitedFiles"
   ]
  },
  {
   "cell_type": "code",
   "execution_count": 18,
   "id": "88e3c1ec-2dd4-4bbc-9ba1-2bb3833e7dec",
   "metadata": {},
   "outputs": [],
   "source": [
    "function f(x, y, z)\n",
    "    return x + 2 * y + z\n",
    "end\n",
    "\n",
    "@model function multiple_interfaces(N)\n",
    "    \n",
    "    μ ~ NormalMeanVariance(0, 1)\n",
    "    z = randomvar(N)\n",
    "    x = randomvar(N)\n",
    "    y = randomvar(N)\n",
    "    t = randomvar(N)\n",
    "    out = datavar(Float64, N)\n",
    "\n",
    "    for i in 1:N\n",
    "        z[i] ~ NormalMeanVariance(μ, 1)\n",
    "        x[i] ~ NormalMeanVariance(μ, 1)\n",
    "        y[i] ~ NormalMeanVariance(μ, 1)\n",
    "        t[i] ~ f(x[i], y[i], z[i])\n",
    "        # t[i] ~ ((x[i] + (2 * y[i])) + z[i])\n",
    "        out[i] ~ NormalMeanVariance(t[i], 1)\n",
    "    end\n",
    "\n",
    "    return μ, z, x, y, out\n",
    "end\n",
    "constraints = @constraints begin\n",
    "    q(z, x, y, μ, t) = q(μ)q(z)q(x)q(y)q(t)\n",
    "end;\n",
    "\n",
    "meta = @meta begin\n",
    "   f(x, y, z) -> CVIApproximation(100, 100, ADAM(), 100, 20)\n",
    "end"
   ]
  },
  {
   "cell_type": "code",
   "execution_count": 19,
   "id": "5c398410-4d27-40fd-b12a-c1c871b002d1",
   "metadata": {},
   "outputs": [
    {
     "ename": "LoadError",
     "evalue": "Cluster intersection error in the expression `t[1] ~ f(x[1], y[1], z[1])`.\nBased on factorisation constraints the resulting local constraint q(t[1], x[1], y[1], z[1]) = q(t[1], x[1])q(t[1], y[1])q(t[1], z[1])q(t[1], x[1], y[1], z[1]) has cluster intersections, which is disallowed by default.\nTechnical info: clusters = Tuple[(1, 2), (1, 3), (1, 4), (1, 2, 3, 4)]\nConstraints:\n  marginals form:\n  messages form:\n  factorisation:\n    q(z, x, y, μ) = q(μ)q(z)q(x)q(y)\nOptions:\n  warn = true\n",
     "output_type": "error",
     "traceback": [
      "Cluster intersection error in the expression `t[1] ~ f(x[1], y[1], z[1])`.\nBased on factorisation constraints the resulting local constraint q(t[1], x[1], y[1], z[1]) = q(t[1], x[1])q(t[1], y[1])q(t[1], z[1])q(t[1], x[1], y[1], z[1]) has cluster intersections, which is disallowed by default.\nTechnical info: clusters = Tuple[(1, 2), (1, 3), (1, 4), (1, 2, 3, 4)]\nConstraints:\n  marginals form:\n  messages form:\n  factorisation:\n    q(z, x, y, μ) = q(μ)q(z)q(x)q(y)\nOptions:\n  warn = true\n",
      "",
      "Stacktrace:",
      "  [1] __throw_intersection_error(fform::Function, varrefs::NTuple{4, Tuple{Symbol, Int64, RandomVariable}}, varrefsnames::NTuple{4, Symbol}, clusters::Vector{Tuple}, constraints::ConstraintsSpecification{Tuple{ReactiveMP.FactorisationConstraintsSpecification{(:z, :x, :y, :μ), (q(μ), q(z), q(x), q(y))}}, NamedTuple{(), Tuple{}}, NamedTuple{(), Tuple{}}})",
      "    @ ReactiveMP ~/repos/ReactiveMP.jl/src/constraints/spec/factorisation_spec.jl:499",
      "  [2] resolve_factorisation(constraints::ConstraintsSpecification{Tuple{ReactiveMP.FactorisationConstraintsSpecification{(:z, :x, :y, :μ), (q(μ), q(z), q(x), q(y))}}, NamedTuple{(), Tuple{}}, NamedTuple{(), Tuple{}}}, model::FactorGraphModel, fform::Function, variables::NTuple{4, RandomVariable})",
      "    @ ReactiveMP ~/repos/ReactiveMP.jl/src/constraints/spec/factorisation_spec.jl:480",
      "  [3] node_resolve_factorisation",
      "    @ ~/repos/ReactiveMP.jl/src/model.jl:351 [inlined]",
      "  [4] node_resolve_factorisation",
      "    @ ~/repos/ReactiveMP.jl/src/model.jl:346 [inlined]",
      "  [5] node_resolve_factorisation",
      "    @ ~/repos/ReactiveMP.jl/src/model.jl:344 [inlined]",
      "  [6] node_resolve_options(model::FactorGraphModel, options::FactorNodeCreationOptions{Nothing, CVIApproximation, Nothing}, fform::Function, variables::NTuple{4, RandomVariable})",
      "    @ ReactiveMP ~/repos/ReactiveMP.jl/src/model.jl:335",
      "  [7] make_node(::FactorGraphModel, ::FactorNodeCreationOptions{Nothing, CVIApproximation, Nothing}, ::Function, ::RandomVariable, ::RandomVariable, ::RandomVariable, ::RandomVariable)",
      "    @ ReactiveMP ~/repos/ReactiveMP.jl/src/model.jl:429",
      "  [8] macro expansion",
      "    @ ./In[18]:18 [inlined]",
      "  [9] macro expansion",
      "    @ ~/.julia/packages/GraphPPL/a9olO/src/model.jl:341 [inlined]",
      " [10] create_model(::Type{multiple_interfaces}, multiple_interfacesconstraints_in#440::ConstraintsSpecification{Tuple{ReactiveMP.FactorisationConstraintsSpecification{(:z, :x, :y, :μ), (q(μ), q(z), q(x), q(y))}}, NamedTuple{(), Tuple{}}, NamedTuple{(), Tuple{}}}, multiple_interfacesmeta_in#442::Nothing, multiple_interfacesoptions_in#444::NamedTuple{(), Tuple{}}, N::Int64)",
      "    @ Main ~/.julia/packages/GraphPPL/a9olO/src/backends/reactivemp.jl:73",
      " [11] create_model",
      "    @ ~/repos/ReactiveMP.jl/src/model.jl:48 [inlined]",
      " [12] inference(; model::ReactiveMP.ModelGenerator{multiple_interfaces, Tuple{Int64}, Base.Pairs{Symbol, Union{}, Tuple{}, NamedTuple{(), Tuple{}}}, Nothing, Nothing, Nothing}, data::NamedTuple{(:out,), Tuple{Vector{Float64}}}, initmarginals::NamedTuple{(:z, :x, :y, :μ), NTuple{4, NormalMeanVariance{Float64}}}, initmessages::NamedTuple{(:z, :x, :y), Tuple{NormalMeanVariance{Float64}, NormalMeanVariance{Float64}, NormalMeanVariance{Float64}}}, constraints::ConstraintsSpecification{Tuple{ReactiveMP.FactorisationConstraintsSpecification{(:z, :x, :y, :μ), (q(μ), q(z), q(x), q(y))}}, NamedTuple{(), Tuple{}}, NamedTuple{(), Tuple{}}}, meta::Nothing, options::NamedTuple{(), Tuple{}}, returnvars::NamedTuple{(:μ,), Tuple{KeepEach}}, iterations::Int64, free_energy::Bool, free_energy_diagnostics::Tuple{BetheFreeEnergyCheckNaNs, BetheFreeEnergyCheckInfs}, showprogress::Bool, callbacks::Nothing, warn::Bool)",
      "    @ ReactiveMP ~/repos/ReactiveMP.jl/src/inference.jl:319",
      " [13] top-level scope",
      "    @ In[19]:4",
      " [14] eval",
      "    @ ./boot.jl:373 [inlined]",
      " [15] include_string(mapexpr::typeof(REPL.softscope), mod::Module, code::String, filename::String)",
      "    @ Base ./loading.jl:1196"
     ]
    }
   ],
   "source": [
    "N = 1000\n",
    "data = rand(NormalMeanVariance(), N);\n",
    "\n",
    "res = inference(\n",
    "    model = Model(multiple_interfaces, N),\n",
    "    data = (out = data,),\n",
    "    iterations = 2,\n",
    "    free_energy = false,\n",
    "    returnvars = (μ = KeepEach(),),\n",
    "    constraints = constraints,\n",
    "    meta = meta,\n",
    "    options = (limit_stack_depth = 1000,),\n",
    "    #initmessages = (z=NormalMeanVariance(), x=NormalMeanVariance(), y=NormalMeanVariance(),),\n",
    "    initmarginals = (z=NormalMeanVariance(), x=NormalMeanVariance(), y=NormalMeanVariance(), μ=NormalMeanVariance()),\n",
    ")"
   ]
  },
  {
   "cell_type": "code",
   "execution_count": null,
   "id": "8a95bf6f-a6d4-4c65-8282-6065ade618dc",
   "metadata": {},
   "outputs": [],
   "source": []
  }
 ],
 "metadata": {
  "kernelspec": {
   "display_name": "Julia 1.7.2",
   "language": "julia",
   "name": "julia-1.7"
  },
  "language_info": {
   "file_extension": ".jl",
   "mimetype": "application/julia",
   "name": "julia",
   "version": "1.7.2"
  }
 },
 "nbformat": 4,
 "nbformat_minor": 5
}
