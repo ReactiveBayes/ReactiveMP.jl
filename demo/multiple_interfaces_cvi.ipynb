{
 "cells": [
  {
   "cell_type": "code",
   "execution_count": 2,
   "id": "aa218729-9fa7-4a4c-bbcb-569cc0b7c819",
   "metadata": {},
   "outputs": [
    {
     "name": "stderr",
     "output_type": "stream",
     "text": [
      "\u001b[33m\u001b[1m┌ \u001b[22m\u001b[39m\u001b[33m\u001b[1mWarning: \u001b[22m\u001b[39mPackage ReactiveMP does not have Flux in its dependencies:\n",
      "\u001b[33m\u001b[1m│ \u001b[22m\u001b[39m- If you have ReactiveMP checked out for development and have\n",
      "\u001b[33m\u001b[1m│ \u001b[22m\u001b[39m  added Flux as a dependency but haven't updated your primary\n",
      "\u001b[33m\u001b[1m│ \u001b[22m\u001b[39m  environment's manifest file, try `Pkg.resolve()`.\n",
      "\u001b[33m\u001b[1m│ \u001b[22m\u001b[39m- Otherwise you may need to report an issue with ReactiveMP\n",
      "\u001b[33m\u001b[1m└ \u001b[22m\u001b[39mLoading Flux into ReactiveMP from project dependency, future warnings for ReactiveMP are suppressed.\n"
     ]
    }
   ],
   "source": [
    "using ReactiveMP, Rocket, GraphPPL, Random, LinearAlgebra, Plots, Flux, Zygote, ForwardDiff, DataFrames, DelimitedFiles"
   ]
  },
  {
   "cell_type": "code",
   "execution_count": 3,
   "id": "88e3c1ec-2dd4-4bbc-9ba1-2bb3833e7dec",
   "metadata": {},
   "outputs": [
    {
     "data": {
      "text/plain": [
       "Meta specification:\n",
       "  f(x, y, z) -> CVIApproximation(100, 100, nothing, Flux.Optimise.Adam(0.001, (0.9, 0.999), 1.0e-8, IdDict{Any, Any}()), 100, 20)\n",
       "Options:\n",
       "  warn = true"
      ]
     },
     "metadata": {},
     "output_type": "display_data"
    }
   ],
   "source": [
    "function f(x, y, z)\n",
    "    return x + 2 * y + z\n",
    "end\n",
    "\n",
    "@model function multiple_interfaces(N)\n",
    "    \n",
    "    μ ~ NormalMeanVariance(0, 1)\n",
    "    z = randomvar(N)\n",
    "    x = randomvar(N)\n",
    "    y = randomvar(N)\n",
    "    t = randomvar(N)\n",
    "    out = datavar(Float64, N)\n",
    "\n",
    "    for i in 1:N\n",
    "        z[i] ~ NormalMeanVariance(μ, 1)\n",
    "        x[i] ~ NormalMeanVariance(μ, 1)\n",
    "        y[i] ~ NormalMeanVariance(μ, 1)\n",
    "        t[i] ~ f(x[i], y[i], z[i])\n",
    "        # t[i] ~ ((x[i] + (2 * y[i])) + z[i])\n",
    "        out[i] ~ NormalMeanVariance(t[i], 1)\n",
    "    end\n",
    "\n",
    "    return μ, z, x, y, out\n",
    "end\n",
    "constraints = @constraints begin\n",
    "    q(z, x, y, μ, t) = q(μ)q(z)q(x)q(y)q(t)\n",
    "end;\n",
    "\n",
    "meta = @meta begin\n",
    "   f(x, y, z) -> CVIApproximation(100, 100, ADAM(), 100, 20)\n",
    "end"
   ]
  },
  {
   "cell_type": "code",
   "execution_count": 4,
   "id": "5c398410-4d27-40fd-b12a-c1c871b002d1",
   "metadata": {},
   "outputs": [
    {
     "name": "stderr",
     "output_type": "stream",
     "text": [
      "┌ Warning: Meta specification `f(x, y, z) -> CVIApproximation(100, 100, nothing, Flux.Optimise.Adam(0.001, (0.9, 0.999), 1.0e-8, IdDict{Any, Any}()), 100, 20)` specifies node entry as `f`, but model has no factor node `f`. Use `warn = false` option during constraints specification to suppress this warning.\n",
      "└ @ ReactiveMP /home/mykola/repos/ReactiveMP.jl/src/constraints/meta/meta.jl:102\n"
     ]
    },
    {
     "data": {
      "text/plain": [
       "Inference results:\n",
       "-----------------------------------------\n",
       "μ = NormalWeightedMeanPrecision{Float64}[NormalWeightedMeanPrecision{Float64}(xi=0.5...\n"
      ]
     },
     "metadata": {},
     "output_type": "display_data"
    }
   ],
   "source": [
    "N = 1000\n",
    "data = rand(NormalMeanVariance(), N);\n",
    "\n",
    "res = inference(\n",
    "    model = Model(multiple_interfaces, N),\n",
    "    data = (out = data,),\n",
    "    iterations = 2,\n",
    "    free_energy = false,\n",
    "    returnvars = (μ = KeepEach(),),\n",
    "    constraints = constraints,\n",
    "    meta = meta,\n",
    "    options = (limit_stack_depth = 1000,),\n",
    "    #initmessages = (z=NormalMeanVariance(), x=NormalMeanVariance(), y=NormalMeanVariance(),),\n",
    "    initmarginals = (z=NormalMeanVariance(), x=NormalMeanVariance(), y=NormalMeanVariance(), μ=NormalMeanVariance()),\n",
    ")"
   ]
  }
 ],
 "metadata": {
  "kernelspec": {
   "display_name": "Julia 1.7.2",
   "language": "julia",
   "name": "julia-1.7"
  },
  "language_info": {
   "file_extension": ".jl",
   "mimetype": "application/julia",
   "name": "julia",
   "version": "1.7.2"
  }
 },
 "nbformat": 4,
 "nbformat_minor": 5
}
