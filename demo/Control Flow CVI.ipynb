{
 "cells": [
  {
   "cell_type": "code",
   "execution_count": 1,
   "id": "6c20f1ae-a83e-4b81-84ed-2e2f14d3e2e0",
   "metadata": {},
   "outputs": [
    {
     "name": "stderr",
     "output_type": "stream",
     "text": [
      "┌ Info: Precompiling ReactiveMP [a194aa59-28ba-4574-a09c-4a745416d6e3]\n",
      "└ @ Base loading.jl:1423\n",
      "\u001b[33m\u001b[1m┌ \u001b[22m\u001b[39m\u001b[33m\u001b[1mWarning: \u001b[22m\u001b[39mPackage ReactiveMP does not have Flux in its dependencies:\n",
      "\u001b[33m\u001b[1m│ \u001b[22m\u001b[39m- If you have ReactiveMP checked out for development and have\n",
      "\u001b[33m\u001b[1m│ \u001b[22m\u001b[39m  added Flux as a dependency but haven't updated your primary\n",
      "\u001b[33m\u001b[1m│ \u001b[22m\u001b[39m  environment's manifest file, try `Pkg.resolve()`.\n",
      "\u001b[33m\u001b[1m│ \u001b[22m\u001b[39m- Otherwise you may need to report an issue with ReactiveMP\n",
      "\u001b[33m\u001b[1m└ \u001b[22m\u001b[39mLoading Flux into ReactiveMP from project dependency, future warnings for ReactiveMP are suppressed.\n"
     ]
    }
   ],
   "source": [
    "using Revise\n",
    "using ReactiveMP, Rocket, GraphPPL, Random, LinearAlgebra, Plots, Flux, Zygote, ForwardDiff, DataFrames, DelimitedFiles, Plots"
   ]
  },
  {
   "cell_type": "code",
   "execution_count": 2,
   "id": "da3ab56b-f868-4748-89cd-10267b96b4e7",
   "metadata": {},
   "outputs": [],
   "source": [
    "function generate_based_on_normal(normal_sample)\n",
    "    # if normal_sample > 0\n",
    "    #     return rand(Bernoulli(0.99))\n",
    "    # end\n",
    "    # return rand(Bernoulli(0.01))\n",
    "    return 1.0\n",
    "end\n",
    "normal_samples = rand(NormalMeanVariance(0, 1), 1000)\n",
    "transformed = map(generate_based_on_normal, normal_samples);"
   ]
  },
  {
   "cell_type": "code",
   "execution_count": 3,
   "id": "4bec0c0c-e0f7-4e37-9907-261035ebe0a8",
   "metadata": {},
   "outputs": [],
   "source": [
    "function f(z)\n",
    "    if z > 0\n",
    "        return 0.99\n",
    "    end\n",
    "    return 0.01\n",
    "end\n",
    "\n",
    "@model function sensor_based_observation(n, n_iterations, n_samples, rng, learning_rate)\n",
    "\n",
    "    # z = randomvar()\n",
    "    x = randomvar()\n",
    "    y = datavar(Float64, n)\n",
    "    μ ~ NormalMeanVariance(0, 3)\n",
    "    x ~ f(μ) where {meta = CVIApproximation(n_iterations, n_samples, rng, Descent(learning_rate))}\n",
    "    \n",
    "    for t in 1:n\n",
    "        y[t] ~ Bernoulli(x)\n",
    "    end\n",
    "\n",
    "    return μ\n",
    "end\n",
    "\n",
    "constraints = @constraints begin\n",
    "    q(x, μ) = q(μ)q(x)\n",
    "end;"
   ]
  },
  {
   "cell_type": "code",
   "execution_count": 13,
   "id": "b7ce9a32-61b2-49db-98a8-5821e892376d",
   "metadata": {},
   "outputs": [
    {
     "data": {
      "text/plain": [
       "Inference results:\n",
       "-----------------------------------------\n",
       "μ = NormalWeightedMeanPrecision{Float64}[NormalWeightedMeanPrecision{Float64}(xi=0.0...\n",
       "x = ProdFinal{SampleList{(), Vector{Float64}, Vector{Float64}, ReactiveMP.SampleList...\n"
      ]
     },
     "execution_count": 13,
     "metadata": {},
     "output_type": "execute_result"
    }
   ],
   "source": [
    "res = inference(\n",
    "    model = Model(sensor_based_observation, length(transformed), 1000, 2000, nothing, 0.01),\n",
    "    data = (y = transformed,),\n",
    "    iterations = 2,\n",
    "    free_energy = false,\n",
    "    returnvars = (μ = KeepEach()),\n",
    "    constraints = constraints,\n",
    "    initmessages = (μ = NormalMeanVariance(10, 100),),\n",
    "    initmarginals = (μ = NormalMeanVariance(10, 100),),\n",
    "    showprogress = false,\n",
    ")"
   ]
  },
  {
   "cell_type": "code",
   "execution_count": 11,
   "id": "4bc80dbb-be37-4f47-8ed2-9272febbefd2",
   "metadata": {},
   "outputs": [
    {
     "data": {
      "text/plain": [
       "2-element Vector{NormalWeightedMeanPrecision{Float64}}:\n",
       " NormalWeightedMeanPrecision{Float64}(xi=0.0, w=0.3333333333333333)\n",
       " NormalWeightedMeanPrecision{Float64}(xi=0.0, w=0.3333333333333333)"
      ]
     },
     "execution_count": 11,
     "metadata": {},
     "output_type": "execute_result"
    }
   ],
   "source": [
    "res.posteriors[:μ]"
   ]
  },
  {
   "cell_type": "code",
   "execution_count": null,
   "id": "6f19a495-c46a-41d4-baa9-25d8a43d89c8",
   "metadata": {},
   "outputs": [],
   "source": []
  }
 ],
 "metadata": {
  "kernelspec": {
   "display_name": "Julia 1.7.2",
   "language": "julia",
   "name": "julia-1.7"
  },
  "language_info": {
   "file_extension": ".jl",
   "mimetype": "application/julia",
   "name": "julia",
   "version": "1.7.2"
  }
 },
 "nbformat": 4,
 "nbformat_minor": 5
}
