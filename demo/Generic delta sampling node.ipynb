{
 "cells": [
  {
   "cell_type": "code",
   "execution_count": null,
   "metadata": {},
   "outputs": [],
   "source": [
    "using ReactiveMP, Distributions, Random, Rocket, StableRNGs"
   ]
  },
  {
   "cell_type": "code",
   "execution_count": null,
   "metadata": {},
   "outputs": [],
   "source": [
    "f(x) = abs(exp(x) * sin(x))\n",
    "rng = StableRNG(123)\n",
    "\n",
    "@model function nonlinear_estimation(n)\n",
    "    \n",
    "    θ ~ NormalMeanVariance(0.0, 100.0)\n",
    "    m ~ NormalMeanVariance(0.0, 1.0)\n",
    "    \n",
    "    # SamplingApproximation(nsamples, generator, seed)\n",
    "    w ~ f(θ) where { meta = SamplingApproximation(1000, rng) }\n",
    "    \n",
    "    y = datavar(Float64, n)\n",
    "    \n",
    "    for i in 1:n\n",
    "        y[i] ~ NormalMeanPrecision(m, w)\n",
    "    end\n",
    "    \n",
    "    return θ, m, w, y\n",
    "end"
   ]
  },
  {
   "cell_type": "code",
   "execution_count": null,
   "metadata": {},
   "outputs": [],
   "source": [
    "@constraints function nconstsraints(nsamples)\n",
    "    q(θ) :: SampleList(nsamples, LeftProposal())\n",
    "    q(w) :: SampleList(nsamples, RightProposal())\n",
    "    q(θ, w, m) = q(θ)q(m)q(w)\n",
    "end"
   ]
  },
  {
   "cell_type": "code",
   "execution_count": null,
   "metadata": {},
   "outputs": [],
   "source": [
    "seed = 123\n",
    "rng  = MersenneTwister(seed)\n",
    "\n",
    "niters   = 15 # Number of VMP iterations\n",
    "nsamples = 5_000 # Number of samples in approximation\n",
    "\n",
    "n = 500 # Number of IID samples\n",
    "μ = -10.0\n",
    "θ = -1.0\n",
    "w = f(θ)\n",
    "\n",
    "data = rand(rng, NormalMeanPrecision(μ, w), n);"
   ]
  },
  {
   "cell_type": "code",
   "execution_count": null,
   "metadata": {},
   "outputs": [],
   "source": [
    "result = inference(\n",
    "    model = Model(nonlinear_estimation, n),\n",
    "    constraints = nconstsraints(nsamples),\n",
    "    data = (y = data, ), \n",
    "    initmarginals = (m = vague(NormalMeanPrecision), w = vague(Gamma)),\n",
    "    returnvars = (θ = KeepLast(), ),\n",
    "    iterations = niters,  \n",
    "    showprogress = true\n",
    ")"
   ]
  }
 ],
 "metadata": {
  "language_info": {
   "name": "python"
  },
  "orig_nbformat": 4
 },
 "nbformat": 4,
 "nbformat_minor": 2
}
