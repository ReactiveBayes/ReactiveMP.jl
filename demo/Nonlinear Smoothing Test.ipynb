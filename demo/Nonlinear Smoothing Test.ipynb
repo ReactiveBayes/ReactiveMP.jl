{
 "cells": [
  {
   "cell_type": "code",
   "execution_count": 45,
   "metadata": {},
   "outputs": [],
   "source": [
    "using GraphPPL, ReactiveMP, Distributions\n",
    "using Plots"
   ]
  },
  {
   "cell_type": "markdown",
   "metadata": {},
   "source": [
    "### ET"
   ]
  },
  {
   "cell_type": "code",
   "execution_count": 46,
   "metadata": {},
   "outputs": [],
   "source": [
    "function f(x)\n",
    "    return sqrt.(x)\n",
    "end\n",
    "\n",
    "function f_inv(x)\n",
    "    return x .^ 2\n",
    "end\n",
    "\n",
    "\n",
    "@model function NKS(meta)\n",
    "    y2 = datavar(Float64)\n",
    "    c = zeros(2); c[1] = 1.0;\n",
    "\n",
    "    x ~ MvNormal(μ=ones(2), Λ=diageye(2))\n",
    "    z ~ f(x) where {meta=meta}\n",
    "    y1 ~ Normal(μ=dot(z, c), σ²=1.0)\n",
    "    y2 ~ Normal(μ=y1, σ²=0.5)\n",
    "end"
   ]
  },
  {
   "cell_type": "code",
   "execution_count": 50,
   "metadata": {},
   "outputs": [
    {
     "name": "stdout",
     "output_type": "stream",
     "text": [
      "\"hi2\" = \"hi2\"\n",
      "\"hi2\" = \"hi2\"\n"
     ]
    },
    {
     "data": {
      "text/plain": [
       "Inference results:\n",
       "-----------------------------------------\n",
       "Free Energy: Real[3.59144]\n",
       "-----------------------------------------\n",
       "y1 = NormalWeightedMeanPrecision{Float64}(xi=8.682926672530977, w=2.780487695426886)\n",
       "x  = MvNormalWeightedMeanPrecision(\n",
       "xi: [1.1666666666712022, 1.00000000000025]\n",
       "Λ: [1....\n"
      ]
     },
     "execution_count": 50,
     "metadata": {},
     "output_type": "execute_result"
    }
   ],
   "source": [
    "# imarginals = (x = MvNormal(zeros(2), diageye(2)), )\n",
    "\n",
    "\n",
    "result = inference(model = Model(NKS, UT(inverse=f_inv)), data=(y2=4.0,), free_energy=true)"
   ]
  },
  {
   "cell_type": "code",
   "execution_count": 9,
   "metadata": {},
   "outputs": [
    {
     "data": {
      "text/plain": [
       "2-element Vector{Float64}:\n",
       " 1.1546391752579255\n",
       " 0.4999999999999999"
      ]
     },
     "execution_count": 9,
     "metadata": {},
     "output_type": "execute_result"
    }
   ],
   "source": [
    "mean(result.posteriors[:x])"
   ]
  },
  {
   "cell_type": "code",
   "execution_count": 10,
   "metadata": {},
   "outputs": [],
   "source": [
    "function f(x)\n",
    "    return sqrt.(x)\n",
    "end\n",
    "\n",
    "\n",
    "@model function NKS()\n",
    "    y2 = datavar(Float64)\n",
    "    c = zeros(2); c[1] = 1.0;\n",
    "\n",
    "    x ~ MvNormal(μ=ones(2), Λ=diageye(2))\n",
    "    z ~ f(x) where {meta=ET()}\n",
    "    y1 ~ Normal(μ=dot(z, c), σ²=1.0)\n",
    "    y2 ~ Normal(μ=y1, σ²=0.5)\n",
    "end"
   ]
  },
  {
   "cell_type": "code",
   "execution_count": 11,
   "metadata": {},
   "outputs": [
    {
     "data": {
      "text/plain": [
       "Inference results:\n",
       "-----------------------------------------\n",
       "Free Energy: Real[1.19875]\n",
       "-----------------------------------------\n",
       "y1 = NormalWeightedMeanPrecision{Float64}(xi=2.8, w=2.8)\n",
       "x  = MvNormalWeightedMeanPrecision(\n",
       "xi: [1.1666666666664167, 0.99999999999975]\n",
       "Λ: [1....\n"
      ]
     },
     "execution_count": 11,
     "metadata": {},
     "output_type": "execute_result"
    }
   ],
   "source": [
    "imarginals = (x = MvNormal(zeros(2), diageye(2)), )\n",
    "\n",
    "result = inference(model = Model(NKS), data=(y2=1.0,), free_energy=true)"
   ]
  },
  {
   "cell_type": "code",
   "execution_count": 12,
   "metadata": {},
   "outputs": [
    {
     "data": {
      "text/plain": [
       "2-element Vector{Float64}:\n",
       " 0.9999999999995713\n",
       " 0.9999999999995"
      ]
     },
     "execution_count": 12,
     "metadata": {},
     "output_type": "execute_result"
    }
   ],
   "source": [
    "mean(result.posteriors[:x])"
   ]
  },
  {
   "cell_type": "code",
   "execution_count": 13,
   "metadata": {},
   "outputs": [],
   "source": [
    "function f(x, θ)\n",
    "    return x .+ θ\n",
    "end\n",
    "\n",
    "function f_x(θ, z)\n",
    "    return z .- θ\n",
    "end\n",
    "\n",
    "function f_θ(x, z)\n",
    "    return z .- x\n",
    "end\n",
    "\n",
    "c = randn(2);\n",
    "\n",
    "@model function NKS()\n",
    "    y2 = datavar(Float64)\n",
    "    c = zeros(2); c[1] = 1.0;\n",
    "\n",
    "    θ ~ MvNormal(μ=ones(2), Λ=diageye(2))\n",
    "    x ~ MvNormal(μ=zeros(2), Λ=diageye(2))\n",
    "    z ~ f(x, θ) where {meta=ET(inverse=(f_x, f_θ))}\n",
    "    y1 ~ Normal(μ=dot(z, c), σ²=1.0)\n",
    "    y2 ~ Normal(μ=y1, σ²=0.5)\n",
    "end"
   ]
  },
  {
   "cell_type": "code",
   "execution_count": 14,
   "metadata": {},
   "outputs": [
    {
     "data": {
      "text/plain": [
       "Inference results:\n",
       "-----------------------------------------\n",
       "Free Energy: Real[1.70859]\n",
       "-----------------------------------------\n",
       "y1 = NormalWeightedMeanPrecision{Float64}(xi=2.3333333333333335, w=2.3333333333333335...\n",
       "θ  = MvNormalWeightedMeanPrecision(\n",
       "xi: [0.60000000000024, 1.0]\n",
       "Λ: [1.40000000000036 ...\n",
       "x  = MvNormalWeightedMeanPrecision(\n",
       "xi: [5.999645225079745e-13, 9.99999999999e-13]\n",
       "Λ:...\n"
      ]
     },
     "execution_count": 14,
     "metadata": {},
     "output_type": "execute_result"
    }
   ],
   "source": [
    "imarginals = (x = MvNormal(zeros(2), diageye(2)), )\n",
    "\n",
    "result = inference(model = Model(NKS), data=(y2=1.0,), free_energy=true)"
   ]
  },
  {
   "cell_type": "code",
   "execution_count": 15,
   "metadata": {},
   "outputs": [],
   "source": [
    "function f(x, θ, ζ)\n",
    "    return x .+ θ .+ ζ\n",
    "end\n",
    "\n",
    "\n",
    "@model function NKS()\n",
    "    y2 = datavar(Float64)\n",
    "    c = zeros(2); c[1] = 1.0;\n",
    "\n",
    "    θ ~ MvNormal(μ=ones(2), Λ=diageye(2))\n",
    "    ζ ~ MvNormal(μ=0.5ones(2), Λ=diageye(2))\n",
    "    x ~ MvNormal(μ=zeros(2), Λ=diageye(2))\n",
    "    z ~ f(x, θ, ζ) where {meta=ET()}\n",
    "    y1 ~ Normal(μ=dot(z, c), σ²=1.0)\n",
    "    y2 ~ Normal(μ=y1, σ²=0.5)\n",
    "end"
   ]
  },
  {
   "cell_type": "code",
   "execution_count": 16,
   "metadata": {},
   "outputs": [
    {
     "data": {
      "text/plain": [
       "Inference results:\n",
       "-----------------------------------------\n",
       "Free Energy: Real[1.69876]\n",
       "-----------------------------------------\n",
       "y1 = NormalWeightedMeanPrecision{Float64}(xi=2.375, w=2.25)\n",
       "ζ  = MvNormalWeightedMeanPrecision(\n",
       "xi: [0.4999999999995714, 0.49999999999900013]\n",
       "Λ: ...\n",
       "θ  = MvNormalWeightedMeanPrecision(\n",
       "xi: [1.1428571428568057, 0.9999999999995002]\n",
       "Λ: [...\n",
       "x  = MvNormalWeightedMeanPrecision(\n",
       "xi: [-0.14285714285766313, -1.499911306270087e-12...\n"
      ]
     },
     "execution_count": 16,
     "metadata": {},
     "output_type": "execute_result"
    }
   ],
   "source": [
    "imarginals = (x = MvNormal(zeros(2), diageye(2)), )\n",
    "\n",
    "result = inference(model = Model(NKS), data=(y2=1.0,), free_energy=true)"
   ]
  },
  {
   "cell_type": "code",
   "execution_count": 28,
   "metadata": {},
   "outputs": [
    {
     "name": "stdout",
     "output_type": "stream",
     "text": [
      "res = Inference results:\n",
      "-----------------------------------------\n",
      "Free Energy: Real[3.59144]\n",
      "-----------------------------------------\n",
      "y1 = NormalWeightedMeanPrecision{Float64}(xi=8.682926672530977, w=2.780487695426886)\n",
      "x  = MvNormalWeightedMeanPrecision(\n",
      "xi: [1.1666666666712022, 1.00000000000025]\n",
      "Λ: [1....\n",
      "\n",
      "res = Inference results:\n",
      "-----------------------------------------\n",
      "Free Energy: Real[3.59144]\n",
      "-----------------------------------------\n",
      "y1 = NormalWeightedMeanPrecision{Float64}(xi=8.682926672530977, w=2.780487695426886)\n",
      "x  = MvNormalWeightedMeanPrecision(\n",
      "xi: [1.1666666666712022, 1.00000000000025]\n",
      "Λ: [1....\n",
      "\n",
      "res = Inference results:\n",
      "-----------------------------------------\n",
      "Free Energy: Real[3.59144]\n",
      "-----------------------------------------\n",
      "y1 = NormalWeightedMeanPrecision{Float64}(xi=8.682926672530977, w=2.780487695426886)\n",
      "x  = MvNormalWeightedMeanPrecision(\n",
      "xi: [1.1666666666712022, 1.00000000000025]\n",
      "Λ: [1....\n",
      "\n",
      "res = Inference results:\n",
      "-----------------------------------------\n",
      "Free Energy: Real[3.59144]\n",
      "-----------------------------------------\n",
      "y1 = NormalWeightedMeanPrecision{Float64}(xi=8.682926672530977, w=2.780487695426886)\n",
      "x  = MvNormalWeightedMeanPrecision(\n",
      "xi: [1.1666666666712022, 1.00000000000025]\n",
      "Λ: [1....\n",
      "\n"
     ]
    }
   ],
   "source": [
    "for res in ([result, result]..., [result, result]...)\n",
    "    @show res\n",
    "end"
   ]
  },
  {
   "cell_type": "code",
   "execution_count": 43,
   "metadata": {},
   "outputs": [
    {
     "data": {
      "text/plain": [
       "inference_2input_1d2d (generic function with 1 method)"
      ]
     },
     "execution_count": 43,
     "metadata": {},
     "output_type": "execute_result"
    }
   ],
   "source": [
    "function f₁(x)\n",
    "    return sqrt.(x)\n",
    "end\n",
    "\n",
    "function f₁_inv(x)\n",
    "    return x .^ 2\n",
    "end\n",
    "\n",
    "\n",
    "@model function delta_1input(meta)\n",
    "    y2 = datavar(Float64)\n",
    "    c = zeros(2); c[1] = 1.0;\n",
    "\n",
    "    x ~ MvNormal(μ=ones(2), Λ=diageye(2))\n",
    "    z ~ f₁(x) where {meta=meta}\n",
    "    y1 ~ Normal(μ=dot(z, c), σ²=1.0)\n",
    "    y2 ~ Normal(μ=y1, σ²=0.5)\n",
    "end\n",
    "\n",
    "function f₂(x, θ)\n",
    "    return x .+ θ\n",
    "end\n",
    "\n",
    "function f₂_x(θ, z)\n",
    "    return z .- θ\n",
    "end\n",
    "\n",
    "function f₂_θ(x, z)\n",
    "    return z .- x\n",
    "end\n",
    "\n",
    "@model function delta_2inputs(meta)\n",
    "    y2 = datavar(Float64)\n",
    "    c = zeros(2); c[1] = 1.0;\n",
    "\n",
    "    θ ~ MvNormal(μ=ones(2), Λ=diageye(2))\n",
    "    x ~ MvNormal(μ=zeros(2), Λ=diageye(2))\n",
    "    z ~ f₂(x, θ) where {meta=meta}\n",
    "    y1 ~ Normal(μ=dot(z, c), σ²=1.0)\n",
    "    y2 ~ Normal(μ=y1, σ²=0.5)\n",
    "end\n",
    "\n",
    "\n",
    "function f₃(x, θ, ζ)\n",
    "    return x .+ θ .+ ζ\n",
    "end\n",
    "\n",
    "@model function delta_3inputs(meta)\n",
    "    y2 = datavar(Float64)\n",
    "    c = zeros(2); c[1] = 1.0;\n",
    "\n",
    "    θ ~ MvNormal(μ=ones(2), Λ=diageye(2))\n",
    "    ζ ~ MvNormal(μ=0.5ones(2), Λ=diageye(2))\n",
    "    x ~ MvNormal(μ=zeros(2), Λ=diageye(2))\n",
    "    z ~ f₃(x, θ, ζ) where {meta=meta}\n",
    "    y1 ~ Normal(μ=dot(z, c), σ²=1.0)\n",
    "    y2 ~ Normal(μ=y1, σ²=0.5)\n",
    "end\n",
    "\n",
    "function f₄(x, θ)\n",
    "    return θ.*x\n",
    "end\n",
    "\n",
    "@model function delta_2input_1d2d(meta)\n",
    "    y2 = datavar(Float64)\n",
    "    c = zeros(2); c[1] = 1.0;\n",
    "\n",
    "    θ ~ Normal(μ=0.5, γ=1.0)\n",
    "    x ~ MvNormal(μ=zeros(2), Λ=diageye(2))\n",
    "    z ~ f₄(x, θ) where {meta=meta}\n",
    "    y1 ~ Normal(μ=dot(z, c), σ²=1.0)\n",
    "    y2 ~ Normal(μ=y1, σ²=0.5)\n",
    "end\n",
    "\n",
    "\n",
    "## -------------------------------------------- ##\n",
    "## Inference definition\n",
    "## -------------------------------------------- ##\n",
    "function inference_1input(data)\n",
    "    res = []\n",
    "    for meta in (ET(inverse=f₁_inv), UT(inverse=f₁_inv), ET(), UT())\n",
    "        push!(res, inference(model = Model(delta_1input, meta), data=(y2=data,), free_energy=true))\n",
    "    end\n",
    "    res\n",
    "end\n",
    "\n",
    "function inference_2inputs(data)\n",
    "    res = []\n",
    "    for meta in (ET(inverse=(f₂_x, f₂_θ)), UT(inverse=(f₂_x, f₂_θ)), ET(), UT())\n",
    "        push!(res, inference(model = Model(delta_2inputs, meta), data=(y2=data,), free_energy=true))\n",
    "    end\n",
    "    res\n",
    "end\n",
    "\n",
    "function inference_3inputs(data)\n",
    "    res = []\n",
    "    for meta in (ET(), UT())\n",
    "        push!(res, inference(model = Model(delta_3inputs, meta), data=(y2=data,), free_energy=true))\n",
    "    end\n",
    "    res\n",
    "end\n",
    "\n",
    "function inference_2input_1d2d(data)\n",
    "    res = []\n",
    "    for meta in (ET(), UT())\n",
    "        push!(res, inference(model = Model(delta_2input_1d2d, meta), data=(y2=data,), free_energy=true, free_energy_diagnostics=(BetheFreeEnergyCheckNaNs(), BetheFreeEnergyCheckInfs())))\n",
    "    end\n",
    "    res\n",
    "end"
   ]
  },
  {
   "cell_type": "code",
   "execution_count": 44,
   "metadata": {},
   "outputs": [
    {
     "data": {
      "text/plain": [
       "2-element Vector{Any}:\n",
       " Inference results:\n",
       "-----------------------------------------\n",
       "Free Energy: Real[5.89517]\n",
       "-----------------------------------------\n",
       "y1 = NormalWeightedMeanPrecision{Float64}(xi=8.0, w=2.8)\n",
       "θ  = NormalWeightedMeanPrecision{Float64}(xi=0.0, w=1.00000000000025)\n",
       "x  = MvNormalWeightedMeanPrecision(\n",
       "xi: [1.3333333333333333, 0.0]\n",
       "Λ: [1.1666666666669...\n",
       "\n",
       " Inference results:\n",
       "-----------------------------------------\n",
       "Free Energy: Real[5.89517]\n",
       "-----------------------------------------\n",
       "y1 = NormalWeightedMeanPrecision{Float64}(xi=8.0, w=2.8)\n",
       "θ  = NormalWeightedMeanPrecision{Float64}(xi=0.0, w=1.00000000000025)\n",
       "x  = MvNormalWeightedMeanPrecision(\n",
       "xi: [1.3333333333333333, 0.0]\n",
       "Λ: [1.1666666666669...\n"
      ]
     },
     "execution_count": 44,
     "metadata": {},
     "output_type": "execute_result"
    }
   ],
   "source": [
    "data = 4.0\n",
    "## -------------------------------------------- ##\n",
    "## Inference execution\n",
    "result₁ = inference_1input(data)\n",
    "result₂ = inference_2inputs(data)\n",
    "result₃ = inference_3inputs(data)\n",
    "result₄ = inference_2input_1d2d(data)\n",
    "## -------------------------------------------- ##\n",
    "## Test inference results\n"
   ]
  },
  {
   "cell_type": "code",
   "execution_count": 38,
   "metadata": {},
   "outputs": [
    {
     "data": {
      "text/plain": [
       "Inference results:\n",
       "-----------------------------------------\n",
       "Free Energy: Real[3.35606]\n",
       "-----------------------------------------\n",
       "y1 = NormalWeightedMeanPrecision{Float64}(xi=8.8, w=2.8)\n",
       "x  = MvNormalWeightedMeanPrecision(\n",
       "xi: [1.1666666666669165, 1.0]\n",
       "Λ: [1.0104166666667...\n"
      ]
     },
     "execution_count": 38,
     "metadata": {},
     "output_type": "execute_result"
    }
   ],
   "source": [
    "result₁[1]"
   ]
  },
  {
   "cell_type": "code",
   "execution_count": 39,
   "metadata": {},
   "outputs": [],
   "source": [
    "for res in (result₁..., result₂..., result₃..., result₄)\n",
    "    res\n",
    "end"
   ]
  },
  {
   "cell_type": "code",
   "execution_count": 42,
   "metadata": {},
   "outputs": [
    {
     "name": "stdout",
     "output_type": "stream",
     "text": [
      "!(isnan(res.free_energy[1])) && !(isinf(res.free_energy[1])) = true\n",
      "!(isnan(res.free_energy[1])) && !(isinf(res.free_energy[1])) = true\n",
      "!(isnan(res.free_energy[1])) && !(isinf(res.free_energy[1])) = true\n",
      "!(isnan(res.free_energy[1])) && !(isinf(res.free_energy[1])) = true\n",
      "!(isnan(res.free_energy[1])) && !(isinf(res.free_energy[1])) = true\n",
      "!(isnan(res.free_energy[1])) && !(isinf(res.free_energy[1])) = true\n",
      "!(isnan(res.free_energy[1])) && !(isinf(res.free_energy[1])) = true\n",
      "!(isnan(res.free_energy[1])) && !(isinf(res.free_energy[1])) = true\n",
      "!(isnan(res.free_energy[1])) && !(isinf(res.free_energy[1])) = true\n",
      "!(isnan(res.free_energy[1])) && !(isinf(res.free_energy[1])) = true\n",
      "!(isnan(res.free_energy[1])) && !(isinf(res.free_energy[1])) = true\n",
      "!(isnan(res.free_energy[1])) && !(isinf(res.free_energy[1])) = true\n"
     ]
    }
   ],
   "source": [
    "for res in (result₁..., result₂..., result₃..., result₄...)\n",
    "    @show !isnan(res.free_energy[1]) && !isinf(res.free_energy[1])\n",
    "end"
   ]
  },
  {
   "cell_type": "code",
   "execution_count": 17,
   "metadata": {},
   "outputs": [],
   "source": [
    "function f(x, θ)\n",
    "    return θ.*x\n",
    "end\n",
    "\n",
    "c = randn(2);\n",
    "\n",
    "@model function NKS()\n",
    "    y2 = datavar(Float64)\n",
    "    c = zeros(2); c[1] = 1.0;\n",
    "\n",
    "    θ ~ Normal(μ=0.5, γ=1.0)\n",
    "    x ~ MvNormal(μ=zeros(2), Λ=diageye(2))\n",
    "    z ~ f(x, θ) where {meta=ET()}\n",
    "    y1 ~ Normal(μ=dot(z, c), σ²=1.0)\n",
    "    y2 ~ Normal(μ=y1, σ²=0.5)\n",
    "end"
   ]
  },
  {
   "cell_type": "code",
   "execution_count": 18,
   "metadata": {},
   "outputs": [
    {
     "data": {
      "text/plain": [
       "Inference results:\n",
       "-----------------------------------------\n",
       "Free Energy: Real[1.60946]\n",
       "-----------------------------------------\n",
       "y1 = NormalWeightedMeanPrecision{Float64}(xi=2.0, w=2.8)\n",
       "θ  = NormalWeightedMeanPrecision{Float64}(xi=0.0, w=1.00000000000025)\n",
       "x  = MvNormalWeightedMeanPrecision(\n",
       "xi: [0.3333333333333333, 0.0]\n",
       "Λ: [1.1666666666669...\n"
      ]
     },
     "execution_count": 18,
     "metadata": {},
     "output_type": "execute_result"
    }
   ],
   "source": [
    "imarginals = (x = MvNormal(zeros(2), diageye(2)), )\n",
    "\n",
    "result = inference(model = Model(NKS), data=(y2=1.0,), free_energy=true)"
   ]
  },
  {
   "cell_type": "markdown",
   "metadata": {},
   "source": [
    "### UT"
   ]
  },
  {
   "cell_type": "code",
   "execution_count": 19,
   "metadata": {},
   "outputs": [],
   "source": [
    "function f(x)\n",
    "    return x\n",
    "end\n",
    "\n",
    "function f_inv(x)\n",
    "    return x\n",
    "end\n",
    "\n",
    "c = randn(2);\n",
    "\n",
    "@model function NKS()\n",
    "    y2 = datavar(Float64)\n",
    "    c = zeros(2); c[1] = 1.0;\n",
    "\n",
    "    x ~ MvNormal(μ=zeros(2), Λ=diageye(2))\n",
    "    z ~ f(x) where {meta=UT(inverse=f_inv)}\n",
    "    y1 ~ Normal(μ=dot(z, c), σ²=1.0)\n",
    "    y2 ~ Normal(μ=y1, σ²=0.5)\n",
    "end"
   ]
  },
  {
   "cell_type": "code",
   "execution_count": 20,
   "metadata": {},
   "outputs": [
    {
     "data": {
      "text/plain": [
       "Inference results:\n",
       "-----------------------------------------\n",
       "Free Energy: Real[1.57708]\n",
       "-----------------------------------------\n",
       "y1 = NormalWeightedMeanPrecision{Float64}(xi=2.0, w=2.5)\n",
       "x  = MvNormalWeightedMeanPrecision(\n",
       "xi: [0.6666666666676693, 0.0]\n",
       "Λ: [1.6666666666676...\n"
      ]
     },
     "execution_count": 20,
     "metadata": {},
     "output_type": "execute_result"
    }
   ],
   "source": [
    "imarginals = (x = MvNormal(zeros(2), diageye(2)), )\n",
    "\n",
    "result = inference(model = Model(NKS), data=(y2=1.0,), free_energy=true)"
   ]
  },
  {
   "cell_type": "code",
   "execution_count": 21,
   "metadata": {},
   "outputs": [],
   "source": [
    "function f(x)\n",
    "    return x.^2\n",
    "end\n",
    "\n",
    "c = randn(2);\n",
    "\n",
    "@model function NKS()\n",
    "    y2 = datavar(Float64)\n",
    "    c = zeros(2); c[1] = 1.0;\n",
    "\n",
    "    x ~ MvNormal(μ=zeros(2), Λ=diageye(2))\n",
    "    z ~ f(x) where {meta=UT()}\n",
    "    y1 ~ Normal(μ=dot(z, c), σ²=1.0)\n",
    "    y2 ~ Normal(μ=y1, σ²=0.5)\n",
    "end"
   ]
  },
  {
   "cell_type": "code",
   "execution_count": 22,
   "metadata": {},
   "outputs": [
    {
     "data": {
      "text/plain": [
       "Inference results:\n",
       "-----------------------------------------\n",
       "Free Energy: Real[1.40739]\n",
       "-----------------------------------------\n",
       "y1 = NormalWeightedMeanPrecision{Float64}(xi=2.3333332222149457, w=2.3333332222149457...\n",
       "x  = MvNormalWeightedMeanPrecision(\n",
       "xi: [0.0, 0.0]\n",
       "Λ: [1.0 0.0; 0.0 1.0]\n",
       ")\n",
       "\n"
      ]
     },
     "execution_count": 22,
     "metadata": {},
     "output_type": "execute_result"
    }
   ],
   "source": [
    "imarginals = (x = MvNormal(zeros(2), diageye(2)), )\n",
    "\n",
    "result = inference(model = Model(NKS), data=(y2=1.0,), free_energy=true)"
   ]
  },
  {
   "cell_type": "code",
   "execution_count": 23,
   "metadata": {},
   "outputs": [],
   "source": [
    "function f(x, θ)\n",
    "    return x .+ θ\n",
    "end\n",
    "\n",
    "function f_x(θ, z)\n",
    "    return z .- θ\n",
    "end\n",
    "\n",
    "function f_θ(x, z)\n",
    "    return z .- x\n",
    "end\n",
    "\n",
    "c = randn(2);\n",
    "\n",
    "@model function NKS()\n",
    "    y2 = datavar(Float64)\n",
    "    c = zeros(2); c[1] = 1.0;\n",
    "\n",
    "    θ ~ MvNormal(μ=ones(2), Λ=diageye(2))\n",
    "    x ~ MvNormal(μ=zeros(2), Λ=diageye(2))\n",
    "    z ~ f(x, θ) where {meta=UT(inverse=(f_x, f_θ))}\n",
    "    y1 ~ Normal(μ=dot(z, c), σ²=1.0)\n",
    "    y2 ~ Normal(μ=y1, σ²=0.5)\n",
    "end"
   ]
  },
  {
   "cell_type": "code",
   "execution_count": 24,
   "metadata": {},
   "outputs": [
    {
     "data": {
      "text/plain": [
       "Inference results:\n",
       "-----------------------------------------\n",
       "Free Energy: Real[1.70859]\n",
       "-----------------------------------------\n",
       "y1 = NormalWeightedMeanPrecision{Float64}(xi=2.333333333352748, w=2.3333333333333455)...\n",
       "θ  = MvNormalWeightedMeanPrecision(\n",
       "xi: [0.5999999999880001, 1.0]\n",
       "Λ: [1.4000000000003...\n",
       "x  = MvNormalWeightedMeanPrecision(\n",
       "xi: [-1.0511773545936107e-11, 1.0000000167191506e...\n"
      ]
     },
     "execution_count": 24,
     "metadata": {},
     "output_type": "execute_result"
    }
   ],
   "source": [
    "imarginals = (x = MvNormal(zeros(2), diageye(2)), )\n",
    "\n",
    "result = inference(model = Model(NKS), data=(y2=1.0,), free_energy=true)"
   ]
  },
  {
   "cell_type": "code",
   "execution_count": 25,
   "metadata": {},
   "outputs": [],
   "source": [
    "function f(x, θ)\n",
    "    return θ.*x\n",
    "end\n",
    "\n",
    "c = randn(2);\n",
    "\n",
    "@model function NKS()\n",
    "    y2 = datavar(Float64)\n",
    "    c = zeros(2); c[1] = 1.0;\n",
    "\n",
    "    θ ~ Normal(μ=0.5, γ=2.0)\n",
    "    x ~ MvNormal(μ=zeros(2), Λ=diageye(2))\n",
    "    z ~ f(x, θ) where {meta=UT()}\n",
    "    y1 ~ Normal(μ=dot(z, c), σ²=1.0)\n",
    "    y2 ~ Normal(μ=y1, σ²=0.5)\n",
    "end"
   ]
  },
  {
   "cell_type": "code",
   "execution_count": 26,
   "metadata": {},
   "outputs": [
    {
     "data": {
      "text/plain": [
       "Inference results:\n",
       "-----------------------------------------\n",
       "Free Energy: Real[2.23446]\n",
       "-----------------------------------------\n",
       "y1 = NormalWeightedMeanPrecision{Float64}(xi=2.0, w=2.8)\n",
       "θ  = NormalWeightedMeanPrecision{Float64}(xi=0.0, w=1.00000000000025)\n",
       "x  = MvNormalWeightedMeanPrecision(\n",
       "xi: [0.3333333333333333, 0.0]\n",
       "Λ: [1.1666666666669...\n"
      ]
     },
     "execution_count": 26,
     "metadata": {},
     "output_type": "execute_result"
    }
   ],
   "source": [
    "imarginals = (x = MvNormal(zeros(2), diageye(2)), )\n",
    "\n",
    "result = inference(model = Model(NKS), data=(y2=1.0,), free_energy=true)"
   ]
  },
  {
   "cell_type": "code",
   "execution_count": null,
   "metadata": {},
   "outputs": [],
   "source": []
  }
 ],
 "metadata": {
  "kernelspec": {
   "display_name": "Julia 1.8.0",
   "language": "julia",
   "name": "julia-1.8"
  },
  "language_info": {
   "file_extension": ".jl",
   "mimetype": "application/julia",
   "name": "julia",
   "version": "1.8.0"
  },
  "vscode": {
   "interpreter": {
    "hash": "710c76191172b975d1d33be1d5093237cafe810cb28a8dbc312172629a6fab15"
   }
  }
 },
 "nbformat": 4,
 "nbformat_minor": 4
}
